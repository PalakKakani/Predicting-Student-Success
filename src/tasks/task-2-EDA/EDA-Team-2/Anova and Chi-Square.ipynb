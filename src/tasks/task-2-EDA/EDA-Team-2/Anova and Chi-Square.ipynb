{
 "cells": [
  {
   "cell_type": "markdown",
   "id": "bfb22c49",
   "metadata": {},
   "source": [
    "# EDA Team 2 graduation by zone"
   ]
  },
  {
   "cell_type": "code",
   "execution_count": 1,
   "id": "b09eb59b",
   "metadata": {},
   "outputs": [
    {
     "data": {
      "text/html": [
       "        <script type=\"text/javascript\">\n",
       "        window.PlotlyConfig = {MathJaxConfig: 'local'};\n",
       "        if (window.MathJax && window.MathJax.Hub && window.MathJax.Hub.Config) {window.MathJax.Hub.Config({SVG: {font: \"STIX-Web\"}});}\n",
       "        if (typeof require !== 'undefined') {\n",
       "        require.undef(\"plotly\");\n",
       "        requirejs.config({\n",
       "            paths: {\n",
       "                'plotly': ['https://cdn.plot.ly/plotly-2.24.1.min']\n",
       "            }\n",
       "        });\n",
       "        require(['plotly'], function(Plotly) {\n",
       "            window._Plotly = Plotly;\n",
       "        });\n",
       "        }\n",
       "        </script>\n",
       "        "
      ]
     },
     "metadata": {},
     "output_type": "display_data"
    }
   ],
   "source": [
    "import pandas as pd\n",
    "import numpy as np\n",
    "\n",
    "# Visualisation\n",
    "\n",
    "import matplotlib.pyplot as plt\n",
    "import seaborn as sns\n",
    "import plotly\n",
    "import plotly.express as px\n",
    "import plotly.graph_objs as go\n",
    "from plotly.subplots import make_subplots\n",
    "plotly.offline.init_notebook_mode(connected=True)\n",
    "\n",
    "#statistics\n",
    "\n",
    "import scipy\n",
    "from scipy import stats\n",
    "from scipy.stats import chi2_contingency\n",
    "import statsmodels.formula.api as sm\n",
    "\n",
    "#warnings\n",
    "\n",
    "import warnings\n",
    "warnings.filterwarnings('ignore') "
   ]
  },
  {
   "cell_type": "code",
   "execution_count": 2,
   "id": "52de127b",
   "metadata": {
    "scrolled": false
   },
   "outputs": [
    {
     "data": {
      "text/html": [
       "<div>\n",
       "<style scoped>\n",
       "    .dataframe tbody tr th:only-of-type {\n",
       "        vertical-align: middle;\n",
       "    }\n",
       "\n",
       "    .dataframe tbody tr th {\n",
       "        vertical-align: top;\n",
       "    }\n",
       "\n",
       "    .dataframe thead th {\n",
       "        text-align: right;\n",
       "    }\n",
       "</style>\n",
       "<table border=\"1\" class=\"dataframe\">\n",
       "  <thead>\n",
       "    <tr style=\"text-align: right;\">\n",
       "      <th></th>\n",
       "      <th>Year</th>\n",
       "      <th>Zone_EN</th>\n",
       "      <th>Coordinates</th>\n",
       "      <th>School_Type_EN</th>\n",
       "      <th>School_Stage_EN</th>\n",
       "      <th>Gender_EN</th>\n",
       "      <th>Unnamed: 6</th>\n",
       "      <th>LocalFlag_EN</th>\n",
       "      <th>Number of Failed students</th>\n",
       "      <th>Number of Pass students</th>\n",
       "      <th>Total Number of Students</th>\n",
       "      <th>Graduation %</th>\n",
       "    </tr>\n",
       "  </thead>\n",
       "  <tbody>\n",
       "    <tr>\n",
       "      <th>0</th>\n",
       "      <td>2015</td>\n",
       "      <td>Ajman</td>\n",
       "      <td>25.244000,55.266140</td>\n",
       "      <td>Public Schools</td>\n",
       "      <td>Cycle 3</td>\n",
       "      <td>Female</td>\n",
       "      <td>NaN</td>\n",
       "      <td>Expat</td>\n",
       "      <td>8</td>\n",
       "      <td>243</td>\n",
       "      <td>251</td>\n",
       "      <td>96.81%</td>\n",
       "    </tr>\n",
       "    <tr>\n",
       "      <th>1</th>\n",
       "      <td>2015</td>\n",
       "      <td>Ajman</td>\n",
       "      <td>25.244000,55.266140</td>\n",
       "      <td>Public Schools</td>\n",
       "      <td>Cycle 3</td>\n",
       "      <td>Female</td>\n",
       "      <td>NaN</td>\n",
       "      <td>Local</td>\n",
       "      <td>20</td>\n",
       "      <td>353</td>\n",
       "      <td>373</td>\n",
       "      <td>94.64%</td>\n",
       "    </tr>\n",
       "    <tr>\n",
       "      <th>2</th>\n",
       "      <td>2015</td>\n",
       "      <td>Ajman</td>\n",
       "      <td>25.244000,55.266140</td>\n",
       "      <td>Public Schools</td>\n",
       "      <td>Cycle 3</td>\n",
       "      <td>Male</td>\n",
       "      <td>NaN</td>\n",
       "      <td>Expat</td>\n",
       "      <td>28</td>\n",
       "      <td>182</td>\n",
       "      <td>210</td>\n",
       "      <td>86.67%</td>\n",
       "    </tr>\n",
       "    <tr>\n",
       "      <th>3</th>\n",
       "      <td>2015</td>\n",
       "      <td>Ajman</td>\n",
       "      <td>25.244000,55.266140</td>\n",
       "      <td>Public Schools</td>\n",
       "      <td>Cycle 3</td>\n",
       "      <td>Male</td>\n",
       "      <td>NaN</td>\n",
       "      <td>Local</td>\n",
       "      <td>23</td>\n",
       "      <td>262</td>\n",
       "      <td>285</td>\n",
       "      <td>91.93%</td>\n",
       "    </tr>\n",
       "    <tr>\n",
       "      <th>4</th>\n",
       "      <td>2015</td>\n",
       "      <td>Ajman</td>\n",
       "      <td>25.244000,55.266140</td>\n",
       "      <td>Private Schools</td>\n",
       "      <td>Cycle 3</td>\n",
       "      <td>Female</td>\n",
       "      <td>NaN</td>\n",
       "      <td>Expat</td>\n",
       "      <td>11</td>\n",
       "      <td>424</td>\n",
       "      <td>435</td>\n",
       "      <td>97.47%</td>\n",
       "    </tr>\n",
       "  </tbody>\n",
       "</table>\n",
       "</div>"
      ],
      "text/plain": [
       "   Year Zone_EN          Coordinates   School_Type_EN School_Stage_EN  \\\n",
       "0  2015   Ajman  25.244000,55.266140   Public Schools         Cycle 3   \n",
       "1  2015   Ajman  25.244000,55.266140   Public Schools         Cycle 3   \n",
       "2  2015   Ajman  25.244000,55.266140   Public Schools         Cycle 3   \n",
       "3  2015   Ajman  25.244000,55.266140   Public Schools         Cycle 3   \n",
       "4  2015   Ajman  25.244000,55.266140  Private Schools         Cycle 3   \n",
       "\n",
       "  Gender_EN  Unnamed: 6 LocalFlag_EN  Number of Failed students  \\\n",
       "0    Female         NaN        Expat                          8   \n",
       "1    Female         NaN        Local                         20   \n",
       "2      Male         NaN        Expat                         28   \n",
       "3      Male         NaN        Local                         23   \n",
       "4    Female         NaN        Expat                         11   \n",
       "\n",
       "   Number of Pass students  Total Number of Students Graduation %  \n",
       "0                      243                       251       96.81%  \n",
       "1                      353                       373       94.64%  \n",
       "2                      182                       210       86.67%  \n",
       "3                      262                       285       91.93%  \n",
       "4                      424                       435       97.47%  "
      ]
     },
     "execution_count": 2,
     "metadata": {},
     "output_type": "execute_result"
    }
   ],
   "source": [
    "df = pd.read_csv('graduation-rate.csv')\n",
    "df.head()"
   ]
  },
  {
   "cell_type": "code",
   "execution_count": 3,
   "id": "348f948d",
   "metadata": {
    "scrolled": false
   },
   "outputs": [
    {
     "name": "stdout",
     "output_type": "stream",
     "text": [
      "<class 'pandas.core.frame.DataFrame'>\n",
      "RangeIndex: 401 entries, 0 to 400\n",
      "Data columns (total 12 columns):\n",
      " #   Column                     Non-Null Count  Dtype  \n",
      "---  ------                     --------------  -----  \n",
      " 0   Year                       401 non-null    int64  \n",
      " 1   Zone_EN                    401 non-null    object \n",
      " 2   Coordinates                333 non-null    object \n",
      " 3   School_Type_EN             401 non-null    object \n",
      " 4   School_Stage_EN            401 non-null    object \n",
      " 5   Gender_EN                  401 non-null    object \n",
      " 6   Unnamed: 6                 0 non-null      float64\n",
      " 7   LocalFlag_EN               401 non-null    object \n",
      " 8   Number of Failed students  401 non-null    int64  \n",
      " 9   Number of Pass students    401 non-null    int64  \n",
      " 10  Total Number of Students   401 non-null    int64  \n",
      " 11  Graduation %               401 non-null    object \n",
      "dtypes: float64(1), int64(4), object(7)\n",
      "memory usage: 37.7+ KB\n"
     ]
    }
   ],
   "source": [
    "df.info()"
   ]
  },
  {
   "cell_type": "code",
   "execution_count": 4,
   "id": "efd3a600",
   "metadata": {},
   "outputs": [
    {
     "data": {
      "text/html": [
       "<div>\n",
       "<style scoped>\n",
       "    .dataframe tbody tr th:only-of-type {\n",
       "        vertical-align: middle;\n",
       "    }\n",
       "\n",
       "    .dataframe tbody tr th {\n",
       "        vertical-align: top;\n",
       "    }\n",
       "\n",
       "    .dataframe thead th {\n",
       "        text-align: right;\n",
       "    }\n",
       "</style>\n",
       "<table border=\"1\" class=\"dataframe\">\n",
       "  <thead>\n",
       "    <tr style=\"text-align: right;\">\n",
       "      <th></th>\n",
       "      <th>Year</th>\n",
       "      <th>Zone_EN</th>\n",
       "      <th>Coordinates</th>\n",
       "      <th>School_Type_EN</th>\n",
       "      <th>Gender_EN</th>\n",
       "      <th>LocalFlag_EN</th>\n",
       "      <th>Number of Failed students</th>\n",
       "      <th>Number of Pass students</th>\n",
       "      <th>Total Number of Students</th>\n",
       "    </tr>\n",
       "  </thead>\n",
       "  <tbody>\n",
       "    <tr>\n",
       "      <th>0</th>\n",
       "      <td>2015</td>\n",
       "      <td>Ajman</td>\n",
       "      <td>25.244000,55.266140</td>\n",
       "      <td>Public Schools</td>\n",
       "      <td>Female</td>\n",
       "      <td>Expat</td>\n",
       "      <td>8</td>\n",
       "      <td>243</td>\n",
       "      <td>251</td>\n",
       "    </tr>\n",
       "    <tr>\n",
       "      <th>1</th>\n",
       "      <td>2015</td>\n",
       "      <td>Ajman</td>\n",
       "      <td>25.244000,55.266140</td>\n",
       "      <td>Public Schools</td>\n",
       "      <td>Female</td>\n",
       "      <td>Local</td>\n",
       "      <td>20</td>\n",
       "      <td>353</td>\n",
       "      <td>373</td>\n",
       "    </tr>\n",
       "    <tr>\n",
       "      <th>2</th>\n",
       "      <td>2015</td>\n",
       "      <td>Ajman</td>\n",
       "      <td>25.244000,55.266140</td>\n",
       "      <td>Public Schools</td>\n",
       "      <td>Male</td>\n",
       "      <td>Expat</td>\n",
       "      <td>28</td>\n",
       "      <td>182</td>\n",
       "      <td>210</td>\n",
       "    </tr>\n",
       "    <tr>\n",
       "      <th>3</th>\n",
       "      <td>2015</td>\n",
       "      <td>Ajman</td>\n",
       "      <td>25.244000,55.266140</td>\n",
       "      <td>Public Schools</td>\n",
       "      <td>Male</td>\n",
       "      <td>Local</td>\n",
       "      <td>23</td>\n",
       "      <td>262</td>\n",
       "      <td>285</td>\n",
       "    </tr>\n",
       "    <tr>\n",
       "      <th>4</th>\n",
       "      <td>2015</td>\n",
       "      <td>Ajman</td>\n",
       "      <td>25.244000,55.266140</td>\n",
       "      <td>Private Schools</td>\n",
       "      <td>Female</td>\n",
       "      <td>Expat</td>\n",
       "      <td>11</td>\n",
       "      <td>424</td>\n",
       "      <td>435</td>\n",
       "    </tr>\n",
       "  </tbody>\n",
       "</table>\n",
       "</div>"
      ],
      "text/plain": [
       "   Year Zone_EN          Coordinates   School_Type_EN Gender_EN LocalFlag_EN  \\\n",
       "0  2015   Ajman  25.244000,55.266140   Public Schools    Female        Expat   \n",
       "1  2015   Ajman  25.244000,55.266140   Public Schools    Female        Local   \n",
       "2  2015   Ajman  25.244000,55.266140   Public Schools      Male        Expat   \n",
       "3  2015   Ajman  25.244000,55.266140   Public Schools      Male        Local   \n",
       "4  2015   Ajman  25.244000,55.266140  Private Schools    Female        Expat   \n",
       "\n",
       "   Number of Failed students  Number of Pass students  \\\n",
       "0                          8                      243   \n",
       "1                         20                      353   \n",
       "2                         28                      182   \n",
       "3                         23                      262   \n",
       "4                         11                      424   \n",
       "\n",
       "   Total Number of Students  \n",
       "0                       251  \n",
       "1                       373  \n",
       "2                       210  \n",
       "3                       285  \n",
       "4                       435  "
      ]
     },
     "execution_count": 4,
     "metadata": {},
     "output_type": "execute_result"
    }
   ],
   "source": [
    "df = df.drop([ \"School_Stage_EN\", \"Unnamed: 6\",\"Graduation %\"], axis=1)\n",
    "df.head()"
   ]
  },
  {
   "cell_type": "code",
   "execution_count": 5,
   "id": "5c910392",
   "metadata": {},
   "outputs": [
    {
     "name": "stdout",
     "output_type": "stream",
     "text": [
      "Year                          0\n",
      "Zone_EN                       0\n",
      "Coordinates                  68\n",
      "School_Type_EN                0\n",
      "Gender_EN                     0\n",
      "LocalFlag_EN                  0\n",
      "Number of Failed students     0\n",
      "Number of Pass students       0\n",
      "Total Number of Students      0\n",
      "dtype: int64\n"
     ]
    }
   ],
   "source": [
    "# Checking null values:\n",
    "\n",
    "print(df.isnull().sum())"
   ]
  },
  {
   "cell_type": "code",
   "execution_count": 6,
   "id": "c0779265",
   "metadata": {},
   "outputs": [
    {
     "data": {
      "text/plain": [
       "Index(['Year', 'Zone', 'Coordinates', 'School_Type', 'Gender', 'LocalFlag',\n",
       "       'Number of Failed students', 'Number of Pass students',\n",
       "       'Total Number of Students'],\n",
       "      dtype='object')"
      ]
     },
     "execution_count": 6,
     "metadata": {},
     "output_type": "execute_result"
    }
   ],
   "source": [
    "df=df.rename(columns={'Zone_EN':'Zone', 'School_Type_EN':'School_Type','LocalFlag_EN':'LocalFlag','Gender_EN':'Gender' })\n",
    "df.columns\n"
   ]
  },
  {
   "cell_type": "code",
   "execution_count": 7,
   "id": "bd2a35cc",
   "metadata": {},
   "outputs": [
    {
     "data": {
      "text/html": [
       "<div>\n",
       "<style scoped>\n",
       "    .dataframe tbody tr th:only-of-type {\n",
       "        vertical-align: middle;\n",
       "    }\n",
       "\n",
       "    .dataframe tbody tr th {\n",
       "        vertical-align: top;\n",
       "    }\n",
       "\n",
       "    .dataframe thead th {\n",
       "        text-align: right;\n",
       "    }\n",
       "</style>\n",
       "<table border=\"1\" class=\"dataframe\">\n",
       "  <thead>\n",
       "    <tr style=\"text-align: right;\">\n",
       "      <th></th>\n",
       "      <th>Year</th>\n",
       "      <th>Zone</th>\n",
       "      <th>Coordinates</th>\n",
       "      <th>School_Type</th>\n",
       "      <th>Gender</th>\n",
       "      <th>LocalFlag</th>\n",
       "      <th>Number of Failed students</th>\n",
       "      <th>Number of Pass students</th>\n",
       "      <th>Total Number of Students</th>\n",
       "      <th>Graduation</th>\n",
       "    </tr>\n",
       "  </thead>\n",
       "  <tbody>\n",
       "    <tr>\n",
       "      <th>0</th>\n",
       "      <td>2015</td>\n",
       "      <td>Ajman</td>\n",
       "      <td>25.244000,55.266140</td>\n",
       "      <td>Public Schools</td>\n",
       "      <td>Female</td>\n",
       "      <td>Expat</td>\n",
       "      <td>8</td>\n",
       "      <td>243</td>\n",
       "      <td>251</td>\n",
       "      <td>0.968127</td>\n",
       "    </tr>\n",
       "    <tr>\n",
       "      <th>1</th>\n",
       "      <td>2015</td>\n",
       "      <td>Ajman</td>\n",
       "      <td>25.244000,55.266140</td>\n",
       "      <td>Public Schools</td>\n",
       "      <td>Female</td>\n",
       "      <td>Local</td>\n",
       "      <td>20</td>\n",
       "      <td>353</td>\n",
       "      <td>373</td>\n",
       "      <td>0.946381</td>\n",
       "    </tr>\n",
       "    <tr>\n",
       "      <th>2</th>\n",
       "      <td>2015</td>\n",
       "      <td>Ajman</td>\n",
       "      <td>25.244000,55.266140</td>\n",
       "      <td>Public Schools</td>\n",
       "      <td>Male</td>\n",
       "      <td>Expat</td>\n",
       "      <td>28</td>\n",
       "      <td>182</td>\n",
       "      <td>210</td>\n",
       "      <td>0.866667</td>\n",
       "    </tr>\n",
       "    <tr>\n",
       "      <th>3</th>\n",
       "      <td>2015</td>\n",
       "      <td>Ajman</td>\n",
       "      <td>25.244000,55.266140</td>\n",
       "      <td>Public Schools</td>\n",
       "      <td>Male</td>\n",
       "      <td>Local</td>\n",
       "      <td>23</td>\n",
       "      <td>262</td>\n",
       "      <td>285</td>\n",
       "      <td>0.919298</td>\n",
       "    </tr>\n",
       "    <tr>\n",
       "      <th>4</th>\n",
       "      <td>2015</td>\n",
       "      <td>Ajman</td>\n",
       "      <td>25.244000,55.266140</td>\n",
       "      <td>Private Schools</td>\n",
       "      <td>Female</td>\n",
       "      <td>Expat</td>\n",
       "      <td>11</td>\n",
       "      <td>424</td>\n",
       "      <td>435</td>\n",
       "      <td>0.974713</td>\n",
       "    </tr>\n",
       "    <tr>\n",
       "      <th>5</th>\n",
       "      <td>2015</td>\n",
       "      <td>Ajman</td>\n",
       "      <td>25.244000,55.266140</td>\n",
       "      <td>Private Schools</td>\n",
       "      <td>Female</td>\n",
       "      <td>Local</td>\n",
       "      <td>0</td>\n",
       "      <td>13</td>\n",
       "      <td>13</td>\n",
       "      <td>1.000000</td>\n",
       "    </tr>\n",
       "    <tr>\n",
       "      <th>6</th>\n",
       "      <td>2015</td>\n",
       "      <td>Ajman</td>\n",
       "      <td>25.244000,55.266140</td>\n",
       "      <td>Private Schools</td>\n",
       "      <td>Male</td>\n",
       "      <td>Expat</td>\n",
       "      <td>42</td>\n",
       "      <td>535</td>\n",
       "      <td>577</td>\n",
       "      <td>0.927210</td>\n",
       "    </tr>\n",
       "    <tr>\n",
       "      <th>7</th>\n",
       "      <td>2015</td>\n",
       "      <td>Ajman</td>\n",
       "      <td>25.244000,55.266140</td>\n",
       "      <td>Private Schools</td>\n",
       "      <td>Male</td>\n",
       "      <td>Local</td>\n",
       "      <td>16</td>\n",
       "      <td>58</td>\n",
       "      <td>74</td>\n",
       "      <td>0.783784</td>\n",
       "    </tr>\n",
       "    <tr>\n",
       "      <th>8</th>\n",
       "      <td>2015</td>\n",
       "      <td>Ajman</td>\n",
       "      <td>25.244000,55.266140</td>\n",
       "      <td>Continuing Education Centers</td>\n",
       "      <td>Female</td>\n",
       "      <td>Expat</td>\n",
       "      <td>26</td>\n",
       "      <td>50</td>\n",
       "      <td>76</td>\n",
       "      <td>0.657895</td>\n",
       "    </tr>\n",
       "    <tr>\n",
       "      <th>9</th>\n",
       "      <td>2015</td>\n",
       "      <td>Ajman</td>\n",
       "      <td>25.244000,55.266140</td>\n",
       "      <td>Continuing Education Centers</td>\n",
       "      <td>Female</td>\n",
       "      <td>Local</td>\n",
       "      <td>35</td>\n",
       "      <td>48</td>\n",
       "      <td>83</td>\n",
       "      <td>0.578313</td>\n",
       "    </tr>\n",
       "  </tbody>\n",
       "</table>\n",
       "</div>"
      ],
      "text/plain": [
       "   Year   Zone          Coordinates                   School_Type  Gender  \\\n",
       "0  2015  Ajman  25.244000,55.266140                Public Schools  Female   \n",
       "1  2015  Ajman  25.244000,55.266140                Public Schools  Female   \n",
       "2  2015  Ajman  25.244000,55.266140                Public Schools    Male   \n",
       "3  2015  Ajman  25.244000,55.266140                Public Schools    Male   \n",
       "4  2015  Ajman  25.244000,55.266140               Private Schools  Female   \n",
       "5  2015  Ajman  25.244000,55.266140               Private Schools  Female   \n",
       "6  2015  Ajman  25.244000,55.266140               Private Schools    Male   \n",
       "7  2015  Ajman  25.244000,55.266140               Private Schools    Male   \n",
       "8  2015  Ajman  25.244000,55.266140  Continuing Education Centers  Female   \n",
       "9  2015  Ajman  25.244000,55.266140  Continuing Education Centers  Female   \n",
       "\n",
       "  LocalFlag  Number of Failed students  Number of Pass students  \\\n",
       "0     Expat                          8                      243   \n",
       "1     Local                         20                      353   \n",
       "2     Expat                         28                      182   \n",
       "3     Local                         23                      262   \n",
       "4     Expat                         11                      424   \n",
       "5     Local                          0                       13   \n",
       "6     Expat                         42                      535   \n",
       "7     Local                         16                       58   \n",
       "8     Expat                         26                       50   \n",
       "9     Local                         35                       48   \n",
       "\n",
       "   Total Number of Students  Graduation  \n",
       "0                       251    0.968127  \n",
       "1                       373    0.946381  \n",
       "2                       210    0.866667  \n",
       "3                       285    0.919298  \n",
       "4                       435    0.974713  \n",
       "5                        13    1.000000  \n",
       "6                       577    0.927210  \n",
       "7                        74    0.783784  \n",
       "8                        76    0.657895  \n",
       "9                        83    0.578313  "
      ]
     },
     "execution_count": 7,
     "metadata": {},
     "output_type": "execute_result"
    }
   ],
   "source": [
    "df['Graduation']=df['Number of Pass students']/df['Total Number of Students']\n",
    "df.head(10)"
   ]
  },
  {
   "cell_type": "markdown",
   "id": "46ad7539",
   "metadata": {},
   "source": [
    "**Histogram of Numeric Varients**"
   ]
  },
  {
   "cell_type": "code",
   "execution_count": 8,
   "id": "814e2e5c",
   "metadata": {},
   "outputs": [
    {
     "data": {
      "application/vnd.plotly.v1+json": {
       "config": {
        "plotlyServerURL": "https://plot.ly"
       },
       "data": [
        {
         "type": "histogram",
         "x": [
          2015,
          2015,
          2015,
          2015,
          2015,
          2015,
          2015,
          2015,
          2015,
          2015,
          2015,
          2015,
          2015,
          2015,
          2015,
          2015,
          2015,
          2015,
          2015,
          2015,
          2015,
          2015,
          2015,
          2015,
          2015,
          2015,
          2015,
          2015,
          2015,
          2015,
          2015,
          2015,
          2015,
          2015,
          2015,
          2015,
          2015,
          2015,
          2015,
          2015,
          2015,
          2015,
          2015,
          2015,
          2015,
          2015,
          2015,
          2015,
          2015,
          2015,
          2015,
          2015,
          2015,
          2015,
          2015,
          2015,
          2015,
          2015,
          2015,
          2015,
          2015,
          2015,
          2015,
          2015,
          2015,
          2015,
          2015,
          2015,
          2015,
          2015,
          2015,
          2015,
          2016,
          2016,
          2016,
          2016,
          2016,
          2016,
          2016,
          2016,
          2016,
          2016,
          2016,
          2016,
          2016,
          2016,
          2016,
          2016,
          2016,
          2016,
          2016,
          2016,
          2016,
          2016,
          2016,
          2016,
          2016,
          2016,
          2016,
          2016,
          2016,
          2016,
          2016,
          2016,
          2016,
          2016,
          2016,
          2016,
          2016,
          2016,
          2016,
          2016,
          2016,
          2016,
          2016,
          2016,
          2016,
          2016,
          2016,
          2016,
          2016,
          2016,
          2016,
          2016,
          2016,
          2016,
          2016,
          2016,
          2016,
          2016,
          2016,
          2016,
          2016,
          2016,
          2016,
          2016,
          2016,
          2016,
          2016,
          2016,
          2016,
          2016,
          2016,
          2016,
          2016,
          2016,
          2016,
          2016,
          2016,
          2016,
          2016,
          2016,
          2016,
          2016,
          2016,
          2017,
          2017,
          2017,
          2017,
          2017,
          2017,
          2017,
          2017,
          2017,
          2017,
          2017,
          2017,
          2017,
          2017,
          2017,
          2017,
          2017,
          2017,
          2017,
          2017,
          2017,
          2017,
          2017,
          2017,
          2017,
          2017,
          2017,
          2017,
          2017,
          2017,
          2017,
          2017,
          2017,
          2017,
          2017,
          2017,
          2017,
          2017,
          2017,
          2017,
          2017,
          2017,
          2017,
          2017,
          2017,
          2017,
          2017,
          2017,
          2017,
          2017,
          2017,
          2017,
          2017,
          2017,
          2017,
          2017,
          2017,
          2017,
          2017,
          2017,
          2017,
          2017,
          2017,
          2017,
          2017,
          2017,
          2017,
          2017,
          2017,
          2017,
          2017,
          2017,
          2017,
          2017,
          2017,
          2017,
          2017,
          2017,
          2017,
          2017,
          2017,
          2017,
          2018,
          2018,
          2018,
          2018,
          2018,
          2018,
          2018,
          2018,
          2018,
          2018,
          2018,
          2018,
          2018,
          2018,
          2018,
          2018,
          2018,
          2018,
          2018,
          2018,
          2018,
          2018,
          2018,
          2018,
          2018,
          2018,
          2018,
          2018,
          2018,
          2018,
          2018,
          2018,
          2018,
          2018,
          2018,
          2018,
          2018,
          2018,
          2018,
          2018,
          2018,
          2018,
          2018,
          2018,
          2018,
          2018,
          2018,
          2018,
          2018,
          2018,
          2018,
          2018,
          2018,
          2018,
          2018,
          2018,
          2018,
          2018,
          2018,
          2018,
          2018,
          2018,
          2018,
          2018,
          2018,
          2018,
          2018,
          2018,
          2018,
          2018,
          2018,
          2018,
          2018,
          2018,
          2018,
          2018,
          2018,
          2018,
          2018,
          2018,
          2019,
          2019,
          2019,
          2019,
          2019,
          2019,
          2019,
          2019,
          2019,
          2019,
          2019,
          2019,
          2019,
          2019,
          2019,
          2019,
          2019,
          2019,
          2019,
          2019,
          2019,
          2019,
          2019,
          2019,
          2019,
          2019,
          2019,
          2019,
          2019,
          2019,
          2019,
          2019,
          2019,
          2019,
          2019,
          2019,
          2019,
          2019,
          2019,
          2019,
          2019,
          2019,
          2019,
          2019,
          2019,
          2019,
          2019,
          2019,
          2019,
          2019,
          2019,
          2019,
          2019,
          2019,
          2019,
          2019,
          2019,
          2019,
          2019,
          2019,
          2019,
          2019,
          2019,
          2019,
          2019,
          2019,
          2019,
          2019,
          2019,
          2019,
          2019,
          2019,
          2019,
          2019,
          2019,
          2019,
          2019,
          2019,
          2019,
          2019,
          2019,
          2019,
          2019,
          2019
         ],
         "xaxis": "x",
         "yaxis": "y"
        },
        {
         "type": "histogram",
         "x": [
          "Ajman",
          "Ajman",
          "Ajman",
          "Ajman",
          "Ajman",
          "Ajman",
          "Ajman",
          "Ajman",
          "Ajman",
          "Ajman",
          "Ajman",
          "Ajman",
          "Fujairah",
          "Fujairah",
          "Fujairah",
          "Fujairah",
          "Fujairah",
          "Fujairah",
          "Fujairah",
          "Fujairah",
          "Fujairah",
          "Fujairah",
          "Fujairah",
          "Fujairah",
          "DUBAI",
          "DUBAI",
          "DUBAI",
          "DUBAI",
          "DUBAI",
          "DUBAI",
          "DUBAI",
          "DUBAI",
          "DUBAI",
          "DUBAI",
          "DUBAI",
          "DUBAI",
          "Ras AlKhaima",
          "Ras AlKhaima",
          "Ras AlKhaima",
          "Ras AlKhaima",
          "Ras AlKhaima",
          "Ras AlKhaima",
          "Ras AlKhaima",
          "Ras AlKhaima",
          "Ras AlKhaima",
          "Ras AlKhaima",
          "Ras AlKhaima",
          "Ras AlKhaima",
          "Sharjah",
          "Sharjah",
          "Sharjah",
          "Sharjah",
          "Sharjah",
          "Sharjah",
          "Sharjah",
          "Sharjah",
          "Sharjah",
          "Sharjah",
          "Sharjah",
          "Sharjah",
          "Umm AlQuwain",
          "Umm AlQuwain",
          "Umm AlQuwain",
          "Umm AlQuwain",
          "Umm AlQuwain",
          "Umm AlQuwain",
          "Umm AlQuwain",
          "Umm AlQuwain",
          "Umm AlQuwain",
          "Umm AlQuwain",
          "Umm AlQuwain",
          "Umm AlQuwain",
          "Ajman",
          "Ajman",
          "Ajman",
          "Ajman",
          "Ajman",
          "Ajman",
          "Ajman",
          "Ajman",
          "Ajman",
          "Ajman",
          "Ajman",
          "Ajman",
          "Ajman",
          "Ajman",
          "Ajman",
          "Ajman",
          "Fujairah",
          "Fujairah",
          "Fujairah",
          "Fujairah",
          "Fujairah",
          "Fujairah",
          "Fujairah",
          "Fujairah",
          "Fujairah",
          "Fujairah",
          "Fujairah",
          "Fujairah",
          "Fujairah",
          "Fujairah",
          "DUBAI",
          "DUBAI",
          "DUBAI",
          "DUBAI",
          "DUBAI",
          "DUBAI",
          "DUBAI",
          "DUBAI",
          "DUBAI",
          "DUBAI",
          "DUBAI",
          "DUBAI",
          "DUBAI",
          "DUBAI",
          "Ras AlKhaima",
          "Ras AlKhaima",
          "Ras AlKhaima",
          "Ras AlKhaima",
          "Ras AlKhaima",
          "Ras AlKhaima",
          "Ras AlKhaima",
          "Ras AlKhaima",
          "Ras AlKhaima",
          "Ras AlKhaima",
          "Ras AlKhaima",
          "Ras AlKhaima",
          "Ras AlKhaima",
          "Ras AlKhaima",
          "Sharjah",
          "Sharjah",
          "Sharjah",
          "Sharjah",
          "Sharjah",
          "Sharjah",
          "Sharjah",
          "Sharjah",
          "Sharjah",
          "Sharjah",
          "Sharjah",
          "Sharjah",
          "Sharjah",
          "Sharjah",
          "Umm AlQuwain",
          "Umm AlQuwain",
          "Umm AlQuwain",
          "Umm AlQuwain",
          "Umm AlQuwain",
          "Umm AlQuwain",
          "Umm AlQuwain",
          "Umm AlQuwain",
          "Umm AlQuwain",
          "Umm AlQuwain",
          "Umm AlQuwain",
          "Ajman",
          "Ajman",
          "Ajman",
          "Ajman",
          "Ajman",
          "Ajman",
          "Ajman",
          "Ajman",
          "Ajman",
          "Ajman",
          "Ajman",
          "Ajman",
          "Ajman",
          "Ajman",
          "Ajman",
          "Fujairah",
          "Fujairah",
          "Fujairah",
          "Fujairah",
          "Fujairah",
          "Fujairah",
          "Fujairah",
          "Fujairah",
          "Fujairah",
          "Fujairah",
          "Fujairah",
          "Fujairah",
          "Fujairah",
          "DUBAI",
          "DUBAI",
          "DUBAI",
          "DUBAI",
          "DUBAI",
          "DUBAI",
          "DUBAI",
          "DUBAI",
          "DUBAI",
          "DUBAI",
          "DUBAI",
          "DUBAI",
          "DUBAI",
          "DUBAI",
          "Ras AlKhaima",
          "Ras AlKhaima",
          "Ras AlKhaima",
          "Ras AlKhaima",
          "Ras AlKhaima",
          "Ras AlKhaima",
          "Ras AlKhaima",
          "Ras AlKhaima",
          "Ras AlKhaima",
          "Ras AlKhaima",
          "Ras AlKhaima",
          "Ras AlKhaima",
          "Ras AlKhaima",
          "Sharjah",
          "Sharjah",
          "Sharjah",
          "Sharjah",
          "Sharjah",
          "Sharjah",
          "Sharjah",
          "Sharjah",
          "Sharjah",
          "Sharjah",
          "Sharjah",
          "Sharjah",
          "Sharjah",
          "Umm AlQuwain",
          "Umm AlQuwain",
          "Umm AlQuwain",
          "Umm AlQuwain",
          "Umm AlQuwain",
          "Umm AlQuwain",
          "Umm AlQuwain",
          "Umm AlQuwain",
          "Umm AlQuwain",
          "Umm AlQuwain",
          "Umm AlQuwain",
          "Umm AlQuwain",
          "Umm AlQuwain",
          "Umm AlQuwain",
          "Ajman",
          "Ajman",
          "Ajman",
          "Ajman",
          "Ajman",
          "Ajman",
          "Ajman",
          "Ajman",
          "Ajman",
          "Ajman",
          "Ajman",
          "Ajman",
          "Ajman",
          "Ajman",
          "Fujairah",
          "Fujairah",
          "Fujairah",
          "Fujairah",
          "Fujairah",
          "Fujairah",
          "Fujairah",
          "Fujairah",
          "Fujairah",
          "Fujairah",
          "Fujairah",
          "Fujairah",
          "Fujairah",
          "DUBAI",
          "DUBAI",
          "DUBAI",
          "DUBAI",
          "DUBAI",
          "DUBAI",
          "DUBAI",
          "DUBAI",
          "DUBAI",
          "DUBAI",
          "DUBAI",
          "DUBAI",
          "DUBAI",
          "DUBAI",
          "Ras AlKhaima",
          "Ras AlKhaima",
          "Ras AlKhaima",
          "Ras AlKhaima",
          "Ras AlKhaima",
          "Ras AlKhaima",
          "Ras AlKhaima",
          "Ras AlKhaima",
          "Ras AlKhaima",
          "Ras AlKhaima",
          "Ras AlKhaima",
          "Ras AlKhaima",
          "Ras AlKhaima",
          "Sharjah",
          "Sharjah",
          "Sharjah",
          "Sharjah",
          "Sharjah",
          "Sharjah",
          "Sharjah",
          "Sharjah",
          "Sharjah",
          "Sharjah",
          "Sharjah",
          "Sharjah",
          "Sharjah",
          "Umm AlQuwain",
          "Umm AlQuwain",
          "Umm AlQuwain",
          "Umm AlQuwain",
          "Umm AlQuwain",
          "Umm AlQuwain",
          "Umm AlQuwain",
          "Umm AlQuwain",
          "Umm AlQuwain",
          "Umm AlQuwain",
          "Umm AlQuwain",
          "Umm AlQuwain",
          "Umm AlQuwain",
          "Ajman",
          "Ajman",
          "Ajman",
          "Ajman",
          "Ajman",
          "Ajman",
          "Ajman",
          "Ajman",
          "Ajman",
          "Ajman",
          "Ajman",
          "Ajman",
          "Ajman",
          "Ajman",
          "Ajman",
          "Ajman",
          "Fujairah",
          "Fujairah",
          "Fujairah",
          "Fujairah",
          "Fujairah",
          "Fujairah",
          "Fujairah",
          "Fujairah",
          "Fujairah",
          "Fujairah",
          "Fujairah",
          "Fujairah",
          "Fujairah",
          "Fujairah",
          "DUBAI",
          "DUBAI",
          "DUBAI",
          "DUBAI",
          "DUBAI",
          "DUBAI",
          "DUBAI",
          "DUBAI",
          "DUBAI",
          "DUBAI",
          "DUBAI",
          "DUBAI",
          "DUBAI",
          "DUBAI",
          "Ras AlKhaima",
          "Ras AlKhaima",
          "Ras AlKhaima",
          "Ras AlKhaima",
          "Ras AlKhaima",
          "Ras AlKhaima",
          "Ras AlKhaima",
          "Ras AlKhaima",
          "Ras AlKhaima",
          "Ras AlKhaima",
          "Ras AlKhaima",
          "Ras AlKhaima",
          "Ras AlKhaima",
          "Sharjah",
          "Sharjah",
          "Sharjah",
          "Sharjah",
          "Sharjah",
          "Sharjah",
          "Sharjah",
          "Sharjah",
          "Sharjah",
          "Sharjah",
          "Sharjah",
          "Sharjah",
          "Sharjah",
          "Sharjah",
          "Umm AlQuwain",
          "Umm AlQuwain",
          "Umm AlQuwain",
          "Umm AlQuwain",
          "Umm AlQuwain",
          "Umm AlQuwain",
          "Umm AlQuwain",
          "Umm AlQuwain",
          "Umm AlQuwain",
          "Umm AlQuwain",
          "Umm AlQuwain",
          "Umm AlQuwain",
          "Umm AlQuwain"
         ],
         "xaxis": "x2",
         "yaxis": "y2"
        },
        {
         "type": "histogram",
         "x": [
          "Public Schools",
          "Public Schools",
          "Public Schools",
          "Public Schools",
          "Private Schools",
          "Private Schools",
          "Private Schools",
          "Private Schools",
          "Continuing Education Centers",
          "Continuing Education Centers",
          "Continuing Education Centers",
          "Continuing Education Centers",
          "Public Schools",
          "Public Schools",
          "Public Schools",
          "Public Schools",
          "Private Schools",
          "Private Schools",
          "Private Schools",
          "Private Schools",
          "Continuing Education Centers",
          "Continuing Education Centers",
          "Continuing Education Centers",
          "Continuing Education Centers",
          "Public Schools",
          "Public Schools",
          "Public Schools",
          "Public Schools",
          "Private Schools",
          "Private Schools",
          "Private Schools",
          "Private Schools",
          "Continuing Education Centers",
          "Continuing Education Centers",
          "Continuing Education Centers",
          "Continuing Education Centers",
          "Public Schools",
          "Public Schools",
          "Public Schools",
          "Public Schools",
          "Private Schools",
          "Private Schools",
          "Private Schools",
          "Private Schools",
          "Continuing Education Centers",
          "Continuing Education Centers",
          "Continuing Education Centers",
          "Continuing Education Centers",
          "Public Schools",
          "Public Schools",
          "Public Schools",
          "Public Schools",
          "Private Schools",
          "Private Schools",
          "Private Schools",
          "Private Schools",
          "Continuing Education Centers",
          "Continuing Education Centers",
          "Continuing Education Centers",
          "Continuing Education Centers",
          "Public Schools",
          "Public Schools",
          "Public Schools",
          "Public Schools",
          "Private Schools",
          "Private Schools",
          "Private Schools",
          "Private Schools",
          "Continuing Education Centers",
          "Continuing Education Centers",
          "Continuing Education Centers",
          "Continuing Education Centers",
          "ACTVET",
          "ACTVET",
          "ACTVET",
          "ACTVET",
          "Public Schools",
          "Public Schools",
          "Public Schools",
          "Public Schools",
          "Private Schools",
          "Private Schools",
          "Private Schools",
          "Private Schools",
          "Continuing Education Centers",
          "Continuing Education Centers",
          "Continuing Education Centers",
          "Continuing Education Centers",
          "ACTVET",
          "ACTVET",
          "Public Schools",
          "Public Schools",
          "Public Schools",
          "Public Schools",
          "Private Schools",
          "Private Schools",
          "Private Schools",
          "Private Schools",
          "Continuing Education Centers",
          "Continuing Education Centers",
          "Continuing Education Centers",
          "Continuing Education Centers",
          "ACTVET",
          "ACTVET",
          "Public Schools",
          "Public Schools",
          "Public Schools",
          "Public Schools",
          "Private Schools",
          "Private Schools",
          "Private Schools",
          "Private Schools",
          "Continuing Education Centers",
          "Continuing Education Centers",
          "Continuing Education Centers",
          "Continuing Education Centers",
          "ACTVET",
          "ACTVET",
          "Public Schools",
          "Public Schools",
          "Public Schools",
          "Public Schools",
          "Private Schools",
          "Private Schools",
          "Private Schools",
          "Private Schools",
          "Continuing Education Centers",
          "Continuing Education Centers",
          "Continuing Education Centers",
          "Continuing Education Centers",
          "ACTVET",
          "ACTVET",
          "Public Schools",
          "Public Schools",
          "Public Schools",
          "Public Schools",
          "Private Schools",
          "Private Schools",
          "Private Schools",
          "Private Schools",
          "Continuing Education Centers",
          "Continuing Education Centers",
          "Continuing Education Centers",
          "Continuing Education Centers",
          "Public Schools",
          "Public Schools",
          "Public Schools",
          "Public Schools",
          "Private Schools",
          "Private Schools",
          "Private Schools",
          "Continuing Education Centers",
          "Continuing Education Centers",
          "Continuing Education Centers",
          "Continuing Education Centers",
          "ACTVET",
          "ACTVET",
          "ACTVET",
          "Public Schools",
          "Public Schools",
          "Public Schools",
          "Public Schools",
          "Private Schools",
          "Private Schools",
          "Private Schools",
          "Private Schools",
          "Continuing Education Centers",
          "Continuing Education Centers",
          "Continuing Education Centers",
          "Continuing Education Centers",
          "ACTVET",
          "Public Schools",
          "Public Schools",
          "Public Schools",
          "Public Schools",
          "Private Schools",
          "Private Schools",
          "Private Schools",
          "Private Schools",
          "Continuing Education Centers",
          "Continuing Education Centers",
          "Continuing Education Centers",
          "Continuing Education Centers",
          "ACTVET",
          "ACTVET",
          "Public Schools",
          "Public Schools",
          "Public Schools",
          "Public Schools",
          "Private Schools",
          "Private Schools",
          "Private Schools",
          "Private Schools",
          "Continuing Education Centers",
          "Continuing Education Centers",
          "Continuing Education Centers",
          "Continuing Education Centers",
          "ACTVET",
          "Public Schools",
          "Public Schools",
          "Public Schools",
          "Public Schools",
          "Private Schools",
          "Private Schools",
          "Private Schools",
          "Private Schools",
          "Continuing Education Centers",
          "Continuing Education Centers",
          "Continuing Education Centers",
          "Continuing Education Centers",
          "ACTVET",
          "Public Schools",
          "Public Schools",
          "Public Schools",
          "Public Schools",
          "Private Schools",
          "Private Schools",
          "Private Schools",
          "Private Schools",
          "Continuing Education Centers",
          "Continuing Education Centers",
          "Continuing Education Centers",
          "Continuing Education Centers",
          "ACTVET",
          "ACTVET",
          "Public Schools",
          "Public Schools",
          "Public Schools",
          "Public Schools",
          "Private Schools",
          "Private Schools",
          "Private Schools",
          "Private Schools",
          "Continuing Education Centers",
          "Continuing Education Centers",
          "Continuing Education Centers",
          "Continuing Education Centers",
          "ACTVET",
          "ACTVET",
          "Public Schools",
          "Public Schools",
          "Public Schools",
          "Public Schools",
          "Private Schools",
          "Private Schools",
          "Private Schools",
          "Private Schools",
          "Continuing Education Centers",
          "Continuing Education Centers",
          "Continuing Education Centers",
          "Continuing Education Centers",
          "ACTVET",
          "Public Schools",
          "Public Schools",
          "Public Schools",
          "Public Schools",
          "Private Schools",
          "Private Schools",
          "Private Schools",
          "Private Schools",
          "Continuing Education Centers",
          "Continuing Education Centers",
          "Continuing Education Centers",
          "Continuing Education Centers",
          "ACTVET",
          "ACTVET",
          "Public Schools",
          "Public Schools",
          "Public Schools",
          "Public Schools",
          "Private Schools",
          "Private Schools",
          "Private Schools",
          "Private Schools",
          "Continuing Education Centers",
          "Continuing Education Centers",
          "Continuing Education Centers",
          "Continuing Education Centers",
          "ACTVET",
          "Public Schools",
          "Public Schools",
          "Public Schools",
          "Public Schools",
          "Private Schools",
          "Private Schools",
          "Private Schools",
          "Private Schools",
          "Continuing Education Centers",
          "Continuing Education Centers",
          "Continuing Education Centers",
          "Continuing Education Centers",
          "ACTVET",
          "Public Schools",
          "Public Schools",
          "Public Schools",
          "Public Schools",
          "Private Schools",
          "Private Schools",
          "Private Schools",
          "Private Schools",
          "Continuing Education Centers",
          "Continuing Education Centers",
          "Continuing Education Centers",
          "Continuing Education Centers",
          "ACTVET",
          "ACTVET",
          "Public Schools",
          "Public Schools",
          "Public Schools",
          "Public Schools",
          "Private Schools",
          "Private Schools",
          "Private Schools",
          "Continuing Education Centers",
          "Continuing Education Centers",
          "Continuing Education Centers",
          "Continuing Education Centers",
          "ACTVET",
          "ACTVET",
          "ACTVET",
          "ACTVET",
          "Public Schools",
          "Public Schools",
          "Public Schools",
          "Public Schools",
          "Private Schools",
          "Private Schools",
          "Private Schools",
          "Private Schools",
          "Continuing Education Centers",
          "Continuing Education Centers",
          "Continuing Education Centers",
          "Continuing Education Centers",
          "ACTVET",
          "ACTVET",
          "Public Schools",
          "Public Schools",
          "Public Schools",
          "Public Schools",
          "Private Schools",
          "Private Schools",
          "Private Schools",
          "Private Schools",
          "Continuing Education Centers",
          "Continuing Education Centers",
          "Continuing Education Centers",
          "Continuing Education Centers",
          "ACTVET",
          "ACTVET",
          "Public Schools",
          "Public Schools",
          "Public Schools",
          "Public Schools",
          "Private Schools",
          "Private Schools",
          "Private Schools",
          "Private Schools",
          "Continuing Education Centers",
          "Continuing Education Centers",
          "Continuing Education Centers",
          "Continuing Education Centers",
          "ACTVET",
          "Public Schools",
          "Public Schools",
          "Public Schools",
          "Public Schools",
          "Private Schools",
          "Private Schools",
          "Private Schools",
          "Private Schools",
          "Continuing Education Centers",
          "Continuing Education Centers",
          "Continuing Education Centers",
          "Continuing Education Centers",
          "ACTVET",
          "ACTVET",
          "Public Schools",
          "Public Schools",
          "Public Schools",
          "Public Schools",
          "Private Schools",
          "Private Schools",
          "Private Schools",
          "Private Schools",
          "Continuing Education Centers",
          "Continuing Education Centers",
          "Continuing Education Centers",
          "Continuing Education Centers",
          "ACTVET",
          "ACTVET",
          "ACTVET",
          "Public Schools",
          "Public Schools",
          "Public Schools",
          "Public Schools",
          "Private Schools",
          "Private Schools",
          "Continuing Education Centers",
          "Continuing Education Centers",
          "Continuing Education Centers",
          "Continuing Education Centers"
         ],
         "xaxis": "x3",
         "yaxis": "y3"
        },
        {
         "type": "histogram",
         "x": [
          "Female",
          "Female",
          "Male",
          "Male",
          "Female",
          "Female",
          "Male",
          "Male",
          "Female",
          "Female",
          "Male",
          "Male",
          "Female",
          "Female",
          "Male",
          "Male",
          "Female",
          "Female",
          "Male",
          "Male",
          "Female",
          "Female",
          "Male",
          "Male",
          "Female",
          "Female",
          "Male",
          "Male",
          "Female",
          "Female",
          "Male",
          "Male",
          "Female",
          "Female",
          "Male",
          "Male",
          "Female",
          "Female",
          "Male",
          "Male",
          "Female",
          "Female",
          "Male",
          "Male",
          "Female",
          "Female",
          "Male",
          "Male",
          "Female",
          "Female",
          "Male",
          "Male",
          "Female",
          "Female",
          "Male",
          "Male",
          "Female",
          "Female",
          "Male",
          "Male",
          "Female",
          "Female",
          "Male",
          "Male",
          "Female",
          "Female",
          "Male",
          "Male",
          "Female",
          "Female",
          "Male",
          "Male",
          "Female",
          "Female",
          "Male",
          "Male",
          "Female",
          "Female",
          "Male",
          "Male",
          "Female",
          "Female",
          "Male",
          "Male",
          "Female",
          "Female",
          "Male",
          "Male",
          "Male",
          "Male",
          "Female",
          "Female",
          "Male",
          "Male",
          "Female",
          "Female",
          "Male",
          "Male",
          "Female",
          "Female",
          "Male",
          "Male",
          "Male",
          "Male",
          "Female",
          "Female",
          "Male",
          "Male",
          "Female",
          "Female",
          "Male",
          "Male",
          "Female",
          "Female",
          "Male",
          "Male",
          "Male",
          "Male",
          "Female",
          "Female",
          "Male",
          "Male",
          "Female",
          "Female",
          "Male",
          "Male",
          "Female",
          "Female",
          "Male",
          "Male",
          "Male",
          "Male",
          "Female",
          "Female",
          "Male",
          "Male",
          "Female",
          "Female",
          "Male",
          "Male",
          "Female",
          "Female",
          "Male",
          "Male",
          "Female",
          "Female",
          "Male",
          "Male",
          "Female",
          "Female",
          "Male",
          "Female",
          "Female",
          "Male",
          "Male",
          "Female",
          "Male",
          "Male",
          "Female",
          "Female",
          "Male",
          "Male",
          "Female",
          "Female",
          "Male",
          "Male",
          "Female",
          "Female",
          "Male",
          "Male",
          "Male",
          "Female",
          "Female",
          "Male",
          "Male",
          "Female",
          "Female",
          "Male",
          "Male",
          "Female",
          "Female",
          "Male",
          "Male",
          "Male",
          "Male",
          "Female",
          "Female",
          "Male",
          "Male",
          "Female",
          "Female",
          "Male",
          "Male",
          "Female",
          "Female",
          "Male",
          "Male",
          "Male",
          "Female",
          "Female",
          "Male",
          "Male",
          "Female",
          "Female",
          "Male",
          "Male",
          "Female",
          "Female",
          "Male",
          "Male",
          "Male",
          "Female",
          "Female",
          "Male",
          "Male",
          "Female",
          "Female",
          "Male",
          "Male",
          "Female",
          "Female",
          "Male",
          "Male",
          "Female",
          "Male",
          "Female",
          "Female",
          "Male",
          "Male",
          "Female",
          "Female",
          "Male",
          "Male",
          "Female",
          "Female",
          "Male",
          "Male",
          "Female",
          "Male",
          "Female",
          "Female",
          "Male",
          "Male",
          "Female",
          "Female",
          "Male",
          "Male",
          "Female",
          "Female",
          "Male",
          "Male",
          "Male",
          "Female",
          "Female",
          "Male",
          "Male",
          "Female",
          "Female",
          "Male",
          "Male",
          "Female",
          "Female",
          "Male",
          "Male",
          "Male",
          "Male",
          "Female",
          "Female",
          "Male",
          "Male",
          "Female",
          "Female",
          "Male",
          "Male",
          "Female",
          "Female",
          "Male",
          "Male",
          "Male",
          "Female",
          "Female",
          "Male",
          "Male",
          "Female",
          "Female",
          "Male",
          "Male",
          "Female",
          "Female",
          "Male",
          "Male",
          "Male",
          "Female",
          "Female",
          "Male",
          "Male",
          "Female",
          "Female",
          "Male",
          "Male",
          "Female",
          "Female",
          "Male",
          "Male",
          "Female",
          "Male",
          "Female",
          "Female",
          "Male",
          "Male",
          "Female",
          "Female",
          "Male",
          "Female",
          "Female",
          "Male",
          "Male",
          "Female",
          "Female",
          "Male",
          "Male",
          "Female",
          "Female",
          "Male",
          "Male",
          "Female",
          "Female",
          "Male",
          "Male",
          "Female",
          "Female",
          "Male",
          "Male",
          "Male",
          "Male",
          "Female",
          "Female",
          "Male",
          "Male",
          "Female",
          "Female",
          "Male",
          "Male",
          "Female",
          "Female",
          "Male",
          "Male",
          "Male",
          "Male",
          "Female",
          "Female",
          "Male",
          "Male",
          "Female",
          "Female",
          "Male",
          "Male",
          "Female",
          "Female",
          "Male",
          "Male",
          "Male",
          "Female",
          "Female",
          "Male",
          "Male",
          "Female",
          "Female",
          "Male",
          "Male",
          "Female",
          "Female",
          "Male",
          "Male",
          "Male",
          "Male",
          "Female",
          "Female",
          "Male",
          "Male",
          "Female",
          "Female",
          "Male",
          "Male",
          "Female",
          "Female",
          "Male",
          "Male",
          "Female",
          "Female",
          "Male",
          "Female",
          "Female",
          "Male",
          "Male",
          "Female",
          "Male",
          "Female",
          "Female",
          "Male",
          "Male"
         ],
         "xaxis": "x4",
         "yaxis": "y4"
        },
        {
         "type": "histogram",
         "x": [
          "Expat",
          "Local",
          "Expat",
          "Local",
          "Expat",
          "Local",
          "Expat",
          "Local",
          "Expat",
          "Local",
          "Expat",
          "Local",
          "Expat",
          "Local",
          "Expat",
          "Local",
          "Expat",
          "Local",
          "Expat",
          "Local",
          "Expat",
          "Local",
          "Expat",
          "Local",
          "Expat",
          "Local",
          "Expat",
          "Local",
          "Expat",
          "Local",
          "Expat",
          "Local",
          "Expat",
          "Local",
          "Expat",
          "Local",
          "Expat",
          "Local",
          "Expat",
          "Local",
          "Expat",
          "Local",
          "Expat",
          "Local",
          "Expat",
          "Local",
          "Expat",
          "Local",
          "Expat",
          "Local",
          "Expat",
          "Local",
          "Expat",
          "Local",
          "Expat",
          "Local",
          "Expat",
          "Local",
          "Expat",
          "Local",
          "Expat",
          "Local",
          "Expat",
          "Local",
          "Expat",
          "Local",
          "Expat",
          "Local",
          "Expat",
          "Local",
          "Expat",
          "Local",
          "Expat",
          "Local",
          "Expat",
          "Local",
          "Expat",
          "Local",
          "Expat",
          "Local",
          "Expat",
          "Local",
          "Expat",
          "Local",
          "Expat",
          "Local",
          "Expat",
          "Local",
          "Expat",
          "Local",
          "Expat",
          "Local",
          "Expat",
          "Local",
          "Expat",
          "Local",
          "Expat",
          "Local",
          "Expat",
          "Local",
          "Expat",
          "Local",
          "Expat",
          "Local",
          "Expat",
          "Local",
          "Expat",
          "Local",
          "Expat",
          "Local",
          "Expat",
          "Local",
          "Expat",
          "Local",
          "Expat",
          "Local",
          "Expat",
          "Local",
          "Expat",
          "Local",
          "Expat",
          "Local",
          "Expat",
          "Local",
          "Expat",
          "Local",
          "Expat",
          "Local",
          "Expat",
          "Local",
          "Expat",
          "Local",
          "Expat",
          "Local",
          "Expat",
          "Local",
          "Expat",
          "Local",
          "Expat",
          "Local",
          "Expat",
          "Local",
          "Expat",
          "Local",
          "Expat",
          "Local",
          "Expat",
          "Local",
          "Expat",
          "Local",
          "Expat",
          "Expat",
          "Local",
          "Expat",
          "Local",
          "Local",
          "Expat",
          "Local",
          "Expat",
          "Local",
          "Expat",
          "Local",
          "Expat",
          "Local",
          "Expat",
          "Local",
          "Expat",
          "Local",
          "Expat",
          "Local",
          "Local",
          "Expat",
          "Local",
          "Expat",
          "Local",
          "Expat",
          "Local",
          "Expat",
          "Local",
          "Expat",
          "Local",
          "Expat",
          "Local",
          "Expat",
          "Local",
          "Expat",
          "Local",
          "Expat",
          "Local",
          "Expat",
          "Local",
          "Expat",
          "Local",
          "Expat",
          "Local",
          "Expat",
          "Local",
          "Local",
          "Expat",
          "Local",
          "Expat",
          "Local",
          "Expat",
          "Local",
          "Expat",
          "Local",
          "Expat",
          "Local",
          "Expat",
          "Local",
          "Local",
          "Expat",
          "Local",
          "Expat",
          "Local",
          "Expat",
          "Local",
          "Expat",
          "Local",
          "Expat",
          "Local",
          "Expat",
          "Local",
          "Local",
          "Local",
          "Expat",
          "Local",
          "Expat",
          "Local",
          "Expat",
          "Local",
          "Expat",
          "Local",
          "Expat",
          "Local",
          "Expat",
          "Local",
          "Local",
          "Local",
          "Expat",
          "Local",
          "Expat",
          "Local",
          "Expat",
          "Local",
          "Expat",
          "Local",
          "Expat",
          "Local",
          "Expat",
          "Local",
          "Local",
          "Expat",
          "Local",
          "Expat",
          "Local",
          "Expat",
          "Local",
          "Expat",
          "Local",
          "Expat",
          "Local",
          "Expat",
          "Local",
          "Expat",
          "Local",
          "Expat",
          "Local",
          "Expat",
          "Local",
          "Expat",
          "Local",
          "Expat",
          "Local",
          "Expat",
          "Local",
          "Expat",
          "Local",
          "Local",
          "Expat",
          "Local",
          "Expat",
          "Local",
          "Expat",
          "Local",
          "Expat",
          "Local",
          "Expat",
          "Local",
          "Expat",
          "Local",
          "Local",
          "Expat",
          "Local",
          "Expat",
          "Local",
          "Expat",
          "Local",
          "Expat",
          "Local",
          "Expat",
          "Local",
          "Expat",
          "Local",
          "Local",
          "Local",
          "Expat",
          "Local",
          "Expat",
          "Local",
          "Expat",
          "Local",
          "Expat",
          "Expat",
          "Local",
          "Expat",
          "Local",
          "Expat",
          "Local",
          "Expat",
          "Local",
          "Expat",
          "Local",
          "Expat",
          "Local",
          "Expat",
          "Local",
          "Expat",
          "Local",
          "Expat",
          "Local",
          "Expat",
          "Local",
          "Expat",
          "Local",
          "Expat",
          "Local",
          "Expat",
          "Local",
          "Expat",
          "Local",
          "Expat",
          "Local",
          "Expat",
          "Local",
          "Expat",
          "Local",
          "Expat",
          "Local",
          "Expat",
          "Local",
          "Expat",
          "Local",
          "Expat",
          "Local",
          "Expat",
          "Local",
          "Expat",
          "Local",
          "Expat",
          "Local",
          "Local",
          "Expat",
          "Local",
          "Expat",
          "Local",
          "Expat",
          "Local",
          "Expat",
          "Local",
          "Expat",
          "Local",
          "Expat",
          "Local",
          "Expat",
          "Local",
          "Expat",
          "Local",
          "Expat",
          "Local",
          "Expat",
          "Local",
          "Expat",
          "Local",
          "Expat",
          "Local",
          "Expat",
          "Local",
          "Expat",
          "Local",
          "Local",
          "Expat",
          "Local",
          "Expat",
          "Local",
          "Expat",
          "Expat",
          "Expat",
          "Local",
          "Expat",
          "Local"
         ],
         "xaxis": "x5",
         "yaxis": "y5"
        }
       ],
       "layout": {
        "annotations": [
         {
          "font": {
           "size": 16
          },
          "showarrow": false,
          "text": "Year",
          "x": 0.14444444444444446,
          "xanchor": "center",
          "xref": "paper",
          "y": 1,
          "yanchor": "bottom",
          "yref": "paper"
         },
         {
          "font": {
           "size": 16
          },
          "showarrow": false,
          "text": "Zone",
          "x": 0.5,
          "xanchor": "center",
          "xref": "paper",
          "y": 1,
          "yanchor": "bottom",
          "yref": "paper"
         },
         {
          "font": {
           "size": 16
          },
          "showarrow": false,
          "text": "School type",
          "x": 0.8555555555555556,
          "xanchor": "center",
          "xref": "paper",
          "y": 1,
          "yanchor": "bottom",
          "yref": "paper"
         },
         {
          "font": {
           "size": 16
          },
          "showarrow": false,
          "text": "Gender",
          "x": 0.14444444444444446,
          "xanchor": "center",
          "xref": "paper",
          "y": 0.4,
          "yanchor": "bottom",
          "yref": "paper"
         },
         {
          "font": {
           "size": 16
          },
          "showarrow": false,
          "text": "Localflag",
          "x": 0.5,
          "xanchor": "center",
          "xref": "paper",
          "y": 0.4,
          "yanchor": "bottom",
          "yref": "paper"
         }
        ],
        "bargap": 0.2,
        "height": 700,
        "showlegend": false,
        "template": {
         "data": {
          "bar": [
           {
            "error_x": {
             "color": "#2a3f5f"
            },
            "error_y": {
             "color": "#2a3f5f"
            },
            "marker": {
             "line": {
              "color": "#E5ECF6",
              "width": 0.5
             },
             "pattern": {
              "fillmode": "overlay",
              "size": 10,
              "solidity": 0.2
             }
            },
            "type": "bar"
           }
          ],
          "barpolar": [
           {
            "marker": {
             "line": {
              "color": "#E5ECF6",
              "width": 0.5
             },
             "pattern": {
              "fillmode": "overlay",
              "size": 10,
              "solidity": 0.2
             }
            },
            "type": "barpolar"
           }
          ],
          "carpet": [
           {
            "aaxis": {
             "endlinecolor": "#2a3f5f",
             "gridcolor": "white",
             "linecolor": "white",
             "minorgridcolor": "white",
             "startlinecolor": "#2a3f5f"
            },
            "baxis": {
             "endlinecolor": "#2a3f5f",
             "gridcolor": "white",
             "linecolor": "white",
             "minorgridcolor": "white",
             "startlinecolor": "#2a3f5f"
            },
            "type": "carpet"
           }
          ],
          "choropleth": [
           {
            "colorbar": {
             "outlinewidth": 0,
             "ticks": ""
            },
            "type": "choropleth"
           }
          ],
          "contour": [
           {
            "colorbar": {
             "outlinewidth": 0,
             "ticks": ""
            },
            "colorscale": [
             [
              0,
              "#0d0887"
             ],
             [
              0.1111111111111111,
              "#46039f"
             ],
             [
              0.2222222222222222,
              "#7201a8"
             ],
             [
              0.3333333333333333,
              "#9c179e"
             ],
             [
              0.4444444444444444,
              "#bd3786"
             ],
             [
              0.5555555555555556,
              "#d8576b"
             ],
             [
              0.6666666666666666,
              "#ed7953"
             ],
             [
              0.7777777777777778,
              "#fb9f3a"
             ],
             [
              0.8888888888888888,
              "#fdca26"
             ],
             [
              1,
              "#f0f921"
             ]
            ],
            "type": "contour"
           }
          ],
          "contourcarpet": [
           {
            "colorbar": {
             "outlinewidth": 0,
             "ticks": ""
            },
            "type": "contourcarpet"
           }
          ],
          "heatmap": [
           {
            "colorbar": {
             "outlinewidth": 0,
             "ticks": ""
            },
            "colorscale": [
             [
              0,
              "#0d0887"
             ],
             [
              0.1111111111111111,
              "#46039f"
             ],
             [
              0.2222222222222222,
              "#7201a8"
             ],
             [
              0.3333333333333333,
              "#9c179e"
             ],
             [
              0.4444444444444444,
              "#bd3786"
             ],
             [
              0.5555555555555556,
              "#d8576b"
             ],
             [
              0.6666666666666666,
              "#ed7953"
             ],
             [
              0.7777777777777778,
              "#fb9f3a"
             ],
             [
              0.8888888888888888,
              "#fdca26"
             ],
             [
              1,
              "#f0f921"
             ]
            ],
            "type": "heatmap"
           }
          ],
          "heatmapgl": [
           {
            "colorbar": {
             "outlinewidth": 0,
             "ticks": ""
            },
            "colorscale": [
             [
              0,
              "#0d0887"
             ],
             [
              0.1111111111111111,
              "#46039f"
             ],
             [
              0.2222222222222222,
              "#7201a8"
             ],
             [
              0.3333333333333333,
              "#9c179e"
             ],
             [
              0.4444444444444444,
              "#bd3786"
             ],
             [
              0.5555555555555556,
              "#d8576b"
             ],
             [
              0.6666666666666666,
              "#ed7953"
             ],
             [
              0.7777777777777778,
              "#fb9f3a"
             ],
             [
              0.8888888888888888,
              "#fdca26"
             ],
             [
              1,
              "#f0f921"
             ]
            ],
            "type": "heatmapgl"
           }
          ],
          "histogram": [
           {
            "marker": {
             "pattern": {
              "fillmode": "overlay",
              "size": 10,
              "solidity": 0.2
             }
            },
            "type": "histogram"
           }
          ],
          "histogram2d": [
           {
            "colorbar": {
             "outlinewidth": 0,
             "ticks": ""
            },
            "colorscale": [
             [
              0,
              "#0d0887"
             ],
             [
              0.1111111111111111,
              "#46039f"
             ],
             [
              0.2222222222222222,
              "#7201a8"
             ],
             [
              0.3333333333333333,
              "#9c179e"
             ],
             [
              0.4444444444444444,
              "#bd3786"
             ],
             [
              0.5555555555555556,
              "#d8576b"
             ],
             [
              0.6666666666666666,
              "#ed7953"
             ],
             [
              0.7777777777777778,
              "#fb9f3a"
             ],
             [
              0.8888888888888888,
              "#fdca26"
             ],
             [
              1,
              "#f0f921"
             ]
            ],
            "type": "histogram2d"
           }
          ],
          "histogram2dcontour": [
           {
            "colorbar": {
             "outlinewidth": 0,
             "ticks": ""
            },
            "colorscale": [
             [
              0,
              "#0d0887"
             ],
             [
              0.1111111111111111,
              "#46039f"
             ],
             [
              0.2222222222222222,
              "#7201a8"
             ],
             [
              0.3333333333333333,
              "#9c179e"
             ],
             [
              0.4444444444444444,
              "#bd3786"
             ],
             [
              0.5555555555555556,
              "#d8576b"
             ],
             [
              0.6666666666666666,
              "#ed7953"
             ],
             [
              0.7777777777777778,
              "#fb9f3a"
             ],
             [
              0.8888888888888888,
              "#fdca26"
             ],
             [
              1,
              "#f0f921"
             ]
            ],
            "type": "histogram2dcontour"
           }
          ],
          "mesh3d": [
           {
            "colorbar": {
             "outlinewidth": 0,
             "ticks": ""
            },
            "type": "mesh3d"
           }
          ],
          "parcoords": [
           {
            "line": {
             "colorbar": {
              "outlinewidth": 0,
              "ticks": ""
             }
            },
            "type": "parcoords"
           }
          ],
          "pie": [
           {
            "automargin": true,
            "type": "pie"
           }
          ],
          "scatter": [
           {
            "fillpattern": {
             "fillmode": "overlay",
             "size": 10,
             "solidity": 0.2
            },
            "type": "scatter"
           }
          ],
          "scatter3d": [
           {
            "line": {
             "colorbar": {
              "outlinewidth": 0,
              "ticks": ""
             }
            },
            "marker": {
             "colorbar": {
              "outlinewidth": 0,
              "ticks": ""
             }
            },
            "type": "scatter3d"
           }
          ],
          "scattercarpet": [
           {
            "marker": {
             "colorbar": {
              "outlinewidth": 0,
              "ticks": ""
             }
            },
            "type": "scattercarpet"
           }
          ],
          "scattergeo": [
           {
            "marker": {
             "colorbar": {
              "outlinewidth": 0,
              "ticks": ""
             }
            },
            "type": "scattergeo"
           }
          ],
          "scattergl": [
           {
            "marker": {
             "colorbar": {
              "outlinewidth": 0,
              "ticks": ""
             }
            },
            "type": "scattergl"
           }
          ],
          "scattermapbox": [
           {
            "marker": {
             "colorbar": {
              "outlinewidth": 0,
              "ticks": ""
             }
            },
            "type": "scattermapbox"
           }
          ],
          "scatterpolar": [
           {
            "marker": {
             "colorbar": {
              "outlinewidth": 0,
              "ticks": ""
             }
            },
            "type": "scatterpolar"
           }
          ],
          "scatterpolargl": [
           {
            "marker": {
             "colorbar": {
              "outlinewidth": 0,
              "ticks": ""
             }
            },
            "type": "scatterpolargl"
           }
          ],
          "scatterternary": [
           {
            "marker": {
             "colorbar": {
              "outlinewidth": 0,
              "ticks": ""
             }
            },
            "type": "scatterternary"
           }
          ],
          "surface": [
           {
            "colorbar": {
             "outlinewidth": 0,
             "ticks": ""
            },
            "colorscale": [
             [
              0,
              "#0d0887"
             ],
             [
              0.1111111111111111,
              "#46039f"
             ],
             [
              0.2222222222222222,
              "#7201a8"
             ],
             [
              0.3333333333333333,
              "#9c179e"
             ],
             [
              0.4444444444444444,
              "#bd3786"
             ],
             [
              0.5555555555555556,
              "#d8576b"
             ],
             [
              0.6666666666666666,
              "#ed7953"
             ],
             [
              0.7777777777777778,
              "#fb9f3a"
             ],
             [
              0.8888888888888888,
              "#fdca26"
             ],
             [
              1,
              "#f0f921"
             ]
            ],
            "type": "surface"
           }
          ],
          "table": [
           {
            "cells": {
             "fill": {
              "color": "#EBF0F8"
             },
             "line": {
              "color": "white"
             }
            },
            "header": {
             "fill": {
              "color": "#C8D4E3"
             },
             "line": {
              "color": "white"
             }
            },
            "type": "table"
           }
          ]
         },
         "layout": {
          "annotationdefaults": {
           "arrowcolor": "#2a3f5f",
           "arrowhead": 0,
           "arrowwidth": 1
          },
          "autotypenumbers": "strict",
          "coloraxis": {
           "colorbar": {
            "outlinewidth": 0,
            "ticks": ""
           }
          },
          "colorscale": {
           "diverging": [
            [
             0,
             "#8e0152"
            ],
            [
             0.1,
             "#c51b7d"
            ],
            [
             0.2,
             "#de77ae"
            ],
            [
             0.3,
             "#f1b6da"
            ],
            [
             0.4,
             "#fde0ef"
            ],
            [
             0.5,
             "#f7f7f7"
            ],
            [
             0.6,
             "#e6f5d0"
            ],
            [
             0.7,
             "#b8e186"
            ],
            [
             0.8,
             "#7fbc41"
            ],
            [
             0.9,
             "#4d9221"
            ],
            [
             1,
             "#276419"
            ]
           ],
           "sequential": [
            [
             0,
             "#0d0887"
            ],
            [
             0.1111111111111111,
             "#46039f"
            ],
            [
             0.2222222222222222,
             "#7201a8"
            ],
            [
             0.3333333333333333,
             "#9c179e"
            ],
            [
             0.4444444444444444,
             "#bd3786"
            ],
            [
             0.5555555555555556,
             "#d8576b"
            ],
            [
             0.6666666666666666,
             "#ed7953"
            ],
            [
             0.7777777777777778,
             "#fb9f3a"
            ],
            [
             0.8888888888888888,
             "#fdca26"
            ],
            [
             1,
             "#f0f921"
            ]
           ],
           "sequentialminus": [
            [
             0,
             "#0d0887"
            ],
            [
             0.1111111111111111,
             "#46039f"
            ],
            [
             0.2222222222222222,
             "#7201a8"
            ],
            [
             0.3333333333333333,
             "#9c179e"
            ],
            [
             0.4444444444444444,
             "#bd3786"
            ],
            [
             0.5555555555555556,
             "#d8576b"
            ],
            [
             0.6666666666666666,
             "#ed7953"
            ],
            [
             0.7777777777777778,
             "#fb9f3a"
            ],
            [
             0.8888888888888888,
             "#fdca26"
            ],
            [
             1,
             "#f0f921"
            ]
           ]
          },
          "colorway": [
           "#636efa",
           "#EF553B",
           "#00cc96",
           "#ab63fa",
           "#FFA15A",
           "#19d3f3",
           "#FF6692",
           "#B6E880",
           "#FF97FF",
           "#FECB52"
          ],
          "font": {
           "color": "#2a3f5f"
          },
          "geo": {
           "bgcolor": "white",
           "lakecolor": "white",
           "landcolor": "#E5ECF6",
           "showlakes": true,
           "showland": true,
           "subunitcolor": "white"
          },
          "hoverlabel": {
           "align": "left"
          },
          "hovermode": "closest",
          "mapbox": {
           "style": "light"
          },
          "paper_bgcolor": "white",
          "plot_bgcolor": "#E5ECF6",
          "polar": {
           "angularaxis": {
            "gridcolor": "white",
            "linecolor": "white",
            "ticks": ""
           },
           "bgcolor": "#E5ECF6",
           "radialaxis": {
            "gridcolor": "white",
            "linecolor": "white",
            "ticks": ""
           }
          },
          "scene": {
           "xaxis": {
            "backgroundcolor": "#E5ECF6",
            "gridcolor": "white",
            "gridwidth": 2,
            "linecolor": "white",
            "showbackground": true,
            "ticks": "",
            "zerolinecolor": "white"
           },
           "yaxis": {
            "backgroundcolor": "#E5ECF6",
            "gridcolor": "white",
            "gridwidth": 2,
            "linecolor": "white",
            "showbackground": true,
            "ticks": "",
            "zerolinecolor": "white"
           },
           "zaxis": {
            "backgroundcolor": "#E5ECF6",
            "gridcolor": "white",
            "gridwidth": 2,
            "linecolor": "white",
            "showbackground": true,
            "ticks": "",
            "zerolinecolor": "white"
           }
          },
          "shapedefaults": {
           "line": {
            "color": "#2a3f5f"
           }
          },
          "ternary": {
           "aaxis": {
            "gridcolor": "white",
            "linecolor": "white",
            "ticks": ""
           },
           "baxis": {
            "gridcolor": "white",
            "linecolor": "white",
            "ticks": ""
           },
           "bgcolor": "#E5ECF6",
           "caxis": {
            "gridcolor": "white",
            "linecolor": "white",
            "ticks": ""
           }
          },
          "title": {
           "x": 0.05
          },
          "xaxis": {
           "automargin": true,
           "gridcolor": "white",
           "linecolor": "white",
           "ticks": "",
           "title": {
            "standoff": 15
           },
           "zerolinecolor": "white",
           "zerolinewidth": 2
          },
          "yaxis": {
           "automargin": true,
           "gridcolor": "white",
           "linecolor": "white",
           "ticks": "",
           "title": {
            "standoff": 15
           },
           "zerolinecolor": "white",
           "zerolinewidth": 2
          }
         }
        },
        "title": {
         "text": " Histograms"
        },
        "width": 950,
        "xaxis": {
         "anchor": "y",
         "domain": [
          0,
          0.2888888888888889
         ]
        },
        "xaxis2": {
         "anchor": "y2",
         "domain": [
          0.35555555555555557,
          0.6444444444444445
         ]
        },
        "xaxis3": {
         "anchor": "y3",
         "domain": [
          0.7111111111111111,
          1
         ]
        },
        "xaxis4": {
         "anchor": "y4",
         "domain": [
          0,
          0.2888888888888889
         ]
        },
        "xaxis5": {
         "anchor": "y5",
         "domain": [
          0.35555555555555557,
          0.6444444444444445
         ]
        },
        "xaxis6": {
         "anchor": "y6",
         "domain": [
          0.7111111111111111,
          1
         ]
        },
        "yaxis": {
         "anchor": "x",
         "domain": [
          0.6000000000000001,
          1
         ]
        },
        "yaxis2": {
         "anchor": "x2",
         "domain": [
          0.6000000000000001,
          1
         ]
        },
        "yaxis3": {
         "anchor": "x3",
         "domain": [
          0.6000000000000001,
          1
         ]
        },
        "yaxis4": {
         "anchor": "x4",
         "domain": [
          0,
          0.4
         ]
        },
        "yaxis5": {
         "anchor": "x5",
         "domain": [
          0,
          0.4
         ]
        },
        "yaxis6": {
         "anchor": "x6",
         "domain": [
          0,
          0.4
         ]
        }
       }
      },
      "text/html": [
       "<div>                            <div id=\"0d33f4b0-624c-4e0d-a64c-1be66b0d0779\" class=\"plotly-graph-div\" style=\"height:700px; width:950px;\"></div>            <script type=\"text/javascript\">                require([\"plotly\"], function(Plotly) {                    window.PLOTLYENV=window.PLOTLYENV || {};                                    if (document.getElementById(\"0d33f4b0-624c-4e0d-a64c-1be66b0d0779\")) {                    Plotly.newPlot(                        \"0d33f4b0-624c-4e0d-a64c-1be66b0d0779\",                        [{\"x\":[2015,2015,2015,2015,2015,2015,2015,2015,2015,2015,2015,2015,2015,2015,2015,2015,2015,2015,2015,2015,2015,2015,2015,2015,2015,2015,2015,2015,2015,2015,2015,2015,2015,2015,2015,2015,2015,2015,2015,2015,2015,2015,2015,2015,2015,2015,2015,2015,2015,2015,2015,2015,2015,2015,2015,2015,2015,2015,2015,2015,2015,2015,2015,2015,2015,2015,2015,2015,2015,2015,2015,2015,2016,2016,2016,2016,2016,2016,2016,2016,2016,2016,2016,2016,2016,2016,2016,2016,2016,2016,2016,2016,2016,2016,2016,2016,2016,2016,2016,2016,2016,2016,2016,2016,2016,2016,2016,2016,2016,2016,2016,2016,2016,2016,2016,2016,2016,2016,2016,2016,2016,2016,2016,2016,2016,2016,2016,2016,2016,2016,2016,2016,2016,2016,2016,2016,2016,2016,2016,2016,2016,2016,2016,2016,2016,2016,2016,2016,2016,2016,2016,2016,2016,2016,2016,2017,2017,2017,2017,2017,2017,2017,2017,2017,2017,2017,2017,2017,2017,2017,2017,2017,2017,2017,2017,2017,2017,2017,2017,2017,2017,2017,2017,2017,2017,2017,2017,2017,2017,2017,2017,2017,2017,2017,2017,2017,2017,2017,2017,2017,2017,2017,2017,2017,2017,2017,2017,2017,2017,2017,2017,2017,2017,2017,2017,2017,2017,2017,2017,2017,2017,2017,2017,2017,2017,2017,2017,2017,2017,2017,2017,2017,2017,2017,2017,2017,2017,2018,2018,2018,2018,2018,2018,2018,2018,2018,2018,2018,2018,2018,2018,2018,2018,2018,2018,2018,2018,2018,2018,2018,2018,2018,2018,2018,2018,2018,2018,2018,2018,2018,2018,2018,2018,2018,2018,2018,2018,2018,2018,2018,2018,2018,2018,2018,2018,2018,2018,2018,2018,2018,2018,2018,2018,2018,2018,2018,2018,2018,2018,2018,2018,2018,2018,2018,2018,2018,2018,2018,2018,2018,2018,2018,2018,2018,2018,2018,2018,2019,2019,2019,2019,2019,2019,2019,2019,2019,2019,2019,2019,2019,2019,2019,2019,2019,2019,2019,2019,2019,2019,2019,2019,2019,2019,2019,2019,2019,2019,2019,2019,2019,2019,2019,2019,2019,2019,2019,2019,2019,2019,2019,2019,2019,2019,2019,2019,2019,2019,2019,2019,2019,2019,2019,2019,2019,2019,2019,2019,2019,2019,2019,2019,2019,2019,2019,2019,2019,2019,2019,2019,2019,2019,2019,2019,2019,2019,2019,2019,2019,2019,2019,2019],\"type\":\"histogram\",\"xaxis\":\"x\",\"yaxis\":\"y\"},{\"x\":[\"Ajman\",\"Ajman\",\"Ajman\",\"Ajman\",\"Ajman\",\"Ajman\",\"Ajman\",\"Ajman\",\"Ajman\",\"Ajman\",\"Ajman\",\"Ajman\",\"Fujairah\",\"Fujairah\",\"Fujairah\",\"Fujairah\",\"Fujairah\",\"Fujairah\",\"Fujairah\",\"Fujairah\",\"Fujairah\",\"Fujairah\",\"Fujairah\",\"Fujairah\",\"DUBAI\",\"DUBAI\",\"DUBAI\",\"DUBAI\",\"DUBAI\",\"DUBAI\",\"DUBAI\",\"DUBAI\",\"DUBAI\",\"DUBAI\",\"DUBAI\",\"DUBAI\",\"Ras AlKhaima\",\"Ras AlKhaima\",\"Ras AlKhaima\",\"Ras AlKhaima\",\"Ras AlKhaima\",\"Ras AlKhaima\",\"Ras AlKhaima\",\"Ras AlKhaima\",\"Ras AlKhaima\",\"Ras AlKhaima\",\"Ras AlKhaima\",\"Ras AlKhaima\",\"Sharjah\",\"Sharjah\",\"Sharjah\",\"Sharjah\",\"Sharjah\",\"Sharjah\",\"Sharjah\",\"Sharjah\",\"Sharjah\",\"Sharjah\",\"Sharjah\",\"Sharjah\",\"Umm AlQuwain\",\"Umm AlQuwain\",\"Umm AlQuwain\",\"Umm AlQuwain\",\"Umm AlQuwain\",\"Umm AlQuwain\",\"Umm AlQuwain\",\"Umm AlQuwain\",\"Umm AlQuwain\",\"Umm AlQuwain\",\"Umm AlQuwain\",\"Umm AlQuwain\",\"Ajman\",\"Ajman\",\"Ajman\",\"Ajman\",\"Ajman\",\"Ajman\",\"Ajman\",\"Ajman\",\"Ajman\",\"Ajman\",\"Ajman\",\"Ajman\",\"Ajman\",\"Ajman\",\"Ajman\",\"Ajman\",\"Fujairah\",\"Fujairah\",\"Fujairah\",\"Fujairah\",\"Fujairah\",\"Fujairah\",\"Fujairah\",\"Fujairah\",\"Fujairah\",\"Fujairah\",\"Fujairah\",\"Fujairah\",\"Fujairah\",\"Fujairah\",\"DUBAI\",\"DUBAI\",\"DUBAI\",\"DUBAI\",\"DUBAI\",\"DUBAI\",\"DUBAI\",\"DUBAI\",\"DUBAI\",\"DUBAI\",\"DUBAI\",\"DUBAI\",\"DUBAI\",\"DUBAI\",\"Ras AlKhaima\",\"Ras AlKhaima\",\"Ras AlKhaima\",\"Ras AlKhaima\",\"Ras AlKhaima\",\"Ras AlKhaima\",\"Ras AlKhaima\",\"Ras AlKhaima\",\"Ras AlKhaima\",\"Ras AlKhaima\",\"Ras AlKhaima\",\"Ras AlKhaima\",\"Ras AlKhaima\",\"Ras AlKhaima\",\"Sharjah\",\"Sharjah\",\"Sharjah\",\"Sharjah\",\"Sharjah\",\"Sharjah\",\"Sharjah\",\"Sharjah\",\"Sharjah\",\"Sharjah\",\"Sharjah\",\"Sharjah\",\"Sharjah\",\"Sharjah\",\"Umm AlQuwain\",\"Umm AlQuwain\",\"Umm AlQuwain\",\"Umm AlQuwain\",\"Umm AlQuwain\",\"Umm AlQuwain\",\"Umm AlQuwain\",\"Umm AlQuwain\",\"Umm AlQuwain\",\"Umm AlQuwain\",\"Umm AlQuwain\",\"Ajman\",\"Ajman\",\"Ajman\",\"Ajman\",\"Ajman\",\"Ajman\",\"Ajman\",\"Ajman\",\"Ajman\",\"Ajman\",\"Ajman\",\"Ajman\",\"Ajman\",\"Ajman\",\"Ajman\",\"Fujairah\",\"Fujairah\",\"Fujairah\",\"Fujairah\",\"Fujairah\",\"Fujairah\",\"Fujairah\",\"Fujairah\",\"Fujairah\",\"Fujairah\",\"Fujairah\",\"Fujairah\",\"Fujairah\",\"DUBAI\",\"DUBAI\",\"DUBAI\",\"DUBAI\",\"DUBAI\",\"DUBAI\",\"DUBAI\",\"DUBAI\",\"DUBAI\",\"DUBAI\",\"DUBAI\",\"DUBAI\",\"DUBAI\",\"DUBAI\",\"Ras AlKhaima\",\"Ras AlKhaima\",\"Ras AlKhaima\",\"Ras AlKhaima\",\"Ras AlKhaima\",\"Ras AlKhaima\",\"Ras AlKhaima\",\"Ras AlKhaima\",\"Ras AlKhaima\",\"Ras AlKhaima\",\"Ras AlKhaima\",\"Ras AlKhaima\",\"Ras AlKhaima\",\"Sharjah\",\"Sharjah\",\"Sharjah\",\"Sharjah\",\"Sharjah\",\"Sharjah\",\"Sharjah\",\"Sharjah\",\"Sharjah\",\"Sharjah\",\"Sharjah\",\"Sharjah\",\"Sharjah\",\"Umm AlQuwain\",\"Umm AlQuwain\",\"Umm AlQuwain\",\"Umm AlQuwain\",\"Umm AlQuwain\",\"Umm AlQuwain\",\"Umm AlQuwain\",\"Umm AlQuwain\",\"Umm AlQuwain\",\"Umm AlQuwain\",\"Umm AlQuwain\",\"Umm AlQuwain\",\"Umm AlQuwain\",\"Umm AlQuwain\",\"Ajman\",\"Ajman\",\"Ajman\",\"Ajman\",\"Ajman\",\"Ajman\",\"Ajman\",\"Ajman\",\"Ajman\",\"Ajman\",\"Ajman\",\"Ajman\",\"Ajman\",\"Ajman\",\"Fujairah\",\"Fujairah\",\"Fujairah\",\"Fujairah\",\"Fujairah\",\"Fujairah\",\"Fujairah\",\"Fujairah\",\"Fujairah\",\"Fujairah\",\"Fujairah\",\"Fujairah\",\"Fujairah\",\"DUBAI\",\"DUBAI\",\"DUBAI\",\"DUBAI\",\"DUBAI\",\"DUBAI\",\"DUBAI\",\"DUBAI\",\"DUBAI\",\"DUBAI\",\"DUBAI\",\"DUBAI\",\"DUBAI\",\"DUBAI\",\"Ras AlKhaima\",\"Ras AlKhaima\",\"Ras AlKhaima\",\"Ras AlKhaima\",\"Ras AlKhaima\",\"Ras AlKhaima\",\"Ras AlKhaima\",\"Ras AlKhaima\",\"Ras AlKhaima\",\"Ras AlKhaima\",\"Ras AlKhaima\",\"Ras AlKhaima\",\"Ras AlKhaima\",\"Sharjah\",\"Sharjah\",\"Sharjah\",\"Sharjah\",\"Sharjah\",\"Sharjah\",\"Sharjah\",\"Sharjah\",\"Sharjah\",\"Sharjah\",\"Sharjah\",\"Sharjah\",\"Sharjah\",\"Umm AlQuwain\",\"Umm AlQuwain\",\"Umm AlQuwain\",\"Umm AlQuwain\",\"Umm AlQuwain\",\"Umm AlQuwain\",\"Umm AlQuwain\",\"Umm AlQuwain\",\"Umm AlQuwain\",\"Umm AlQuwain\",\"Umm AlQuwain\",\"Umm AlQuwain\",\"Umm AlQuwain\",\"Ajman\",\"Ajman\",\"Ajman\",\"Ajman\",\"Ajman\",\"Ajman\",\"Ajman\",\"Ajman\",\"Ajman\",\"Ajman\",\"Ajman\",\"Ajman\",\"Ajman\",\"Ajman\",\"Ajman\",\"Ajman\",\"Fujairah\",\"Fujairah\",\"Fujairah\",\"Fujairah\",\"Fujairah\",\"Fujairah\",\"Fujairah\",\"Fujairah\",\"Fujairah\",\"Fujairah\",\"Fujairah\",\"Fujairah\",\"Fujairah\",\"Fujairah\",\"DUBAI\",\"DUBAI\",\"DUBAI\",\"DUBAI\",\"DUBAI\",\"DUBAI\",\"DUBAI\",\"DUBAI\",\"DUBAI\",\"DUBAI\",\"DUBAI\",\"DUBAI\",\"DUBAI\",\"DUBAI\",\"Ras AlKhaima\",\"Ras AlKhaima\",\"Ras AlKhaima\",\"Ras AlKhaima\",\"Ras AlKhaima\",\"Ras AlKhaima\",\"Ras AlKhaima\",\"Ras AlKhaima\",\"Ras AlKhaima\",\"Ras AlKhaima\",\"Ras AlKhaima\",\"Ras AlKhaima\",\"Ras AlKhaima\",\"Sharjah\",\"Sharjah\",\"Sharjah\",\"Sharjah\",\"Sharjah\",\"Sharjah\",\"Sharjah\",\"Sharjah\",\"Sharjah\",\"Sharjah\",\"Sharjah\",\"Sharjah\",\"Sharjah\",\"Sharjah\",\"Umm AlQuwain\",\"Umm AlQuwain\",\"Umm AlQuwain\",\"Umm AlQuwain\",\"Umm AlQuwain\",\"Umm AlQuwain\",\"Umm AlQuwain\",\"Umm AlQuwain\",\"Umm AlQuwain\",\"Umm AlQuwain\",\"Umm AlQuwain\",\"Umm AlQuwain\",\"Umm AlQuwain\"],\"type\":\"histogram\",\"xaxis\":\"x2\",\"yaxis\":\"y2\"},{\"x\":[\"Public Schools\",\"Public Schools\",\"Public Schools\",\"Public Schools\",\"Private Schools\",\"Private Schools\",\"Private Schools\",\"Private Schools\",\"Continuing Education Centers\",\"Continuing Education Centers\",\"Continuing Education Centers\",\"Continuing Education Centers\",\"Public Schools\",\"Public Schools\",\"Public Schools\",\"Public Schools\",\"Private Schools\",\"Private Schools\",\"Private Schools\",\"Private Schools\",\"Continuing Education Centers\",\"Continuing Education Centers\",\"Continuing Education Centers\",\"Continuing Education Centers\",\"Public Schools\",\"Public Schools\",\"Public Schools\",\"Public Schools\",\"Private Schools\",\"Private Schools\",\"Private Schools\",\"Private Schools\",\"Continuing Education Centers\",\"Continuing Education Centers\",\"Continuing Education Centers\",\"Continuing Education Centers\",\"Public Schools\",\"Public Schools\",\"Public Schools\",\"Public Schools\",\"Private Schools\",\"Private Schools\",\"Private Schools\",\"Private Schools\",\"Continuing Education Centers\",\"Continuing Education Centers\",\"Continuing Education Centers\",\"Continuing Education Centers\",\"Public Schools\",\"Public Schools\",\"Public Schools\",\"Public Schools\",\"Private Schools\",\"Private Schools\",\"Private Schools\",\"Private Schools\",\"Continuing Education Centers\",\"Continuing Education Centers\",\"Continuing Education Centers\",\"Continuing Education Centers\",\"Public Schools\",\"Public Schools\",\"Public Schools\",\"Public Schools\",\"Private Schools\",\"Private Schools\",\"Private Schools\",\"Private Schools\",\"Continuing Education Centers\",\"Continuing Education Centers\",\"Continuing Education Centers\",\"Continuing Education Centers\",\"ACTVET\",\"ACTVET\",\"ACTVET\",\"ACTVET\",\"Public Schools\",\"Public Schools\",\"Public Schools\",\"Public Schools\",\"Private Schools\",\"Private Schools\",\"Private Schools\",\"Private Schools\",\"Continuing Education Centers\",\"Continuing Education Centers\",\"Continuing Education Centers\",\"Continuing Education Centers\",\"ACTVET\",\"ACTVET\",\"Public Schools\",\"Public Schools\",\"Public Schools\",\"Public Schools\",\"Private Schools\",\"Private Schools\",\"Private Schools\",\"Private Schools\",\"Continuing Education Centers\",\"Continuing Education Centers\",\"Continuing Education Centers\",\"Continuing Education Centers\",\"ACTVET\",\"ACTVET\",\"Public Schools\",\"Public Schools\",\"Public Schools\",\"Public Schools\",\"Private Schools\",\"Private Schools\",\"Private Schools\",\"Private Schools\",\"Continuing Education Centers\",\"Continuing Education Centers\",\"Continuing Education Centers\",\"Continuing Education Centers\",\"ACTVET\",\"ACTVET\",\"Public Schools\",\"Public Schools\",\"Public Schools\",\"Public Schools\",\"Private Schools\",\"Private Schools\",\"Private Schools\",\"Private Schools\",\"Continuing Education Centers\",\"Continuing Education Centers\",\"Continuing Education Centers\",\"Continuing Education Centers\",\"ACTVET\",\"ACTVET\",\"Public Schools\",\"Public Schools\",\"Public Schools\",\"Public Schools\",\"Private Schools\",\"Private Schools\",\"Private Schools\",\"Private Schools\",\"Continuing Education Centers\",\"Continuing Education Centers\",\"Continuing Education Centers\",\"Continuing Education Centers\",\"Public Schools\",\"Public Schools\",\"Public Schools\",\"Public Schools\",\"Private Schools\",\"Private Schools\",\"Private Schools\",\"Continuing Education Centers\",\"Continuing Education Centers\",\"Continuing Education Centers\",\"Continuing Education Centers\",\"ACTVET\",\"ACTVET\",\"ACTVET\",\"Public Schools\",\"Public Schools\",\"Public Schools\",\"Public Schools\",\"Private Schools\",\"Private Schools\",\"Private Schools\",\"Private Schools\",\"Continuing Education Centers\",\"Continuing Education Centers\",\"Continuing Education Centers\",\"Continuing Education Centers\",\"ACTVET\",\"Public Schools\",\"Public Schools\",\"Public Schools\",\"Public Schools\",\"Private Schools\",\"Private Schools\",\"Private Schools\",\"Private Schools\",\"Continuing Education Centers\",\"Continuing Education Centers\",\"Continuing Education Centers\",\"Continuing Education Centers\",\"ACTVET\",\"ACTVET\",\"Public Schools\",\"Public Schools\",\"Public Schools\",\"Public Schools\",\"Private Schools\",\"Private Schools\",\"Private Schools\",\"Private Schools\",\"Continuing Education Centers\",\"Continuing Education Centers\",\"Continuing Education Centers\",\"Continuing Education Centers\",\"ACTVET\",\"Public Schools\",\"Public Schools\",\"Public Schools\",\"Public Schools\",\"Private Schools\",\"Private Schools\",\"Private Schools\",\"Private Schools\",\"Continuing Education Centers\",\"Continuing Education Centers\",\"Continuing Education Centers\",\"Continuing Education Centers\",\"ACTVET\",\"Public Schools\",\"Public Schools\",\"Public Schools\",\"Public Schools\",\"Private Schools\",\"Private Schools\",\"Private Schools\",\"Private Schools\",\"Continuing Education Centers\",\"Continuing Education Centers\",\"Continuing Education Centers\",\"Continuing Education Centers\",\"ACTVET\",\"ACTVET\",\"Public Schools\",\"Public Schools\",\"Public Schools\",\"Public Schools\",\"Private Schools\",\"Private Schools\",\"Private Schools\",\"Private Schools\",\"Continuing Education Centers\",\"Continuing Education Centers\",\"Continuing Education Centers\",\"Continuing Education Centers\",\"ACTVET\",\"ACTVET\",\"Public Schools\",\"Public Schools\",\"Public Schools\",\"Public Schools\",\"Private Schools\",\"Private Schools\",\"Private Schools\",\"Private Schools\",\"Continuing Education Centers\",\"Continuing Education Centers\",\"Continuing Education Centers\",\"Continuing Education Centers\",\"ACTVET\",\"Public Schools\",\"Public Schools\",\"Public Schools\",\"Public Schools\",\"Private Schools\",\"Private Schools\",\"Private Schools\",\"Private Schools\",\"Continuing Education Centers\",\"Continuing Education Centers\",\"Continuing Education Centers\",\"Continuing Education Centers\",\"ACTVET\",\"ACTVET\",\"Public Schools\",\"Public Schools\",\"Public Schools\",\"Public Schools\",\"Private Schools\",\"Private Schools\",\"Private Schools\",\"Private Schools\",\"Continuing Education Centers\",\"Continuing Education Centers\",\"Continuing Education Centers\",\"Continuing Education Centers\",\"ACTVET\",\"Public Schools\",\"Public Schools\",\"Public Schools\",\"Public Schools\",\"Private Schools\",\"Private Schools\",\"Private Schools\",\"Private Schools\",\"Continuing Education Centers\",\"Continuing Education Centers\",\"Continuing Education Centers\",\"Continuing Education Centers\",\"ACTVET\",\"Public Schools\",\"Public Schools\",\"Public Schools\",\"Public Schools\",\"Private Schools\",\"Private Schools\",\"Private Schools\",\"Private Schools\",\"Continuing Education Centers\",\"Continuing Education Centers\",\"Continuing Education Centers\",\"Continuing Education Centers\",\"ACTVET\",\"ACTVET\",\"Public Schools\",\"Public Schools\",\"Public Schools\",\"Public Schools\",\"Private Schools\",\"Private Schools\",\"Private Schools\",\"Continuing Education Centers\",\"Continuing Education Centers\",\"Continuing Education Centers\",\"Continuing Education Centers\",\"ACTVET\",\"ACTVET\",\"ACTVET\",\"ACTVET\",\"Public Schools\",\"Public Schools\",\"Public Schools\",\"Public Schools\",\"Private Schools\",\"Private Schools\",\"Private Schools\",\"Private Schools\",\"Continuing Education Centers\",\"Continuing Education Centers\",\"Continuing Education Centers\",\"Continuing Education Centers\",\"ACTVET\",\"ACTVET\",\"Public Schools\",\"Public Schools\",\"Public Schools\",\"Public Schools\",\"Private Schools\",\"Private Schools\",\"Private Schools\",\"Private Schools\",\"Continuing Education Centers\",\"Continuing Education Centers\",\"Continuing Education Centers\",\"Continuing Education Centers\",\"ACTVET\",\"ACTVET\",\"Public Schools\",\"Public Schools\",\"Public Schools\",\"Public Schools\",\"Private Schools\",\"Private Schools\",\"Private Schools\",\"Private Schools\",\"Continuing Education Centers\",\"Continuing Education Centers\",\"Continuing Education Centers\",\"Continuing Education Centers\",\"ACTVET\",\"Public Schools\",\"Public Schools\",\"Public Schools\",\"Public Schools\",\"Private Schools\",\"Private Schools\",\"Private Schools\",\"Private Schools\",\"Continuing Education Centers\",\"Continuing Education Centers\",\"Continuing Education Centers\",\"Continuing Education Centers\",\"ACTVET\",\"ACTVET\",\"Public Schools\",\"Public Schools\",\"Public Schools\",\"Public Schools\",\"Private Schools\",\"Private Schools\",\"Private Schools\",\"Private Schools\",\"Continuing Education Centers\",\"Continuing Education Centers\",\"Continuing Education Centers\",\"Continuing Education Centers\",\"ACTVET\",\"ACTVET\",\"ACTVET\",\"Public Schools\",\"Public Schools\",\"Public Schools\",\"Public Schools\",\"Private Schools\",\"Private Schools\",\"Continuing Education Centers\",\"Continuing Education Centers\",\"Continuing Education Centers\",\"Continuing Education Centers\"],\"type\":\"histogram\",\"xaxis\":\"x3\",\"yaxis\":\"y3\"},{\"x\":[\"Female\",\"Female\",\"Male\",\"Male\",\"Female\",\"Female\",\"Male\",\"Male\",\"Female\",\"Female\",\"Male\",\"Male\",\"Female\",\"Female\",\"Male\",\"Male\",\"Female\",\"Female\",\"Male\",\"Male\",\"Female\",\"Female\",\"Male\",\"Male\",\"Female\",\"Female\",\"Male\",\"Male\",\"Female\",\"Female\",\"Male\",\"Male\",\"Female\",\"Female\",\"Male\",\"Male\",\"Female\",\"Female\",\"Male\",\"Male\",\"Female\",\"Female\",\"Male\",\"Male\",\"Female\",\"Female\",\"Male\",\"Male\",\"Female\",\"Female\",\"Male\",\"Male\",\"Female\",\"Female\",\"Male\",\"Male\",\"Female\",\"Female\",\"Male\",\"Male\",\"Female\",\"Female\",\"Male\",\"Male\",\"Female\",\"Female\",\"Male\",\"Male\",\"Female\",\"Female\",\"Male\",\"Male\",\"Female\",\"Female\",\"Male\",\"Male\",\"Female\",\"Female\",\"Male\",\"Male\",\"Female\",\"Female\",\"Male\",\"Male\",\"Female\",\"Female\",\"Male\",\"Male\",\"Male\",\"Male\",\"Female\",\"Female\",\"Male\",\"Male\",\"Female\",\"Female\",\"Male\",\"Male\",\"Female\",\"Female\",\"Male\",\"Male\",\"Male\",\"Male\",\"Female\",\"Female\",\"Male\",\"Male\",\"Female\",\"Female\",\"Male\",\"Male\",\"Female\",\"Female\",\"Male\",\"Male\",\"Male\",\"Male\",\"Female\",\"Female\",\"Male\",\"Male\",\"Female\",\"Female\",\"Male\",\"Male\",\"Female\",\"Female\",\"Male\",\"Male\",\"Male\",\"Male\",\"Female\",\"Female\",\"Male\",\"Male\",\"Female\",\"Female\",\"Male\",\"Male\",\"Female\",\"Female\",\"Male\",\"Male\",\"Female\",\"Female\",\"Male\",\"Male\",\"Female\",\"Female\",\"Male\",\"Female\",\"Female\",\"Male\",\"Male\",\"Female\",\"Male\",\"Male\",\"Female\",\"Female\",\"Male\",\"Male\",\"Female\",\"Female\",\"Male\",\"Male\",\"Female\",\"Female\",\"Male\",\"Male\",\"Male\",\"Female\",\"Female\",\"Male\",\"Male\",\"Female\",\"Female\",\"Male\",\"Male\",\"Female\",\"Female\",\"Male\",\"Male\",\"Male\",\"Male\",\"Female\",\"Female\",\"Male\",\"Male\",\"Female\",\"Female\",\"Male\",\"Male\",\"Female\",\"Female\",\"Male\",\"Male\",\"Male\",\"Female\",\"Female\",\"Male\",\"Male\",\"Female\",\"Female\",\"Male\",\"Male\",\"Female\",\"Female\",\"Male\",\"Male\",\"Male\",\"Female\",\"Female\",\"Male\",\"Male\",\"Female\",\"Female\",\"Male\",\"Male\",\"Female\",\"Female\",\"Male\",\"Male\",\"Female\",\"Male\",\"Female\",\"Female\",\"Male\",\"Male\",\"Female\",\"Female\",\"Male\",\"Male\",\"Female\",\"Female\",\"Male\",\"Male\",\"Female\",\"Male\",\"Female\",\"Female\",\"Male\",\"Male\",\"Female\",\"Female\",\"Male\",\"Male\",\"Female\",\"Female\",\"Male\",\"Male\",\"Male\",\"Female\",\"Female\",\"Male\",\"Male\",\"Female\",\"Female\",\"Male\",\"Male\",\"Female\",\"Female\",\"Male\",\"Male\",\"Male\",\"Male\",\"Female\",\"Female\",\"Male\",\"Male\",\"Female\",\"Female\",\"Male\",\"Male\",\"Female\",\"Female\",\"Male\",\"Male\",\"Male\",\"Female\",\"Female\",\"Male\",\"Male\",\"Female\",\"Female\",\"Male\",\"Male\",\"Female\",\"Female\",\"Male\",\"Male\",\"Male\",\"Female\",\"Female\",\"Male\",\"Male\",\"Female\",\"Female\",\"Male\",\"Male\",\"Female\",\"Female\",\"Male\",\"Male\",\"Female\",\"Male\",\"Female\",\"Female\",\"Male\",\"Male\",\"Female\",\"Female\",\"Male\",\"Female\",\"Female\",\"Male\",\"Male\",\"Female\",\"Female\",\"Male\",\"Male\",\"Female\",\"Female\",\"Male\",\"Male\",\"Female\",\"Female\",\"Male\",\"Male\",\"Female\",\"Female\",\"Male\",\"Male\",\"Male\",\"Male\",\"Female\",\"Female\",\"Male\",\"Male\",\"Female\",\"Female\",\"Male\",\"Male\",\"Female\",\"Female\",\"Male\",\"Male\",\"Male\",\"Male\",\"Female\",\"Female\",\"Male\",\"Male\",\"Female\",\"Female\",\"Male\",\"Male\",\"Female\",\"Female\",\"Male\",\"Male\",\"Male\",\"Female\",\"Female\",\"Male\",\"Male\",\"Female\",\"Female\",\"Male\",\"Male\",\"Female\",\"Female\",\"Male\",\"Male\",\"Male\",\"Male\",\"Female\",\"Female\",\"Male\",\"Male\",\"Female\",\"Female\",\"Male\",\"Male\",\"Female\",\"Female\",\"Male\",\"Male\",\"Female\",\"Female\",\"Male\",\"Female\",\"Female\",\"Male\",\"Male\",\"Female\",\"Male\",\"Female\",\"Female\",\"Male\",\"Male\"],\"type\":\"histogram\",\"xaxis\":\"x4\",\"yaxis\":\"y4\"},{\"x\":[\"Expat\",\"Local\",\"Expat\",\"Local\",\"Expat\",\"Local\",\"Expat\",\"Local\",\"Expat\",\"Local\",\"Expat\",\"Local\",\"Expat\",\"Local\",\"Expat\",\"Local\",\"Expat\",\"Local\",\"Expat\",\"Local\",\"Expat\",\"Local\",\"Expat\",\"Local\",\"Expat\",\"Local\",\"Expat\",\"Local\",\"Expat\",\"Local\",\"Expat\",\"Local\",\"Expat\",\"Local\",\"Expat\",\"Local\",\"Expat\",\"Local\",\"Expat\",\"Local\",\"Expat\",\"Local\",\"Expat\",\"Local\",\"Expat\",\"Local\",\"Expat\",\"Local\",\"Expat\",\"Local\",\"Expat\",\"Local\",\"Expat\",\"Local\",\"Expat\",\"Local\",\"Expat\",\"Local\",\"Expat\",\"Local\",\"Expat\",\"Local\",\"Expat\",\"Local\",\"Expat\",\"Local\",\"Expat\",\"Local\",\"Expat\",\"Local\",\"Expat\",\"Local\",\"Expat\",\"Local\",\"Expat\",\"Local\",\"Expat\",\"Local\",\"Expat\",\"Local\",\"Expat\",\"Local\",\"Expat\",\"Local\",\"Expat\",\"Local\",\"Expat\",\"Local\",\"Expat\",\"Local\",\"Expat\",\"Local\",\"Expat\",\"Local\",\"Expat\",\"Local\",\"Expat\",\"Local\",\"Expat\",\"Local\",\"Expat\",\"Local\",\"Expat\",\"Local\",\"Expat\",\"Local\",\"Expat\",\"Local\",\"Expat\",\"Local\",\"Expat\",\"Local\",\"Expat\",\"Local\",\"Expat\",\"Local\",\"Expat\",\"Local\",\"Expat\",\"Local\",\"Expat\",\"Local\",\"Expat\",\"Local\",\"Expat\",\"Local\",\"Expat\",\"Local\",\"Expat\",\"Local\",\"Expat\",\"Local\",\"Expat\",\"Local\",\"Expat\",\"Local\",\"Expat\",\"Local\",\"Expat\",\"Local\",\"Expat\",\"Local\",\"Expat\",\"Local\",\"Expat\",\"Local\",\"Expat\",\"Local\",\"Expat\",\"Local\",\"Expat\",\"Expat\",\"Local\",\"Expat\",\"Local\",\"Local\",\"Expat\",\"Local\",\"Expat\",\"Local\",\"Expat\",\"Local\",\"Expat\",\"Local\",\"Expat\",\"Local\",\"Expat\",\"Local\",\"Expat\",\"Local\",\"Local\",\"Expat\",\"Local\",\"Expat\",\"Local\",\"Expat\",\"Local\",\"Expat\",\"Local\",\"Expat\",\"Local\",\"Expat\",\"Local\",\"Expat\",\"Local\",\"Expat\",\"Local\",\"Expat\",\"Local\",\"Expat\",\"Local\",\"Expat\",\"Local\",\"Expat\",\"Local\",\"Expat\",\"Local\",\"Local\",\"Expat\",\"Local\",\"Expat\",\"Local\",\"Expat\",\"Local\",\"Expat\",\"Local\",\"Expat\",\"Local\",\"Expat\",\"Local\",\"Local\",\"Expat\",\"Local\",\"Expat\",\"Local\",\"Expat\",\"Local\",\"Expat\",\"Local\",\"Expat\",\"Local\",\"Expat\",\"Local\",\"Local\",\"Local\",\"Expat\",\"Local\",\"Expat\",\"Local\",\"Expat\",\"Local\",\"Expat\",\"Local\",\"Expat\",\"Local\",\"Expat\",\"Local\",\"Local\",\"Local\",\"Expat\",\"Local\",\"Expat\",\"Local\",\"Expat\",\"Local\",\"Expat\",\"Local\",\"Expat\",\"Local\",\"Expat\",\"Local\",\"Local\",\"Expat\",\"Local\",\"Expat\",\"Local\",\"Expat\",\"Local\",\"Expat\",\"Local\",\"Expat\",\"Local\",\"Expat\",\"Local\",\"Expat\",\"Local\",\"Expat\",\"Local\",\"Expat\",\"Local\",\"Expat\",\"Local\",\"Expat\",\"Local\",\"Expat\",\"Local\",\"Expat\",\"Local\",\"Local\",\"Expat\",\"Local\",\"Expat\",\"Local\",\"Expat\",\"Local\",\"Expat\",\"Local\",\"Expat\",\"Local\",\"Expat\",\"Local\",\"Local\",\"Expat\",\"Local\",\"Expat\",\"Local\",\"Expat\",\"Local\",\"Expat\",\"Local\",\"Expat\",\"Local\",\"Expat\",\"Local\",\"Local\",\"Local\",\"Expat\",\"Local\",\"Expat\",\"Local\",\"Expat\",\"Local\",\"Expat\",\"Expat\",\"Local\",\"Expat\",\"Local\",\"Expat\",\"Local\",\"Expat\",\"Local\",\"Expat\",\"Local\",\"Expat\",\"Local\",\"Expat\",\"Local\",\"Expat\",\"Local\",\"Expat\",\"Local\",\"Expat\",\"Local\",\"Expat\",\"Local\",\"Expat\",\"Local\",\"Expat\",\"Local\",\"Expat\",\"Local\",\"Expat\",\"Local\",\"Expat\",\"Local\",\"Expat\",\"Local\",\"Expat\",\"Local\",\"Expat\",\"Local\",\"Expat\",\"Local\",\"Expat\",\"Local\",\"Expat\",\"Local\",\"Expat\",\"Local\",\"Expat\",\"Local\",\"Local\",\"Expat\",\"Local\",\"Expat\",\"Local\",\"Expat\",\"Local\",\"Expat\",\"Local\",\"Expat\",\"Local\",\"Expat\",\"Local\",\"Expat\",\"Local\",\"Expat\",\"Local\",\"Expat\",\"Local\",\"Expat\",\"Local\",\"Expat\",\"Local\",\"Expat\",\"Local\",\"Expat\",\"Local\",\"Expat\",\"Local\",\"Local\",\"Expat\",\"Local\",\"Expat\",\"Local\",\"Expat\",\"Expat\",\"Expat\",\"Local\",\"Expat\",\"Local\"],\"type\":\"histogram\",\"xaxis\":\"x5\",\"yaxis\":\"y5\"}],                        {\"template\":{\"data\":{\"histogram2dcontour\":[{\"type\":\"histogram2dcontour\",\"colorbar\":{\"outlinewidth\":0,\"ticks\":\"\"},\"colorscale\":[[0.0,\"#0d0887\"],[0.1111111111111111,\"#46039f\"],[0.2222222222222222,\"#7201a8\"],[0.3333333333333333,\"#9c179e\"],[0.4444444444444444,\"#bd3786\"],[0.5555555555555556,\"#d8576b\"],[0.6666666666666666,\"#ed7953\"],[0.7777777777777778,\"#fb9f3a\"],[0.8888888888888888,\"#fdca26\"],[1.0,\"#f0f921\"]]}],\"choropleth\":[{\"type\":\"choropleth\",\"colorbar\":{\"outlinewidth\":0,\"ticks\":\"\"}}],\"histogram2d\":[{\"type\":\"histogram2d\",\"colorbar\":{\"outlinewidth\":0,\"ticks\":\"\"},\"colorscale\":[[0.0,\"#0d0887\"],[0.1111111111111111,\"#46039f\"],[0.2222222222222222,\"#7201a8\"],[0.3333333333333333,\"#9c179e\"],[0.4444444444444444,\"#bd3786\"],[0.5555555555555556,\"#d8576b\"],[0.6666666666666666,\"#ed7953\"],[0.7777777777777778,\"#fb9f3a\"],[0.8888888888888888,\"#fdca26\"],[1.0,\"#f0f921\"]]}],\"heatmap\":[{\"type\":\"heatmap\",\"colorbar\":{\"outlinewidth\":0,\"ticks\":\"\"},\"colorscale\":[[0.0,\"#0d0887\"],[0.1111111111111111,\"#46039f\"],[0.2222222222222222,\"#7201a8\"],[0.3333333333333333,\"#9c179e\"],[0.4444444444444444,\"#bd3786\"],[0.5555555555555556,\"#d8576b\"],[0.6666666666666666,\"#ed7953\"],[0.7777777777777778,\"#fb9f3a\"],[0.8888888888888888,\"#fdca26\"],[1.0,\"#f0f921\"]]}],\"heatmapgl\":[{\"type\":\"heatmapgl\",\"colorbar\":{\"outlinewidth\":0,\"ticks\":\"\"},\"colorscale\":[[0.0,\"#0d0887\"],[0.1111111111111111,\"#46039f\"],[0.2222222222222222,\"#7201a8\"],[0.3333333333333333,\"#9c179e\"],[0.4444444444444444,\"#bd3786\"],[0.5555555555555556,\"#d8576b\"],[0.6666666666666666,\"#ed7953\"],[0.7777777777777778,\"#fb9f3a\"],[0.8888888888888888,\"#fdca26\"],[1.0,\"#f0f921\"]]}],\"contourcarpet\":[{\"type\":\"contourcarpet\",\"colorbar\":{\"outlinewidth\":0,\"ticks\":\"\"}}],\"contour\":[{\"type\":\"contour\",\"colorbar\":{\"outlinewidth\":0,\"ticks\":\"\"},\"colorscale\":[[0.0,\"#0d0887\"],[0.1111111111111111,\"#46039f\"],[0.2222222222222222,\"#7201a8\"],[0.3333333333333333,\"#9c179e\"],[0.4444444444444444,\"#bd3786\"],[0.5555555555555556,\"#d8576b\"],[0.6666666666666666,\"#ed7953\"],[0.7777777777777778,\"#fb9f3a\"],[0.8888888888888888,\"#fdca26\"],[1.0,\"#f0f921\"]]}],\"surface\":[{\"type\":\"surface\",\"colorbar\":{\"outlinewidth\":0,\"ticks\":\"\"},\"colorscale\":[[0.0,\"#0d0887\"],[0.1111111111111111,\"#46039f\"],[0.2222222222222222,\"#7201a8\"],[0.3333333333333333,\"#9c179e\"],[0.4444444444444444,\"#bd3786\"],[0.5555555555555556,\"#d8576b\"],[0.6666666666666666,\"#ed7953\"],[0.7777777777777778,\"#fb9f3a\"],[0.8888888888888888,\"#fdca26\"],[1.0,\"#f0f921\"]]}],\"mesh3d\":[{\"type\":\"mesh3d\",\"colorbar\":{\"outlinewidth\":0,\"ticks\":\"\"}}],\"scatter\":[{\"fillpattern\":{\"fillmode\":\"overlay\",\"size\":10,\"solidity\":0.2},\"type\":\"scatter\"}],\"parcoords\":[{\"type\":\"parcoords\",\"line\":{\"colorbar\":{\"outlinewidth\":0,\"ticks\":\"\"}}}],\"scatterpolargl\":[{\"type\":\"scatterpolargl\",\"marker\":{\"colorbar\":{\"outlinewidth\":0,\"ticks\":\"\"}}}],\"bar\":[{\"error_x\":{\"color\":\"#2a3f5f\"},\"error_y\":{\"color\":\"#2a3f5f\"},\"marker\":{\"line\":{\"color\":\"#E5ECF6\",\"width\":0.5},\"pattern\":{\"fillmode\":\"overlay\",\"size\":10,\"solidity\":0.2}},\"type\":\"bar\"}],\"scattergeo\":[{\"type\":\"scattergeo\",\"marker\":{\"colorbar\":{\"outlinewidth\":0,\"ticks\":\"\"}}}],\"scatterpolar\":[{\"type\":\"scatterpolar\",\"marker\":{\"colorbar\":{\"outlinewidth\":0,\"ticks\":\"\"}}}],\"histogram\":[{\"marker\":{\"pattern\":{\"fillmode\":\"overlay\",\"size\":10,\"solidity\":0.2}},\"type\":\"histogram\"}],\"scattergl\":[{\"type\":\"scattergl\",\"marker\":{\"colorbar\":{\"outlinewidth\":0,\"ticks\":\"\"}}}],\"scatter3d\":[{\"type\":\"scatter3d\",\"line\":{\"colorbar\":{\"outlinewidth\":0,\"ticks\":\"\"}},\"marker\":{\"colorbar\":{\"outlinewidth\":0,\"ticks\":\"\"}}}],\"scattermapbox\":[{\"type\":\"scattermapbox\",\"marker\":{\"colorbar\":{\"outlinewidth\":0,\"ticks\":\"\"}}}],\"scatterternary\":[{\"type\":\"scatterternary\",\"marker\":{\"colorbar\":{\"outlinewidth\":0,\"ticks\":\"\"}}}],\"scattercarpet\":[{\"type\":\"scattercarpet\",\"marker\":{\"colorbar\":{\"outlinewidth\":0,\"ticks\":\"\"}}}],\"carpet\":[{\"aaxis\":{\"endlinecolor\":\"#2a3f5f\",\"gridcolor\":\"white\",\"linecolor\":\"white\",\"minorgridcolor\":\"white\",\"startlinecolor\":\"#2a3f5f\"},\"baxis\":{\"endlinecolor\":\"#2a3f5f\",\"gridcolor\":\"white\",\"linecolor\":\"white\",\"minorgridcolor\":\"white\",\"startlinecolor\":\"#2a3f5f\"},\"type\":\"carpet\"}],\"table\":[{\"cells\":{\"fill\":{\"color\":\"#EBF0F8\"},\"line\":{\"color\":\"white\"}},\"header\":{\"fill\":{\"color\":\"#C8D4E3\"},\"line\":{\"color\":\"white\"}},\"type\":\"table\"}],\"barpolar\":[{\"marker\":{\"line\":{\"color\":\"#E5ECF6\",\"width\":0.5},\"pattern\":{\"fillmode\":\"overlay\",\"size\":10,\"solidity\":0.2}},\"type\":\"barpolar\"}],\"pie\":[{\"automargin\":true,\"type\":\"pie\"}]},\"layout\":{\"autotypenumbers\":\"strict\",\"colorway\":[\"#636efa\",\"#EF553B\",\"#00cc96\",\"#ab63fa\",\"#FFA15A\",\"#19d3f3\",\"#FF6692\",\"#B6E880\",\"#FF97FF\",\"#FECB52\"],\"font\":{\"color\":\"#2a3f5f\"},\"hovermode\":\"closest\",\"hoverlabel\":{\"align\":\"left\"},\"paper_bgcolor\":\"white\",\"plot_bgcolor\":\"#E5ECF6\",\"polar\":{\"bgcolor\":\"#E5ECF6\",\"angularaxis\":{\"gridcolor\":\"white\",\"linecolor\":\"white\",\"ticks\":\"\"},\"radialaxis\":{\"gridcolor\":\"white\",\"linecolor\":\"white\",\"ticks\":\"\"}},\"ternary\":{\"bgcolor\":\"#E5ECF6\",\"aaxis\":{\"gridcolor\":\"white\",\"linecolor\":\"white\",\"ticks\":\"\"},\"baxis\":{\"gridcolor\":\"white\",\"linecolor\":\"white\",\"ticks\":\"\"},\"caxis\":{\"gridcolor\":\"white\",\"linecolor\":\"white\",\"ticks\":\"\"}},\"coloraxis\":{\"colorbar\":{\"outlinewidth\":0,\"ticks\":\"\"}},\"colorscale\":{\"sequential\":[[0.0,\"#0d0887\"],[0.1111111111111111,\"#46039f\"],[0.2222222222222222,\"#7201a8\"],[0.3333333333333333,\"#9c179e\"],[0.4444444444444444,\"#bd3786\"],[0.5555555555555556,\"#d8576b\"],[0.6666666666666666,\"#ed7953\"],[0.7777777777777778,\"#fb9f3a\"],[0.8888888888888888,\"#fdca26\"],[1.0,\"#f0f921\"]],\"sequentialminus\":[[0.0,\"#0d0887\"],[0.1111111111111111,\"#46039f\"],[0.2222222222222222,\"#7201a8\"],[0.3333333333333333,\"#9c179e\"],[0.4444444444444444,\"#bd3786\"],[0.5555555555555556,\"#d8576b\"],[0.6666666666666666,\"#ed7953\"],[0.7777777777777778,\"#fb9f3a\"],[0.8888888888888888,\"#fdca26\"],[1.0,\"#f0f921\"]],\"diverging\":[[0,\"#8e0152\"],[0.1,\"#c51b7d\"],[0.2,\"#de77ae\"],[0.3,\"#f1b6da\"],[0.4,\"#fde0ef\"],[0.5,\"#f7f7f7\"],[0.6,\"#e6f5d0\"],[0.7,\"#b8e186\"],[0.8,\"#7fbc41\"],[0.9,\"#4d9221\"],[1,\"#276419\"]]},\"xaxis\":{\"gridcolor\":\"white\",\"linecolor\":\"white\",\"ticks\":\"\",\"title\":{\"standoff\":15},\"zerolinecolor\":\"white\",\"automargin\":true,\"zerolinewidth\":2},\"yaxis\":{\"gridcolor\":\"white\",\"linecolor\":\"white\",\"ticks\":\"\",\"title\":{\"standoff\":15},\"zerolinecolor\":\"white\",\"automargin\":true,\"zerolinewidth\":2},\"scene\":{\"xaxis\":{\"backgroundcolor\":\"#E5ECF6\",\"gridcolor\":\"white\",\"linecolor\":\"white\",\"showbackground\":true,\"ticks\":\"\",\"zerolinecolor\":\"white\",\"gridwidth\":2},\"yaxis\":{\"backgroundcolor\":\"#E5ECF6\",\"gridcolor\":\"white\",\"linecolor\":\"white\",\"showbackground\":true,\"ticks\":\"\",\"zerolinecolor\":\"white\",\"gridwidth\":2},\"zaxis\":{\"backgroundcolor\":\"#E5ECF6\",\"gridcolor\":\"white\",\"linecolor\":\"white\",\"showbackground\":true,\"ticks\":\"\",\"zerolinecolor\":\"white\",\"gridwidth\":2}},\"shapedefaults\":{\"line\":{\"color\":\"#2a3f5f\"}},\"annotationdefaults\":{\"arrowcolor\":\"#2a3f5f\",\"arrowhead\":0,\"arrowwidth\":1},\"geo\":{\"bgcolor\":\"white\",\"landcolor\":\"#E5ECF6\",\"subunitcolor\":\"white\",\"showland\":true,\"showlakes\":true,\"lakecolor\":\"white\"},\"title\":{\"x\":0.05},\"mapbox\":{\"style\":\"light\"}}},\"xaxis\":{\"anchor\":\"y\",\"domain\":[0.0,0.2888888888888889]},\"yaxis\":{\"anchor\":\"x\",\"domain\":[0.6000000000000001,1.0]},\"xaxis2\":{\"anchor\":\"y2\",\"domain\":[0.35555555555555557,0.6444444444444445]},\"yaxis2\":{\"anchor\":\"x2\",\"domain\":[0.6000000000000001,1.0]},\"xaxis3\":{\"anchor\":\"y3\",\"domain\":[0.7111111111111111,1.0]},\"yaxis3\":{\"anchor\":\"x3\",\"domain\":[0.6000000000000001,1.0]},\"xaxis4\":{\"anchor\":\"y4\",\"domain\":[0.0,0.2888888888888889]},\"yaxis4\":{\"anchor\":\"x4\",\"domain\":[0.0,0.4]},\"xaxis5\":{\"anchor\":\"y5\",\"domain\":[0.35555555555555557,0.6444444444444445]},\"yaxis5\":{\"anchor\":\"x5\",\"domain\":[0.0,0.4]},\"xaxis6\":{\"anchor\":\"y6\",\"domain\":[0.7111111111111111,1.0]},\"yaxis6\":{\"anchor\":\"x6\",\"domain\":[0.0,0.4]},\"annotations\":[{\"font\":{\"size\":16},\"showarrow\":false,\"text\":\"Year\",\"x\":0.14444444444444446,\"xanchor\":\"center\",\"xref\":\"paper\",\"y\":1.0,\"yanchor\":\"bottom\",\"yref\":\"paper\"},{\"font\":{\"size\":16},\"showarrow\":false,\"text\":\"Zone\",\"x\":0.5,\"xanchor\":\"center\",\"xref\":\"paper\",\"y\":1.0,\"yanchor\":\"bottom\",\"yref\":\"paper\"},{\"font\":{\"size\":16},\"showarrow\":false,\"text\":\"School type\",\"x\":0.8555555555555556,\"xanchor\":\"center\",\"xref\":\"paper\",\"y\":1.0,\"yanchor\":\"bottom\",\"yref\":\"paper\"},{\"font\":{\"size\":16},\"showarrow\":false,\"text\":\"Gender\",\"x\":0.14444444444444446,\"xanchor\":\"center\",\"xref\":\"paper\",\"y\":0.4,\"yanchor\":\"bottom\",\"yref\":\"paper\"},{\"font\":{\"size\":16},\"showarrow\":false,\"text\":\"Localflag\",\"x\":0.5,\"xanchor\":\"center\",\"xref\":\"paper\",\"y\":0.4,\"yanchor\":\"bottom\",\"yref\":\"paper\"}],\"title\":{\"text\":\" Histograms\"},\"bargap\":0.2,\"height\":700,\"width\":950,\"showlegend\":false},                        {\"responsive\": true}                    ).then(function(){\n",
       "                            \n",
       "var gd = document.getElementById('0d33f4b0-624c-4e0d-a64c-1be66b0d0779');\n",
       "var x = new MutationObserver(function (mutations, observer) {{\n",
       "        var display = window.getComputedStyle(gd).display;\n",
       "        if (!display || display === 'none') {{\n",
       "            console.log([gd, 'removed!']);\n",
       "            Plotly.purge(gd);\n",
       "            observer.disconnect();\n",
       "        }}\n",
       "}});\n",
       "\n",
       "// Listen for the removal of the full notebook cells\n",
       "var notebookContainer = gd.closest('#notebook-container');\n",
       "if (notebookContainer) {{\n",
       "    x.observe(notebookContainer, {childList: true});\n",
       "}}\n",
       "\n",
       "// Listen for the clearing of the current output cell\n",
       "var outputEl = gd.closest('.output');\n",
       "if (outputEl) {{\n",
       "    x.observe(outputEl, {childList: true});\n",
       "}}\n",
       "\n",
       "                        })                };                });            </script>        </div>"
      ]
     },
     "metadata": {},
     "output_type": "display_data"
    }
   ],
   "source": [
    "fig = make_subplots(rows=2, cols=3, vertical_spacing=0.2,subplot_titles=['Year', 'Zone', 'School type', 'Gender', 'Localflag'])\n",
    "trace1=go.Histogram(x=df['Year'])\n",
    "fig.add_trace(trace1, row=1, col=1)\n",
    "trace2=go.Histogram(x=df['Zone'])\n",
    "fig.add_trace(trace2, row=1, col=2)\n",
    "trace3=go.Histogram(x=df['School_Type'])\n",
    "fig.add_trace(trace3, row=1, col=3)\n",
    "trace4=go.Histogram(x=df['Gender'])\n",
    "fig.add_trace(trace4, row=2, col=1)\n",
    "trace5=go.Histogram(x=df['LocalFlag'])\n",
    "fig.add_trace(trace5, row=2, col=2)\n",
    "fig.update_layout(title=' Histograms', bargap=0.2 , height=700, width=950, showlegend=False)\n",
    "fig.show()"
   ]
  },
  {
   "cell_type": "code",
   "execution_count": 9,
   "id": "017a90d5",
   "metadata": {},
   "outputs": [
    {
     "data": {
      "application/vnd.plotly.v1+json": {
       "config": {
        "plotlyServerURL": "https://plot.ly"
       },
       "data": [
        {
         "type": "bar",
         "x": [
          2015,
          2016,
          2017,
          2018,
          2019
         ],
         "xaxis": "x",
         "y": [
          0.8289277834155132,
          0.9064813860970719,
          0.8798193950802067,
          0.8984065429952584,
          0.9257377977313713
         ],
         "yaxis": "y"
        },
        {
         "type": "bar",
         "x": [
          "Ajman",
          "DUBAI",
          "Fujairah",
          "Ras AlKhaima",
          "Sharjah",
          "Umm AlQuwain"
         ],
         "xaxis": "x2",
         "y": [
          0.902141803031201,
          0.923029812726261,
          0.8664090699776347,
          0.8848173553754519,
          0.886284613941836,
          0.8712246694103789
         ],
         "yaxis": "y2"
        },
        {
         "type": "bar",
         "x": [
          "ACTVET",
          "Continuing Education Centers",
          "Private Schools",
          "Public Schools"
         ],
         "xaxis": "x3",
         "y": [
          0.9954250190145474,
          0.6849624399881746,
          0.9678120263834146,
          0.9787052548574585
         ],
         "yaxis": "y3"
        },
        {
         "type": "bar",
         "x": [
          "Female",
          "Male"
         ],
         "xaxis": "x4",
         "y": [
          0.8945574044093486,
          0.8850429003030181
         ],
         "yaxis": "y4"
        },
        {
         "type": "bar",
         "x": [
          "Expat",
          "Local"
         ],
         "xaxis": "x5",
         "y": [
          0.8976296112388131,
          0.8818576218739717
         ],
         "yaxis": "y5"
        }
       ],
       "layout": {
        "annotations": [
         {
          "font": {
           "size": 16
          },
          "showarrow": false,
          "text": "Year",
          "x": 0.14444444444444446,
          "xanchor": "center",
          "xref": "paper",
          "y": 1,
          "yanchor": "bottom",
          "yref": "paper"
         },
         {
          "font": {
           "size": 16
          },
          "showarrow": false,
          "text": "Zone",
          "x": 0.5,
          "xanchor": "center",
          "xref": "paper",
          "y": 1,
          "yanchor": "bottom",
          "yref": "paper"
         },
         {
          "font": {
           "size": 16
          },
          "showarrow": false,
          "text": "School type",
          "x": 0.8555555555555556,
          "xanchor": "center",
          "xref": "paper",
          "y": 1,
          "yanchor": "bottom",
          "yref": "paper"
         },
         {
          "font": {
           "size": 16
          },
          "showarrow": false,
          "text": "Gender",
          "x": 0.14444444444444446,
          "xanchor": "center",
          "xref": "paper",
          "y": 0.4,
          "yanchor": "bottom",
          "yref": "paper"
         },
         {
          "font": {
           "size": 16
          },
          "showarrow": false,
          "text": "Localflag",
          "x": 0.5,
          "xanchor": "center",
          "xref": "paper",
          "y": 0.4,
          "yanchor": "bottom",
          "yref": "paper"
         }
        ],
        "bargap": 0.2,
        "height": 700,
        "showlegend": false,
        "template": {
         "data": {
          "bar": [
           {
            "error_x": {
             "color": "#2a3f5f"
            },
            "error_y": {
             "color": "#2a3f5f"
            },
            "marker": {
             "line": {
              "color": "#E5ECF6",
              "width": 0.5
             },
             "pattern": {
              "fillmode": "overlay",
              "size": 10,
              "solidity": 0.2
             }
            },
            "type": "bar"
           }
          ],
          "barpolar": [
           {
            "marker": {
             "line": {
              "color": "#E5ECF6",
              "width": 0.5
             },
             "pattern": {
              "fillmode": "overlay",
              "size": 10,
              "solidity": 0.2
             }
            },
            "type": "barpolar"
           }
          ],
          "carpet": [
           {
            "aaxis": {
             "endlinecolor": "#2a3f5f",
             "gridcolor": "white",
             "linecolor": "white",
             "minorgridcolor": "white",
             "startlinecolor": "#2a3f5f"
            },
            "baxis": {
             "endlinecolor": "#2a3f5f",
             "gridcolor": "white",
             "linecolor": "white",
             "minorgridcolor": "white",
             "startlinecolor": "#2a3f5f"
            },
            "type": "carpet"
           }
          ],
          "choropleth": [
           {
            "colorbar": {
             "outlinewidth": 0,
             "ticks": ""
            },
            "type": "choropleth"
           }
          ],
          "contour": [
           {
            "colorbar": {
             "outlinewidth": 0,
             "ticks": ""
            },
            "colorscale": [
             [
              0,
              "#0d0887"
             ],
             [
              0.1111111111111111,
              "#46039f"
             ],
             [
              0.2222222222222222,
              "#7201a8"
             ],
             [
              0.3333333333333333,
              "#9c179e"
             ],
             [
              0.4444444444444444,
              "#bd3786"
             ],
             [
              0.5555555555555556,
              "#d8576b"
             ],
             [
              0.6666666666666666,
              "#ed7953"
             ],
             [
              0.7777777777777778,
              "#fb9f3a"
             ],
             [
              0.8888888888888888,
              "#fdca26"
             ],
             [
              1,
              "#f0f921"
             ]
            ],
            "type": "contour"
           }
          ],
          "contourcarpet": [
           {
            "colorbar": {
             "outlinewidth": 0,
             "ticks": ""
            },
            "type": "contourcarpet"
           }
          ],
          "heatmap": [
           {
            "colorbar": {
             "outlinewidth": 0,
             "ticks": ""
            },
            "colorscale": [
             [
              0,
              "#0d0887"
             ],
             [
              0.1111111111111111,
              "#46039f"
             ],
             [
              0.2222222222222222,
              "#7201a8"
             ],
             [
              0.3333333333333333,
              "#9c179e"
             ],
             [
              0.4444444444444444,
              "#bd3786"
             ],
             [
              0.5555555555555556,
              "#d8576b"
             ],
             [
              0.6666666666666666,
              "#ed7953"
             ],
             [
              0.7777777777777778,
              "#fb9f3a"
             ],
             [
              0.8888888888888888,
              "#fdca26"
             ],
             [
              1,
              "#f0f921"
             ]
            ],
            "type": "heatmap"
           }
          ],
          "heatmapgl": [
           {
            "colorbar": {
             "outlinewidth": 0,
             "ticks": ""
            },
            "colorscale": [
             [
              0,
              "#0d0887"
             ],
             [
              0.1111111111111111,
              "#46039f"
             ],
             [
              0.2222222222222222,
              "#7201a8"
             ],
             [
              0.3333333333333333,
              "#9c179e"
             ],
             [
              0.4444444444444444,
              "#bd3786"
             ],
             [
              0.5555555555555556,
              "#d8576b"
             ],
             [
              0.6666666666666666,
              "#ed7953"
             ],
             [
              0.7777777777777778,
              "#fb9f3a"
             ],
             [
              0.8888888888888888,
              "#fdca26"
             ],
             [
              1,
              "#f0f921"
             ]
            ],
            "type": "heatmapgl"
           }
          ],
          "histogram": [
           {
            "marker": {
             "pattern": {
              "fillmode": "overlay",
              "size": 10,
              "solidity": 0.2
             }
            },
            "type": "histogram"
           }
          ],
          "histogram2d": [
           {
            "colorbar": {
             "outlinewidth": 0,
             "ticks": ""
            },
            "colorscale": [
             [
              0,
              "#0d0887"
             ],
             [
              0.1111111111111111,
              "#46039f"
             ],
             [
              0.2222222222222222,
              "#7201a8"
             ],
             [
              0.3333333333333333,
              "#9c179e"
             ],
             [
              0.4444444444444444,
              "#bd3786"
             ],
             [
              0.5555555555555556,
              "#d8576b"
             ],
             [
              0.6666666666666666,
              "#ed7953"
             ],
             [
              0.7777777777777778,
              "#fb9f3a"
             ],
             [
              0.8888888888888888,
              "#fdca26"
             ],
             [
              1,
              "#f0f921"
             ]
            ],
            "type": "histogram2d"
           }
          ],
          "histogram2dcontour": [
           {
            "colorbar": {
             "outlinewidth": 0,
             "ticks": ""
            },
            "colorscale": [
             [
              0,
              "#0d0887"
             ],
             [
              0.1111111111111111,
              "#46039f"
             ],
             [
              0.2222222222222222,
              "#7201a8"
             ],
             [
              0.3333333333333333,
              "#9c179e"
             ],
             [
              0.4444444444444444,
              "#bd3786"
             ],
             [
              0.5555555555555556,
              "#d8576b"
             ],
             [
              0.6666666666666666,
              "#ed7953"
             ],
             [
              0.7777777777777778,
              "#fb9f3a"
             ],
             [
              0.8888888888888888,
              "#fdca26"
             ],
             [
              1,
              "#f0f921"
             ]
            ],
            "type": "histogram2dcontour"
           }
          ],
          "mesh3d": [
           {
            "colorbar": {
             "outlinewidth": 0,
             "ticks": ""
            },
            "type": "mesh3d"
           }
          ],
          "parcoords": [
           {
            "line": {
             "colorbar": {
              "outlinewidth": 0,
              "ticks": ""
             }
            },
            "type": "parcoords"
           }
          ],
          "pie": [
           {
            "automargin": true,
            "type": "pie"
           }
          ],
          "scatter": [
           {
            "fillpattern": {
             "fillmode": "overlay",
             "size": 10,
             "solidity": 0.2
            },
            "type": "scatter"
           }
          ],
          "scatter3d": [
           {
            "line": {
             "colorbar": {
              "outlinewidth": 0,
              "ticks": ""
             }
            },
            "marker": {
             "colorbar": {
              "outlinewidth": 0,
              "ticks": ""
             }
            },
            "type": "scatter3d"
           }
          ],
          "scattercarpet": [
           {
            "marker": {
             "colorbar": {
              "outlinewidth": 0,
              "ticks": ""
             }
            },
            "type": "scattercarpet"
           }
          ],
          "scattergeo": [
           {
            "marker": {
             "colorbar": {
              "outlinewidth": 0,
              "ticks": ""
             }
            },
            "type": "scattergeo"
           }
          ],
          "scattergl": [
           {
            "marker": {
             "colorbar": {
              "outlinewidth": 0,
              "ticks": ""
             }
            },
            "type": "scattergl"
           }
          ],
          "scattermapbox": [
           {
            "marker": {
             "colorbar": {
              "outlinewidth": 0,
              "ticks": ""
             }
            },
            "type": "scattermapbox"
           }
          ],
          "scatterpolar": [
           {
            "marker": {
             "colorbar": {
              "outlinewidth": 0,
              "ticks": ""
             }
            },
            "type": "scatterpolar"
           }
          ],
          "scatterpolargl": [
           {
            "marker": {
             "colorbar": {
              "outlinewidth": 0,
              "ticks": ""
             }
            },
            "type": "scatterpolargl"
           }
          ],
          "scatterternary": [
           {
            "marker": {
             "colorbar": {
              "outlinewidth": 0,
              "ticks": ""
             }
            },
            "type": "scatterternary"
           }
          ],
          "surface": [
           {
            "colorbar": {
             "outlinewidth": 0,
             "ticks": ""
            },
            "colorscale": [
             [
              0,
              "#0d0887"
             ],
             [
              0.1111111111111111,
              "#46039f"
             ],
             [
              0.2222222222222222,
              "#7201a8"
             ],
             [
              0.3333333333333333,
              "#9c179e"
             ],
             [
              0.4444444444444444,
              "#bd3786"
             ],
             [
              0.5555555555555556,
              "#d8576b"
             ],
             [
              0.6666666666666666,
              "#ed7953"
             ],
             [
              0.7777777777777778,
              "#fb9f3a"
             ],
             [
              0.8888888888888888,
              "#fdca26"
             ],
             [
              1,
              "#f0f921"
             ]
            ],
            "type": "surface"
           }
          ],
          "table": [
           {
            "cells": {
             "fill": {
              "color": "#EBF0F8"
             },
             "line": {
              "color": "white"
             }
            },
            "header": {
             "fill": {
              "color": "#C8D4E3"
             },
             "line": {
              "color": "white"
             }
            },
            "type": "table"
           }
          ]
         },
         "layout": {
          "annotationdefaults": {
           "arrowcolor": "#2a3f5f",
           "arrowhead": 0,
           "arrowwidth": 1
          },
          "autotypenumbers": "strict",
          "coloraxis": {
           "colorbar": {
            "outlinewidth": 0,
            "ticks": ""
           }
          },
          "colorscale": {
           "diverging": [
            [
             0,
             "#8e0152"
            ],
            [
             0.1,
             "#c51b7d"
            ],
            [
             0.2,
             "#de77ae"
            ],
            [
             0.3,
             "#f1b6da"
            ],
            [
             0.4,
             "#fde0ef"
            ],
            [
             0.5,
             "#f7f7f7"
            ],
            [
             0.6,
             "#e6f5d0"
            ],
            [
             0.7,
             "#b8e186"
            ],
            [
             0.8,
             "#7fbc41"
            ],
            [
             0.9,
             "#4d9221"
            ],
            [
             1,
             "#276419"
            ]
           ],
           "sequential": [
            [
             0,
             "#0d0887"
            ],
            [
             0.1111111111111111,
             "#46039f"
            ],
            [
             0.2222222222222222,
             "#7201a8"
            ],
            [
             0.3333333333333333,
             "#9c179e"
            ],
            [
             0.4444444444444444,
             "#bd3786"
            ],
            [
             0.5555555555555556,
             "#d8576b"
            ],
            [
             0.6666666666666666,
             "#ed7953"
            ],
            [
             0.7777777777777778,
             "#fb9f3a"
            ],
            [
             0.8888888888888888,
             "#fdca26"
            ],
            [
             1,
             "#f0f921"
            ]
           ],
           "sequentialminus": [
            [
             0,
             "#0d0887"
            ],
            [
             0.1111111111111111,
             "#46039f"
            ],
            [
             0.2222222222222222,
             "#7201a8"
            ],
            [
             0.3333333333333333,
             "#9c179e"
            ],
            [
             0.4444444444444444,
             "#bd3786"
            ],
            [
             0.5555555555555556,
             "#d8576b"
            ],
            [
             0.6666666666666666,
             "#ed7953"
            ],
            [
             0.7777777777777778,
             "#fb9f3a"
            ],
            [
             0.8888888888888888,
             "#fdca26"
            ],
            [
             1,
             "#f0f921"
            ]
           ]
          },
          "colorway": [
           "#636efa",
           "#EF553B",
           "#00cc96",
           "#ab63fa",
           "#FFA15A",
           "#19d3f3",
           "#FF6692",
           "#B6E880",
           "#FF97FF",
           "#FECB52"
          ],
          "font": {
           "color": "#2a3f5f"
          },
          "geo": {
           "bgcolor": "white",
           "lakecolor": "white",
           "landcolor": "#E5ECF6",
           "showlakes": true,
           "showland": true,
           "subunitcolor": "white"
          },
          "hoverlabel": {
           "align": "left"
          },
          "hovermode": "closest",
          "mapbox": {
           "style": "light"
          },
          "paper_bgcolor": "white",
          "plot_bgcolor": "#E5ECF6",
          "polar": {
           "angularaxis": {
            "gridcolor": "white",
            "linecolor": "white",
            "ticks": ""
           },
           "bgcolor": "#E5ECF6",
           "radialaxis": {
            "gridcolor": "white",
            "linecolor": "white",
            "ticks": ""
           }
          },
          "scene": {
           "xaxis": {
            "backgroundcolor": "#E5ECF6",
            "gridcolor": "white",
            "gridwidth": 2,
            "linecolor": "white",
            "showbackground": true,
            "ticks": "",
            "zerolinecolor": "white"
           },
           "yaxis": {
            "backgroundcolor": "#E5ECF6",
            "gridcolor": "white",
            "gridwidth": 2,
            "linecolor": "white",
            "showbackground": true,
            "ticks": "",
            "zerolinecolor": "white"
           },
           "zaxis": {
            "backgroundcolor": "#E5ECF6",
            "gridcolor": "white",
            "gridwidth": 2,
            "linecolor": "white",
            "showbackground": true,
            "ticks": "",
            "zerolinecolor": "white"
           }
          },
          "shapedefaults": {
           "line": {
            "color": "#2a3f5f"
           }
          },
          "ternary": {
           "aaxis": {
            "gridcolor": "white",
            "linecolor": "white",
            "ticks": ""
           },
           "baxis": {
            "gridcolor": "white",
            "linecolor": "white",
            "ticks": ""
           },
           "bgcolor": "#E5ECF6",
           "caxis": {
            "gridcolor": "white",
            "linecolor": "white",
            "ticks": ""
           }
          },
          "title": {
           "x": 0.05
          },
          "xaxis": {
           "automargin": true,
           "gridcolor": "white",
           "linecolor": "white",
           "ticks": "",
           "title": {
            "standoff": 15
           },
           "zerolinecolor": "white",
           "zerolinewidth": 2
          },
          "yaxis": {
           "automargin": true,
           "gridcolor": "white",
           "linecolor": "white",
           "ticks": "",
           "title": {
            "standoff": 15
           },
           "zerolinecolor": "white",
           "zerolinewidth": 2
          }
         }
        },
        "title": {
         "text": "Bar Graphs"
        },
        "width": 950,
        "xaxis": {
         "anchor": "y",
         "domain": [
          0,
          0.2888888888888889
         ]
        },
        "xaxis2": {
         "anchor": "y2",
         "domain": [
          0.35555555555555557,
          0.6444444444444445
         ]
        },
        "xaxis3": {
         "anchor": "y3",
         "domain": [
          0.7111111111111111,
          1
         ]
        },
        "xaxis4": {
         "anchor": "y4",
         "domain": [
          0,
          0.2888888888888889
         ]
        },
        "xaxis5": {
         "anchor": "y5",
         "domain": [
          0.35555555555555557,
          0.6444444444444445
         ]
        },
        "xaxis6": {
         "anchor": "y6",
         "domain": [
          0.7111111111111111,
          1
         ]
        },
        "yaxis": {
         "anchor": "x",
         "domain": [
          0.6000000000000001,
          1
         ]
        },
        "yaxis2": {
         "anchor": "x2",
         "domain": [
          0.6000000000000001,
          1
         ]
        },
        "yaxis3": {
         "anchor": "x3",
         "domain": [
          0.6000000000000001,
          1
         ]
        },
        "yaxis4": {
         "anchor": "x4",
         "domain": [
          0,
          0.4
         ]
        },
        "yaxis5": {
         "anchor": "x5",
         "domain": [
          0,
          0.4
         ]
        },
        "yaxis6": {
         "anchor": "x6",
         "domain": [
          0,
          0.4
         ]
        }
       }
      },
      "text/html": [
       "<div>                            <div id=\"314e867e-a209-48e2-abb0-19fd3b221b54\" class=\"plotly-graph-div\" style=\"height:700px; width:950px;\"></div>            <script type=\"text/javascript\">                require([\"plotly\"], function(Plotly) {                    window.PLOTLYENV=window.PLOTLYENV || {};                                    if (document.getElementById(\"314e867e-a209-48e2-abb0-19fd3b221b54\")) {                    Plotly.newPlot(                        \"314e867e-a209-48e2-abb0-19fd3b221b54\",                        [{\"x\":[2015,2016,2017,2018,2019],\"y\":[0.8289277834155132,0.9064813860970719,0.8798193950802067,0.8984065429952584,0.9257377977313713],\"type\":\"bar\",\"xaxis\":\"x\",\"yaxis\":\"y\"},{\"x\":[\"Ajman\",\"DUBAI\",\"Fujairah\",\"Ras AlKhaima\",\"Sharjah\",\"Umm AlQuwain\"],\"y\":[0.902141803031201,0.923029812726261,0.8664090699776347,0.8848173553754519,0.886284613941836,0.8712246694103789],\"type\":\"bar\",\"xaxis\":\"x2\",\"yaxis\":\"y2\"},{\"x\":[\"ACTVET\",\"Continuing Education Centers\",\"Private Schools\",\"Public Schools\"],\"y\":[0.9954250190145474,0.6849624399881746,0.9678120263834146,0.9787052548574585],\"type\":\"bar\",\"xaxis\":\"x3\",\"yaxis\":\"y3\"},{\"x\":[\"Female\",\"Male\"],\"y\":[0.8945574044093486,0.8850429003030181],\"type\":\"bar\",\"xaxis\":\"x4\",\"yaxis\":\"y4\"},{\"x\":[\"Expat\",\"Local\"],\"y\":[0.8976296112388131,0.8818576218739717],\"type\":\"bar\",\"xaxis\":\"x5\",\"yaxis\":\"y5\"}],                        {\"template\":{\"data\":{\"histogram2dcontour\":[{\"type\":\"histogram2dcontour\",\"colorbar\":{\"outlinewidth\":0,\"ticks\":\"\"},\"colorscale\":[[0.0,\"#0d0887\"],[0.1111111111111111,\"#46039f\"],[0.2222222222222222,\"#7201a8\"],[0.3333333333333333,\"#9c179e\"],[0.4444444444444444,\"#bd3786\"],[0.5555555555555556,\"#d8576b\"],[0.6666666666666666,\"#ed7953\"],[0.7777777777777778,\"#fb9f3a\"],[0.8888888888888888,\"#fdca26\"],[1.0,\"#f0f921\"]]}],\"choropleth\":[{\"type\":\"choropleth\",\"colorbar\":{\"outlinewidth\":0,\"ticks\":\"\"}}],\"histogram2d\":[{\"type\":\"histogram2d\",\"colorbar\":{\"outlinewidth\":0,\"ticks\":\"\"},\"colorscale\":[[0.0,\"#0d0887\"],[0.1111111111111111,\"#46039f\"],[0.2222222222222222,\"#7201a8\"],[0.3333333333333333,\"#9c179e\"],[0.4444444444444444,\"#bd3786\"],[0.5555555555555556,\"#d8576b\"],[0.6666666666666666,\"#ed7953\"],[0.7777777777777778,\"#fb9f3a\"],[0.8888888888888888,\"#fdca26\"],[1.0,\"#f0f921\"]]}],\"heatmap\":[{\"type\":\"heatmap\",\"colorbar\":{\"outlinewidth\":0,\"ticks\":\"\"},\"colorscale\":[[0.0,\"#0d0887\"],[0.1111111111111111,\"#46039f\"],[0.2222222222222222,\"#7201a8\"],[0.3333333333333333,\"#9c179e\"],[0.4444444444444444,\"#bd3786\"],[0.5555555555555556,\"#d8576b\"],[0.6666666666666666,\"#ed7953\"],[0.7777777777777778,\"#fb9f3a\"],[0.8888888888888888,\"#fdca26\"],[1.0,\"#f0f921\"]]}],\"heatmapgl\":[{\"type\":\"heatmapgl\",\"colorbar\":{\"outlinewidth\":0,\"ticks\":\"\"},\"colorscale\":[[0.0,\"#0d0887\"],[0.1111111111111111,\"#46039f\"],[0.2222222222222222,\"#7201a8\"],[0.3333333333333333,\"#9c179e\"],[0.4444444444444444,\"#bd3786\"],[0.5555555555555556,\"#d8576b\"],[0.6666666666666666,\"#ed7953\"],[0.7777777777777778,\"#fb9f3a\"],[0.8888888888888888,\"#fdca26\"],[1.0,\"#f0f921\"]]}],\"contourcarpet\":[{\"type\":\"contourcarpet\",\"colorbar\":{\"outlinewidth\":0,\"ticks\":\"\"}}],\"contour\":[{\"type\":\"contour\",\"colorbar\":{\"outlinewidth\":0,\"ticks\":\"\"},\"colorscale\":[[0.0,\"#0d0887\"],[0.1111111111111111,\"#46039f\"],[0.2222222222222222,\"#7201a8\"],[0.3333333333333333,\"#9c179e\"],[0.4444444444444444,\"#bd3786\"],[0.5555555555555556,\"#d8576b\"],[0.6666666666666666,\"#ed7953\"],[0.7777777777777778,\"#fb9f3a\"],[0.8888888888888888,\"#fdca26\"],[1.0,\"#f0f921\"]]}],\"surface\":[{\"type\":\"surface\",\"colorbar\":{\"outlinewidth\":0,\"ticks\":\"\"},\"colorscale\":[[0.0,\"#0d0887\"],[0.1111111111111111,\"#46039f\"],[0.2222222222222222,\"#7201a8\"],[0.3333333333333333,\"#9c179e\"],[0.4444444444444444,\"#bd3786\"],[0.5555555555555556,\"#d8576b\"],[0.6666666666666666,\"#ed7953\"],[0.7777777777777778,\"#fb9f3a\"],[0.8888888888888888,\"#fdca26\"],[1.0,\"#f0f921\"]]}],\"mesh3d\":[{\"type\":\"mesh3d\",\"colorbar\":{\"outlinewidth\":0,\"ticks\":\"\"}}],\"scatter\":[{\"fillpattern\":{\"fillmode\":\"overlay\",\"size\":10,\"solidity\":0.2},\"type\":\"scatter\"}],\"parcoords\":[{\"type\":\"parcoords\",\"line\":{\"colorbar\":{\"outlinewidth\":0,\"ticks\":\"\"}}}],\"scatterpolargl\":[{\"type\":\"scatterpolargl\",\"marker\":{\"colorbar\":{\"outlinewidth\":0,\"ticks\":\"\"}}}],\"bar\":[{\"error_x\":{\"color\":\"#2a3f5f\"},\"error_y\":{\"color\":\"#2a3f5f\"},\"marker\":{\"line\":{\"color\":\"#E5ECF6\",\"width\":0.5},\"pattern\":{\"fillmode\":\"overlay\",\"size\":10,\"solidity\":0.2}},\"type\":\"bar\"}],\"scattergeo\":[{\"type\":\"scattergeo\",\"marker\":{\"colorbar\":{\"outlinewidth\":0,\"ticks\":\"\"}}}],\"scatterpolar\":[{\"type\":\"scatterpolar\",\"marker\":{\"colorbar\":{\"outlinewidth\":0,\"ticks\":\"\"}}}],\"histogram\":[{\"marker\":{\"pattern\":{\"fillmode\":\"overlay\",\"size\":10,\"solidity\":0.2}},\"type\":\"histogram\"}],\"scattergl\":[{\"type\":\"scattergl\",\"marker\":{\"colorbar\":{\"outlinewidth\":0,\"ticks\":\"\"}}}],\"scatter3d\":[{\"type\":\"scatter3d\",\"line\":{\"colorbar\":{\"outlinewidth\":0,\"ticks\":\"\"}},\"marker\":{\"colorbar\":{\"outlinewidth\":0,\"ticks\":\"\"}}}],\"scattermapbox\":[{\"type\":\"scattermapbox\",\"marker\":{\"colorbar\":{\"outlinewidth\":0,\"ticks\":\"\"}}}],\"scatterternary\":[{\"type\":\"scatterternary\",\"marker\":{\"colorbar\":{\"outlinewidth\":0,\"ticks\":\"\"}}}],\"scattercarpet\":[{\"type\":\"scattercarpet\",\"marker\":{\"colorbar\":{\"outlinewidth\":0,\"ticks\":\"\"}}}],\"carpet\":[{\"aaxis\":{\"endlinecolor\":\"#2a3f5f\",\"gridcolor\":\"white\",\"linecolor\":\"white\",\"minorgridcolor\":\"white\",\"startlinecolor\":\"#2a3f5f\"},\"baxis\":{\"endlinecolor\":\"#2a3f5f\",\"gridcolor\":\"white\",\"linecolor\":\"white\",\"minorgridcolor\":\"white\",\"startlinecolor\":\"#2a3f5f\"},\"type\":\"carpet\"}],\"table\":[{\"cells\":{\"fill\":{\"color\":\"#EBF0F8\"},\"line\":{\"color\":\"white\"}},\"header\":{\"fill\":{\"color\":\"#C8D4E3\"},\"line\":{\"color\":\"white\"}},\"type\":\"table\"}],\"barpolar\":[{\"marker\":{\"line\":{\"color\":\"#E5ECF6\",\"width\":0.5},\"pattern\":{\"fillmode\":\"overlay\",\"size\":10,\"solidity\":0.2}},\"type\":\"barpolar\"}],\"pie\":[{\"automargin\":true,\"type\":\"pie\"}]},\"layout\":{\"autotypenumbers\":\"strict\",\"colorway\":[\"#636efa\",\"#EF553B\",\"#00cc96\",\"#ab63fa\",\"#FFA15A\",\"#19d3f3\",\"#FF6692\",\"#B6E880\",\"#FF97FF\",\"#FECB52\"],\"font\":{\"color\":\"#2a3f5f\"},\"hovermode\":\"closest\",\"hoverlabel\":{\"align\":\"left\"},\"paper_bgcolor\":\"white\",\"plot_bgcolor\":\"#E5ECF6\",\"polar\":{\"bgcolor\":\"#E5ECF6\",\"angularaxis\":{\"gridcolor\":\"white\",\"linecolor\":\"white\",\"ticks\":\"\"},\"radialaxis\":{\"gridcolor\":\"white\",\"linecolor\":\"white\",\"ticks\":\"\"}},\"ternary\":{\"bgcolor\":\"#E5ECF6\",\"aaxis\":{\"gridcolor\":\"white\",\"linecolor\":\"white\",\"ticks\":\"\"},\"baxis\":{\"gridcolor\":\"white\",\"linecolor\":\"white\",\"ticks\":\"\"},\"caxis\":{\"gridcolor\":\"white\",\"linecolor\":\"white\",\"ticks\":\"\"}},\"coloraxis\":{\"colorbar\":{\"outlinewidth\":0,\"ticks\":\"\"}},\"colorscale\":{\"sequential\":[[0.0,\"#0d0887\"],[0.1111111111111111,\"#46039f\"],[0.2222222222222222,\"#7201a8\"],[0.3333333333333333,\"#9c179e\"],[0.4444444444444444,\"#bd3786\"],[0.5555555555555556,\"#d8576b\"],[0.6666666666666666,\"#ed7953\"],[0.7777777777777778,\"#fb9f3a\"],[0.8888888888888888,\"#fdca26\"],[1.0,\"#f0f921\"]],\"sequentialminus\":[[0.0,\"#0d0887\"],[0.1111111111111111,\"#46039f\"],[0.2222222222222222,\"#7201a8\"],[0.3333333333333333,\"#9c179e\"],[0.4444444444444444,\"#bd3786\"],[0.5555555555555556,\"#d8576b\"],[0.6666666666666666,\"#ed7953\"],[0.7777777777777778,\"#fb9f3a\"],[0.8888888888888888,\"#fdca26\"],[1.0,\"#f0f921\"]],\"diverging\":[[0,\"#8e0152\"],[0.1,\"#c51b7d\"],[0.2,\"#de77ae\"],[0.3,\"#f1b6da\"],[0.4,\"#fde0ef\"],[0.5,\"#f7f7f7\"],[0.6,\"#e6f5d0\"],[0.7,\"#b8e186\"],[0.8,\"#7fbc41\"],[0.9,\"#4d9221\"],[1,\"#276419\"]]},\"xaxis\":{\"gridcolor\":\"white\",\"linecolor\":\"white\",\"ticks\":\"\",\"title\":{\"standoff\":15},\"zerolinecolor\":\"white\",\"automargin\":true,\"zerolinewidth\":2},\"yaxis\":{\"gridcolor\":\"white\",\"linecolor\":\"white\",\"ticks\":\"\",\"title\":{\"standoff\":15},\"zerolinecolor\":\"white\",\"automargin\":true,\"zerolinewidth\":2},\"scene\":{\"xaxis\":{\"backgroundcolor\":\"#E5ECF6\",\"gridcolor\":\"white\",\"linecolor\":\"white\",\"showbackground\":true,\"ticks\":\"\",\"zerolinecolor\":\"white\",\"gridwidth\":2},\"yaxis\":{\"backgroundcolor\":\"#E5ECF6\",\"gridcolor\":\"white\",\"linecolor\":\"white\",\"showbackground\":true,\"ticks\":\"\",\"zerolinecolor\":\"white\",\"gridwidth\":2},\"zaxis\":{\"backgroundcolor\":\"#E5ECF6\",\"gridcolor\":\"white\",\"linecolor\":\"white\",\"showbackground\":true,\"ticks\":\"\",\"zerolinecolor\":\"white\",\"gridwidth\":2}},\"shapedefaults\":{\"line\":{\"color\":\"#2a3f5f\"}},\"annotationdefaults\":{\"arrowcolor\":\"#2a3f5f\",\"arrowhead\":0,\"arrowwidth\":1},\"geo\":{\"bgcolor\":\"white\",\"landcolor\":\"#E5ECF6\",\"subunitcolor\":\"white\",\"showland\":true,\"showlakes\":true,\"lakecolor\":\"white\"},\"title\":{\"x\":0.05},\"mapbox\":{\"style\":\"light\"}}},\"xaxis\":{\"anchor\":\"y\",\"domain\":[0.0,0.2888888888888889]},\"yaxis\":{\"anchor\":\"x\",\"domain\":[0.6000000000000001,1.0]},\"xaxis2\":{\"anchor\":\"y2\",\"domain\":[0.35555555555555557,0.6444444444444445]},\"yaxis2\":{\"anchor\":\"x2\",\"domain\":[0.6000000000000001,1.0]},\"xaxis3\":{\"anchor\":\"y3\",\"domain\":[0.7111111111111111,1.0]},\"yaxis3\":{\"anchor\":\"x3\",\"domain\":[0.6000000000000001,1.0]},\"xaxis4\":{\"anchor\":\"y4\",\"domain\":[0.0,0.2888888888888889]},\"yaxis4\":{\"anchor\":\"x4\",\"domain\":[0.0,0.4]},\"xaxis5\":{\"anchor\":\"y5\",\"domain\":[0.35555555555555557,0.6444444444444445]},\"yaxis5\":{\"anchor\":\"x5\",\"domain\":[0.0,0.4]},\"xaxis6\":{\"anchor\":\"y6\",\"domain\":[0.7111111111111111,1.0]},\"yaxis6\":{\"anchor\":\"x6\",\"domain\":[0.0,0.4]},\"annotations\":[{\"font\":{\"size\":16},\"showarrow\":false,\"text\":\"Year\",\"x\":0.14444444444444446,\"xanchor\":\"center\",\"xref\":\"paper\",\"y\":1.0,\"yanchor\":\"bottom\",\"yref\":\"paper\"},{\"font\":{\"size\":16},\"showarrow\":false,\"text\":\"Zone\",\"x\":0.5,\"xanchor\":\"center\",\"xref\":\"paper\",\"y\":1.0,\"yanchor\":\"bottom\",\"yref\":\"paper\"},{\"font\":{\"size\":16},\"showarrow\":false,\"text\":\"School type\",\"x\":0.8555555555555556,\"xanchor\":\"center\",\"xref\":\"paper\",\"y\":1.0,\"yanchor\":\"bottom\",\"yref\":\"paper\"},{\"font\":{\"size\":16},\"showarrow\":false,\"text\":\"Gender\",\"x\":0.14444444444444446,\"xanchor\":\"center\",\"xref\":\"paper\",\"y\":0.4,\"yanchor\":\"bottom\",\"yref\":\"paper\"},{\"font\":{\"size\":16},\"showarrow\":false,\"text\":\"Localflag\",\"x\":0.5,\"xanchor\":\"center\",\"xref\":\"paper\",\"y\":0.4,\"yanchor\":\"bottom\",\"yref\":\"paper\"}],\"title\":{\"text\":\"Bar Graphs\"},\"bargap\":0.2,\"height\":700,\"width\":950,\"showlegend\":false},                        {\"responsive\": true}                    ).then(function(){\n",
       "                            \n",
       "var gd = document.getElementById('314e867e-a209-48e2-abb0-19fd3b221b54');\n",
       "var x = new MutationObserver(function (mutations, observer) {{\n",
       "        var display = window.getComputedStyle(gd).display;\n",
       "        if (!display || display === 'none') {{\n",
       "            console.log([gd, 'removed!']);\n",
       "            Plotly.purge(gd);\n",
       "            observer.disconnect();\n",
       "        }}\n",
       "}});\n",
       "\n",
       "// Listen for the removal of the full notebook cells\n",
       "var notebookContainer = gd.closest('#notebook-container');\n",
       "if (notebookContainer) {{\n",
       "    x.observe(notebookContainer, {childList: true});\n",
       "}}\n",
       "\n",
       "// Listen for the clearing of the current output cell\n",
       "var outputEl = gd.closest('.output');\n",
       "if (outputEl) {{\n",
       "    x.observe(outputEl, {childList: true});\n",
       "}}\n",
       "\n",
       "                        })                };                });            </script>        </div>"
      ]
     },
     "metadata": {},
     "output_type": "display_data"
    }
   ],
   "source": [
    "df1=df.groupby('Year')['Graduation'].mean()\n",
    "df1=df1.reset_index()\n",
    "df2=df.groupby('Zone')['Graduation'].mean()\n",
    "df2=df2.reset_index()\n",
    "df3=df.groupby('School_Type')['Graduation'].mean()\n",
    "df3=df3.reset_index()\n",
    "df4=df.groupby('Gender')['Graduation'].mean()\n",
    "df4=df4.reset_index()\n",
    "df5=df.groupby('LocalFlag')['Graduation'].mean()\n",
    "df5=df5.reset_index()\n",
    "\n",
    "fig = make_subplots(rows=2, cols=3, vertical_spacing=0.2,subplot_titles=['Year', 'Zone', 'School type', 'Gender', 'Localflag'])\n",
    "\n",
    "trace1 = go.Bar(x=df1['Year'], y=df1['Graduation'])\n",
    "fig.add_trace(trace1, row=1, col=1)\n",
    "\n",
    "trace2 = go.Bar(x=df2['Zone'], y=df2['Graduation'])\n",
    "fig.add_trace(trace2, row=1, col=2)\n",
    "\n",
    "trace3 = go.Bar(x=df3['School_Type'], y=df3['Graduation'])\n",
    "fig.add_trace(trace3, row=1, col=3)\n",
    "\n",
    "trace4 = go.Bar(x=df4['Gender'], y=df4['Graduation'])\n",
    "fig.add_trace(trace4, row=2, col=1)\n",
    "\n",
    "trace5 = go.Bar(x=df5['LocalFlag'], y=df5['Graduation'])\n",
    "fig.add_trace(trace5, row=2, col=2)\n",
    "\n",
    "\n",
    "fig.update_layout(title='Bar Graphs', bargap=0.2 , height=700, width=950, showlegend=False)\n",
    "fig.show()\n",
    "\n",
    "\n",
    "\n"
   ]
  },
  {
   "cell_type": "markdown",
   "id": "4ec04d0a",
   "metadata": {},
   "source": [
    "**correlation**"
   ]
  },
  {
   "cell_type": "code",
   "execution_count": 10,
   "id": "b92cdee1",
   "metadata": {},
   "outputs": [
    {
     "data": {
      "text/html": [
       "<div>\n",
       "<style scoped>\n",
       "    .dataframe tbody tr th:only-of-type {\n",
       "        vertical-align: middle;\n",
       "    }\n",
       "\n",
       "    .dataframe tbody tr th {\n",
       "        vertical-align: top;\n",
       "    }\n",
       "\n",
       "    .dataframe thead th {\n",
       "        text-align: right;\n",
       "    }\n",
       "</style>\n",
       "<table border=\"1\" class=\"dataframe\">\n",
       "  <thead>\n",
       "    <tr style=\"text-align: right;\">\n",
       "      <th></th>\n",
       "      <th>Number of Failed students</th>\n",
       "      <th>Number of Pass students</th>\n",
       "      <th>Total Number of Students</th>\n",
       "      <th>Graduation</th>\n",
       "    </tr>\n",
       "  </thead>\n",
       "  <tbody>\n",
       "    <tr>\n",
       "      <th>Number of Failed students</th>\n",
       "      <td>1.000000</td>\n",
       "      <td>0.214411</td>\n",
       "      <td>0.265374</td>\n",
       "      <td>-0.513673</td>\n",
       "    </tr>\n",
       "    <tr>\n",
       "      <th>Number of Pass students</th>\n",
       "      <td>0.214411</td>\n",
       "      <td>1.000000</td>\n",
       "      <td>0.998622</td>\n",
       "      <td>0.237703</td>\n",
       "    </tr>\n",
       "    <tr>\n",
       "      <th>Total Number of Students</th>\n",
       "      <td>0.265374</td>\n",
       "      <td>0.998622</td>\n",
       "      <td>1.000000</td>\n",
       "      <td>0.207038</td>\n",
       "    </tr>\n",
       "    <tr>\n",
       "      <th>Graduation</th>\n",
       "      <td>-0.513673</td>\n",
       "      <td>0.237703</td>\n",
       "      <td>0.207038</td>\n",
       "      <td>1.000000</td>\n",
       "    </tr>\n",
       "  </tbody>\n",
       "</table>\n",
       "</div>"
      ],
      "text/plain": [
       "                           Number of Failed students  Number of Pass students  \\\n",
       "Number of Failed students                   1.000000                 0.214411   \n",
       "Number of Pass students                     0.214411                 1.000000   \n",
       "Total Number of Students                    0.265374                 0.998622   \n",
       "Graduation                                 -0.513673                 0.237703   \n",
       "\n",
       "                           Total Number of Students  Graduation  \n",
       "Number of Failed students                  0.265374   -0.513673  \n",
       "Number of Pass students                    0.998622    0.237703  \n",
       "Total Number of Students                   1.000000    0.207038  \n",
       "Graduation                                 0.207038    1.000000  "
      ]
     },
     "execution_count": 10,
     "metadata": {},
     "output_type": "execute_result"
    }
   ],
   "source": [
    "# Finding correlation between numeric features:\n",
    "\n",
    "numeric_columns = [\"Number of Failed students\", \"Number of Pass students\", \"Total Number of Students\", \"Graduation\"]\n",
    "df_corr = df[numeric_columns].corr()\n",
    "df_corr"
   ]
  },
  {
   "cell_type": "code",
   "execution_count": 11,
   "id": "fe925a65",
   "metadata": {
    "scrolled": false
   },
   "outputs": [
    {
     "data": {
      "image/png": "[encoded data removed]",
      "text/plain": [
       "<Figure size 600x400 with 2 Axes>"
      ]
     },
     "metadata": {},
     "output_type": "display_data"
    }
   ],
   "source": [
    "corr_matrix = df[numeric_columns].corr()\n",
    "plt.figure(figsize = (6,4))\n",
    "sns_plot=sns.heatmap(corr_matrix,annot=True, cmap='viridis_r')\n",
    "plt.show()"
   ]
  },
  {
   "cell_type": "code",
   "execution_count": 12,
   "id": "b60e57c7",
   "metadata": {
    "scrolled": true
   },
   "outputs": [
    {
     "data": {
      "text/plain": [
       "Graduation                   1.000000\n",
       "Number of Pass students      0.237703\n",
       "Total Number of Students     0.207038\n",
       "Number of Failed students   -0.513673\n",
       "Name: Graduation, dtype: float64"
      ]
     },
     "execution_count": 12,
     "metadata": {},
     "output_type": "execute_result"
    }
   ],
   "source": [
    "df_corr[\"Graduation\"].sort_values(ascending=False)"
   ]
  },
  {
   "cell_type": "code",
   "execution_count": 13,
   "id": "6b93efbe",
   "metadata": {
    "scrolled": true
   },
   "outputs": [
    {
     "data": {
      "text/plain": [
       "Total Number of Students     1.000000\n",
       "Number of Pass students      0.998622\n",
       "Number of Failed students    0.265374\n",
       "Graduation                   0.207038\n",
       "Name: Total Number of Students, dtype: float64"
      ]
     },
     "execution_count": 13,
     "metadata": {},
     "output_type": "execute_result"
    }
   ],
   "source": [
    "df_corr[\"Total Number of Students\"].sort_values(ascending=False)"
   ]
  },
  {
   "cell_type": "code",
   "execution_count": 14,
   "id": "f83b7220",
   "metadata": {
    "scrolled": true
   },
   "outputs": [
    {
     "data": {
      "text/plain": [
       "Number of Pass students      1.000000\n",
       "Total Number of Students     0.998622\n",
       "Graduation                   0.237703\n",
       "Number of Failed students    0.214411\n",
       "Name: Number of Pass students, dtype: float64"
      ]
     },
     "execution_count": 14,
     "metadata": {},
     "output_type": "execute_result"
    }
   ],
   "source": [
    "df_corr[\"Number of Pass students\"].sort_values(ascending=False)"
   ]
  },
  {
   "cell_type": "code",
   "execution_count": 15,
   "id": "2276d30e",
   "metadata": {
    "scrolled": true
   },
   "outputs": [
    {
     "data": {
      "text/plain": [
       "Number of Failed students    1.000000\n",
       "Total Number of Students     0.265374\n",
       "Number of Pass students      0.214411\n",
       "Graduation                  -0.513673\n",
       "Name: Number of Failed students, dtype: float64"
      ]
     },
     "execution_count": 15,
     "metadata": {},
     "output_type": "execute_result"
    }
   ],
   "source": [
    "df_corr[\"Number of Failed students\"].sort_values(ascending=False)"
   ]
  },
  {
   "cell_type": "code",
   "execution_count": 16,
   "id": "9bf693ca",
   "metadata": {},
   "outputs": [],
   "source": [
    "#dummies = pd.get_dummies(df['Zone'], drop_first = True)\n",
    "#df = pd.concat([df, dummies], axis = 1)\n",
    "#df = df.drop([\"Zone\"], axis=1)"
   ]
  },
  {
   "cell_type": "markdown",
   "id": "1d5c5b23",
   "metadata": {},
   "source": [
    "# Anova and Chi-Square"
   ]
  },
  {
   "cell_type": "code",
   "execution_count": 33,
   "id": "cc4a203e",
   "metadata": {},
   "outputs": [
    {
     "name": "stdout",
     "output_type": "stream",
     "text": [
      "Coeficiente de correlación de Pearson: 0.15355979275361556\n",
      "Valor p: 0.002044142655339035\n"
     ]
    }
   ],
   "source": [
    "correlation_coefficient, p_value = stats.pearsonr(df['Year'], df['Graduation'])\n",
    "print(\"Coeficiente de correlación de Pearson:\", correlation_coefficient)\n",
    "print(\"Valor p:\", p_value)"
   ]
  },
  {
   "cell_type": "code",
   "execution_count": 34,
   "id": "10927531",
   "metadata": {},
   "outputs": [
    {
     "name": "stdout",
     "output_type": "stream",
     "text": [
      "Estadístico F: 1.0913953156522453\n",
      "Valor p: 0.3645529779367496\n"
     ]
    }
   ],
   "source": [
    "result1 = stats.f_oneway(\n",
    "    df[df['Zone'] == 'Ajman']['Graduation'],\n",
    "    df[df['Zone'] == 'DUBAI']['Graduation'],\n",
    "    df[df['Zone'] == 'Fujairah']['Graduation'],\n",
    "    df[df['Zone'] == 'Sharjah']['Graduation'],\n",
    "    df[df['Zone'] == 'Ras AlKhaima']['Graduation'],\n",
    "    df[df['Zone'] == 'Umm AlQuwain']['Graduation']\n",
    ")\n",
    "print(\"Estadístico F:\", result1.statistic)\n",
    "print(\"Valor p:\", result1.pvalue)"
   ]
  },
  {
   "cell_type": "code",
   "execution_count": 37,
   "id": "98bd96ff",
   "metadata": {},
   "outputs": [
    {
     "name": "stdout",
     "output_type": "stream",
     "text": [
      "Estadístico F: 267.6254800156254\n",
      "Valor p: 5.844709192104647e-95\n"
     ]
    }
   ],
   "source": [
    "result2 = stats.f_oneway(\n",
    "    df[df['School_Type'] == 'Public Schools']['Graduation'],\n",
    "    df[df['School_Type'] == 'Continuing Education Centers']['Graduation'],\n",
    "    df[df['School_Type'] == 'Private Schools']['Graduation'],\n",
    "    df[df['School_Type'] == 'ACTVET']['Graduation']\n",
    ")\n",
    "print(\"Estadístico F:\", result2.statistic)\n",
    "print(\"Valor p:\", result2.pvalue)"
   ]
  },
  {
   "cell_type": "code",
   "execution_count": 40,
   "id": "b0e6a72f",
   "metadata": {},
   "outputs": [
    {
     "name": "stdout",
     "output_type": "stream",
     "text": [
      "Estadístico F: 0.33609149483431683\n",
      "Valor p: 0.5624212170810048\n"
     ]
    }
   ],
   "source": [
    "result3 = stats.f_oneway(\n",
    "    df[df['Gender'] == 'Male']['Graduation'],\n",
    "    df[df['Gender'] == 'Female']['Graduation']\n",
    ")\n",
    "print(\"Estadístico F:\", result3.statistic)\n",
    "print(\"Valor p:\", result3.pvalue)"
   ]
  },
  {
   "cell_type": "code",
   "execution_count": 42,
   "id": "5ff53db1",
   "metadata": {},
   "outputs": [
    {
     "name": "stdout",
     "output_type": "stream",
     "text": [
      "Estadístico F: 0.927266940969793\n",
      "Valor p: 0.33615733762072\n"
     ]
    }
   ],
   "source": [
    "result4 = stats.f_oneway(\n",
    "    df[df['LocalFlag'] == 'Local']['Graduation'],\n",
    "    df[df['LocalFlag'] == 'Expat']['Graduation']\n",
    ")\n",
    "print(\"Estadístico F:\", result4.statistic)\n",
    "print(\"Valor p:\", result4.pvalue)"
   ]
  },
  {
   "cell_type": "code",
   "execution_count": null,
   "id": "49b295a6",
   "metadata": {},
   "outputs": [],
   "source": []
  }
 ],
 "metadata": {
  "kernelspec": {
   "display_name": "Python 3 (ipykernel)",
   "language": "python",
   "name": "python3"
  },
  "language_info": {
   "codemirror_mode": {
    "name": "ipython",
    "version": 3
   },
   "file_extension": ".py",
   "mimetype": "text/x-python",
   "name": "python",
   "nbconvert_exporter": "python",
   "pygments_lexer": "ipython3",
   "version": "3.11.3"
  }
 },
 "nbformat": 4,
 "nbformat_minor": 5
}
