{
 "cells": [
  {
   "cell_type": "markdown",
   "id": "70709551",
   "metadata": {},
   "source": [
    "# Student Success Predictor: A Regression Approach"
   ]
  },
  {
   "cell_type": "code",
   "execution_count": 366,
   "id": "0702a75e",
   "metadata": {},
   "outputs": [],
   "source": [
    "# Data Source: https://archive.ics.uci.edu/dataset/320/student+performance\n",
    "# Author: Hariharan\n",
    "# Org: Omdena"
   ]
  },
  {
   "cell_type": "code",
   "execution_count": 367,
   "id": "f7c82ee6",
   "metadata": {},
   "outputs": [],
   "source": [
    "import pandas as pd\n",
    "import os\n",
    "import seaborn as sns"
   ]
  },
  {
   "cell_type": "code",
   "execution_count": 368,
   "id": "825e3ab2",
   "metadata": {},
   "outputs": [],
   "source": [
    "##General ouline\n",
    "# 1. Is the data balances (male/female and other features), else generate syntheic data\n",
    "# 2. Check how each parameter is correlated to final grade\n",
    "# 3. Model as a regression problem"
   ]
  },
  {
   "cell_type": "code",
   "execution_count": 369,
   "id": "badf831d",
   "metadata": {},
   "outputs": [
    {
     "name": "stdout",
     "output_type": "stream",
     "text": [
      "['.student.zip_old', 'student+performance.zip', 'student-mat.csv', 'student-merge.R', 'student-por.csv', 'student.txt', 'student.zip']\n"
     ]
    }
   ],
   "source": [
    "# List all data files in .zip folder\n",
    "print(os.listdir('./data'))"
   ]
  },
  {
   "cell_type": "markdown",
   "id": "475da3a1",
   "metadata": {},
   "source": [
    "# Generate a proper dataframe with raw data"
   ]
  },
  {
   "cell_type": "code",
   "execution_count": 370,
   "id": "2083fc76",
   "metadata": {},
   "outputs": [],
   "source": [
    "# Load CSV files\n",
    "df1 = pd.read_csv('./data/student-mat.csv')\n",
    "df2 = pd.read_csv('./data/student-por.csv')"
   ]
  },
  {
   "cell_type": "code",
   "execution_count": 371,
   "id": "3f546cf8",
   "metadata": {},
   "outputs": [
    {
     "data": {
      "text/html": [
       "<div>\n",
       "<style scoped>\n",
       "    .dataframe tbody tr th:only-of-type {\n",
       "        vertical-align: middle;\n",
       "    }\n",
       "\n",
       "    .dataframe tbody tr th {\n",
       "        vertical-align: top;\n",
       "    }\n",
       "\n",
       "    .dataframe thead th {\n",
       "        text-align: right;\n",
       "    }\n",
       "</style>\n",
       "<table border=\"1\" class=\"dataframe\">\n",
       "  <thead>\n",
       "    <tr style=\"text-align: right;\">\n",
       "      <th></th>\n",
       "      <th>school;sex;age;address;famsize;Pstatus;Medu;Fedu;Mjob;Fjob;reason;guardian;traveltime;studytime;failures;schoolsup;famsup;paid;activities;nursery;higher;internet;romantic;famrel;freetime;goout;Dalc;Walc;health;absences;G1;G2;G3</th>\n",
       "    </tr>\n",
       "  </thead>\n",
       "  <tbody>\n",
       "    <tr>\n",
       "      <th>0</th>\n",
       "      <td>GP;\"F\";18;\"U\";\"GT3\";\"A\";4;4;\"at_home\";\"teacher...</td>\n",
       "    </tr>\n",
       "    <tr>\n",
       "      <th>1</th>\n",
       "      <td>GP;\"F\";17;\"U\";\"GT3\";\"T\";1;1;\"at_home\";\"other\";...</td>\n",
       "    </tr>\n",
       "    <tr>\n",
       "      <th>2</th>\n",
       "      <td>GP;\"F\";15;\"U\";\"LE3\";\"T\";1;1;\"at_home\";\"other\";...</td>\n",
       "    </tr>\n",
       "    <tr>\n",
       "      <th>3</th>\n",
       "      <td>GP;\"F\";15;\"U\";\"GT3\";\"T\";4;2;\"health\";\"services...</td>\n",
       "    </tr>\n",
       "    <tr>\n",
       "      <th>4</th>\n",
       "      <td>GP;\"F\";16;\"U\";\"GT3\";\"T\";3;3;\"other\";\"other\";\"h...</td>\n",
       "    </tr>\n",
       "  </tbody>\n",
       "</table>\n",
       "</div>"
      ],
      "text/plain": [
       "  school;sex;age;address;famsize;Pstatus;Medu;Fedu;Mjob;Fjob;reason;guardian;traveltime;studytime;failures;schoolsup;famsup;paid;activities;nursery;higher;internet;romantic;famrel;freetime;goout;Dalc;Walc;health;absences;G1;G2;G3\n",
       "0  GP;\"F\";18;\"U\";\"GT3\";\"A\";4;4;\"at_home\";\"teacher...                                                                                                                                                                                 \n",
       "1  GP;\"F\";17;\"U\";\"GT3\";\"T\";1;1;\"at_home\";\"other\";...                                                                                                                                                                                 \n",
       "2  GP;\"F\";15;\"U\";\"LE3\";\"T\";1;1;\"at_home\";\"other\";...                                                                                                                                                                                 \n",
       "3  GP;\"F\";15;\"U\";\"GT3\";\"T\";4;2;\"health\";\"services...                                                                                                                                                                                 \n",
       "4  GP;\"F\";16;\"U\";\"GT3\";\"T\";3;3;\"other\";\"other\";\"h...                                                                                                                                                                                 "
      ]
     },
     "execution_count": 371,
     "metadata": {},
     "output_type": "execute_result"
    }
   ],
   "source": [
    "# Data check\n",
    "df1.head() \n",
    "#rows and cols not configured properly"
   ]
  },
  {
   "cell_type": "code",
   "execution_count": 372,
   "id": "c12f01f7",
   "metadata": {},
   "outputs": [
    {
     "name": "stdout",
     "output_type": "stream",
     "text": [
      "Number of rows in df1 395\n",
      "Feaures in df1 ['school', 'sex', 'age', 'address', 'famsize', 'Pstatus', 'Medu', 'Fedu', 'Mjob', 'Fjob', 'reason', 'guardian', 'traveltime', 'studytime', 'failures', 'schoolsup', 'famsup', 'paid', 'activities', 'nursery', 'higher', 'internet', 'romantic', 'famrel', 'freetime', 'goout', 'Dalc', 'Walc', 'health', 'absences', 'G1', 'G2', 'G3']\n",
      "Feaures dictionary for df1 0\n",
      "\n"
     ]
    }
   ],
   "source": [
    "# Get number of rows and list of features in dataframe\n",
    "ROWS_math = df1.shape[0]\n",
    "FEATURES_math = df1.columns.str.split(';')[0]\n",
    "FEATURES_dict_math = dict();\n",
    "for (num, feature) in enumerate(FEATURES_math):\n",
    "    FEATURES_dict_math[feature] = num\n",
    "\n",
    "\n",
    "# Print out all values\n",
    "print('Number of rows in df1', ROWS_math)\n",
    "print('Feaures in df1', FEATURES_math)\n",
    "print('Feaures dictionary for df1', FEATURES_dict_math['school'])\n",
    "print()"
   ]
  },
  {
   "cell_type": "code",
   "execution_count": 373,
   "id": "c157a381",
   "metadata": {},
   "outputs": [],
   "source": [
    "# Create a new dataframe with columns confifured correctly \n",
    "df_math = pd.DataFrame()\n",
    "data = dict()\n",
    "\n",
    "for feature in FEATURES_math:\n",
    "    data = list()\n",
    "    for row in range(ROWS_math):\n",
    "        data.append(df1.iloc[row].str.split(';')[0][FEATURES_dict_math[str(feature)]])\n",
    "    df_math[str(feature)] = data"
   ]
  },
  {
   "cell_type": "code",
   "execution_count": 374,
   "id": "33db722a",
   "metadata": {},
   "outputs": [
    {
     "data": {
      "text/html": [
       "<div>\n",
       "<style scoped>\n",
       "    .dataframe tbody tr th:only-of-type {\n",
       "        vertical-align: middle;\n",
       "    }\n",
       "\n",
       "    .dataframe tbody tr th {\n",
       "        vertical-align: top;\n",
       "    }\n",
       "\n",
       "    .dataframe thead th {\n",
       "        text-align: right;\n",
       "    }\n",
       "</style>\n",
       "<table border=\"1\" class=\"dataframe\">\n",
       "  <thead>\n",
       "    <tr style=\"text-align: right;\">\n",
       "      <th></th>\n",
       "      <th>school</th>\n",
       "      <th>sex</th>\n",
       "      <th>age</th>\n",
       "      <th>address</th>\n",
       "      <th>famsize</th>\n",
       "      <th>Pstatus</th>\n",
       "      <th>Medu</th>\n",
       "      <th>Fedu</th>\n",
       "      <th>Mjob</th>\n",
       "      <th>Fjob</th>\n",
       "      <th>...</th>\n",
       "      <th>famrel</th>\n",
       "      <th>freetime</th>\n",
       "      <th>goout</th>\n",
       "      <th>Dalc</th>\n",
       "      <th>Walc</th>\n",
       "      <th>health</th>\n",
       "      <th>absences</th>\n",
       "      <th>G1</th>\n",
       "      <th>G2</th>\n",
       "      <th>G3</th>\n",
       "    </tr>\n",
       "  </thead>\n",
       "  <tbody>\n",
       "    <tr>\n",
       "      <th>0</th>\n",
       "      <td>GP</td>\n",
       "      <td>\"F\"</td>\n",
       "      <td>18</td>\n",
       "      <td>\"U\"</td>\n",
       "      <td>\"GT3\"</td>\n",
       "      <td>\"A\"</td>\n",
       "      <td>4</td>\n",
       "      <td>4</td>\n",
       "      <td>\"at_home\"</td>\n",
       "      <td>\"teacher\"</td>\n",
       "      <td>...</td>\n",
       "      <td>4</td>\n",
       "      <td>3</td>\n",
       "      <td>4</td>\n",
       "      <td>1</td>\n",
       "      <td>1</td>\n",
       "      <td>3</td>\n",
       "      <td>6</td>\n",
       "      <td>\"5\"</td>\n",
       "      <td>\"6\"</td>\n",
       "      <td>6</td>\n",
       "    </tr>\n",
       "    <tr>\n",
       "      <th>1</th>\n",
       "      <td>GP</td>\n",
       "      <td>\"F\"</td>\n",
       "      <td>17</td>\n",
       "      <td>\"U\"</td>\n",
       "      <td>\"GT3\"</td>\n",
       "      <td>\"T\"</td>\n",
       "      <td>1</td>\n",
       "      <td>1</td>\n",
       "      <td>\"at_home\"</td>\n",
       "      <td>\"other\"</td>\n",
       "      <td>...</td>\n",
       "      <td>5</td>\n",
       "      <td>3</td>\n",
       "      <td>3</td>\n",
       "      <td>1</td>\n",
       "      <td>1</td>\n",
       "      <td>3</td>\n",
       "      <td>4</td>\n",
       "      <td>\"5\"</td>\n",
       "      <td>\"5\"</td>\n",
       "      <td>6</td>\n",
       "    </tr>\n",
       "    <tr>\n",
       "      <th>2</th>\n",
       "      <td>GP</td>\n",
       "      <td>\"F\"</td>\n",
       "      <td>15</td>\n",
       "      <td>\"U\"</td>\n",
       "      <td>\"LE3\"</td>\n",
       "      <td>\"T\"</td>\n",
       "      <td>1</td>\n",
       "      <td>1</td>\n",
       "      <td>\"at_home\"</td>\n",
       "      <td>\"other\"</td>\n",
       "      <td>...</td>\n",
       "      <td>4</td>\n",
       "      <td>3</td>\n",
       "      <td>2</td>\n",
       "      <td>2</td>\n",
       "      <td>3</td>\n",
       "      <td>3</td>\n",
       "      <td>10</td>\n",
       "      <td>\"7\"</td>\n",
       "      <td>\"8\"</td>\n",
       "      <td>10</td>\n",
       "    </tr>\n",
       "    <tr>\n",
       "      <th>3</th>\n",
       "      <td>GP</td>\n",
       "      <td>\"F\"</td>\n",
       "      <td>15</td>\n",
       "      <td>\"U\"</td>\n",
       "      <td>\"GT3\"</td>\n",
       "      <td>\"T\"</td>\n",
       "      <td>4</td>\n",
       "      <td>2</td>\n",
       "      <td>\"health\"</td>\n",
       "      <td>\"services\"</td>\n",
       "      <td>...</td>\n",
       "      <td>3</td>\n",
       "      <td>2</td>\n",
       "      <td>2</td>\n",
       "      <td>1</td>\n",
       "      <td>1</td>\n",
       "      <td>5</td>\n",
       "      <td>2</td>\n",
       "      <td>\"15\"</td>\n",
       "      <td>\"14\"</td>\n",
       "      <td>15</td>\n",
       "    </tr>\n",
       "    <tr>\n",
       "      <th>4</th>\n",
       "      <td>GP</td>\n",
       "      <td>\"F\"</td>\n",
       "      <td>16</td>\n",
       "      <td>\"U\"</td>\n",
       "      <td>\"GT3\"</td>\n",
       "      <td>\"T\"</td>\n",
       "      <td>3</td>\n",
       "      <td>3</td>\n",
       "      <td>\"other\"</td>\n",
       "      <td>\"other\"</td>\n",
       "      <td>...</td>\n",
       "      <td>4</td>\n",
       "      <td>3</td>\n",
       "      <td>2</td>\n",
       "      <td>1</td>\n",
       "      <td>2</td>\n",
       "      <td>5</td>\n",
       "      <td>4</td>\n",
       "      <td>\"6\"</td>\n",
       "      <td>\"10\"</td>\n",
       "      <td>10</td>\n",
       "    </tr>\n",
       "  </tbody>\n",
       "</table>\n",
       "<p>5 rows × 33 columns</p>\n",
       "</div>"
      ],
      "text/plain": [
       "  school  sex age address famsize Pstatus Medu Fedu       Mjob        Fjob  \\\n",
       "0     GP  \"F\"  18     \"U\"   \"GT3\"     \"A\"    4    4  \"at_home\"   \"teacher\"   \n",
       "1     GP  \"F\"  17     \"U\"   \"GT3\"     \"T\"    1    1  \"at_home\"     \"other\"   \n",
       "2     GP  \"F\"  15     \"U\"   \"LE3\"     \"T\"    1    1  \"at_home\"     \"other\"   \n",
       "3     GP  \"F\"  15     \"U\"   \"GT3\"     \"T\"    4    2   \"health\"  \"services\"   \n",
       "4     GP  \"F\"  16     \"U\"   \"GT3\"     \"T\"    3    3    \"other\"     \"other\"   \n",
       "\n",
       "   ... famrel freetime goout Dalc Walc health absences    G1    G2  G3  \n",
       "0  ...      4        3     4    1    1      3        6   \"5\"   \"6\"   6  \n",
       "1  ...      5        3     3    1    1      3        4   \"5\"   \"5\"   6  \n",
       "2  ...      4        3     2    2    3      3       10   \"7\"   \"8\"  10  \n",
       "3  ...      3        2     2    1    1      5        2  \"15\"  \"14\"  15  \n",
       "4  ...      4        3     2    1    2      5        4   \"6\"  \"10\"  10  \n",
       "\n",
       "[5 rows x 33 columns]"
      ]
     },
     "execution_count": 374,
     "metadata": {},
     "output_type": "execute_result"
    }
   ],
   "source": [
    "df_math.head()"
   ]
  },
  {
   "cell_type": "markdown",
   "id": "5b092b6e",
   "metadata": {},
   "source": [
    "# Data Preprocessing"
   ]
  },
  {
   "cell_type": "code",
   "execution_count": 375,
   "id": "5cbdf05f",
   "metadata": {},
   "outputs": [],
   "source": [
    "# Remove double quotes from G1 and G2 columns\n",
    "for i in range(len(df_math['G1'])):\n",
    "    df_math['G1'][i] = str(pd.to_numeric(df_math['G1'][i].replace('\"', '')))\n",
    "    df_math['G2'][i] = str(pd.to_numeric(df_math['G2'][i].replace('\"', '')))"
   ]
  },
  {
   "cell_type": "code",
   "execution_count": 376,
   "id": "0269d9a3",
   "metadata": {},
   "outputs": [],
   "source": [
    "df_math_before_encoding = df_math.copy()"
   ]
  },
  {
   "cell_type": "code",
   "execution_count": 377,
   "id": "a4c00dda",
   "metadata": {},
   "outputs": [],
   "source": [
    "df_encoded = pd.DataFrame()"
   ]
  },
  {
   "cell_type": "code",
   "execution_count": 378,
   "id": "f4d0f945",
   "metadata": {},
   "outputs": [
    {
     "name": "stdout",
     "output_type": "stream",
     "text": [
      "school_encoded\n",
      "    school  school_encoded\n",
      "0       GP               0\n",
      "349     MS               1\n",
      "\n",
      "sex_encoded\n",
      "   sex  sex_encoded\n",
      "0  \"F\"            0\n",
      "5  \"M\"            1\n",
      "\n",
      "address_encoded\n",
      "   address  address_encoded\n",
      "0      \"U\"                1\n",
      "24     \"R\"                0\n",
      "\n",
      "famsize_encoded\n",
      "  famsize  famsize_encoded\n",
      "0   \"GT3\"                0\n",
      "2   \"LE3\"                1\n",
      "\n",
      "Pstatus_encoded\n",
      "  Pstatus  Pstatus_encoded\n",
      "0     \"A\"                0\n",
      "1     \"T\"                1\n",
      "\n",
      "Mjob_encoded\n",
      "          Mjob  Mjob_encoded\n",
      "0    \"at_home\"             0\n",
      "3     \"health\"             1\n",
      "4      \"other\"             2\n",
      "5   \"services\"             3\n",
      "10   \"teacher\"             4\n",
      "\n",
      "Fjob_encoded\n",
      "          Fjob  Fjob_encoded\n",
      "0    \"teacher\"             4\n",
      "1      \"other\"             2\n",
      "3   \"services\"             3\n",
      "10    \"health\"             1\n",
      "32   \"at_home\"             0\n",
      "\n",
      "reason_encoded\n",
      "         reason  reason_encoded\n",
      "0      \"course\"               0\n",
      "2       \"other\"               2\n",
      "3        \"home\"               1\n",
      "5  \"reputation\"               3\n",
      "\n",
      "guardian_encoded\n",
      "    guardian  guardian_encoded\n",
      "0   \"mother\"                 1\n",
      "1   \"father\"                 0\n",
      "14   \"other\"                 2\n",
      "\n",
      "schoolsup_encoded\n",
      "  schoolsup  schoolsup_encoded\n",
      "0     \"yes\"                  1\n",
      "1      \"no\"                  0\n",
      "\n",
      "famsup_encoded\n",
      "  famsup  famsup_encoded\n",
      "0   \"no\"               0\n",
      "1  \"yes\"               1\n",
      "\n",
      "paid_encoded\n",
      "    paid  paid_encoded\n",
      "0   \"no\"             0\n",
      "2  \"yes\"             1\n",
      "\n",
      "activities_encoded\n",
      "  activities  activities_encoded\n",
      "0       \"no\"                   0\n",
      "3      \"yes\"                   1\n",
      "\n",
      "nursery_encoded\n",
      "  nursery  nursery_encoded\n",
      "0   \"yes\"                1\n",
      "1    \"no\"                0\n",
      "\n",
      "higher_encoded\n",
      "   higher  higher_encoded\n",
      "0   \"yes\"               1\n",
      "78   \"no\"               0\n",
      "\n",
      "internet_encoded\n",
      "  internet  internet_encoded\n",
      "0     \"no\"                 0\n",
      "1    \"yes\"                 1\n",
      "\n",
      "romantic_encoded\n",
      "  romantic  romantic_encoded\n",
      "0     \"no\"                 0\n",
      "3    \"yes\"                 1\n",
      "\n"
     ]
    }
   ],
   "source": [
    "# Replace number objects with numeric datatype (integer) and label encode string objecs \n",
    "# Print logic for encoding string columns\n",
    "\n",
    "from sklearn.preprocessing import OneHotEncoder, LabelEncoder\n",
    "le = LabelEncoder()\n",
    "categorical_features = list()\n",
    "categorical_feature_maps = list()\n",
    "\n",
    "for feature in FEATURES_math:\n",
    "    df_encoded[str(feature)] = df_math[str(feature)].values\n",
    "    \n",
    "    if(df_math[str(feature)][0].isdigit()):\n",
    "        df_math[str(feature)] = pd.to_numeric(df_math[str(feature)])\n",
    "    else:\n",
    "#       Complete encoding of categorical feaures\n",
    "        df_math[str(feature)] = df_math[str(feature)].astype(str)\n",
    "        le.fit(df_math[str(feature)])\n",
    "        df_math[str(feature)] = le.transform(df_math[str(feature)])\n",
    "        \n",
    "#       Create seperate list for categorical feaures\n",
    "        categorical_features.append(feature)\n",
    "        \n",
    "#       Display values and categories for categorical feaures\n",
    "        df_encoded[str(feature) + '_encoded'] = df_math[str(feature)].values\n",
    "        print(str(feature) + '_encoded')        \n",
    "        categorical_feature_maps.append(df_encoded.drop_duplicates(str(feature))[[str(feature), str(feature) + '_encoded']])\n",
    "        print(df_encoded.drop_duplicates(str(feature))[[str(feature), str(feature) + '_encoded']])\n",
    "        print()"
   ]
  },
  {
   "cell_type": "code",
   "execution_count": 379,
   "id": "fa2735f9",
   "metadata": {},
   "outputs": [
    {
     "data": {
      "text/plain": [
       "school        int32\n",
       "sex           int32\n",
       "age           int64\n",
       "address       int32\n",
       "famsize       int32\n",
       "Pstatus       int32\n",
       "Medu          int64\n",
       "Fedu          int64\n",
       "Mjob          int32\n",
       "Fjob          int32\n",
       "reason        int32\n",
       "guardian      int32\n",
       "traveltime    int64\n",
       "studytime     int64\n",
       "failures      int64\n",
       "schoolsup     int32\n",
       "famsup        int32\n",
       "paid          int32\n",
       "activities    int32\n",
       "nursery       int32\n",
       "higher        int32\n",
       "internet      int32\n",
       "romantic      int32\n",
       "famrel        int64\n",
       "freetime      int64\n",
       "goout         int64\n",
       "Dalc          int64\n",
       "Walc          int64\n",
       "health        int64\n",
       "absences      int64\n",
       "G1            int64\n",
       "G2            int64\n",
       "G3            int64\n",
       "dtype: object"
      ]
     },
     "execution_count": 379,
     "metadata": {},
     "output_type": "execute_result"
    }
   ],
   "source": [
    "df_math.dtypes"
   ]
  },
  {
   "cell_type": "code",
   "execution_count": 380,
   "id": "e0c4e7f8",
   "metadata": {},
   "outputs": [
    {
     "data": {
      "text/html": [
       "<div>\n",
       "<style scoped>\n",
       "    .dataframe tbody tr th:only-of-type {\n",
       "        vertical-align: middle;\n",
       "    }\n",
       "\n",
       "    .dataframe tbody tr th {\n",
       "        vertical-align: top;\n",
       "    }\n",
       "\n",
       "    .dataframe thead th {\n",
       "        text-align: right;\n",
       "    }\n",
       "</style>\n",
       "<table border=\"1\" class=\"dataframe\">\n",
       "  <thead>\n",
       "    <tr style=\"text-align: right;\">\n",
       "      <th></th>\n",
       "      <th>school</th>\n",
       "      <th>sex</th>\n",
       "      <th>age</th>\n",
       "      <th>address</th>\n",
       "      <th>famsize</th>\n",
       "      <th>Pstatus</th>\n",
       "      <th>Medu</th>\n",
       "      <th>Fedu</th>\n",
       "      <th>Mjob</th>\n",
       "      <th>Fjob</th>\n",
       "      <th>...</th>\n",
       "      <th>famrel</th>\n",
       "      <th>freetime</th>\n",
       "      <th>goout</th>\n",
       "      <th>Dalc</th>\n",
       "      <th>Walc</th>\n",
       "      <th>health</th>\n",
       "      <th>absences</th>\n",
       "      <th>G1</th>\n",
       "      <th>G2</th>\n",
       "      <th>G3</th>\n",
       "    </tr>\n",
       "  </thead>\n",
       "  <tbody>\n",
       "    <tr>\n",
       "      <th>0</th>\n",
       "      <td>0</td>\n",
       "      <td>0</td>\n",
       "      <td>18</td>\n",
       "      <td>1</td>\n",
       "      <td>0</td>\n",
       "      <td>0</td>\n",
       "      <td>4</td>\n",
       "      <td>4</td>\n",
       "      <td>0</td>\n",
       "      <td>4</td>\n",
       "      <td>...</td>\n",
       "      <td>4</td>\n",
       "      <td>3</td>\n",
       "      <td>4</td>\n",
       "      <td>1</td>\n",
       "      <td>1</td>\n",
       "      <td>3</td>\n",
       "      <td>6</td>\n",
       "      <td>5</td>\n",
       "      <td>6</td>\n",
       "      <td>6</td>\n",
       "    </tr>\n",
       "    <tr>\n",
       "      <th>1</th>\n",
       "      <td>0</td>\n",
       "      <td>0</td>\n",
       "      <td>17</td>\n",
       "      <td>1</td>\n",
       "      <td>0</td>\n",
       "      <td>1</td>\n",
       "      <td>1</td>\n",
       "      <td>1</td>\n",
       "      <td>0</td>\n",
       "      <td>2</td>\n",
       "      <td>...</td>\n",
       "      <td>5</td>\n",
       "      <td>3</td>\n",
       "      <td>3</td>\n",
       "      <td>1</td>\n",
       "      <td>1</td>\n",
       "      <td>3</td>\n",
       "      <td>4</td>\n",
       "      <td>5</td>\n",
       "      <td>5</td>\n",
       "      <td>6</td>\n",
       "    </tr>\n",
       "    <tr>\n",
       "      <th>2</th>\n",
       "      <td>0</td>\n",
       "      <td>0</td>\n",
       "      <td>15</td>\n",
       "      <td>1</td>\n",
       "      <td>1</td>\n",
       "      <td>1</td>\n",
       "      <td>1</td>\n",
       "      <td>1</td>\n",
       "      <td>0</td>\n",
       "      <td>2</td>\n",
       "      <td>...</td>\n",
       "      <td>4</td>\n",
       "      <td>3</td>\n",
       "      <td>2</td>\n",
       "      <td>2</td>\n",
       "      <td>3</td>\n",
       "      <td>3</td>\n",
       "      <td>10</td>\n",
       "      <td>7</td>\n",
       "      <td>8</td>\n",
       "      <td>10</td>\n",
       "    </tr>\n",
       "    <tr>\n",
       "      <th>3</th>\n",
       "      <td>0</td>\n",
       "      <td>0</td>\n",
       "      <td>15</td>\n",
       "      <td>1</td>\n",
       "      <td>0</td>\n",
       "      <td>1</td>\n",
       "      <td>4</td>\n",
       "      <td>2</td>\n",
       "      <td>1</td>\n",
       "      <td>3</td>\n",
       "      <td>...</td>\n",
       "      <td>3</td>\n",
       "      <td>2</td>\n",
       "      <td>2</td>\n",
       "      <td>1</td>\n",
       "      <td>1</td>\n",
       "      <td>5</td>\n",
       "      <td>2</td>\n",
       "      <td>15</td>\n",
       "      <td>14</td>\n",
       "      <td>15</td>\n",
       "    </tr>\n",
       "    <tr>\n",
       "      <th>4</th>\n",
       "      <td>0</td>\n",
       "      <td>0</td>\n",
       "      <td>16</td>\n",
       "      <td>1</td>\n",
       "      <td>0</td>\n",
       "      <td>1</td>\n",
       "      <td>3</td>\n",
       "      <td>3</td>\n",
       "      <td>2</td>\n",
       "      <td>2</td>\n",
       "      <td>...</td>\n",
       "      <td>4</td>\n",
       "      <td>3</td>\n",
       "      <td>2</td>\n",
       "      <td>1</td>\n",
       "      <td>2</td>\n",
       "      <td>5</td>\n",
       "      <td>4</td>\n",
       "      <td>6</td>\n",
       "      <td>10</td>\n",
       "      <td>10</td>\n",
       "    </tr>\n",
       "  </tbody>\n",
       "</table>\n",
       "<p>5 rows × 33 columns</p>\n",
       "</div>"
      ],
      "text/plain": [
       "   school  sex  age  address  famsize  Pstatus  Medu  Fedu  Mjob  Fjob  ...  \\\n",
       "0       0    0   18        1        0        0     4     4     0     4  ...   \n",
       "1       0    0   17        1        0        1     1     1     0     2  ...   \n",
       "2       0    0   15        1        1        1     1     1     0     2  ...   \n",
       "3       0    0   15        1        0        1     4     2     1     3  ...   \n",
       "4       0    0   16        1        0        1     3     3     2     2  ...   \n",
       "\n",
       "   famrel  freetime  goout  Dalc  Walc  health  absences  G1  G2  G3  \n",
       "0       4         3      4     1     1       3         6   5   6   6  \n",
       "1       5         3      3     1     1       3         4   5   5   6  \n",
       "2       4         3      2     2     3       3        10   7   8  10  \n",
       "3       3         2      2     1     1       5         2  15  14  15  \n",
       "4       4         3      2     1     2       5         4   6  10  10  \n",
       "\n",
       "[5 rows x 33 columns]"
      ]
     },
     "execution_count": 380,
     "metadata": {},
     "output_type": "execute_result"
    }
   ],
   "source": [
    "df_math.head()"
   ]
  },
  {
   "cell_type": "code",
   "execution_count": 381,
   "id": "5e19384f",
   "metadata": {},
   "outputs": [
    {
     "data": {
      "text/html": [
       "<div>\n",
       "<style scoped>\n",
       "    .dataframe tbody tr th:only-of-type {\n",
       "        vertical-align: middle;\n",
       "    }\n",
       "\n",
       "    .dataframe tbody tr th {\n",
       "        vertical-align: top;\n",
       "    }\n",
       "\n",
       "    .dataframe thead th {\n",
       "        text-align: right;\n",
       "    }\n",
       "</style>\n",
       "<table border=\"1\" class=\"dataframe\">\n",
       "  <thead>\n",
       "    <tr style=\"text-align: right;\">\n",
       "      <th></th>\n",
       "      <th>school</th>\n",
       "      <th>sex</th>\n",
       "      <th>age</th>\n",
       "      <th>address</th>\n",
       "      <th>famsize</th>\n",
       "      <th>Pstatus</th>\n",
       "      <th>Medu</th>\n",
       "      <th>Fedu</th>\n",
       "      <th>Mjob</th>\n",
       "      <th>Fjob</th>\n",
       "      <th>...</th>\n",
       "      <th>famrel</th>\n",
       "      <th>freetime</th>\n",
       "      <th>goout</th>\n",
       "      <th>Dalc</th>\n",
       "      <th>Walc</th>\n",
       "      <th>health</th>\n",
       "      <th>absences</th>\n",
       "      <th>G1</th>\n",
       "      <th>G2</th>\n",
       "      <th>G3</th>\n",
       "    </tr>\n",
       "  </thead>\n",
       "  <tbody>\n",
       "    <tr>\n",
       "      <th>count</th>\n",
       "      <td>395.000000</td>\n",
       "      <td>395.000000</td>\n",
       "      <td>395.000000</td>\n",
       "      <td>395.000000</td>\n",
       "      <td>395.000000</td>\n",
       "      <td>395.000000</td>\n",
       "      <td>395.000000</td>\n",
       "      <td>395.000000</td>\n",
       "      <td>395.000000</td>\n",
       "      <td>395.000000</td>\n",
       "      <td>...</td>\n",
       "      <td>395.000000</td>\n",
       "      <td>395.000000</td>\n",
       "      <td>395.000000</td>\n",
       "      <td>395.000000</td>\n",
       "      <td>395.000000</td>\n",
       "      <td>395.000000</td>\n",
       "      <td>395.000000</td>\n",
       "      <td>395.000000</td>\n",
       "      <td>395.000000</td>\n",
       "      <td>395.000000</td>\n",
       "    </tr>\n",
       "    <tr>\n",
       "      <th>mean</th>\n",
       "      <td>0.116456</td>\n",
       "      <td>0.473418</td>\n",
       "      <td>16.696203</td>\n",
       "      <td>0.777215</td>\n",
       "      <td>0.288608</td>\n",
       "      <td>0.896203</td>\n",
       "      <td>2.749367</td>\n",
       "      <td>2.521519</td>\n",
       "      <td>2.169620</td>\n",
       "      <td>2.281013</td>\n",
       "      <td>...</td>\n",
       "      <td>3.944304</td>\n",
       "      <td>3.235443</td>\n",
       "      <td>3.108861</td>\n",
       "      <td>1.481013</td>\n",
       "      <td>2.291139</td>\n",
       "      <td>3.554430</td>\n",
       "      <td>5.708861</td>\n",
       "      <td>10.908861</td>\n",
       "      <td>10.713924</td>\n",
       "      <td>10.415190</td>\n",
       "    </tr>\n",
       "    <tr>\n",
       "      <th>std</th>\n",
       "      <td>0.321177</td>\n",
       "      <td>0.499926</td>\n",
       "      <td>1.276043</td>\n",
       "      <td>0.416643</td>\n",
       "      <td>0.453690</td>\n",
       "      <td>0.305384</td>\n",
       "      <td>1.094735</td>\n",
       "      <td>1.088201</td>\n",
       "      <td>1.227473</td>\n",
       "      <td>0.863542</td>\n",
       "      <td>...</td>\n",
       "      <td>0.896659</td>\n",
       "      <td>0.998862</td>\n",
       "      <td>1.113278</td>\n",
       "      <td>0.890741</td>\n",
       "      <td>1.287897</td>\n",
       "      <td>1.390303</td>\n",
       "      <td>8.003096</td>\n",
       "      <td>3.319195</td>\n",
       "      <td>3.761505</td>\n",
       "      <td>4.581443</td>\n",
       "    </tr>\n",
       "    <tr>\n",
       "      <th>min</th>\n",
       "      <td>0.000000</td>\n",
       "      <td>0.000000</td>\n",
       "      <td>15.000000</td>\n",
       "      <td>0.000000</td>\n",
       "      <td>0.000000</td>\n",
       "      <td>0.000000</td>\n",
       "      <td>0.000000</td>\n",
       "      <td>0.000000</td>\n",
       "      <td>0.000000</td>\n",
       "      <td>0.000000</td>\n",
       "      <td>...</td>\n",
       "      <td>1.000000</td>\n",
       "      <td>1.000000</td>\n",
       "      <td>1.000000</td>\n",
       "      <td>1.000000</td>\n",
       "      <td>1.000000</td>\n",
       "      <td>1.000000</td>\n",
       "      <td>0.000000</td>\n",
       "      <td>3.000000</td>\n",
       "      <td>0.000000</td>\n",
       "      <td>0.000000</td>\n",
       "    </tr>\n",
       "    <tr>\n",
       "      <th>25%</th>\n",
       "      <td>0.000000</td>\n",
       "      <td>0.000000</td>\n",
       "      <td>16.000000</td>\n",
       "      <td>1.000000</td>\n",
       "      <td>0.000000</td>\n",
       "      <td>1.000000</td>\n",
       "      <td>2.000000</td>\n",
       "      <td>2.000000</td>\n",
       "      <td>2.000000</td>\n",
       "      <td>2.000000</td>\n",
       "      <td>...</td>\n",
       "      <td>4.000000</td>\n",
       "      <td>3.000000</td>\n",
       "      <td>2.000000</td>\n",
       "      <td>1.000000</td>\n",
       "      <td>1.000000</td>\n",
       "      <td>3.000000</td>\n",
       "      <td>0.000000</td>\n",
       "      <td>8.000000</td>\n",
       "      <td>9.000000</td>\n",
       "      <td>8.000000</td>\n",
       "    </tr>\n",
       "    <tr>\n",
       "      <th>50%</th>\n",
       "      <td>0.000000</td>\n",
       "      <td>0.000000</td>\n",
       "      <td>17.000000</td>\n",
       "      <td>1.000000</td>\n",
       "      <td>0.000000</td>\n",
       "      <td>1.000000</td>\n",
       "      <td>3.000000</td>\n",
       "      <td>2.000000</td>\n",
       "      <td>2.000000</td>\n",
       "      <td>2.000000</td>\n",
       "      <td>...</td>\n",
       "      <td>4.000000</td>\n",
       "      <td>3.000000</td>\n",
       "      <td>3.000000</td>\n",
       "      <td>1.000000</td>\n",
       "      <td>2.000000</td>\n",
       "      <td>4.000000</td>\n",
       "      <td>4.000000</td>\n",
       "      <td>11.000000</td>\n",
       "      <td>11.000000</td>\n",
       "      <td>11.000000</td>\n",
       "    </tr>\n",
       "    <tr>\n",
       "      <th>75%</th>\n",
       "      <td>0.000000</td>\n",
       "      <td>1.000000</td>\n",
       "      <td>18.000000</td>\n",
       "      <td>1.000000</td>\n",
       "      <td>1.000000</td>\n",
       "      <td>1.000000</td>\n",
       "      <td>4.000000</td>\n",
       "      <td>3.000000</td>\n",
       "      <td>3.000000</td>\n",
       "      <td>3.000000</td>\n",
       "      <td>...</td>\n",
       "      <td>5.000000</td>\n",
       "      <td>4.000000</td>\n",
       "      <td>4.000000</td>\n",
       "      <td>2.000000</td>\n",
       "      <td>3.000000</td>\n",
       "      <td>5.000000</td>\n",
       "      <td>8.000000</td>\n",
       "      <td>13.000000</td>\n",
       "      <td>13.000000</td>\n",
       "      <td>14.000000</td>\n",
       "    </tr>\n",
       "    <tr>\n",
       "      <th>max</th>\n",
       "      <td>1.000000</td>\n",
       "      <td>1.000000</td>\n",
       "      <td>22.000000</td>\n",
       "      <td>1.000000</td>\n",
       "      <td>1.000000</td>\n",
       "      <td>1.000000</td>\n",
       "      <td>4.000000</td>\n",
       "      <td>4.000000</td>\n",
       "      <td>4.000000</td>\n",
       "      <td>4.000000</td>\n",
       "      <td>...</td>\n",
       "      <td>5.000000</td>\n",
       "      <td>5.000000</td>\n",
       "      <td>5.000000</td>\n",
       "      <td>5.000000</td>\n",
       "      <td>5.000000</td>\n",
       "      <td>5.000000</td>\n",
       "      <td>75.000000</td>\n",
       "      <td>19.000000</td>\n",
       "      <td>19.000000</td>\n",
       "      <td>20.000000</td>\n",
       "    </tr>\n",
       "  </tbody>\n",
       "</table>\n",
       "<p>8 rows × 33 columns</p>\n",
       "</div>"
      ],
      "text/plain": [
       "           school         sex         age     address     famsize     Pstatus  \\\n",
       "count  395.000000  395.000000  395.000000  395.000000  395.000000  395.000000   \n",
       "mean     0.116456    0.473418   16.696203    0.777215    0.288608    0.896203   \n",
       "std      0.321177    0.499926    1.276043    0.416643    0.453690    0.305384   \n",
       "min      0.000000    0.000000   15.000000    0.000000    0.000000    0.000000   \n",
       "25%      0.000000    0.000000   16.000000    1.000000    0.000000    1.000000   \n",
       "50%      0.000000    0.000000   17.000000    1.000000    0.000000    1.000000   \n",
       "75%      0.000000    1.000000   18.000000    1.000000    1.000000    1.000000   \n",
       "max      1.000000    1.000000   22.000000    1.000000    1.000000    1.000000   \n",
       "\n",
       "             Medu        Fedu        Mjob        Fjob  ...      famrel  \\\n",
       "count  395.000000  395.000000  395.000000  395.000000  ...  395.000000   \n",
       "mean     2.749367    2.521519    2.169620    2.281013  ...    3.944304   \n",
       "std      1.094735    1.088201    1.227473    0.863542  ...    0.896659   \n",
       "min      0.000000    0.000000    0.000000    0.000000  ...    1.000000   \n",
       "25%      2.000000    2.000000    2.000000    2.000000  ...    4.000000   \n",
       "50%      3.000000    2.000000    2.000000    2.000000  ...    4.000000   \n",
       "75%      4.000000    3.000000    3.000000    3.000000  ...    5.000000   \n",
       "max      4.000000    4.000000    4.000000    4.000000  ...    5.000000   \n",
       "\n",
       "         freetime       goout        Dalc        Walc      health    absences  \\\n",
       "count  395.000000  395.000000  395.000000  395.000000  395.000000  395.000000   \n",
       "mean     3.235443    3.108861    1.481013    2.291139    3.554430    5.708861   \n",
       "std      0.998862    1.113278    0.890741    1.287897    1.390303    8.003096   \n",
       "min      1.000000    1.000000    1.000000    1.000000    1.000000    0.000000   \n",
       "25%      3.000000    2.000000    1.000000    1.000000    3.000000    0.000000   \n",
       "50%      3.000000    3.000000    1.000000    2.000000    4.000000    4.000000   \n",
       "75%      4.000000    4.000000    2.000000    3.000000    5.000000    8.000000   \n",
       "max      5.000000    5.000000    5.000000    5.000000    5.000000   75.000000   \n",
       "\n",
       "               G1          G2          G3  \n",
       "count  395.000000  395.000000  395.000000  \n",
       "mean    10.908861   10.713924   10.415190  \n",
       "std      3.319195    3.761505    4.581443  \n",
       "min      3.000000    0.000000    0.000000  \n",
       "25%      8.000000    9.000000    8.000000  \n",
       "50%     11.000000   11.000000   11.000000  \n",
       "75%     13.000000   13.000000   14.000000  \n",
       "max     19.000000   19.000000   20.000000  \n",
       "\n",
       "[8 rows x 33 columns]"
      ]
     },
     "execution_count": 381,
     "metadata": {},
     "output_type": "execute_result"
    }
   ],
   "source": [
    "df_math.describe()"
   ]
  },
  {
   "cell_type": "markdown",
   "id": "c460ef58",
   "metadata": {},
   "source": [
    "# EDA"
   ]
  },
  {
   "cell_type": "code",
   "execution_count": 382,
   "id": "cb48fa7e",
   "metadata": {},
   "outputs": [
    {
     "name": "stdout",
     "output_type": "stream",
     "text": [
      "Total data points: 395\n",
      "Female data points: 208\n",
      "Male data points: 187\n"
     ]
    }
   ],
   "source": [
    "print('Total data points:', df_math.count()[0])\n",
    "print('Female data points:',df_math[df_math['sex'] == 0].count()[0])\n",
    "print('Male data points:',df_math[df_math['sex'] == 1].count()[0])"
   ]
  },
  {
   "cell_type": "code",
   "execution_count": 383,
   "id": "2c0fb8b9",
   "metadata": {},
   "outputs": [
    {
     "name": "stdout",
     "output_type": "stream",
     "text": [
      "Final Grade Average: 10.415189873417722\n"
     ]
    }
   ],
   "source": [
    "G3_avg = df_math['G3'].mean()\n",
    "print('Final Grade Average:', G3_avg)"
   ]
  },
  {
   "cell_type": "code",
   "execution_count": 384,
   "id": "99cf5a23",
   "metadata": {},
   "outputs": [
    {
     "name": "stdout",
     "output_type": "stream",
     "text": [
      "Final Grade Average (Female): 9.966346153846153\n",
      "Final Grade Average (Male): 10.914438502673796\n"
     ]
    }
   ],
   "source": [
    "g1 = df_math.groupby('sex')\n",
    "G3_avg_female = g1.get_group(0)['G3'].mean()\n",
    "G3_avg_male = g1.get_group(1)['G3'].mean()\n",
    "\n",
    "print('Final Grade Average (Female):', G3_avg_female)\n",
    "print('Final Grade Average (Male):', G3_avg_male)"
   ]
  },
  {
   "cell_type": "code",
   "execution_count": 395,
   "id": "cb191cf9",
   "metadata": {},
   "outputs": [],
   "source": [
    "plt.show()"
   ]
  },
  {
   "cell_type": "code",
   "execution_count": 402,
   "id": "876bac40",
   "metadata": {},
   "outputs": [
    {
     "name": "stdout",
     "output_type": "stream",
     "text": [
      "\u001b[1mSchool\n",
      "    school  school_encoded\n",
      "0       GP               0\n",
      "349     MS               1\n"
     ]
    },
    {
     "data": {
      "image/png": "[encoded data removed]",
      "text/plain": [
       "<Figure size 640x480 with 1 Axes>"
      ]
     },
     "metadata": {},
     "output_type": "display_data"
    },
    {
     "name": "stdout",
     "output_type": "stream",
     "text": [
      "\u001b[1mSex\n",
      "   sex  sex_encoded\n",
      "0  \"F\"            0\n",
      "5  \"M\"            1\n"
     ]
    },
    {
     "data": {
      "image/png": "[encoded data removed]",
      "text/plain": [
       "<Figure size 640x480 with 1 Axes>"
      ]
     },
     "metadata": {},
     "output_type": "display_data"
    },
    {
     "name": "stdout",
     "output_type": "stream",
     "text": [
      "\u001b[1mAddress\n",
      "   address  address_encoded\n",
      "0      \"U\"                1\n",
      "24     \"R\"                0\n"
     ]
    },
    {
     "data": {
      "image/png": "[encoded data removed]",
      "text/plain": [
       "<Figure size 640x480 with 1 Axes>"
      ]
     },
     "metadata": {},
     "output_type": "display_data"
    },
    {
     "name": "stdout",
     "output_type": "stream",
     "text": [
      "\u001b[1mFamsize\n",
      "  famsize  famsize_encoded\n",
      "0   \"GT3\"                0\n",
      "2   \"LE3\"                1\n"
     ]
    },
    {
     "data": {
      "image/png": "[encoded data removed]",
      "text/plain": [
       "<Figure size 640x480 with 1 Axes>"
      ]
     },
     "metadata": {},
     "output_type": "display_data"
    },
    {
     "name": "stdout",
     "output_type": "stream",
     "text": [
      "\u001b[1mPstatus\n",
      "  Pstatus  Pstatus_encoded\n",
      "0     \"A\"                0\n",
      "1     \"T\"                1\n"
     ]
    },
    {
     "data": {
      "image/png": "[encoded data removed]",
      "text/plain": [
       "<Figure size 640x480 with 1 Axes>"
      ]
     },
     "metadata": {},
     "output_type": "display_data"
    },
    {
     "name": "stdout",
     "output_type": "stream",
     "text": [
      "\u001b[1mMjob\n",
      "          Mjob  Mjob_encoded\n",
      "0    \"at_home\"             0\n",
      "3     \"health\"             1\n",
      "4      \"other\"             2\n",
      "5   \"services\"             3\n",
      "10   \"teacher\"             4\n"
     ]
    },
    {
     "data": {
      "image/png": "[encoded data removed]",
      "text/plain": [
       "<Figure size 640x480 with 1 Axes>"
      ]
     },
     "metadata": {},
     "output_type": "display_data"
    },
    {
     "name": "stdout",
     "output_type": "stream",
     "text": [
      "\u001b[1mFjob\n",
      "          Fjob  Fjob_encoded\n",
      "0    \"teacher\"             4\n",
      "1      \"other\"             2\n",
      "3   \"services\"             3\n",
      "10    \"health\"             1\n",
      "32   \"at_home\"             0\n"
     ]
    },
    {
     "data": {
      "image/png": "[encoded data removed]",
      "text/plain": [
       "<Figure size 640x480 with 1 Axes>"
      ]
     },
     "metadata": {},
     "output_type": "display_data"
    },
    {
     "name": "stdout",
     "output_type": "stream",
     "text": [
      "\u001b[1mReason\n",
      "         reason  reason_encoded\n",
      "0      \"course\"               0\n",
      "2       \"other\"               2\n",
      "3        \"home\"               1\n",
      "5  \"reputation\"               3\n"
     ]
    },
    {
     "data": {
      "image/png": "[encoded data removed]",
      "text/plain": [
       "<Figure size 640x480 with 1 Axes>"
      ]
     },
     "metadata": {},
     "output_type": "display_data"
    },
    {
     "name": "stdout",
     "output_type": "stream",
     "text": [
      "\u001b[1mGuardian\n",
      "    guardian  guardian_encoded\n",
      "0   \"mother\"                 1\n",
      "1   \"father\"                 0\n",
      "14   \"other\"                 2\n"
     ]
    },
    {
     "data": {
      "image/png": "[encoded data removed]",
      "text/plain": [
       "<Figure size 640x480 with 1 Axes>"
      ]
     },
     "metadata": {},
     "output_type": "display_data"
    },
    {
     "name": "stdout",
     "output_type": "stream",
     "text": [
      "\u001b[1mSchoolsup\n",
      "  schoolsup  schoolsup_encoded\n",
      "0     \"yes\"                  1\n",
      "1      \"no\"                  0\n"
     ]
    },
    {
     "data": {
      "image/png": "[encoded data removed]",
      "text/plain": [
       "<Figure size 640x480 with 1 Axes>"
      ]
     },
     "metadata": {},
     "output_type": "display_data"
    },
    {
     "name": "stdout",
     "output_type": "stream",
     "text": [
      "\u001b[1mFamsup\n",
      "  famsup  famsup_encoded\n",
      "0   \"no\"               0\n",
      "1  \"yes\"               1\n"
     ]
    },
    {
     "data": {
      "image/png": "[encoded data removed]",
      "text/plain": [
       "<Figure size 640x480 with 1 Axes>"
      ]
     },
     "metadata": {},
     "output_type": "display_data"
    },
    {
     "name": "stdout",
     "output_type": "stream",
     "text": [
      "\u001b[1mPaid\n",
      "    paid  paid_encoded\n",
      "0   \"no\"             0\n",
      "2  \"yes\"             1\n"
     ]
    },
    {
     "data": {
      "image/png": "[encoded data removed]",
      "text/plain": [
       "<Figure size 640x480 with 1 Axes>"
      ]
     },
     "metadata": {},
     "output_type": "display_data"
    },
    {
     "name": "stdout",
     "output_type": "stream",
     "text": [
      "\u001b[1mActivities\n",
      "  activities  activities_encoded\n",
      "0       \"no\"                   0\n",
      "3      \"yes\"                   1\n"
     ]
    },
    {
     "data": {
      "image/png": "[encoded data removed]",
      "text/plain": [
       "<Figure size 640x480 with 1 Axes>"
      ]
     },
     "metadata": {},
     "output_type": "display_data"
    },
    {
     "name": "stdout",
     "output_type": "stream",
     "text": [
      "\u001b[1mNursery\n",
      "  nursery  nursery_encoded\n",
      "0   \"yes\"                1\n",
      "1    \"no\"                0\n"
     ]
    },
    {
     "data": {
      "image/png": "[encoded data removed]",
      "text/plain": [
       "<Figure size 640x480 with 1 Axes>"
      ]
     },
     "metadata": {},
     "output_type": "display_data"
    },
    {
     "name": "stdout",
     "output_type": "stream",
     "text": [
      "\u001b[1mHigher\n",
      "   higher  higher_encoded\n",
      "0   \"yes\"               1\n",
      "78   \"no\"               0\n"
     ]
    },
    {
     "data": {
      "image/png": "[encoded data removed]",
      "text/plain": [
       "<Figure size 640x480 with 1 Axes>"
      ]
     },
     "metadata": {},
     "output_type": "display_data"
    },
    {
     "name": "stdout",
     "output_type": "stream",
     "text": [
      "\u001b[1mInternet\n",
      "  internet  internet_encoded\n",
      "0     \"no\"                 0\n",
      "1    \"yes\"                 1\n"
     ]
    },
    {
     "data": {
      "image/png": "[encoded data removed]",
      "text/plain": [
       "<Figure size 640x480 with 1 Axes>"
      ]
     },
     "metadata": {},
     "output_type": "display_data"
    },
    {
     "name": "stdout",
     "output_type": "stream",
     "text": [
      "\u001b[1mRomantic\n",
      "  romantic  romantic_encoded\n",
      "0     \"no\"                 0\n",
      "3    \"yes\"                 1\n"
     ]
    },
    {
     "data": {
      "image/png": "[encoded data removed]",
      "text/plain": [
       "<Figure size 640x480 with 1 Axes>"
      ]
     },
     "metadata": {},
     "output_type": "display_data"
    }
   ],
   "source": [
    "BOLD = '\\033[1m' #To print values in bold \n",
    "for feature, feature_map in zip(categorical_features, categorical_feature_maps):\n",
    "    print(BOLD + str(feature).capitalize())\n",
    "    print(feature_map)\n",
    "    df_math.groupby(str(feature))['G3'].mean().plot.bar()\n",
    "    plt.show()"
   ]
  },
  {
   "cell_type": "code",
   "execution_count": 386,
   "id": "f7c3f939",
   "metadata": {},
   "outputs": [
    {
     "data": {
      "text/plain": [
       "<matplotlib.axes._subplots.AxesSubplot at 0x19389568ac8>"
      ]
     },
     "execution_count": 386,
     "metadata": {},
     "output_type": "execute_result"
    },
    {
     "data": {
      "image/png": "[encoded data removed]",
      "text/plain": [
       "<Figure size 640x480 with 2 Axes>"
      ]
     },
     "metadata": {},
     "output_type": "display_data"
    }
   ],
   "source": [
    "# Plot heatmap\n",
    "# Since our predictor variable (G3) is is hihl correlated with G1 and G2, those will be sufficient  \n",
    "corr = df_math.corr()\n",
    "sns.heatmap(corr)"
   ]
  },
  {
   "cell_type": "markdown",
   "id": "2332cbc4",
   "metadata": {},
   "source": [
    "# Linear Regression (LR)"
   ]
  },
  {
   "cell_type": "code",
   "execution_count": 387,
   "id": "4fab30e7",
   "metadata": {},
   "outputs": [],
   "source": [
    "# Imports\n",
    "import pandas as pd\n",
    "import numpy as np\n",
    "import matplotlib.pyplot as plt\n",
    "import seaborn as sns\n",
    "from sklearn.model_selection import train_test_split\n",
    "from sklearn.linear_model import LinearRegression\n",
    "from sklearn.metrics import mean_squared_error, r2_score"
   ]
  },
  {
   "cell_type": "code",
   "execution_count": 388,
   "id": "61752471",
   "metadata": {},
   "outputs": [],
   "source": [
    "X = df_math[['G1', 'G2']]  # Features (independent variables)\n",
    "y = df_math['G3']  # Target variable (dependent variable)\n",
    "\n",
    "X_train, X_test, y_train, y_test = train_test_split(X, y, test_size=0.2, random_state=42)"
   ]
  },
  {
   "cell_type": "code",
   "execution_count": 389,
   "id": "6975e6f5",
   "metadata": {},
   "outputs": [
    {
     "data": {
      "text/plain": [
       "LinearRegression()"
      ]
     },
     "execution_count": 389,
     "metadata": {},
     "output_type": "execute_result"
    }
   ],
   "source": [
    "model = LinearRegression()\n",
    "model.fit(X_train, y_train)"
   ]
  },
  {
   "cell_type": "code",
   "execution_count": 390,
   "id": "8d554517",
   "metadata": {},
   "outputs": [],
   "source": [
    "y_pred_LR = model.predict(X_test)"
   ]
  },
  {
   "cell_type": "code",
   "execution_count": 391,
   "id": "4bc26614",
   "metadata": {},
   "outputs": [
    {
     "name": "stdout",
     "output_type": "stream",
     "text": [
      "Mean Squared Error for LR: 4.2118674966017595\n",
      "Root Mean Squared Error for LR: 2.0522834834890036\n",
      "R-squared for LR: 0.7945936216805897\n"
     ]
    }
   ],
   "source": [
    "mse = mean_squared_error(y_test, y_pred_LR)\n",
    "rmse = np.sqrt(mse)\n",
    "r2 = r2_score(y_test, y_pred_LR)\n",
    "\n",
    "print(\"Mean Squared Error for LR:\", mse)\n",
    "print(\"Root Mean Squared Error for LR:\", rmse)\n",
    "print(\"R-squared for LR:\", r2)"
   ]
  },
  {
   "cell_type": "markdown",
   "id": "ddde40a8",
   "metadata": {},
   "source": [
    "# Deep Neural Network (DNN)"
   ]
  },
  {
   "cell_type": "code",
   "execution_count": 393,
   "id": "cd305d43",
   "metadata": {},
   "outputs": [
    {
     "name": "stdout",
     "output_type": "stream",
     "text": [
      "Epoch 1/50\n",
      "10/10 [==============================] - 1s 20ms/step - loss: 83.1517 - val_loss: 41.4531\n",
      "Epoch 2/50\n",
      "10/10 [==============================] - 0s 6ms/step - loss: 20.6813 - val_loss: 7.7840\n",
      "Epoch 3/50\n",
      "10/10 [==============================] - 0s 5ms/step - loss: 5.4080 - val_loss: 4.9684\n",
      "Epoch 4/50\n",
      "10/10 [==============================] - 0s 6ms/step - loss: 6.0465 - val_loss: 4.9685\n",
      "Epoch 5/50\n",
      "10/10 [==============================] - 0s 4ms/step - loss: 5.0051 - val_loss: 4.5579\n",
      "Epoch 6/50\n",
      "10/10 [==============================] - 0s 5ms/step - loss: 4.6886 - val_loss: 4.6859\n",
      "Epoch 7/50\n",
      "10/10 [==============================] - 0s 5ms/step - loss: 4.5019 - val_loss: 4.3873\n",
      "Epoch 8/50\n",
      "10/10 [==============================] - 0s 5ms/step - loss: 4.3678 - val_loss: 4.3286\n",
      "Epoch 9/50\n",
      "10/10 [==============================] - 0s 4ms/step - loss: 4.2384 - val_loss: 4.3254\n",
      "Epoch 10/50\n",
      "10/10 [==============================] - 0s 5ms/step - loss: 4.1208 - val_loss: 4.2648\n",
      "Epoch 11/50\n",
      "10/10 [==============================] - 0s 5ms/step - loss: 4.0603 - val_loss: 4.2413\n",
      "Epoch 12/50\n",
      "10/10 [==============================] - 0s 5ms/step - loss: 4.0206 - val_loss: 4.2762\n",
      "Epoch 13/50\n",
      "10/10 [==============================] - 0s 5ms/step - loss: 3.9884 - val_loss: 4.2365\n",
      "Epoch 14/50\n",
      "10/10 [==============================] - 0s 5ms/step - loss: 3.9609 - val_loss: 4.2878\n",
      "Epoch 15/50\n",
      "10/10 [==============================] - 0s 6ms/step - loss: 3.9570 - val_loss: 4.2480\n",
      "Epoch 16/50\n",
      "10/10 [==============================] - 0s 5ms/step - loss: 3.9356 - val_loss: 4.2429\n",
      "Epoch 17/50\n",
      "10/10 [==============================] - 0s 5ms/step - loss: 3.9285 - val_loss: 4.2595\n",
      "Epoch 18/50\n",
      "10/10 [==============================] - 0s 6ms/step - loss: 3.9313 - val_loss: 4.2446\n",
      "Epoch 19/50\n",
      "10/10 [==============================] - 0s 5ms/step - loss: 3.9478 - val_loss: 4.2420\n",
      "Epoch 20/50\n",
      "10/10 [==============================] - 0s 5ms/step - loss: 3.9253 - val_loss: 4.2468\n",
      "Epoch 21/50\n",
      "10/10 [==============================] - 0s 7ms/step - loss: 3.8886 - val_loss: 4.2575\n",
      "Epoch 22/50\n",
      "10/10 [==============================] - 0s 12ms/step - loss: 3.8955 - val_loss: 4.2335\n",
      "Epoch 23/50\n",
      "10/10 [==============================] - 0s 6ms/step - loss: 3.8927 - val_loss: 4.2558\n",
      "Epoch 24/50\n",
      "10/10 [==============================] - 0s 5ms/step - loss: 3.9014 - val_loss: 4.2388\n",
      "Epoch 25/50\n",
      "10/10 [==============================] - 0s 5ms/step - loss: 3.9384 - val_loss: 4.3057\n",
      "Epoch 26/50\n",
      "10/10 [==============================] - 0s 6ms/step - loss: 3.8293 - val_loss: 4.2373\n",
      "Epoch 27/50\n",
      "10/10 [==============================] - 0s 5ms/step - loss: 3.8622 - val_loss: 4.2518\n",
      "Epoch 28/50\n",
      "10/10 [==============================] - 0s 5ms/step - loss: 3.8494 - val_loss: 4.2380\n",
      "Epoch 29/50\n",
      "10/10 [==============================] - 0s 4ms/step - loss: 3.8519 - val_loss: 4.2272\n",
      "Epoch 30/50\n",
      "10/10 [==============================] - 0s 5ms/step - loss: 3.8243 - val_loss: 4.2448\n",
      "Epoch 31/50\n",
      "10/10 [==============================] - 0s 5ms/step - loss: 3.8545 - val_loss: 4.2288\n",
      "Epoch 32/50\n",
      "10/10 [==============================] - 0s 5ms/step - loss: 3.8089 - val_loss: 4.2541\n",
      "Epoch 33/50\n",
      "10/10 [==============================] - 0s 5ms/step - loss: 3.8217 - val_loss: 4.2265\n",
      "Epoch 34/50\n",
      "10/10 [==============================] - 0s 5ms/step - loss: 3.8402 - val_loss: 4.2330\n",
      "Epoch 35/50\n",
      "10/10 [==============================] - 0s 6ms/step - loss: 3.8083 - val_loss: 4.2204\n",
      "Epoch 36/50\n",
      "10/10 [==============================] - 0s 6ms/step - loss: 3.7836 - val_loss: 4.2213\n",
      "Epoch 37/50\n",
      "10/10 [==============================] - 0s 5ms/step - loss: 3.7822 - val_loss: 4.2200\n",
      "Epoch 38/50\n",
      "10/10 [==============================] - 0s 12ms/step - loss: 3.7879 - val_loss: 4.2280\n",
      "Epoch 39/50\n",
      "10/10 [==============================] - 0s 11ms/step - loss: 3.7911 - val_loss: 4.2093\n",
      "Epoch 40/50\n",
      "10/10 [==============================] - 0s 5ms/step - loss: 3.7746 - val_loss: 4.2436\n",
      "Epoch 41/50\n",
      "10/10 [==============================] - 0s 4ms/step - loss: 3.7484 - val_loss: 4.2083\n",
      "Epoch 42/50\n",
      "10/10 [==============================] - 0s 5ms/step - loss: 3.7514 - val_loss: 4.2124\n",
      "Epoch 43/50\n",
      "10/10 [==============================] - 0s 5ms/step - loss: 3.7628 - val_loss: 4.2060\n",
      "Epoch 44/50\n",
      "10/10 [==============================] - 0s 5ms/step - loss: 3.7563 - val_loss: 4.2319\n",
      "Epoch 45/50\n",
      "10/10 [==============================] - 0s 5ms/step - loss: 3.7369 - val_loss: 4.1995\n",
      "Epoch 46/50\n",
      "10/10 [==============================] - 0s 5ms/step - loss: 3.7490 - val_loss: 4.2013\n",
      "Epoch 47/50\n",
      "10/10 [==============================] - 0s 5ms/step - loss: 3.7513 - val_loss: 4.2126\n",
      "Epoch 48/50\n",
      "10/10 [==============================] - 0s 5ms/step - loss: 3.7872 - val_loss: 4.2020\n",
      "Epoch 49/50\n",
      "10/10 [==============================] - 0s 6ms/step - loss: 3.7874 - val_loss: 4.2205\n",
      "Epoch 50/50\n",
      "10/10 [==============================] - 0s 6ms/step - loss: 3.7557 - val_loss: 4.2000\n",
      "3/3 [==============================] - 0s 2ms/step - loss: 4.2000\n",
      "Mean Squared Error: 4.200009346008301\n",
      "WARNING:tensorflow:5 out of the last 13 calls to <function Model.make_predict_function.<locals>.predict_function at 0x0000019389448EE8> triggered tf.function retracing. Tracing is expensive and the excessive number of tracings could be due to (1) creating @tf.function repeatedly in a loop, (2) passing tensors with different shapes, (3) passing Python objects instead of tensors. For (1), please define your @tf.function outside of the loop. For (2), @tf.function has reduce_retracing=True option that can avoid unnecessary retracing. For (3), please refer to https://www.tensorflow.org/guide/function#controlling_retracing and https://www.tensorflow.org/api_docs/python/tf/function for  more details.\n",
      "3/3 [==============================] - 0s 3ms/step\n"
     ]
    }
   ],
   "source": [
    "# Imports\n",
    "import numpy as np\n",
    "import pandas as pd\n",
    "import tensorflow as tf\n",
    "from sklearn.model_selection import train_test_split\n",
    "\n",
    "input_dim = 2\n",
    "\n",
    "# Define the DNN model architecture\n",
    "model = tf.keras.models.Sequential([\n",
    "    tf.keras.layers.Dense(64, activation='relu', input_shape=(input_dim,)),\n",
    "    tf.keras.layers.Dense(64, activation='relu'),\n",
    "    tf.keras.layers.Dense(1)  # Output layer for regression\n",
    "])\n",
    "\n",
    "# Compile the model\n",
    "model.compile(optimizer='adam', loss='mean_squared_error')\n",
    "\n",
    "# Train the model\n",
    "model.fit(X_train, y_train, epochs=50, batch_size=32, validation_data=(X_test, y_test))\n",
    "\n",
    "# Evaluate the model\n",
    "mse = model.evaluate(X_test, y_test)\n",
    "print('Mean Squared Error:', mse)\n",
    "\n",
    "# Make predictions\n",
    "y_pred_DNN = model.predict(X_test)"
   ]
  },
  {
   "cell_type": "code",
   "execution_count": 394,
   "id": "0ad2ef97",
   "metadata": {},
   "outputs": [
    {
     "name": "stdout",
     "output_type": "stream",
     "text": [
      "Mean Squared Error for DNN: 4.200009123923892\n",
      "Root Mean Squared Error for DNN: 2.0493923792002087\n",
      "R-squared for DNN: 0.7951719364985387\n"
     ]
    }
   ],
   "source": [
    "mse = mean_squared_error(y_test, y_pred_DNN)\n",
    "rmse = np.sqrt(mse)\n",
    "r2 = r2_score(y_test, y_pred_DNN)\n",
    "\n",
    "print(\"Mean Squared Error for DNN:\", mse)\n",
    "print(\"Root Mean Squared Error for DNN:\", rmse)\n",
    "print(\"R-squared for DNN:\", r2)"
   ]
  }
 ],
 "metadata": {
  "kernelspec": {
   "display_name": "Python 3 (ipykernel)",
   "language": "python",
   "name": "python3"
  },
  "language_info": {
   "codemirror_mode": {
    "name": "ipython",
    "version": 3
   },
   "file_extension": ".py",
   "mimetype": "text/x-python",
   "name": "python",
   "nbconvert_exporter": "python",
   "pygments_lexer": "ipython3",
   "version": "3.7.16"
  }
 },
 "nbformat": 4,
 "nbformat_minor": 5
}
