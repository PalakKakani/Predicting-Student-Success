{
 "cells": [
  {
   "cell_type": "markdown",
   "metadata": {},
   "source": [
    "## Fork of the work done by EDA Team 1"
   ]
  },
  {
   "cell_type": "code",
   "execution_count": 28,
   "metadata": {},
   "outputs": [],
   "source": [
    "class cfg():\n",
    "    train_path = \"/Users/user/pythonpractice/Omdena/Predicting Student Sucess Omdena Ankara 2023/train-student-mat.csv\"\n",
    "    test_path = \"/Users/user/pythonpractice/Omdena/Predicting Student Sucess Omdena Ankara 2023/test-student-mat.csv\"\n",
    "\n",
    "    test_size = 0.3\n",
    "\n",
    "    loss = \"mean_absolute_error\""
   ]
  },
  {
   "cell_type": "code",
   "execution_count": 29,
   "metadata": {},
   "outputs": [],
   "source": [
    "import pandas as pd\n",
    "import numpy as np\n",
    "from scipy.stats import f_oneway"
   ]
  },
  {
   "cell_type": "code",
   "execution_count": 30,
   "metadata": {},
   "outputs": [],
   "source": [
    "# Function created by the EDA Team 1\n",
    "\n",
    "def get_ses_status_score(row):\n",
    "    # Calculate the SES score based on relevant features\n",
    "    ses_score = 0\n",
    "\n",
    "    # Add points based on parents' education\n",
    "    if row['Medu'] in ['0']:\n",
    "        ses_score += 1\n",
    "    elif row['Medu'] in ['1', '2']:\n",
    "        ses_score += 2\n",
    "    elif row['Medu'] == '3':\n",
    "        ses_score += 3\n",
    "    elif row['Medu'] == '4':\n",
    "        ses_score += 4\n",
    "\n",
    "    if row['Fedu'] in ['0', '1']:\n",
    "        ses_score += 1\n",
    "    elif row['Fedu'] == '2':\n",
    "        ses_score += 2\n",
    "    elif row['Fedu'] == '3':\n",
    "        ses_score += 3\n",
    "    elif row['Fedu'] == '4':\n",
    "        ses_score += 4\n",
    "\n",
    "    # Add points based on parents' occupation (Mother_job and Father_job)\n",
    "    if row['Mjob'] in ['at_home', 'other']:\n",
    "        ses_score += 1\n",
    "    elif row['Mjob'] in ['teacher', 'health', 'services']:\n",
    "        ses_score += 2\n",
    "\n",
    "    if row['Fjob'] in ['at_home', 'other']:\n",
    "        ses_score += 1\n",
    "    elif row['Fjob'] in ['teacher', 'health', 'services']:\n",
    "        ses_score += 2\n",
    "\n",
    "    # Add points based on family size (famsize)\n",
    "    if row['famsize'] == 'LE3':\n",
    "        ses_score += 1\n",
    "        \n",
    "    # Add points based on address (Urban or Rural)\n",
    "    if row['address'] == 'U':\n",
    "        ses_score += 1\n",
    "\n",
    "    # Add points based on Parents_status (Together or Apart)\n",
    "    if row['Pstatus'] == 'T':\n",
    "        ses_score += 1\n",
    "        \n",
    "    # Add points based on guardian\n",
    "    if row['guardian'] in ['mother', 'father']:\n",
    "        ses_score += 1\n",
    "    elif row['guardian'] == 'other':\n",
    "        ses_score += 2\n",
    "\n",
    "    # Add points based on school_support, fam_support, paid_extra_classes, higher_edu, internet, and nursery\n",
    "    if row['schoolsup'] == 'yes':\n",
    "        ses_score += 1\n",
    "\n",
    "    if row['famsup'] == 'yes':\n",
    "        ses_score += 1\n",
    "\n",
    "    if row['paid'] == 'yes':\n",
    "        ses_score += 1\n",
    "\n",
    "    if row['higher'] == 'yes':\n",
    "        ses_score += 1\n",
    "\n",
    "    if row['internet'] == 'yes':\n",
    "        ses_score += 1\n",
    "\n",
    "    if row['nursery'] == 'yes':\n",
    "        ses_score += 1\n",
    "\n",
    "    return ses_score"
   ]
  },
  {
   "cell_type": "code",
   "execution_count": 31,
   "metadata": {},
   "outputs": [],
   "source": [
    "# Reading dataframes\n",
    "\n",
    "train = pd.read_csv(cfg.train_path)\n",
    "test = pd.read_csv(cfg.test_path)"
   ]
  },
  {
   "cell_type": "code",
   "execution_count": 32,
   "metadata": {},
   "outputs": [
    {
     "name": "stdout",
     "output_type": "stream",
     "text": [
      "1st Quartile (25th percentile): 9.0\n",
      "2nd Quartile (Median, 50th percentile): 10.0\n",
      "3rd Quartile (75th percentile): 11.0\n"
     ]
    }
   ],
   "source": [
    "# Code block to calculate ses score for both train and test dataframes \n",
    "# FORK from EDA Team 1's work\n",
    "\n",
    "train['ses_score'] = train.apply(get_ses_status_score, axis=1)\n",
    "test['ses_score'] = test.apply(get_ses_status_score, axis=1)\n",
    "\n",
    "\n",
    "# Calculate quartiles to derive threshold values\n",
    "q1 = np.percentile(train['ses_score'], 25)\n",
    "q2 = np.percentile(train['ses_score'], 50)  # Median\n",
    "q3 = np.percentile(train['ses_score'], 75)\n",
    "\n",
    "# Print the calculated quartiles\n",
    "print(\"1st Quartile (25th percentile):\", q1)\n",
    "print(\"2nd Quartile (Median, 50th percentile):\", q2)\n",
    "print(\"3rd Quartile (75th percentile):\", q3)\n",
    "\n",
    "def get_ses_status_category(row):\n",
    "    # Categorize SES score into 'Low', 'Medium', and 'High'\n",
    "    if row['ses_score'] < q1:\n",
    "        return 'Low'\n",
    "    elif row['ses_score'] <= q2:\n",
    "        return 'Medium'\n",
    "    else:\n",
    "        return 'High'\n",
    "    \n",
    "train['ses_status'] = train.apply(get_ses_status_category, axis=1)\n",
    "test['ses_status'] = test.apply(get_ses_status_category, axis=1)\n",
    "\n",
    "# Dropping the features used in calculating ses_status\n",
    "train = train.drop(['address', 'famsize' , 'Pstatus','Medu','Fedu','Mjob','Fjob',\n",
    "            'guardian','famsup','schoolsup', 'internet','paid','higher','nursery', 'ses_score', 'Unnamed: 0'], axis = 1)\n",
    "test = test.drop(['address', 'famsize' , 'Pstatus','Medu','Fedu','Mjob','Fjob',\n",
    "            'guardian','famsup','schoolsup', 'internet','paid','higher','nursery', 'ses_score', 'Unnamed: 0'], axis = 1)\n",
    "\n",
    "\n",
    "\n",
    "\n"
   ]
  },
  {
   "cell_type": "code",
   "execution_count": null,
   "metadata": {},
   "outputs": [],
   "source": []
  },
  {
   "cell_type": "code",
   "execution_count": 33,
   "metadata": {},
   "outputs": [],
   "source": [
    "train['avg_alc'] = (train['Dalc'] + train['Walc']) / 2\n",
    "train = train.drop(['Dalc', 'Walc'], axis = 1)\n",
    "\n",
    "test['avg_alc'] = (test['Dalc'] + test['Walc']) / 2\n",
    "test = test.drop(['Dalc', 'Walc'], axis = 1)"
   ]
  },
  {
   "cell_type": "code",
   "execution_count": 34,
   "metadata": {},
   "outputs": [
    {
     "name": "stdout",
     "output_type": "stream",
     "text": [
      "ANOVA test result:\n",
      "go out with friend vs. Final Score:  F-statistic = 3.016701015389935  p = 0.01850246265483004\n",
      "family relationship vs. Final Score: F-statistic = 0.6095286286185053 p = 0.6561039147721099\n",
      "romantic relationship vs. Final Score:F-statistic = 2.363818079632197   p = 0.12532769637755245\n"
     ]
    }
   ],
   "source": [
    "label = {'no': 0, 'yes': 1}\n",
    "train['romantic'] = train['romantic'].map(label)\n",
    "test['romantic'] = test['romantic'].map(label)\n",
    "\n",
    "# Perform the ANOVA test for go out with friends vs. Final Score\n",
    "goout_anova_result = f_oneway(\n",
    "    train[train['goout'] == 1]['Final_Score'],\n",
    "    train[train['goout'] == 2]['Final_Score'],\n",
    "    train[train['goout'] == 3]['Final_Score'],\n",
    "    train[train['goout'] == 4]['Final_Score'],\n",
    "    train[train['goout'] == 5]['Final_Score']\n",
    ")\n",
    "\n",
    "# Perform the ANOVA test for family relationship vs. Final Score\n",
    "fam_anova_result = f_oneway(\n",
    "    train[train['famrel'] == 1]['Final_Score'],\n",
    "    train[train['famrel'] == 2]['Final_Score'],\n",
    "    train[train['famrel'] == 3]['Final_Score'],\n",
    "    train[train['famrel'] == 4]['Final_Score'],\n",
    "    train[train['famrel'] == 5]['Final_Score']\n",
    ")\n",
    "\n",
    "# Perform the ANOVA test for Romantic relationship vs. Final Score\n",
    "rom_anova_result = f_oneway(\n",
    "    train[train['romantic'] == 1]['Final_Score'],\n",
    "    train[train['romantic'] == 0]['Final_Score'] \n",
    ")\n",
    "\n",
    "print(\"ANOVA test result:\")\n",
    "\n",
    "# Print the ANOVA test result for go out with friends vs final score\n",
    "print(\"go out with friend vs. Final Score:  F-statistic =\", goout_anova_result.statistic, \" p =\", goout_anova_result.pvalue)\n",
    "\n",
    "# Print the ANOVA test result for family relationship vs final score\n",
    "print(\"family relationship vs. Final Score: F-statistic =\", fam_anova_result.statistic, \"p =\", fam_anova_result.pvalue)\n",
    "\n",
    "# Print the ANOVA test result for relationship vs final score\n",
    "print(\"romantic relationship vs. Final Score:F-statistic =\", rom_anova_result.statistic, \"  p =\", rom_anova_result.pvalue)"
   ]
  },
  {
   "cell_type": "code",
   "execution_count": 35,
   "metadata": {},
   "outputs": [],
   "source": [
    "def calculate_social_score(row):\n",
    "    friends_weight = 0.55\n",
    "    romantic_weight = 0.35\n",
    "    family_weight = 0.10\n",
    "\n",
    "    # Calculate the social score using weighted average\n",
    "    social_score = (row['famrel'] * family_weight +\n",
    "                    row['goout'] * friends_weight +\n",
    "                    row['romantic'] * romantic_weight)\n",
    "\n",
    "    # Round the social_score to the nearest integer and return it\n",
    "    return int(round(social_score))"
   ]
  },
  {
   "cell_type": "code",
   "execution_count": 36,
   "metadata": {},
   "outputs": [
    {
     "name": "stdout",
     "output_type": "stream",
     "text": [
      "1st Quartile (25th percentile): 2.0\n",
      "2nd Quartile (Median, 50th percentile): 2.0\n",
      "3rd Quartile (75th percentile): 3.0\n"
     ]
    }
   ],
   "source": [
    "# Apply the function to create the 'social_score' feature in the DataFrame\n",
    "train['social_score'] = train.apply(calculate_social_score, axis=1)\n",
    "test['social_score'] = test.apply(calculate_social_score, axis=1)\n",
    "\n",
    "\n",
    "q1 = np.percentile(train['social_score'], 25)\n",
    "q2 = np.percentile(train['social_score'], 50)  # Median\n",
    "q3 = np.percentile(train['social_score'], 75)\n",
    "\n",
    "# Print the calculated quartiles\n",
    "print(\"1st Quartile (25th percentile):\", q1)\n",
    "print(\"2nd Quartile (Median, 50th percentile):\", q2)\n",
    "print(\"3rd Quartile (75th percentile):\", q3)\n",
    "\n",
    "\n",
    "# Define the categories for 'social_score'\n",
    "train['social_score_category'] = pd.cut(train['social_score'], bins=[0, q1, q3, 1000], labels=['Very Bad', 'Neutral', 'Excellent'])\n",
    "train = train.drop(['famrel', 'romantic', 'goout', 'social_score'], axis = 1)\n",
    "\n",
    "test['social_score_category'] = pd.cut(test['social_score'], bins=[0, q1, q3, 1000], labels=['Very Bad', 'Neutral', 'Excellent'])\n",
    "test = test.drop(['famrel', 'romantic', 'goout', 'social_score'], axis = 1)\n"
   ]
  }
 ],
 "metadata": {
  "kernelspec": {
   "display_name": "Python 3",
   "language": "python",
   "name": "python3"
  },
  "language_info": {
   "codemirror_mode": {
    "name": "ipython",
    "version": 3
   },
   "file_extension": ".py",
   "mimetype": "text/x-python",
   "name": "python",
   "nbconvert_exporter": "python",
   "pygments_lexer": "ipython3",
   "version": "3.10.5"
  },
  "orig_nbformat": 4
 },
 "nbformat": 4,
 "nbformat_minor": 2
}
