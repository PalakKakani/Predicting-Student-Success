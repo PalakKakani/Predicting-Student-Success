{
 "cells": [
  {
   "cell_type": "code",
   "execution_count": 1,
   "id": "a15385a5",
   "metadata": {},
   "outputs": [
    {
     "name": "stderr",
     "output_type": "stream",
     "text": [
      "2023-08-05 13:44:00.012466: I tensorflow/core/platform/cpu_feature_guard.cc:182] This TensorFlow binary is optimized to use available CPU instructions in performance-critical operations.\n",
      "To enable the following instructions: AVX2 FMA, in other operations, rebuild TensorFlow with the appropriate compiler flags.\n"
     ]
    }
   ],
   "source": [
    "\n",
    "import warnings\n",
    "warnings.filterwarnings(\"ignore\")\n",
    "\n",
    "\n",
    "# Data\n",
    "import pandas as pd\n",
    "\n",
    "\n",
    "# Visualisation\n",
    "import seaborn as sns\n",
    "import plotly.express as px\n",
    "#from callbacks import register_callbacks\n",
    "import plotly.graph_objects as go\n",
    "\n",
    "\n",
    "\n",
    "import matplotlib.pyplot as plt\n",
    "\n",
    "\n",
    "import statsmodels.formula.api as sm\n",
    "import tensorflow as tf\n",
    "from sklearn.model_selection import train_test_split\n",
    "from sklearn import datasets\n",
    "\n"
   ]
  },
  {
   "cell_type": "code",
   "execution_count": 2,
   "id": "0f933d81",
   "metadata": {},
   "outputs": [],
   "source": [
    "df = pd.read_csv(\"graduation-data.csv\")"
   ]
  },
  {
   "cell_type": "code",
   "execution_count": 3,
   "id": "a0f4a998",
   "metadata": {},
   "outputs": [
    {
     "data": {
      "text/plain": [
       "(401, 12)"
      ]
     },
     "execution_count": 3,
     "metadata": {},
     "output_type": "execute_result"
    }
   ],
   "source": [
    "df.shape"
   ]
  },
  {
   "cell_type": "code",
   "execution_count": 4,
   "id": "cce68135",
   "metadata": {},
   "outputs": [
    {
     "data": {
      "text/plain": [
       "Index(['Year', 'Zone_EN', 'Coordinates', 'School_Type_EN', 'School_Stage_EN',\n",
       "       'Gender_EN', 'Unnamed: 6', 'LocalFlag_EN', 'Number of Failed students',\n",
       "       'Number of Pass students', 'Total Number of Students', 'Graduation %'],\n",
       "      dtype='object')"
      ]
     },
     "execution_count": 4,
     "metadata": {},
     "output_type": "execute_result"
    }
   ],
   "source": [
    "df.columns"
   ]
  },
  {
   "cell_type": "code",
   "execution_count": 5,
   "id": "446b810e",
   "metadata": {},
   "outputs": [
    {
     "data": {
      "text/html": [
       "<div>\n",
       "<style scoped>\n",
       "    .dataframe tbody tr th:only-of-type {\n",
       "        vertical-align: middle;\n",
       "    }\n",
       "\n",
       "    .dataframe tbody tr th {\n",
       "        vertical-align: top;\n",
       "    }\n",
       "\n",
       "    .dataframe thead th {\n",
       "        text-align: right;\n",
       "    }\n",
       "</style>\n",
       "<table border=\"1\" class=\"dataframe\">\n",
       "  <thead>\n",
       "    <tr style=\"text-align: right;\">\n",
       "      <th></th>\n",
       "      <th>Year</th>\n",
       "      <th>Zone_EN</th>\n",
       "      <th>Coordinates</th>\n",
       "      <th>School_Type_EN</th>\n",
       "      <th>School_Stage_EN</th>\n",
       "      <th>Gender_EN</th>\n",
       "      <th>Unnamed: 6</th>\n",
       "      <th>LocalFlag_EN</th>\n",
       "      <th>Number of Failed students</th>\n",
       "      <th>Number of Pass students</th>\n",
       "      <th>Total Number of Students</th>\n",
       "      <th>Graduation %</th>\n",
       "    </tr>\n",
       "  </thead>\n",
       "  <tbody>\n",
       "    <tr>\n",
       "      <th>0</th>\n",
       "      <td>2015</td>\n",
       "      <td>Ajman</td>\n",
       "      <td>25.244000,55.266140</td>\n",
       "      <td>Public Schools</td>\n",
       "      <td>NaN</td>\n",
       "      <td>Female</td>\n",
       "      <td>NaN</td>\n",
       "      <td>Expat</td>\n",
       "      <td>8</td>\n",
       "      <td>243</td>\n",
       "      <td>251</td>\n",
       "      <td>96.81%</td>\n",
       "    </tr>\n",
       "    <tr>\n",
       "      <th>1</th>\n",
       "      <td>2015</td>\n",
       "      <td>Ajman</td>\n",
       "      <td>25.244000,55.266140</td>\n",
       "      <td>Public Schools</td>\n",
       "      <td>NaN</td>\n",
       "      <td>Female</td>\n",
       "      <td>NaN</td>\n",
       "      <td>Local</td>\n",
       "      <td>20</td>\n",
       "      <td>353</td>\n",
       "      <td>373</td>\n",
       "      <td>94.64%</td>\n",
       "    </tr>\n",
       "    <tr>\n",
       "      <th>2</th>\n",
       "      <td>2015</td>\n",
       "      <td>Ajman</td>\n",
       "      <td>25.244000,55.266140</td>\n",
       "      <td>Public Schools</td>\n",
       "      <td>NaN</td>\n",
       "      <td>Male</td>\n",
       "      <td>NaN</td>\n",
       "      <td>Expat</td>\n",
       "      <td>28</td>\n",
       "      <td>182</td>\n",
       "      <td>210</td>\n",
       "      <td>86.67%</td>\n",
       "    </tr>\n",
       "    <tr>\n",
       "      <th>3</th>\n",
       "      <td>2015</td>\n",
       "      <td>Ajman</td>\n",
       "      <td>25.244000,55.266140</td>\n",
       "      <td>Public Schools</td>\n",
       "      <td>NaN</td>\n",
       "      <td>Male</td>\n",
       "      <td>NaN</td>\n",
       "      <td>Local</td>\n",
       "      <td>23</td>\n",
       "      <td>262</td>\n",
       "      <td>285</td>\n",
       "      <td>91.93%</td>\n",
       "    </tr>\n",
       "    <tr>\n",
       "      <th>4</th>\n",
       "      <td>2015</td>\n",
       "      <td>Ajman</td>\n",
       "      <td>25.244000,55.266140</td>\n",
       "      <td>Private Schools</td>\n",
       "      <td>NaN</td>\n",
       "      <td>Female</td>\n",
       "      <td>NaN</td>\n",
       "      <td>Expat</td>\n",
       "      <td>11</td>\n",
       "      <td>424</td>\n",
       "      <td>435</td>\n",
       "      <td>97.47%</td>\n",
       "    </tr>\n",
       "  </tbody>\n",
       "</table>\n",
       "</div>"
      ],
      "text/plain": [
       "   Year Zone_EN          Coordinates   School_Type_EN  School_Stage_EN  \\\n",
       "0  2015   Ajman  25.244000,55.266140   Public Schools              NaN   \n",
       "1  2015   Ajman  25.244000,55.266140   Public Schools              NaN   \n",
       "2  2015   Ajman  25.244000,55.266140   Public Schools              NaN   \n",
       "3  2015   Ajman  25.244000,55.266140   Public Schools              NaN   \n",
       "4  2015   Ajman  25.244000,55.266140  Private Schools              NaN   \n",
       "\n",
       "  Gender_EN  Unnamed: 6 LocalFlag_EN  Number of Failed students  \\\n",
       "0    Female         NaN        Expat                          8   \n",
       "1    Female         NaN        Local                         20   \n",
       "2      Male         NaN        Expat                         28   \n",
       "3      Male         NaN        Local                         23   \n",
       "4    Female         NaN        Expat                         11   \n",
       "\n",
       "   Number of Pass students  Total Number of Students Graduation %  \n",
       "0                      243                       251       96.81%  \n",
       "1                      353                       373       94.64%  \n",
       "2                      182                       210       86.67%  \n",
       "3                      262                       285       91.93%  \n",
       "4                      424                       435       97.47%  "
      ]
     },
     "execution_count": 5,
     "metadata": {},
     "output_type": "execute_result"
    }
   ],
   "source": [
    "df.head()"
   ]
  },
  {
   "cell_type": "code",
   "execution_count": 6,
   "id": "feebe7da",
   "metadata": {},
   "outputs": [],
   "source": [
    "df1 = df.drop(columns=['Unnamed: 6', 'School_Stage_EN'])\n"
   ]
  },
  {
   "cell_type": "code",
   "execution_count": 7,
   "id": "60f264a0",
   "metadata": {},
   "outputs": [
    {
     "data": {
      "text/plain": [
       "(401, 10)"
      ]
     },
     "execution_count": 7,
     "metadata": {},
     "output_type": "execute_result"
    }
   ],
   "source": [
    "df1.shape"
   ]
  },
  {
   "cell_type": "code",
   "execution_count": 8,
   "id": "4ec89f94",
   "metadata": {},
   "outputs": [
    {
     "data": {
      "text/plain": [
       "Index(['Year', 'Zone_EN', 'Coordinates', 'School_Type_EN', 'Gender_EN',\n",
       "       'LocalFlag_EN', 'Number of Failed students', 'Number of Pass students',\n",
       "       'Total Number of Students', 'Graduation %'],\n",
       "      dtype='object')"
      ]
     },
     "execution_count": 8,
     "metadata": {},
     "output_type": "execute_result"
    }
   ],
   "source": [
    "df1.columns"
   ]
  },
  {
   "cell_type": "code",
   "execution_count": null,
   "id": "2c454103",
   "metadata": {},
   "outputs": [],
   "source": []
  },
  {
   "cell_type": "code",
   "execution_count": 9,
   "id": "fbe9845d",
   "metadata": {},
   "outputs": [
    {
     "data": {
      "text/plain": [
       "Index(['Year', 'Zone_EN', 'Coordinates', 'School_Type_EN', 'School_Stage_EN',\n",
       "       'Gender_EN', 'Unnamed: 6', 'LocalFlag_EN', 'Number of Failed students',\n",
       "       'Number of Pass students', 'Total Number of Students', 'Graduation %'],\n",
       "      dtype='object')"
      ]
     },
     "execution_count": 9,
     "metadata": {},
     "output_type": "execute_result"
    }
   ],
   "source": [
    "df.columns"
   ]
  },
  {
   "cell_type": "code",
   "execution_count": 10,
   "id": "8e55f23a",
   "metadata": {},
   "outputs": [],
   "source": [
    "df1 = df.drop(columns=['Unnamed: 6', 'School_Stage_EN','Graduation %'])"
   ]
  },
  {
   "cell_type": "code",
   "execution_count": 11,
   "id": "23d777db",
   "metadata": {},
   "outputs": [],
   "source": [
    "df1.to_csv('datacleaned.csv')"
   ]
  },
  {
   "cell_type": "code",
   "execution_count": 12,
   "id": "5bc05411",
   "metadata": {},
   "outputs": [
    {
     "data": {
      "text/plain": [
       "Index(['Year', 'Zone_EN', 'Coordinates', 'School_Type_EN', 'Gender_EN',\n",
       "       'LocalFlag_EN', 'Number of Failed students', 'Number of Pass students',\n",
       "       'Total Number of Students'],\n",
       "      dtype='object')"
      ]
     },
     "execution_count": 12,
     "metadata": {},
     "output_type": "execute_result"
    }
   ],
   "source": [
    "df1.columns"
   ]
  },
  {
   "cell_type": "code",
   "execution_count": 13,
   "id": "8c64d2f2",
   "metadata": {},
   "outputs": [],
   "source": [
    "df1['Graduation']=df1['Number of Pass students']/df1['Total Number of Students']"
   ]
  },
  {
   "cell_type": "code",
   "execution_count": 14,
   "id": "b3bd44ac",
   "metadata": {},
   "outputs": [
    {
     "name": "stdout",
     "output_type": "stream",
     "text": [
      "                            OLS Regression Results                            \n",
      "==============================================================================\n",
      "Dep. Variable:             Graduation   R-squared:                       0.706\n",
      "Model:                            OLS   Adj. R-squared:                  0.697\n",
      "Method:                 Least Squares   F-statistic:                     84.76\n",
      "Date:                Sat, 05 Aug 2023   Prob (F-statistic):           4.35e-96\n",
      "Time:                        13:44:03   Log-Likelihood:                 401.85\n",
      "No. Observations:                 401   AIC:                            -779.7\n",
      "Df Residuals:                     389   BIC:                            -731.8\n",
      "Df Model:                          11                                         \n",
      "Covariance Type:            nonrobust                                         \n",
      "==================================================================================================================\n",
      "                                                     coef    std err          t      P>|t|      [0.025      0.975]\n",
      "------------------------------------------------------------------------------------------------------------------\n",
      "Intercept                                        -29.5494      6.545     -4.515      0.000     -42.418     -16.681\n",
      "Zone_EN[T.DUBAI]                                   0.0292      0.015      1.913      0.056      -0.001       0.059\n",
      "Zone_EN[T.Fujairah]                               -0.0241      0.015     -1.565      0.118      -0.054       0.006\n",
      "Zone_EN[T.Ras AlKhaima]                           -0.0035      0.015     -0.229      0.819      -0.034       0.027\n",
      "Zone_EN[T.Sharjah]                                -0.0042      0.015     -0.273      0.785      -0.034       0.026\n",
      "Zone_EN[T.Umm AlQuwain]                           -0.0180      0.016     -1.155      0.249      -0.049       0.013\n",
      "School_Type_EN[T.Continuing Education Centers]    -0.3105      0.016    -19.129      0.000      -0.342      -0.279\n",
      "School_Type_EN[T.Private Schools]                 -0.0282      0.016     -1.726      0.085      -0.060       0.004\n",
      "School_Type_EN[T.Public Schools]                  -0.0168      0.016     -1.033      0.302      -0.049       0.015\n",
      "Gender_EN[T.Male]                                 -0.0232      0.009     -2.526      0.012      -0.041      -0.005\n",
      "LocalFlag_EN[T.Local]                             -0.0221      0.009     -2.442      0.015      -0.040      -0.004\n",
      "Year                                               0.0152      0.003      4.672      0.000       0.009       0.022\n",
      "==============================================================================\n",
      "Omnibus:                       77.501   Durbin-Watson:                   1.362\n",
      "Prob(Omnibus):                  0.000   Jarque-Bera (JB):              287.102\n",
      "Skew:                          -0.812   Prob(JB):                     4.53e-63\n",
      "Kurtosis:                       6.814   Cond. No.                     2.93e+06\n",
      "==============================================================================\n",
      "\n",
      "Notes:\n",
      "[1] Standard Errors assume that the covariance matrix of the errors is correctly specified.\n",
      "[2] The condition number is large, 2.93e+06. This might indicate that there are\n",
      "strong multicollinearity or other numerical problems.\n"
     ]
    }
   ],
   "source": [
    " formula1='Graduation ~  Year + Zone_EN + School_Type_EN + Gender_EN + LocalFlag_EN'\n",
    "model1=sm.ols(formula=formula1, data=df1)\n",
    "fitted1=model1.fit()\n",
    "fitted1.summary()\n",
    "print(fitted1.summary())"
   ]
  },
  {
   "cell_type": "code",
   "execution_count": 16,
   "id": "e3af2a1e",
   "metadata": {
    "scrolled": true
   },
   "outputs": [
    {
     "data": {
      "text/html": [
       "<div>\n",
       "<style scoped>\n",
       "    .dataframe tbody tr th:only-of-type {\n",
       "        vertical-align: middle;\n",
       "    }\n",
       "\n",
       "    .dataframe tbody tr th {\n",
       "        vertical-align: top;\n",
       "    }\n",
       "\n",
       "    .dataframe thead th {\n",
       "        text-align: right;\n",
       "    }\n",
       "</style>\n",
       "<table border=\"1\" class=\"dataframe\">\n",
       "  <thead>\n",
       "    <tr style=\"text-align: right;\">\n",
       "      <th></th>\n",
       "      <th>Year</th>\n",
       "      <th>Zone_EN</th>\n",
       "      <th>Coordinates</th>\n",
       "      <th>School_Type_EN</th>\n",
       "      <th>Gender_EN</th>\n",
       "      <th>LocalFlag_EN</th>\n",
       "      <th>Number of Failed students</th>\n",
       "      <th>Number of Pass students</th>\n",
       "      <th>Total Number of Students</th>\n",
       "      <th>Graduation</th>\n",
       "    </tr>\n",
       "  </thead>\n",
       "  <tbody>\n",
       "    <tr>\n",
       "      <th>0</th>\n",
       "      <td>2015</td>\n",
       "      <td>0</td>\n",
       "      <td>25.244000,55.266140</td>\n",
       "      <td>3</td>\n",
       "      <td>0</td>\n",
       "      <td>0</td>\n",
       "      <td>8</td>\n",
       "      <td>243</td>\n",
       "      <td>251</td>\n",
       "      <td>0.968127</td>\n",
       "    </tr>\n",
       "    <tr>\n",
       "      <th>1</th>\n",
       "      <td>2015</td>\n",
       "      <td>0</td>\n",
       "      <td>25.244000,55.266140</td>\n",
       "      <td>3</td>\n",
       "      <td>0</td>\n",
       "      <td>1</td>\n",
       "      <td>20</td>\n",
       "      <td>353</td>\n",
       "      <td>373</td>\n",
       "      <td>0.946381</td>\n",
       "    </tr>\n",
       "    <tr>\n",
       "      <th>2</th>\n",
       "      <td>2015</td>\n",
       "      <td>0</td>\n",
       "      <td>25.244000,55.266140</td>\n",
       "      <td>3</td>\n",
       "      <td>1</td>\n",
       "      <td>0</td>\n",
       "      <td>28</td>\n",
       "      <td>182</td>\n",
       "      <td>210</td>\n",
       "      <td>0.866667</td>\n",
       "    </tr>\n",
       "    <tr>\n",
       "      <th>3</th>\n",
       "      <td>2015</td>\n",
       "      <td>0</td>\n",
       "      <td>25.244000,55.266140</td>\n",
       "      <td>3</td>\n",
       "      <td>1</td>\n",
       "      <td>1</td>\n",
       "      <td>23</td>\n",
       "      <td>262</td>\n",
       "      <td>285</td>\n",
       "      <td>0.919298</td>\n",
       "    </tr>\n",
       "    <tr>\n",
       "      <th>4</th>\n",
       "      <td>2015</td>\n",
       "      <td>0</td>\n",
       "      <td>25.244000,55.266140</td>\n",
       "      <td>2</td>\n",
       "      <td>0</td>\n",
       "      <td>0</td>\n",
       "      <td>11</td>\n",
       "      <td>424</td>\n",
       "      <td>435</td>\n",
       "      <td>0.974713</td>\n",
       "    </tr>\n",
       "  </tbody>\n",
       "</table>\n",
       "</div>"
      ],
      "text/plain": [
       "   Year  Zone_EN          Coordinates  School_Type_EN  Gender_EN  \\\n",
       "0  2015        0  25.244000,55.266140               3          0   \n",
       "1  2015        0  25.244000,55.266140               3          0   \n",
       "2  2015        0  25.244000,55.266140               3          1   \n",
       "3  2015        0  25.244000,55.266140               3          1   \n",
       "4  2015        0  25.244000,55.266140               2          0   \n",
       "\n",
       "   LocalFlag_EN  Number of Failed students  Number of Pass students  \\\n",
       "0             0                          8                      243   \n",
       "1             1                         20                      353   \n",
       "2             0                         28                      182   \n",
       "3             1                         23                      262   \n",
       "4             0                         11                      424   \n",
       "\n",
       "   Total Number of Students  Graduation  \n",
       "0                       251    0.968127  \n",
       "1                       373    0.946381  \n",
       "2                       210    0.866667  \n",
       "3                       285    0.919298  \n",
       "4                       435    0.974713  "
      ]
     },
     "execution_count": 16,
     "metadata": {},
     "output_type": "execute_result"
    }
   ],
   "source": [
    "df1.head()\n"
   ]
  },
  {
   "cell_type": "code",
   "execution_count": 17,
   "id": "edb74857",
   "metadata": {},
   "outputs": [],
   "source": [
    "df1 = df1.drop(columns=['Coordinates', 'Number of Failed students', 'Number of Pass students','Total Number of Students' ])"
   ]
  },
  {
   "cell_type": "code",
   "execution_count": 18,
   "id": "f14b510b",
   "metadata": {},
   "outputs": [
    {
     "data": {
      "text/html": [
       "<div>\n",
       "<style scoped>\n",
       "    .dataframe tbody tr th:only-of-type {\n",
       "        vertical-align: middle;\n",
       "    }\n",
       "\n",
       "    .dataframe tbody tr th {\n",
       "        vertical-align: top;\n",
       "    }\n",
       "\n",
       "    .dataframe thead th {\n",
       "        text-align: right;\n",
       "    }\n",
       "</style>\n",
       "<table border=\"1\" class=\"dataframe\">\n",
       "  <thead>\n",
       "    <tr style=\"text-align: right;\">\n",
       "      <th></th>\n",
       "      <th>Year</th>\n",
       "      <th>Zone_EN</th>\n",
       "      <th>School_Type_EN</th>\n",
       "      <th>Gender_EN</th>\n",
       "      <th>LocalFlag_EN</th>\n",
       "      <th>Graduation</th>\n",
       "    </tr>\n",
       "  </thead>\n",
       "  <tbody>\n",
       "    <tr>\n",
       "      <th>0</th>\n",
       "      <td>2015</td>\n",
       "      <td>0</td>\n",
       "      <td>3</td>\n",
       "      <td>0</td>\n",
       "      <td>0</td>\n",
       "      <td>0.968127</td>\n",
       "    </tr>\n",
       "    <tr>\n",
       "      <th>1</th>\n",
       "      <td>2015</td>\n",
       "      <td>0</td>\n",
       "      <td>3</td>\n",
       "      <td>0</td>\n",
       "      <td>1</td>\n",
       "      <td>0.946381</td>\n",
       "    </tr>\n",
       "    <tr>\n",
       "      <th>2</th>\n",
       "      <td>2015</td>\n",
       "      <td>0</td>\n",
       "      <td>3</td>\n",
       "      <td>1</td>\n",
       "      <td>0</td>\n",
       "      <td>0.866667</td>\n",
       "    </tr>\n",
       "    <tr>\n",
       "      <th>3</th>\n",
       "      <td>2015</td>\n",
       "      <td>0</td>\n",
       "      <td>3</td>\n",
       "      <td>1</td>\n",
       "      <td>1</td>\n",
       "      <td>0.919298</td>\n",
       "    </tr>\n",
       "    <tr>\n",
       "      <th>4</th>\n",
       "      <td>2015</td>\n",
       "      <td>0</td>\n",
       "      <td>2</td>\n",
       "      <td>0</td>\n",
       "      <td>0</td>\n",
       "      <td>0.974713</td>\n",
       "    </tr>\n",
       "    <tr>\n",
       "      <th>...</th>\n",
       "      <td>...</td>\n",
       "      <td>...</td>\n",
       "      <td>...</td>\n",
       "      <td>...</td>\n",
       "      <td>...</td>\n",
       "      <td>...</td>\n",
       "    </tr>\n",
       "    <tr>\n",
       "      <th>396</th>\n",
       "      <td>2019</td>\n",
       "      <td>5</td>\n",
       "      <td>2</td>\n",
       "      <td>1</td>\n",
       "      <td>0</td>\n",
       "      <td>1.000000</td>\n",
       "    </tr>\n",
       "    <tr>\n",
       "      <th>397</th>\n",
       "      <td>2019</td>\n",
       "      <td>5</td>\n",
       "      <td>1</td>\n",
       "      <td>0</td>\n",
       "      <td>0</td>\n",
       "      <td>1.000000</td>\n",
       "    </tr>\n",
       "    <tr>\n",
       "      <th>398</th>\n",
       "      <td>2019</td>\n",
       "      <td>5</td>\n",
       "      <td>1</td>\n",
       "      <td>0</td>\n",
       "      <td>1</td>\n",
       "      <td>0.428571</td>\n",
       "    </tr>\n",
       "    <tr>\n",
       "      <th>399</th>\n",
       "      <td>2019</td>\n",
       "      <td>5</td>\n",
       "      <td>1</td>\n",
       "      <td>1</td>\n",
       "      <td>0</td>\n",
       "      <td>0.888889</td>\n",
       "    </tr>\n",
       "    <tr>\n",
       "      <th>400</th>\n",
       "      <td>2019</td>\n",
       "      <td>5</td>\n",
       "      <td>1</td>\n",
       "      <td>1</td>\n",
       "      <td>1</td>\n",
       "      <td>0.904762</td>\n",
       "    </tr>\n",
       "  </tbody>\n",
       "</table>\n",
       "<p>401 rows × 6 columns</p>\n",
       "</div>"
      ],
      "text/plain": [
       "     Year  Zone_EN  School_Type_EN  Gender_EN  LocalFlag_EN  Graduation\n",
       "0    2015        0               3          0             0    0.968127\n",
       "1    2015        0               3          0             1    0.946381\n",
       "2    2015        0               3          1             0    0.866667\n",
       "3    2015        0               3          1             1    0.919298\n",
       "4    2015        0               2          0             0    0.974713\n",
       "..    ...      ...             ...        ...           ...         ...\n",
       "396  2019        5               2          1             0    1.000000\n",
       "397  2019        5               1          0             0    1.000000\n",
       "398  2019        5               1          0             1    0.428571\n",
       "399  2019        5               1          1             0    0.888889\n",
       "400  2019        5               1          1             1    0.904762\n",
       "\n",
       "[401 rows x 6 columns]"
      ]
     },
     "execution_count": 18,
     "metadata": {},
     "output_type": "execute_result"
    }
   ],
   "source": [
    "df1\n"
   ]
  },
  {
   "cell_type": "code",
   "execution_count": 24,
   "id": "23dd6599",
   "metadata": {},
   "outputs": [
    {
     "name": "stdout",
     "output_type": "stream",
     "text": [
      "Epoch 1/50\n",
      "18/18 [==============================] - 1s 9ms/step - loss: 0.3014 - val_loss: 0.1379\n",
      "Epoch 2/50\n",
      "18/18 [==============================] - 0s 4ms/step - loss: 0.0775 - val_loss: 0.0519\n",
      "Epoch 3/50\n",
      "18/18 [==============================] - 0s 4ms/step - loss: 0.0377 - val_loss: 0.0310\n",
      "Epoch 4/50\n",
      "18/18 [==============================] - 0s 4ms/step - loss: 0.0266 - val_loss: 0.0250\n",
      "Epoch 5/50\n",
      "18/18 [==============================] - 0s 4ms/step - loss: 0.0221 - val_loss: 0.0215\n",
      "Epoch 6/50\n",
      "18/18 [==============================] - 0s 4ms/step - loss: 0.0196 - val_loss: 0.0204\n",
      "Epoch 7/50\n",
      "18/18 [==============================] - 0s 4ms/step - loss: 0.0177 - val_loss: 0.0177\n",
      "Epoch 8/50\n",
      "18/18 [==============================] - 0s 4ms/step - loss: 0.0164 - val_loss: 0.0164\n",
      "Epoch 9/50\n",
      "18/18 [==============================] - 0s 4ms/step - loss: 0.0149 - val_loss: 0.0157\n",
      "Epoch 10/50\n",
      "18/18 [==============================] - 0s 5ms/step - loss: 0.0140 - val_loss: 0.0150\n",
      "Epoch 11/50\n",
      "18/18 [==============================] - 0s 4ms/step - loss: 0.0133 - val_loss: 0.0146\n",
      "Epoch 12/50\n",
      "18/18 [==============================] - 0s 4ms/step - loss: 0.0124 - val_loss: 0.0139\n",
      "Epoch 13/50\n",
      "18/18 [==============================] - 0s 4ms/step - loss: 0.0117 - val_loss: 0.0143\n",
      "Epoch 14/50\n",
      "18/18 [==============================] - 0s 4ms/step - loss: 0.0112 - val_loss: 0.0136\n",
      "Epoch 15/50\n",
      "18/18 [==============================] - 0s 4ms/step - loss: 0.0108 - val_loss: 0.0130\n",
      "Epoch 16/50\n",
      "18/18 [==============================] - 0s 3ms/step - loss: 0.0104 - val_loss: 0.0134\n",
      "Epoch 17/50\n",
      "18/18 [==============================] - 0s 4ms/step - loss: 0.0097 - val_loss: 0.0130\n",
      "Epoch 18/50\n",
      "18/18 [==============================] - 0s 4ms/step - loss: 0.0094 - val_loss: 0.0127\n",
      "Epoch 19/50\n",
      "18/18 [==============================] - 0s 4ms/step - loss: 0.0096 - val_loss: 0.0128\n",
      "Epoch 20/50\n",
      "18/18 [==============================] - 0s 4ms/step - loss: 0.0086 - val_loss: 0.0124\n",
      "Epoch 21/50\n",
      "18/18 [==============================] - 0s 4ms/step - loss: 0.0080 - val_loss: 0.0120\n",
      "Epoch 22/50\n",
      "18/18 [==============================] - 0s 4ms/step - loss: 0.0075 - val_loss: 0.0120\n",
      "Epoch 23/50\n",
      "18/18 [==============================] - 0s 3ms/step - loss: 0.0073 - val_loss: 0.0118\n",
      "Epoch 24/50\n",
      "18/18 [==============================] - 0s 4ms/step - loss: 0.0073 - val_loss: 0.0114\n",
      "Epoch 25/50\n",
      "18/18 [==============================] - 0s 4ms/step - loss: 0.0067 - val_loss: 0.0119\n",
      "Epoch 26/50\n",
      "18/18 [==============================] - 0s 3ms/step - loss: 0.0065 - val_loss: 0.0117\n",
      "Epoch 27/50\n",
      "18/18 [==============================] - 0s 4ms/step - loss: 0.0064 - val_loss: 0.0107\n",
      "Epoch 28/50\n",
      "18/18 [==============================] - 0s 5ms/step - loss: 0.0063 - val_loss: 0.0107\n",
      "Epoch 29/50\n",
      "18/18 [==============================] - 0s 4ms/step - loss: 0.0060 - val_loss: 0.0109\n",
      "Epoch 30/50\n",
      "18/18 [==============================] - 0s 3ms/step - loss: 0.0059 - val_loss: 0.0110\n",
      "Epoch 31/50\n",
      "18/18 [==============================] - 0s 3ms/step - loss: 0.0056 - val_loss: 0.0112\n",
      "Epoch 32/50\n",
      "18/18 [==============================] - 0s 5ms/step - loss: 0.0057 - val_loss: 0.0107\n",
      "Epoch 33/50\n",
      "18/18 [==============================] - 0s 3ms/step - loss: 0.0058 - val_loss: 0.0102\n",
      "Epoch 34/50\n",
      "18/18 [==============================] - 0s 4ms/step - loss: 0.0054 - val_loss: 0.0103\n",
      "Epoch 35/50\n",
      "18/18 [==============================] - 0s 4ms/step - loss: 0.0052 - val_loss: 0.0102\n",
      "Epoch 36/50\n",
      "18/18 [==============================] - 0s 4ms/step - loss: 0.0053 - val_loss: 0.0106\n",
      "Epoch 37/50\n",
      "18/18 [==============================] - 0s 4ms/step - loss: 0.0049 - val_loss: 0.0101\n",
      "Epoch 38/50\n",
      "18/18 [==============================] - 0s 4ms/step - loss: 0.0050 - val_loss: 0.0099\n",
      "Epoch 39/50\n",
      "18/18 [==============================] - 0s 4ms/step - loss: 0.0050 - val_loss: 0.0107\n",
      "Epoch 40/50\n",
      "18/18 [==============================] - 0s 4ms/step - loss: 0.0050 - val_loss: 0.0113\n",
      "Epoch 41/50\n",
      "18/18 [==============================] - 0s 4ms/step - loss: 0.0048 - val_loss: 0.0100\n",
      "Epoch 42/50\n",
      "18/18 [==============================] - 0s 4ms/step - loss: 0.0048 - val_loss: 0.0106\n",
      "Epoch 43/50\n",
      "18/18 [==============================] - 0s 4ms/step - loss: 0.0047 - val_loss: 0.0099\n",
      "Epoch 44/50\n",
      "18/18 [==============================] - 0s 4ms/step - loss: 0.0044 - val_loss: 0.0101\n",
      "Epoch 45/50\n",
      "18/18 [==============================] - 0s 4ms/step - loss: 0.0043 - val_loss: 0.0095\n",
      "Epoch 46/50\n",
      "18/18 [==============================] - 0s 4ms/step - loss: 0.0043 - val_loss: 0.0094\n",
      "Epoch 47/50\n",
      "18/18 [==============================] - 0s 4ms/step - loss: 0.0044 - val_loss: 0.0097\n",
      "Epoch 48/50\n",
      "18/18 [==============================] - 0s 4ms/step - loss: 0.0045 - val_loss: 0.0099\n",
      "Epoch 49/50\n",
      "18/18 [==============================] - 0s 3ms/step - loss: 0.0043 - val_loss: 0.0093\n",
      "Epoch 50/50\n",
      "18/18 [==============================] - 0s 4ms/step - loss: 0.0042 - val_loss: 0.0093\n",
      "3/3 [==============================] - 0s 2ms/step - loss: 0.0120\n",
      "Loss: 0.01195456925779581\n"
     ]
    }
   ],
   "source": [
    "import numpy as np\n",
    "import pandas as pd\n",
    "import tensorflow as tf\n",
    "from tensorflow.keras.layers import Dense, Input\n",
    "from tensorflow.keras.models import Model\n",
    "from sklearn.model_selection import train_test_split\n",
    "from sklearn.preprocessing import StandardScaler\n",
    "import matplotlib.pyplot as plt\n",
    "\n",
    "# Assuming you have the DataFrame named 'df1' with your data\n",
    "# Make sure you have all the predictor variables and the target variable in 'df1'\n",
    "\n",
    "# Extract the predictor variables (X) and target variable (y)\n",
    "X = df1[['Year', 'Zone_EN', 'School_Type_EN', 'Gender_EN', 'LocalFlag_EN']].values\n",
    "y = df1['Graduation'].values\n",
    "\n",
    "# Scale the predictor variables for better model performance\n",
    "scaler = StandardScaler()\n",
    "X = scaler.fit_transform(X)\n",
    "\n",
    "# Split the data into training and test sets\n",
    "X_train, X_test, y_train, y_test = train_test_split(X, y, test_size=0.2, random_state=42)\n",
    "\n",
    "# Define the architecture of the neural network model\n",
    "inputs = Input(shape=(5,))\n",
    "hidden_layer1 = Dense(64, activation='relu')(inputs)\n",
    "hidden_layer2 = Dense(32, activation='relu')(hidden_layer1)\n",
    "output_layer = Dense(1)(hidden_layer2)  # No activation function for regression\n",
    "\n",
    "# Create the model\n",
    "model = Model(inputs=inputs, outputs=output_layer)\n",
    "\n",
    "# Compile the model\n",
    "model.compile(optimizer='adam', loss='mean_squared_error')\n",
    "\n",
    "# Train the model and monitor the training and validation loss\n",
    "history = model.fit(X_train, y_train, epochs=50, batch_size=16, validation_split=0.1)\n",
    "\n",
    "# Evaluate the model on the test set\n",
    "loss = model.evaluate(X_test, y_test)\n",
    "print(f'Loss: {loss}')\n",
    "\n",
    "\n"
   ]
  },
  {
   "cell_type": "code",
   "execution_count": 25,
   "id": "d56823b6",
   "metadata": {},
   "outputs": [
    {
     "data": {
      "image/png": "[encoded data removed]",
      "text/plain": [
       "<Figure size 640x480 with 1 Axes>"
      ]
     },
     "metadata": {},
     "output_type": "display_data"
    }
   ],
   "source": [
    "# Plot the learning curve (training loss and validation loss)\n",
    "plt.plot(history.history['loss'], label='Training Loss')\n",
    "plt.plot(history.history['val_loss'], label='Validation Loss')\n",
    "plt.xlabel('Epoch')\n",
    "plt.ylabel('Loss')\n",
    "plt.legend()\n",
    "plt.show()"
   ]
  },
  {
   "cell_type": "markdown",
   "id": "eaac4260",
   "metadata": {},
   "source": [
    "A loss value of 0.01195456925779581 can be considered good \n",
    "\n",
    "The learning curve and monitor in the training and validation losses remain close to each other. they are both low and relatively similar, it suggests that the model generalizes well and is less likely to be overfitting."
   ]
  }
 ],
 "metadata": {
  "kernelspec": {
   "display_name": "Python 3 (ipykernel)",
   "language": "python",
   "name": "python3"
  },
  "language_info": {
   "codemirror_mode": {
    "name": "ipython",
    "version": 3
   },
   "file_extension": ".py",
   "mimetype": "text/x-python",
   "name": "python",
   "nbconvert_exporter": "python",
   "pygments_lexer": "ipython3",
   "version": "3.11.3"
  }
 },
 "nbformat": 4,
 "nbformat_minor": 5
}
