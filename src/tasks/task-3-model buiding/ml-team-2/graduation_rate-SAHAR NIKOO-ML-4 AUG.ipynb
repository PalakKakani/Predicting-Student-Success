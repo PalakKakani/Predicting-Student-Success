{
 "cells": [
  {
   "cell_type": "code",
   "execution_count": 1,
   "id": "54fb29de",
   "metadata": {},
   "outputs": [],
   "source": [
    "# dataset: graduation-rate-by-zone-school-type-school-stage-gender-nationality-group-ds"
   ]
  },
  {
   "cell_type": "code",
   "execution_count": 2,
   "id": "443c19ba",
   "metadata": {},
   "outputs": [],
   "source": [
    "import pandas as pd\n",
    "from scipy import stats\n",
    "import numpy as np\n",
    "import scipy\n",
    "import matplotlib.pyplot as plt\n",
    "import seaborn as sns\n",
    "%matplotlib inline\n",
    "import datetime\n",
    "import statsmodels.formula.api as sm\n",
    "from statsmodels.graphics.regressionplots import plot_regress_exog, plot_fit, plot_leverage_resid2, influence_plot\n",
    "from sklearn.compose import ColumnTransformer\n",
    "from sklearn.pipeline import Pipeline\n",
    "from sklearn.preprocessing import OneHotEncoder\n",
    "from sklearn.preprocessing import StandardScaler\n",
    "from sklearn.preprocessing import MinMaxScaler\n",
    "from sklearn.impute import SimpleImputer\n",
    "from sklearn.preprocessing import FunctionTransformer\n",
    "from sklearn.model_selection import train_test_split\n",
    "from sklearn import preprocessing\n",
    "from sklearn import tree\n",
    "from sklearn.model_selection import cross_val_score\n",
    "from sklearn.metrics import mean_squared_error, r2_score\n",
    "import plotly.express as px\n",
    "import plotly.graph_objects as go\n",
    "\n",
    "import warnings\n",
    "warnings.filterwarnings('ignore') "
   ]
  },
  {
   "cell_type": "code",
   "execution_count": 3,
   "id": "b9b63f5a",
   "metadata": {},
   "outputs": [
    {
     "data": {
      "text/html": [
       "<div>\n",
       "<style scoped>\n",
       "    .dataframe tbody tr th:only-of-type {\n",
       "        vertical-align: middle;\n",
       "    }\n",
       "\n",
       "    .dataframe tbody tr th {\n",
       "        vertical-align: top;\n",
       "    }\n",
       "\n",
       "    .dataframe thead th {\n",
       "        text-align: right;\n",
       "    }\n",
       "</style>\n",
       "<table border=\"1\" class=\"dataframe\">\n",
       "  <thead>\n",
       "    <tr style=\"text-align: right;\">\n",
       "      <th></th>\n",
       "      <th>Year</th>\n",
       "      <th>Zone_EN</th>\n",
       "      <th>Coordinates</th>\n",
       "      <th>School_Type_EN</th>\n",
       "      <th>School_Stage_EN</th>\n",
       "      <th>Gender_EN</th>\n",
       "      <th>Unnamed: 6</th>\n",
       "      <th>LocalFlag_EN</th>\n",
       "      <th>Number of Failed students</th>\n",
       "      <th>Number of Pass students</th>\n",
       "      <th>Total Number of Students</th>\n",
       "      <th>Graduation %</th>\n",
       "    </tr>\n",
       "  </thead>\n",
       "  <tbody>\n",
       "    <tr>\n",
       "      <th>0</th>\n",
       "      <td>2015</td>\n",
       "      <td>Ajman</td>\n",
       "      <td>25.244000,55.266140</td>\n",
       "      <td>Public Schools</td>\n",
       "      <td>Cycle 3</td>\n",
       "      <td>Female</td>\n",
       "      <td>NaN</td>\n",
       "      <td>Expat</td>\n",
       "      <td>8</td>\n",
       "      <td>243</td>\n",
       "      <td>251</td>\n",
       "      <td>0.968127</td>\n",
       "    </tr>\n",
       "    <tr>\n",
       "      <th>1</th>\n",
       "      <td>2015</td>\n",
       "      <td>Ajman</td>\n",
       "      <td>25.244000,55.266140</td>\n",
       "      <td>Public Schools</td>\n",
       "      <td>Cycle 3</td>\n",
       "      <td>Female</td>\n",
       "      <td>NaN</td>\n",
       "      <td>Local</td>\n",
       "      <td>20</td>\n",
       "      <td>353</td>\n",
       "      <td>373</td>\n",
       "      <td>0.946381</td>\n",
       "    </tr>\n",
       "    <tr>\n",
       "      <th>2</th>\n",
       "      <td>2015</td>\n",
       "      <td>Ajman</td>\n",
       "      <td>25.244000,55.266140</td>\n",
       "      <td>Public Schools</td>\n",
       "      <td>Cycle 3</td>\n",
       "      <td>Male</td>\n",
       "      <td>NaN</td>\n",
       "      <td>Expat</td>\n",
       "      <td>28</td>\n",
       "      <td>182</td>\n",
       "      <td>210</td>\n",
       "      <td>0.866667</td>\n",
       "    </tr>\n",
       "    <tr>\n",
       "      <th>3</th>\n",
       "      <td>2015</td>\n",
       "      <td>Ajman</td>\n",
       "      <td>25.244000,55.266140</td>\n",
       "      <td>Public Schools</td>\n",
       "      <td>Cycle 3</td>\n",
       "      <td>Male</td>\n",
       "      <td>NaN</td>\n",
       "      <td>Local</td>\n",
       "      <td>23</td>\n",
       "      <td>262</td>\n",
       "      <td>285</td>\n",
       "      <td>0.919298</td>\n",
       "    </tr>\n",
       "    <tr>\n",
       "      <th>4</th>\n",
       "      <td>2015</td>\n",
       "      <td>Ajman</td>\n",
       "      <td>25.244000,55.266140</td>\n",
       "      <td>Private Schools</td>\n",
       "      <td>Cycle 3</td>\n",
       "      <td>Female</td>\n",
       "      <td>NaN</td>\n",
       "      <td>Expat</td>\n",
       "      <td>11</td>\n",
       "      <td>424</td>\n",
       "      <td>435</td>\n",
       "      <td>0.974713</td>\n",
       "    </tr>\n",
       "  </tbody>\n",
       "</table>\n",
       "</div>"
      ],
      "text/plain": [
       "   Year Zone_EN          Coordinates   School_Type_EN School_Stage_EN  \\\n",
       "0  2015   Ajman  25.244000,55.266140   Public Schools         Cycle 3   \n",
       "1  2015   Ajman  25.244000,55.266140   Public Schools         Cycle 3   \n",
       "2  2015   Ajman  25.244000,55.266140   Public Schools         Cycle 3   \n",
       "3  2015   Ajman  25.244000,55.266140   Public Schools         Cycle 3   \n",
       "4  2015   Ajman  25.244000,55.266140  Private Schools         Cycle 3   \n",
       "\n",
       "  Gender_EN  Unnamed: 6 LocalFlag_EN  Number of Failed students  \\\n",
       "0    Female         NaN        Expat                          8   \n",
       "1    Female         NaN        Local                         20   \n",
       "2      Male         NaN        Expat                         28   \n",
       "3      Male         NaN        Local                         23   \n",
       "4    Female         NaN        Expat                         11   \n",
       "\n",
       "   Number of Pass students  Total Number of Students  Graduation %  \n",
       "0                      243                       251      0.968127  \n",
       "1                      353                       373      0.946381  \n",
       "2                      182                       210      0.866667  \n",
       "3                      262                       285      0.919298  \n",
       "4                      424                       435      0.974713  "
      ]
     },
     "execution_count": 3,
     "metadata": {},
     "output_type": "execute_result"
    }
   ],
   "source": [
    "df = pd.read_excel('graduation_rate.xlsx')\n",
    "df.head()"
   ]
  },
  {
   "cell_type": "code",
   "execution_count": 4,
   "id": "219d60f4",
   "metadata": {},
   "outputs": [],
   "source": [
    "# Dropping \"Coordinates\" and \"School_Stage_EN\"\n",
    "df = df.drop([\"Coordinates\" , \"School_Stage_EN\",\"Unnamed: 6\" ], axis=1)"
   ]
  },
  {
   "cell_type": "code",
   "execution_count": 5,
   "id": "336cfde6",
   "metadata": {},
   "outputs": [
    {
     "name": "stdout",
     "output_type": "stream",
     "text": [
      "<class 'pandas.core.frame.DataFrame'>\n",
      "RangeIndex: 401 entries, 0 to 400\n",
      "Data columns (total 9 columns):\n",
      " #   Column                     Non-Null Count  Dtype  \n",
      "---  ------                     --------------  -----  \n",
      " 0   Year                       401 non-null    int64  \n",
      " 1   Zone_EN                    401 non-null    object \n",
      " 2   School_Type_EN             401 non-null    object \n",
      " 3   Gender_EN                  401 non-null    object \n",
      " 4   LocalFlag_EN               401 non-null    object \n",
      " 5   Number of Failed students  401 non-null    int64  \n",
      " 6   Number of Pass students    401 non-null    int64  \n",
      " 7   Total Number of Students   401 non-null    int64  \n",
      " 8   Graduation %               401 non-null    float64\n",
      "dtypes: float64(1), int64(4), object(4)\n",
      "memory usage: 28.3+ KB\n"
     ]
    }
   ],
   "source": [
    "df.info()"
   ]
  },
  {
   "cell_type": "code",
   "execution_count": 6,
   "id": "0a53ecf9",
   "metadata": {
    "scrolled": true
   },
   "outputs": [
    {
     "data": {
      "text/html": [
       "<div>\n",
       "<style scoped>\n",
       "    .dataframe tbody tr th:only-of-type {\n",
       "        vertical-align: middle;\n",
       "    }\n",
       "\n",
       "    .dataframe tbody tr th {\n",
       "        vertical-align: top;\n",
       "    }\n",
       "\n",
       "    .dataframe thead th {\n",
       "        text-align: right;\n",
       "    }\n",
       "</style>\n",
       "<table border=\"1\" class=\"dataframe\">\n",
       "  <thead>\n",
       "    <tr style=\"text-align: right;\">\n",
       "      <th></th>\n",
       "      <th>Year</th>\n",
       "      <th>Zone_EN</th>\n",
       "      <th>School_Type_EN</th>\n",
       "      <th>Gender_EN</th>\n",
       "      <th>LocalFlag_EN</th>\n",
       "      <th>Number of Failed students</th>\n",
       "      <th>Number of Pass students</th>\n",
       "      <th>Total Number of Students</th>\n",
       "      <th>Graduation %</th>\n",
       "    </tr>\n",
       "  </thead>\n",
       "  <tbody>\n",
       "    <tr>\n",
       "      <th>0</th>\n",
       "      <td>2015</td>\n",
       "      <td>Ajman</td>\n",
       "      <td>Public Schools</td>\n",
       "      <td>Female</td>\n",
       "      <td>Expat</td>\n",
       "      <td>8</td>\n",
       "      <td>243</td>\n",
       "      <td>251</td>\n",
       "      <td>0.968127</td>\n",
       "    </tr>\n",
       "    <tr>\n",
       "      <th>1</th>\n",
       "      <td>2015</td>\n",
       "      <td>Ajman</td>\n",
       "      <td>Public Schools</td>\n",
       "      <td>Female</td>\n",
       "      <td>Local</td>\n",
       "      <td>20</td>\n",
       "      <td>353</td>\n",
       "      <td>373</td>\n",
       "      <td>0.946381</td>\n",
       "    </tr>\n",
       "    <tr>\n",
       "      <th>2</th>\n",
       "      <td>2015</td>\n",
       "      <td>Ajman</td>\n",
       "      <td>Public Schools</td>\n",
       "      <td>Male</td>\n",
       "      <td>Expat</td>\n",
       "      <td>28</td>\n",
       "      <td>182</td>\n",
       "      <td>210</td>\n",
       "      <td>0.866667</td>\n",
       "    </tr>\n",
       "    <tr>\n",
       "      <th>3</th>\n",
       "      <td>2015</td>\n",
       "      <td>Ajman</td>\n",
       "      <td>Public Schools</td>\n",
       "      <td>Male</td>\n",
       "      <td>Local</td>\n",
       "      <td>23</td>\n",
       "      <td>262</td>\n",
       "      <td>285</td>\n",
       "      <td>0.919298</td>\n",
       "    </tr>\n",
       "    <tr>\n",
       "      <th>4</th>\n",
       "      <td>2015</td>\n",
       "      <td>Ajman</td>\n",
       "      <td>Private Schools</td>\n",
       "      <td>Female</td>\n",
       "      <td>Expat</td>\n",
       "      <td>11</td>\n",
       "      <td>424</td>\n",
       "      <td>435</td>\n",
       "      <td>0.974713</td>\n",
       "    </tr>\n",
       "  </tbody>\n",
       "</table>\n",
       "</div>"
      ],
      "text/plain": [
       "   Year Zone_EN   School_Type_EN Gender_EN LocalFlag_EN  \\\n",
       "0  2015   Ajman   Public Schools    Female        Expat   \n",
       "1  2015   Ajman   Public Schools    Female        Local   \n",
       "2  2015   Ajman   Public Schools      Male        Expat   \n",
       "3  2015   Ajman   Public Schools      Male        Local   \n",
       "4  2015   Ajman  Private Schools    Female        Expat   \n",
       "\n",
       "   Number of Failed students  Number of Pass students  \\\n",
       "0                          8                      243   \n",
       "1                         20                      353   \n",
       "2                         28                      182   \n",
       "3                         23                      262   \n",
       "4                         11                      424   \n",
       "\n",
       "   Total Number of Students  Graduation %  \n",
       "0                       251      0.968127  \n",
       "1                       373      0.946381  \n",
       "2                       210      0.866667  \n",
       "3                       285      0.919298  \n",
       "4                       435      0.974713  "
      ]
     },
     "execution_count": 6,
     "metadata": {},
     "output_type": "execute_result"
    }
   ],
   "source": [
    "df.head()"
   ]
  },
  {
   "cell_type": "markdown",
   "id": "d79889de",
   "metadata": {},
   "source": [
    "# **Modeling - Target: Graduation %**"
   ]
  },
  {
   "cell_type": "code",
   "execution_count": 7,
   "id": "252406be",
   "metadata": {},
   "outputs": [],
   "source": [
    "# Encoding catagorical columns to numerical:\n",
    "\n",
    "df['Zone_EN'] = df['Zone_EN'].map({'Ajman': 0, 'Fujairah': 1, \"DUBAI\":2, \"Ras AlKhaima\":3, \"Sharjah\": 4, \"Umm AlQuwain\": 5,})\n",
    "df['School_Type_EN'] = df['School_Type_EN'].map({'Public Schools': 0, 'Continuing Education Centers': 1, \"Private Schools\":2, \"ACTVET\":3})\n",
    "df['Gender_EN'] = df['Gender_EN'].map({'Female': 0, 'Male': 1})\n",
    "df['LocalFlag_EN'] = df['LocalFlag_EN'].map({'Local': 0, 'Expat': 1})\n"
   ]
  },
  {
   "cell_type": "code",
   "execution_count": 8,
   "id": "21c70e63",
   "metadata": {},
   "outputs": [],
   "source": [
    "num_var = ['Number of Pass students',\"Number of Failed students\", \"Total Number of Students\"]\n",
    "cat_var = ['Year','Zone_EN', \"School_Type_EN\", \"Gender_EN\", \"LocalFlag_EN\" , ]\n",
    "y = df['Graduation %']\n",
    "X = df[cat_var + num_var]\n",
    "y = pd.DataFrame(y, columns=['Graduation %'])"
   ]
  },
  {
   "cell_type": "code",
   "execution_count": 9,
   "id": "71bfc424",
   "metadata": {},
   "outputs": [],
   "source": [
    "#X"
   ]
  },
  {
   "cell_type": "code",
   "execution_count": 10,
   "id": "3ef28d20",
   "metadata": {},
   "outputs": [
    {
     "name": "stdout",
     "output_type": "stream",
     "text": [
      "<class 'pandas.core.frame.DataFrame'>\n",
      "<class 'pandas.core.frame.DataFrame'>\n"
     ]
    }
   ],
   "source": [
    "print(type(X))\n",
    "print(type(y))"
   ]
  },
  {
   "cell_type": "code",
   "execution_count": 11,
   "id": "4753d89e",
   "metadata": {},
   "outputs": [
    {
     "name": "stdout",
     "output_type": "stream",
     "text": [
      "X_train.shape: (320, 8)\n",
      "X_test.shape: (81, 8)\n",
      "y_train.shape: (320, 1)\n",
      "y_test.shape: (81, 1)\n"
     ]
    }
   ],
   "source": [
    "# Train-test split:\n",
    "\n",
    "X_train, X_test, y_train, y_test = train_test_split(X, y, test_size=0.2, random_state=123)\n",
    "\n",
    "print(f\"X_train.shape: {X_train.shape}\")\n",
    "print(f\"X_test.shape: {X_test.shape}\")\n",
    "print(f\"y_train.shape: {y_train.shape}\")\n",
    "print(f\"y_test.shape: {y_test.shape}\")"
   ]
  },
  {
   "cell_type": "code",
   "execution_count": 12,
   "id": "de819a4e",
   "metadata": {},
   "outputs": [],
   "source": [
    "#X_train"
   ]
  },
  {
   "cell_type": "code",
   "execution_count": 13,
   "id": "192d1512",
   "metadata": {},
   "outputs": [],
   "source": [
    "# Preprocessing with pipelines\n",
    "\n",
    "from sklearn.pipeline import Pipeline  \n",
    "from sklearn.compose import ColumnTransformer \n",
    "from sklearn.preprocessing import MinMaxScaler, OneHotEncoder \n",
    "\n",
    "\n",
    "pipeline_categorical = Pipeline([('onehot', OneHotEncoder(handle_unknown=\"ignore\")),])\n",
    "\n",
    "pipeline_numerical = Pipeline([('scaler', MinMaxScaler(feature_range=(0,1))),])\n",
    "\n",
    "pipeline_full = ColumnTransformer([(\"categorical\", pipeline_categorical, cat_var),\n",
    "                                   (\"numerical\", pipeline_numerical, num_var),])"
   ]
  },
  {
   "cell_type": "code",
   "execution_count": 14,
   "id": "58385415",
   "metadata": {},
   "outputs": [
    {
     "name": "stdout",
     "output_type": "stream",
     "text": [
      "X_train_transformed.shape: (320, 22)\n",
      "X_test_transformed.shape: (81, 22)\n",
      "\n",
      "X_train_transformed: <class 'numpy.ndarray'>\n",
      "X_test_transformed: <class 'numpy.ndarray'>\n"
     ]
    }
   ],
   "source": [
    "# Apply the pipeline\n",
    "\n",
    "pipeline_full.fit(X_train)\n",
    "\n",
    "X_train_transformed = pipeline_full.transform(X_train)\n",
    "X_test_transformed = pipeline_full.transform(X_test)\n",
    "\n",
    "print(f\"X_train_transformed.shape: {X_train_transformed.shape}\")\n",
    "print(f\"X_test_transformed.shape: {X_test_transformed.shape}\")\n",
    "print()\n",
    "print('X_train_transformed:', type(X_train_transformed))\n",
    "print('X_test_transformed:', type(X_test_transformed))"
   ]
  },
  {
   "cell_type": "markdown",
   "id": "51f8139e",
   "metadata": {},
   "source": [
    "**Linear Regression**"
   ]
  },
  {
   "cell_type": "code",
   "execution_count": 15,
   "id": "c9681a6a",
   "metadata": {},
   "outputs": [
    {
     "data": {
      "text/html": [
       "<style>#sk-container-id-1 {color: black;background-color: white;}#sk-container-id-1 pre{padding: 0;}#sk-container-id-1 div.sk-toggleable {background-color: white;}#sk-container-id-1 label.sk-toggleable__label {cursor: pointer;display: block;width: 100%;margin-bottom: 0;padding: 0.3em;box-sizing: border-box;text-align: center;}#sk-container-id-1 label.sk-toggleable__label-arrow:before {content: \"▸\";float: left;margin-right: 0.25em;color: #696969;}#sk-container-id-1 label.sk-toggleable__label-arrow:hover:before {color: black;}#sk-container-id-1 div.sk-estimator:hover label.sk-toggleable__label-arrow:before {color: black;}#sk-container-id-1 div.sk-toggleable__content {max-height: 0;max-width: 0;overflow: hidden;text-align: left;background-color: #f0f8ff;}#sk-container-id-1 div.sk-toggleable__content pre {margin: 0.2em;color: black;border-radius: 0.25em;background-color: #f0f8ff;}#sk-container-id-1 input.sk-toggleable__control:checked~div.sk-toggleable__content {max-height: 200px;max-width: 100%;overflow: auto;}#sk-container-id-1 input.sk-toggleable__control:checked~label.sk-toggleable__label-arrow:before {content: \"▾\";}#sk-container-id-1 div.sk-estimator input.sk-toggleable__control:checked~label.sk-toggleable__label {background-color: #d4ebff;}#sk-container-id-1 div.sk-label input.sk-toggleable__control:checked~label.sk-toggleable__label {background-color: #d4ebff;}#sk-container-id-1 input.sk-hidden--visually {border: 0;clip: rect(1px 1px 1px 1px);clip: rect(1px, 1px, 1px, 1px);height: 1px;margin: -1px;overflow: hidden;padding: 0;position: absolute;width: 1px;}#sk-container-id-1 div.sk-estimator {font-family: monospace;background-color: #f0f8ff;border: 1px dotted black;border-radius: 0.25em;box-sizing: border-box;margin-bottom: 0.5em;}#sk-container-id-1 div.sk-estimator:hover {background-color: #d4ebff;}#sk-container-id-1 div.sk-parallel-item::after {content: \"\";width: 100%;border-bottom: 1px solid gray;flex-grow: 1;}#sk-container-id-1 div.sk-label:hover label.sk-toggleable__label {background-color: #d4ebff;}#sk-container-id-1 div.sk-serial::before {content: \"\";position: absolute;border-left: 1px solid gray;box-sizing: border-box;top: 0;bottom: 0;left: 50%;z-index: 0;}#sk-container-id-1 div.sk-serial {display: flex;flex-direction: column;align-items: center;background-color: white;padding-right: 0.2em;padding-left: 0.2em;position: relative;}#sk-container-id-1 div.sk-item {position: relative;z-index: 1;}#sk-container-id-1 div.sk-parallel {display: flex;align-items: stretch;justify-content: center;background-color: white;position: relative;}#sk-container-id-1 div.sk-item::before, #sk-container-id-1 div.sk-parallel-item::before {content: \"\";position: absolute;border-left: 1px solid gray;box-sizing: border-box;top: 0;bottom: 0;left: 50%;z-index: -1;}#sk-container-id-1 div.sk-parallel-item {display: flex;flex-direction: column;z-index: 1;position: relative;background-color: white;}#sk-container-id-1 div.sk-parallel-item:first-child::after {align-self: flex-end;width: 50%;}#sk-container-id-1 div.sk-parallel-item:last-child::after {align-self: flex-start;width: 50%;}#sk-container-id-1 div.sk-parallel-item:only-child::after {width: 0;}#sk-container-id-1 div.sk-dashed-wrapped {border: 1px dashed gray;margin: 0 0.4em 0.5em 0.4em;box-sizing: border-box;padding-bottom: 0.4em;background-color: white;}#sk-container-id-1 div.sk-label label {font-family: monospace;font-weight: bold;display: inline-block;line-height: 1.2em;}#sk-container-id-1 div.sk-label-container {text-align: center;}#sk-container-id-1 div.sk-container {/* jupyter's `normalize.less` sets `[hidden] { display: none; }` but bootstrap.min.css set `[hidden] { display: none !important; }` so we also need the `!important` here to be able to override the default hidden behavior on the sphinx rendered scikit-learn.org. See: https://github.com/scikit-learn/scikit-learn/issues/21755 */display: inline-block !important;position: relative;}#sk-container-id-1 div.sk-text-repr-fallback {display: none;}</style><div id=\"sk-container-id-1\" class=\"sk-top-container\"><div class=\"sk-text-repr-fallback\"><pre>LinearRegression()</pre><b>In a Jupyter environment, please rerun this cell to show the HTML representation or trust the notebook. <br />On GitHub, the HTML representation is unable to render, please try loading this page with nbviewer.org.</b></div><div class=\"sk-container\" hidden><div class=\"sk-item\"><div class=\"sk-estimator sk-toggleable\"><input class=\"sk-toggleable__control sk-hidden--visually\" id=\"sk-estimator-id-1\" type=\"checkbox\" checked><label for=\"sk-estimator-id-1\" class=\"sk-toggleable__label sk-toggleable__label-arrow\">LinearRegression</label><div class=\"sk-toggleable__content\"><pre>LinearRegression()</pre></div></div></div></div></div>"
      ],
      "text/plain": [
       "LinearRegression()"
      ]
     },
     "execution_count": 15,
     "metadata": {},
     "output_type": "execute_result"
    }
   ],
   "source": [
    "from sklearn.linear_model import LinearRegression\n",
    "lin_reg = LinearRegression()\n",
    "lin_reg.fit(X_train_transformed, y_train)"
   ]
  },
  {
   "cell_type": "code",
   "execution_count": 16,
   "id": "1aec6b6d",
   "metadata": {},
   "outputs": [],
   "source": [
    "y_pred =lin_reg.predict(X_test_transformed)\n",
    "#y_pred"
   ]
  },
  {
   "cell_type": "code",
   "execution_count": 17,
   "id": "fb99a588",
   "metadata": {
    "scrolled": true
   },
   "outputs": [
    {
     "name": "stdout",
     "output_type": "stream",
     "text": [
      "Predicted 1-5: [[0.66699219]\n",
      " [0.89941406]\n",
      " [1.00878906]\n",
      " [0.96386719]\n",
      " [0.97949219]]\n",
      "Actual 1-5:      Graduation %\n",
      "373      0.788321\n",
      "42       0.918089\n",
      "107      0.974548\n",
      "218      0.987500\n",
      "369      1.000000\n"
     ]
    }
   ],
   "source": [
    "print(\"Predicted 1-5:\", y_pred[0:5])\n",
    "print(\"Actual 1-5:\", y_test[0:5])"
   ]
  },
  {
   "cell_type": "code",
   "execution_count": 18,
   "id": "a3cdce65",
   "metadata": {
    "scrolled": true
   },
   "outputs": [
    {
     "name": "stdout",
     "output_type": "stream",
     "text": [
      "Mean_Squared_Error(MSE):  0.005\n",
      "Mean_Absolute_Error(MEA): 0.05\n",
      "R2_Score: 0.767\n",
      "RMSE: 0.072\n",
      "Root_Mean_Squared_Log_Error(RMSLE): -2.624\n"
     ]
    }
   ],
   "source": [
    "from sklearn import metrics\n",
    "from sklearn.metrics import mean_squared_error, r2_score\n",
    "\n",
    "# MSE (Mean Squared Error):\n",
    "print(\"Mean_Squared_Error(MSE): \" , round(mean_squared_error(y_test, y_pred),3))\n",
    "\n",
    "# Mean_Absolute_Error (MAE)\n",
    "print('Mean_Absolute_Error(MEA):', round(metrics.mean_absolute_error(y_test, y_pred),3))  \n",
    "\n",
    "# R2_score \n",
    "print('R2_Score:', round(metrics.r2_score(y_test, y_pred),3))\n",
    "\n",
    "# RMSE (Root Mean Squared Error):\n",
    "RMSE = round(np.sqrt(mean_squared_error(y_test, y_pred)),3)\n",
    "print('RMSE:', RMSE)\n",
    "\n",
    "# Root_ Mean_Squared_Log_Error (RMSLE)\n",
    "print('Root_Mean_Squared_Log_Error(RMSLE):', round(np.log(np.sqrt(metrics.mean_squared_error(y_test, y_pred))),3))\n"
   ]
  },
  {
   "cell_type": "code",
   "execution_count": 19,
   "id": "ba5acd58",
   "metadata": {},
   "outputs": [],
   "source": [
    "MSE= round(mean_squared_error(y_test, y_pred),3)\n",
    "MAE= round(metrics.mean_absolute_error(y_test, y_pred),3)\n",
    "R2_Score= round(metrics.r2_score(y_test, y_pred),3)\n",
    "RMSE= round(np.sqrt(mean_squared_error(y_test, y_pred)),3)\n",
    "RMSLE= round(np.log(np.sqrt(metrics.mean_squared_error(y_test, y_pred))),3)"
   ]
  },
  {
   "cell_type": "code",
   "execution_count": 20,
   "id": "a4ffbc89",
   "metadata": {},
   "outputs": [
    {
     "data": {
      "text/html": [
       "<div>\n",
       "<style scoped>\n",
       "    .dataframe tbody tr th:only-of-type {\n",
       "        vertical-align: middle;\n",
       "    }\n",
       "\n",
       "    .dataframe tbody tr th {\n",
       "        vertical-align: top;\n",
       "    }\n",
       "\n",
       "    .dataframe thead th {\n",
       "        text-align: right;\n",
       "    }\n",
       "</style>\n",
       "<table border=\"1\" class=\"dataframe\">\n",
       "  <thead>\n",
       "    <tr style=\"text-align: right;\">\n",
       "      <th></th>\n",
       "      <th>Model</th>\n",
       "      <th>MSE</th>\n",
       "      <th>MAE</th>\n",
       "      <th>R2_Score</th>\n",
       "      <th>RMSE</th>\n",
       "      <th>RMSLE</th>\n",
       "    </tr>\n",
       "  </thead>\n",
       "  <tbody>\n",
       "    <tr>\n",
       "      <th>0</th>\n",
       "      <td>Linear_Reg</td>\n",
       "      <td>0.005</td>\n",
       "      <td>0.05</td>\n",
       "      <td>0.767</td>\n",
       "      <td>0.072</td>\n",
       "      <td>-2.624</td>\n",
       "    </tr>\n",
       "  </tbody>\n",
       "</table>\n",
       "</div>"
      ],
      "text/plain": [
       "        Model    MSE   MAE  R2_Score   RMSE  RMSLE\n",
       "0  Linear_Reg  0.005  0.05     0.767  0.072 -2.624"
      ]
     },
     "execution_count": 20,
     "metadata": {},
     "output_type": "execute_result"
    }
   ],
   "source": [
    "Results_LinearReg = pd.DataFrame([['Linear_Reg', MSE , MAE, R2_Score , RMSE, RMSLE]],\n",
    "               columns = ['Model', 'MSE', 'MAE', 'R2_Score' , 'RMSE', 'RMSLE'])\n",
    "Results_LinearReg"
   ]
  },
  {
   "cell_type": "code",
   "execution_count": 21,
   "id": "25dffb14",
   "metadata": {},
   "outputs": [
    {
     "name": "stdout",
     "output_type": "stream",
     "text": [
      "Scores: [0.09983722 0.09350969 0.09634537 0.0825675  0.076621  ]\n",
      "Mean: 0.08977615602280561\n",
      "Standard deviation: 0.008756047836921596\n"
     ]
    }
   ],
   "source": [
    "# Cross-validation On Traing set:\n",
    "\n",
    "scores = cross_val_score(lin_reg, X_train_transformed, y_train, cv=5, scoring='neg_mean_squared_error')\n",
    "\n",
    "print(\"Scores:\", np.sqrt(-scores))\n",
    "print(\"Mean:\", np.sqrt(-scores).mean())\n",
    "print(\"Standard deviation:\", np.sqrt(-scores).std())"
   ]
  },
  {
   "cell_type": "code",
   "execution_count": 22,
   "id": "4f21d67a",
   "metadata": {},
   "outputs": [
    {
     "name": "stdout",
     "output_type": "stream",
     "text": [
      "Mean Accuracy:  70.398 % Variance:  0.395 %\n"
     ]
    }
   ],
   "source": [
    "# Cross-validation On Traing set:\n",
    "\n",
    "cv_scores = cross_val_score(lin_reg, X_train_transformed, y_train, cv=5)\n",
    "print('Mean Accuracy: ', round(cv_scores.mean()*100, 3), '% Variance: ', round(cv_scores.var()*100, 3),'%')\n"
   ]
  },
  {
   "cell_type": "markdown",
   "id": "a6cb8141",
   "metadata": {},
   "source": [
    "* Mean Accuracy: 70.398%\n",
    "The mean accuracy (R-squared) obtained from the cross-validation process. R-squared is a statistical measure that represents the proportion of the variance in the dependent variable that is predictable from the independent variables. It ranges from 0 to 1, with higher values indicating better model fit.\n",
    "\n",
    "* std: 0.395%\n",
    "The variance of the R-squared scores obtained from cross-validation."
   ]
  },
  {
   "cell_type": "markdown",
   "id": "f2da3cc5",
   "metadata": {},
   "source": [
    "* R-squared: The R-squared value of approximately 70.398% indicates that the model explains about 70.398% of the variance in the target variable (Graduation %). This means the model has moderate predictive power, as it accounts for about 70.398% of the variability in the graduation percentages. However, there is still some unexplained variance."
   ]
  },
  {
   "cell_type": "code",
   "execution_count": 23,
   "id": "d7119e3b",
   "metadata": {},
   "outputs": [
    {
     "data": {
      "text/html": [
       "<div>\n",
       "<style scoped>\n",
       "    .dataframe tbody tr th:only-of-type {\n",
       "        vertical-align: middle;\n",
       "    }\n",
       "\n",
       "    .dataframe tbody tr th {\n",
       "        vertical-align: top;\n",
       "    }\n",
       "\n",
       "    .dataframe thead th {\n",
       "        text-align: right;\n",
       "    }\n",
       "</style>\n",
       "<table border=\"1\" class=\"dataframe\">\n",
       "  <thead>\n",
       "    <tr style=\"text-align: right;\">\n",
       "      <th></th>\n",
       "      <th>Model</th>\n",
       "      <th>Mean Accuracy</th>\n",
       "      <th>Std Accuracy</th>\n",
       "    </tr>\n",
       "  </thead>\n",
       "  <tbody>\n",
       "    <tr>\n",
       "      <th>0</th>\n",
       "      <td>Linear_Reg</td>\n",
       "      <td>70.398</td>\n",
       "      <td>0.629</td>\n",
       "    </tr>\n",
       "  </tbody>\n",
       "</table>\n",
       "</div>"
      ],
      "text/plain": [
       "        Model  Mean Accuracy  Std Accuracy\n",
       "0  Linear_Reg         70.398         0.629"
      ]
     },
     "execution_count": 23,
     "metadata": {},
     "output_type": "execute_result"
    }
   ],
   "source": [
    "# Calculate mean and variance of the cross-validation scores On Training set:\n",
    "mean_accuracy = cv_scores.mean() * 100\n",
    "var_accuracy = cv_scores.var() * 100\n",
    "\n",
    "# Calculate standard deviation from variance\n",
    "std_accuracy = np.sqrt(var_accuracy)\n",
    "\n",
    "# Create a DataFrame to store the results\n",
    "CV_LinearReg = pd.DataFrame({\n",
    "    'Mean Accuracy': [round(mean_accuracy, 3)],\n",
    "    'Std Accuracy': [round(std_accuracy, 3)]})\n",
    "\n",
    "# Add a new column to the DataFrame\n",
    "MODEL = [\"Linear_Reg\"] * len(CV_LinearReg)  # Replace [1] with the desired values for the new column\n",
    "CV_LinearReg = pd.concat([pd.Series(MODEL, name='Model'), CV_LinearReg], axis=1)\n",
    "\n",
    "CV_LinearReg"
   ]
  },
  {
   "cell_type": "code",
   "execution_count": 24,
   "id": "0c7d4cda",
   "metadata": {},
   "outputs": [
    {
     "data": {
      "image/png": "[encoded data removed]",
      "text/plain": [
       "<Figure size 600x300 with 1 Axes>"
      ]
     },
     "metadata": {},
     "output_type": "display_data"
    }
   ],
   "source": [
    "# Ploting the learning curve:\n",
    "\n",
    "from sklearn.model_selection import learning_curve\n",
    "train_sizes, train_scores, test_scores = learning_curve(estimator=lin_reg, X=X_train_transformed, y=y_train,\n",
    "                                                       cv=10, train_sizes=np.linspace(0.1, 1.0, 10), n_jobs=-1)\n",
    "\n",
    "plt.figure(figsize=(6,3))\n",
    "# Calculate training and test mean and std\n",
    "\n",
    "train_mean = np.mean(train_scores, axis=1)\n",
    "train_std = np.std(train_scores, axis=1)\n",
    "test_mean = np.mean(test_scores, axis=1)\n",
    "test_std = np.std(test_scores, axis=1)\n",
    "\n",
    "# Plot the learning curve\n",
    "\n",
    "plt.plot(train_sizes, train_mean, color='blue', marker='o', markersize=5, label='Training Score')\n",
    "plt.fill_between(train_sizes, train_mean + train_std, train_mean - train_std, alpha=0.15, color='blue')\n",
    "\n",
    "plt.plot(train_sizes, test_mean, color='green', marker='o', markersize=5, label='Cross-Validation Score')\n",
    "plt.fill_between(train_sizes, test_mean + test_std, test_mean - test_std, alpha=0.15, color='green')\n",
    "\n",
    "plt.title('Linear Regression Learning Curve ')\n",
    "plt.xlabel('Training Example', fontsize=12)\n",
    "plt.ylabel('Accuracy Score', fontsize=12)\n",
    "\n",
    "plt.legend(loc='lower center', fontsize=8)\n",
    "#plt.savefig('graph.png')\n",
    "plt.show()"
   ]
  },
  {
   "cell_type": "markdown",
   "id": "a4992b3b",
   "metadata": {},
   "source": [
    "1-Training Score: The blue line represents the accuracy score of the model on the training set as the training data size increases. It shows how well the model performs on the training data.\n",
    "\n",
    "2-Cross-Validation Score: The green line represents the accuracy score of the model on the cross-validation (test) set as the training data size increases. It shows how well the model generalizes to unseen data.    "
   ]
  },
  {
   "cell_type": "markdown",
   "id": "ffbea049",
   "metadata": {},
   "source": [
    "* If both lines converge to a high accuracy score as the training data size increases, it indicates that the model is performing well and generalizing effectively. This is typically the desired outcome.\n",
    "* If there is a significant gap between the two lines, it suggests that the model is overfitting the training data (high training score but lower cross-validation score). In this case, you may need to consider techniques like regularization or feature selection to reduce overfitting.\n",
    "* If both lines converge to a low accuracy score, it indicates that the model is underfitting the data, and you may need to explore more complex models or feature engineering to improve performance.\n",
    "* From the learning curve, if both lines converge to a high accuracy score and show a small gap, it suggests that the model is performing well."
   ]
  },
  {
   "cell_type": "markdown",
   "id": "4cf03b23",
   "metadata": {},
   "source": [
    "**Ridge Regression**"
   ]
  },
  {
   "cell_type": "code",
   "execution_count": 25,
   "id": "fbf7272d",
   "metadata": {},
   "outputs": [],
   "source": [
    "from sklearn.linear_model import Ridge"
   ]
  },
  {
   "cell_type": "code",
   "execution_count": 26,
   "id": "170f4191",
   "metadata": {},
   "outputs": [
    {
     "data": {
      "text/html": [
       "<style>#sk-container-id-2 {color: black;background-color: white;}#sk-container-id-2 pre{padding: 0;}#sk-container-id-2 div.sk-toggleable {background-color: white;}#sk-container-id-2 label.sk-toggleable__label {cursor: pointer;display: block;width: 100%;margin-bottom: 0;padding: 0.3em;box-sizing: border-box;text-align: center;}#sk-container-id-2 label.sk-toggleable__label-arrow:before {content: \"▸\";float: left;margin-right: 0.25em;color: #696969;}#sk-container-id-2 label.sk-toggleable__label-arrow:hover:before {color: black;}#sk-container-id-2 div.sk-estimator:hover label.sk-toggleable__label-arrow:before {color: black;}#sk-container-id-2 div.sk-toggleable__content {max-height: 0;max-width: 0;overflow: hidden;text-align: left;background-color: #f0f8ff;}#sk-container-id-2 div.sk-toggleable__content pre {margin: 0.2em;color: black;border-radius: 0.25em;background-color: #f0f8ff;}#sk-container-id-2 input.sk-toggleable__control:checked~div.sk-toggleable__content {max-height: 200px;max-width: 100%;overflow: auto;}#sk-container-id-2 input.sk-toggleable__control:checked~label.sk-toggleable__label-arrow:before {content: \"▾\";}#sk-container-id-2 div.sk-estimator input.sk-toggleable__control:checked~label.sk-toggleable__label {background-color: #d4ebff;}#sk-container-id-2 div.sk-label input.sk-toggleable__control:checked~label.sk-toggleable__label {background-color: #d4ebff;}#sk-container-id-2 input.sk-hidden--visually {border: 0;clip: rect(1px 1px 1px 1px);clip: rect(1px, 1px, 1px, 1px);height: 1px;margin: -1px;overflow: hidden;padding: 0;position: absolute;width: 1px;}#sk-container-id-2 div.sk-estimator {font-family: monospace;background-color: #f0f8ff;border: 1px dotted black;border-radius: 0.25em;box-sizing: border-box;margin-bottom: 0.5em;}#sk-container-id-2 div.sk-estimator:hover {background-color: #d4ebff;}#sk-container-id-2 div.sk-parallel-item::after {content: \"\";width: 100%;border-bottom: 1px solid gray;flex-grow: 1;}#sk-container-id-2 div.sk-label:hover label.sk-toggleable__label {background-color: #d4ebff;}#sk-container-id-2 div.sk-serial::before {content: \"\";position: absolute;border-left: 1px solid gray;box-sizing: border-box;top: 0;bottom: 0;left: 50%;z-index: 0;}#sk-container-id-2 div.sk-serial {display: flex;flex-direction: column;align-items: center;background-color: white;padding-right: 0.2em;padding-left: 0.2em;position: relative;}#sk-container-id-2 div.sk-item {position: relative;z-index: 1;}#sk-container-id-2 div.sk-parallel {display: flex;align-items: stretch;justify-content: center;background-color: white;position: relative;}#sk-container-id-2 div.sk-item::before, #sk-container-id-2 div.sk-parallel-item::before {content: \"\";position: absolute;border-left: 1px solid gray;box-sizing: border-box;top: 0;bottom: 0;left: 50%;z-index: -1;}#sk-container-id-2 div.sk-parallel-item {display: flex;flex-direction: column;z-index: 1;position: relative;background-color: white;}#sk-container-id-2 div.sk-parallel-item:first-child::after {align-self: flex-end;width: 50%;}#sk-container-id-2 div.sk-parallel-item:last-child::after {align-self: flex-start;width: 50%;}#sk-container-id-2 div.sk-parallel-item:only-child::after {width: 0;}#sk-container-id-2 div.sk-dashed-wrapped {border: 1px dashed gray;margin: 0 0.4em 0.5em 0.4em;box-sizing: border-box;padding-bottom: 0.4em;background-color: white;}#sk-container-id-2 div.sk-label label {font-family: monospace;font-weight: bold;display: inline-block;line-height: 1.2em;}#sk-container-id-2 div.sk-label-container {text-align: center;}#sk-container-id-2 div.sk-container {/* jupyter's `normalize.less` sets `[hidden] { display: none; }` but bootstrap.min.css set `[hidden] { display: none !important; }` so we also need the `!important` here to be able to override the default hidden behavior on the sphinx rendered scikit-learn.org. See: https://github.com/scikit-learn/scikit-learn/issues/21755 */display: inline-block !important;position: relative;}#sk-container-id-2 div.sk-text-repr-fallback {display: none;}</style><div id=\"sk-container-id-2\" class=\"sk-top-container\"><div class=\"sk-text-repr-fallback\"><pre>Ridge(alpha=0.01)</pre><b>In a Jupyter environment, please rerun this cell to show the HTML representation or trust the notebook. <br />On GitHub, the HTML representation is unable to render, please try loading this page with nbviewer.org.</b></div><div class=\"sk-container\" hidden><div class=\"sk-item\"><div class=\"sk-estimator sk-toggleable\"><input class=\"sk-toggleable__control sk-hidden--visually\" id=\"sk-estimator-id-2\" type=\"checkbox\" checked><label for=\"sk-estimator-id-2\" class=\"sk-toggleable__label sk-toggleable__label-arrow\">Ridge</label><div class=\"sk-toggleable__content\"><pre>Ridge(alpha=0.01)</pre></div></div></div></div></div>"
      ],
      "text/plain": [
       "Ridge(alpha=0.01)"
      ]
     },
     "execution_count": 26,
     "metadata": {},
     "output_type": "execute_result"
    }
   ],
   "source": [
    "Ridge=Ridge(alpha=0.01)\n",
    "Ridge.fit(X_train_transformed, y_train)"
   ]
  },
  {
   "cell_type": "code",
   "execution_count": 27,
   "id": "5bbaabda",
   "metadata": {},
   "outputs": [
    {
     "data": {
      "text/plain": [
       "array([[0.66835688],\n",
       "       [0.89927793],\n",
       "       [1.00990535],\n",
       "       [0.96193367],\n",
       "       [0.97861925]])"
      ]
     },
     "execution_count": 27,
     "metadata": {},
     "output_type": "execute_result"
    }
   ],
   "source": [
    "y_pred =Ridge.predict(X_test_transformed)\n",
    "y_pred[0:5]"
   ]
  },
  {
   "cell_type": "code",
   "execution_count": 28,
   "id": "4a3d7369",
   "metadata": {},
   "outputs": [
    {
     "name": "stdout",
     "output_type": "stream",
     "text": [
      "Mean_Squared_Error(MSE):  0.005\n",
      "Mean_Absolute_Error(MEA): 0.05\n",
      "R2_Score: 0.766\n",
      "RMSE: 0.073\n",
      "Root_Mean_Squared_Log_Error(RMSLE): -2.624\n"
     ]
    }
   ],
   "source": [
    "from sklearn import metrics\n",
    "from sklearn.metrics import mean_squared_error, r2_score\n",
    "\n",
    "# MSE (Mean Squared Error):\n",
    "print(\"Mean_Squared_Error(MSE): \" , round(mean_squared_error(y_test, y_pred),3))\n",
    "\n",
    "# Mean_Absolute_Error (MAE)\n",
    "print('Mean_Absolute_Error(MEA):', round(metrics.mean_absolute_error(y_test, y_pred),3))  \n",
    "\n",
    "# R2_score \n",
    "print('R2_Score:', round(metrics.r2_score(y_test, y_pred),3))\n",
    "\n",
    "# RMSE (Root Mean Squared Error):\n",
    "RMSE = round(np.sqrt(mean_squared_error(y_test, y_pred)),3)\n",
    "print('RMSE:', RMSE)\n",
    "\n",
    "# Root_ Mean_Squared_Log_Error(RMSLE)\n",
    "print('Root_Mean_Squared_Log_Error(RMSLE):', round(np.log(np.sqrt(metrics.mean_squared_error(y_test, y_pred))),3))"
   ]
  },
  {
   "cell_type": "code",
   "execution_count": 29,
   "id": "3f48cb1c",
   "metadata": {},
   "outputs": [],
   "source": [
    "MSE= round(mean_squared_error(y_test, y_pred),3)\n",
    "MAE= round(metrics.mean_absolute_error(y_test, y_pred),3)\n",
    "R2_Score= round(metrics.r2_score(y_test, y_pred),3)\n",
    "RMSE= round(np.sqrt(mean_squared_error(y_test, y_pred)),3)\n",
    "RMSLE= round(np.log(np.sqrt(metrics.mean_squared_error(y_test, y_pred))),3)"
   ]
  },
  {
   "cell_type": "code",
   "execution_count": 30,
   "id": "693153dc",
   "metadata": {},
   "outputs": [
    {
     "data": {
      "text/html": [
       "<div>\n",
       "<style scoped>\n",
       "    .dataframe tbody tr th:only-of-type {\n",
       "        vertical-align: middle;\n",
       "    }\n",
       "\n",
       "    .dataframe tbody tr th {\n",
       "        vertical-align: top;\n",
       "    }\n",
       "\n",
       "    .dataframe thead th {\n",
       "        text-align: right;\n",
       "    }\n",
       "</style>\n",
       "<table border=\"1\" class=\"dataframe\">\n",
       "  <thead>\n",
       "    <tr style=\"text-align: right;\">\n",
       "      <th></th>\n",
       "      <th>Model</th>\n",
       "      <th>MSE</th>\n",
       "      <th>MAE</th>\n",
       "      <th>R2_Score</th>\n",
       "      <th>RMSE</th>\n",
       "      <th>RMSLE</th>\n",
       "    </tr>\n",
       "  </thead>\n",
       "  <tbody>\n",
       "    <tr>\n",
       "      <th>0</th>\n",
       "      <td>Ridge</td>\n",
       "      <td>0.005</td>\n",
       "      <td>0.05</td>\n",
       "      <td>0.766</td>\n",
       "      <td>0.073</td>\n",
       "      <td>-2.624</td>\n",
       "    </tr>\n",
       "  </tbody>\n",
       "</table>\n",
       "</div>"
      ],
      "text/plain": [
       "   Model    MSE   MAE  R2_Score   RMSE  RMSLE\n",
       "0  Ridge  0.005  0.05     0.766  0.073 -2.624"
      ]
     },
     "execution_count": 30,
     "metadata": {},
     "output_type": "execute_result"
    }
   ],
   "source": [
    "Results_Ridge = pd.DataFrame([['Ridge', MSE , MAE, R2_Score , RMSE, RMSLE]],\n",
    "               columns = ['Model', 'MSE', 'MAE', 'R2_Score' , 'RMSE', 'RMSLE'])\n",
    "Results_Ridge"
   ]
  },
  {
   "cell_type": "code",
   "execution_count": 31,
   "id": "fa7b792a",
   "metadata": {},
   "outputs": [
    {
     "name": "stdout",
     "output_type": "stream",
     "text": [
      "Scores: [0.09984088 0.09351286 0.09636045 0.08252473 0.07660813]\n",
      "Mean: 0.08976941127137962\n",
      "Standard deviation: 0.008770339611091884\n"
     ]
    }
   ],
   "source": [
    "# Cross-validation On Traing set:\n",
    "\n",
    "scores = cross_val_score(Ridge, X_train_transformed, y_train, cv=5, scoring='neg_mean_squared_error')\n",
    "\n",
    "print(\"Scores:\", np.sqrt(-scores))\n",
    "print(\"Mean:\", np.sqrt(-scores).mean())\n",
    "print(\"Standard deviation:\", np.sqrt(-scores).std())"
   ]
  },
  {
   "cell_type": "code",
   "execution_count": 32,
   "id": "1c682b43",
   "metadata": {},
   "outputs": [
    {
     "name": "stdout",
     "output_type": "stream",
     "text": [
      "Mean Accuracy:  70.398 % Variance:  0.395 %\n"
     ]
    }
   ],
   "source": [
    "# Cross-validation On Traing set:\n",
    "\n",
    "cv_scores = cross_val_score(lin_reg, X_train_transformed, y_train, cv=5)\n",
    "print('Mean Accuracy: ', round(cv_scores.mean()*100, 3), '% Variance: ', round(cv_scores.var()*100, 3),'%')"
   ]
  },
  {
   "cell_type": "code",
   "execution_count": 33,
   "id": "7576b99e",
   "metadata": {},
   "outputs": [
    {
     "data": {
      "text/html": [
       "<div>\n",
       "<style scoped>\n",
       "    .dataframe tbody tr th:only-of-type {\n",
       "        vertical-align: middle;\n",
       "    }\n",
       "\n",
       "    .dataframe tbody tr th {\n",
       "        vertical-align: top;\n",
       "    }\n",
       "\n",
       "    .dataframe thead th {\n",
       "        text-align: right;\n",
       "    }\n",
       "</style>\n",
       "<table border=\"1\" class=\"dataframe\">\n",
       "  <thead>\n",
       "    <tr style=\"text-align: right;\">\n",
       "      <th></th>\n",
       "      <th>Model</th>\n",
       "      <th>Mean Accuracy</th>\n",
       "      <th>Std Accuracy</th>\n",
       "    </tr>\n",
       "  </thead>\n",
       "  <tbody>\n",
       "    <tr>\n",
       "      <th>0</th>\n",
       "      <td>Ridge</td>\n",
       "      <td>70.398</td>\n",
       "      <td>0.629</td>\n",
       "    </tr>\n",
       "  </tbody>\n",
       "</table>\n",
       "</div>"
      ],
      "text/plain": [
       "   Model  Mean Accuracy  Std Accuracy\n",
       "0  Ridge         70.398         0.629"
      ]
     },
     "execution_count": 33,
     "metadata": {},
     "output_type": "execute_result"
    }
   ],
   "source": [
    "# Calculate mean and variance of the cross-validation scores On Training set:\n",
    "mean_accuracy = cv_scores.mean() * 100\n",
    "var_accuracy = cv_scores.var() * 100\n",
    "\n",
    "# Calculate standard deviation from variance\n",
    "std_accuracy = np.sqrt(var_accuracy)\n",
    "\n",
    "# Create a DataFrame to store the results\n",
    "CV_Ridge = pd.DataFrame({\n",
    "    'Mean Accuracy': [round(mean_accuracy, 3)],\n",
    "    'Std Accuracy': [round(std_accuracy, 3)]})\n",
    "\n",
    "# Add a new column to the DataFrame\n",
    "MODEL = [\"Ridge\"] * len(CV_Ridge)  # Replace [1] with the desired values for the new column\n",
    "CV_Ridge = pd.concat([pd.Series(MODEL, name='Model'), CV_Ridge], axis=1)\n",
    "\n",
    "CV_Ridge"
   ]
  },
  {
   "cell_type": "code",
   "execution_count": 34,
   "id": "64b20991",
   "metadata": {
    "scrolled": true
   },
   "outputs": [
    {
     "data": {
      "image/png": "[encoded data removed]",
      "text/plain": [
       "<Figure size 600x300 with 1 Axes>"
      ]
     },
     "metadata": {},
     "output_type": "display_data"
    }
   ],
   "source": [
    "# Ploting the learning curve:\n",
    "\n",
    "from sklearn.model_selection import learning_curve\n",
    "train_sizes, train_scores, test_scores = learning_curve(estimator=Ridge, X=X_train_transformed, y=y_train,\n",
    "                                                       cv=10, train_sizes=np.linspace(0.1, 1.0, 10), n_jobs=-1)\n",
    "\n",
    "plt.figure(figsize=(6,3))\n",
    "# Calculate training and test mean and std\n",
    "\n",
    "train_mean = np.mean(train_scores, axis=1)\n",
    "train_std = np.std(train_scores, axis=1)\n",
    "test_mean = np.mean(test_scores, axis=1)\n",
    "test_std = np.std(test_scores, axis=1)\n",
    "\n",
    "# Plot the learning curve\n",
    "\n",
    "plt.plot(train_sizes, train_mean, color='blue', marker='o', markersize=5, label='Training Score')\n",
    "plt.fill_between(train_sizes, train_mean + train_std, train_mean - train_std, alpha=0.15, color='blue')\n",
    "\n",
    "plt.plot(train_sizes, test_mean, color='green', marker='o', markersize=5, label='Cross-Validation Score')\n",
    "plt.fill_between(train_sizes, test_mean + test_std, test_mean - test_std, alpha=0.15, color='green')\n",
    "\n",
    "plt.title('Ridge Regression Learning Curve ')\n",
    "plt.xlabel('Training Example', fontsize=12)\n",
    "plt.ylabel('Accuracy Score', fontsize=12)\n",
    "\n",
    "plt.legend(loc='lower center', fontsize=8)\n",
    "#plt.savefig('graph.png')\n",
    "plt.show()"
   ]
  },
  {
   "cell_type": "markdown",
   "id": "081e2cfe",
   "metadata": {},
   "source": [
    "**Lasso Regression**"
   ]
  },
  {
   "cell_type": "code",
   "execution_count": 35,
   "id": "ae6a084a",
   "metadata": {},
   "outputs": [],
   "source": [
    "from sklearn.linear_model import Lasso"
   ]
  },
  {
   "cell_type": "code",
   "execution_count": 36,
   "id": "89a64707",
   "metadata": {},
   "outputs": [
    {
     "data": {
      "text/html": [
       "<style>#sk-container-id-3 {color: black;background-color: white;}#sk-container-id-3 pre{padding: 0;}#sk-container-id-3 div.sk-toggleable {background-color: white;}#sk-container-id-3 label.sk-toggleable__label {cursor: pointer;display: block;width: 100%;margin-bottom: 0;padding: 0.3em;box-sizing: border-box;text-align: center;}#sk-container-id-3 label.sk-toggleable__label-arrow:before {content: \"▸\";float: left;margin-right: 0.25em;color: #696969;}#sk-container-id-3 label.sk-toggleable__label-arrow:hover:before {color: black;}#sk-container-id-3 div.sk-estimator:hover label.sk-toggleable__label-arrow:before {color: black;}#sk-container-id-3 div.sk-toggleable__content {max-height: 0;max-width: 0;overflow: hidden;text-align: left;background-color: #f0f8ff;}#sk-container-id-3 div.sk-toggleable__content pre {margin: 0.2em;color: black;border-radius: 0.25em;background-color: #f0f8ff;}#sk-container-id-3 input.sk-toggleable__control:checked~div.sk-toggleable__content {max-height: 200px;max-width: 100%;overflow: auto;}#sk-container-id-3 input.sk-toggleable__control:checked~label.sk-toggleable__label-arrow:before {content: \"▾\";}#sk-container-id-3 div.sk-estimator input.sk-toggleable__control:checked~label.sk-toggleable__label {background-color: #d4ebff;}#sk-container-id-3 div.sk-label input.sk-toggleable__control:checked~label.sk-toggleable__label {background-color: #d4ebff;}#sk-container-id-3 input.sk-hidden--visually {border: 0;clip: rect(1px 1px 1px 1px);clip: rect(1px, 1px, 1px, 1px);height: 1px;margin: -1px;overflow: hidden;padding: 0;position: absolute;width: 1px;}#sk-container-id-3 div.sk-estimator {font-family: monospace;background-color: #f0f8ff;border: 1px dotted black;border-radius: 0.25em;box-sizing: border-box;margin-bottom: 0.5em;}#sk-container-id-3 div.sk-estimator:hover {background-color: #d4ebff;}#sk-container-id-3 div.sk-parallel-item::after {content: \"\";width: 100%;border-bottom: 1px solid gray;flex-grow: 1;}#sk-container-id-3 div.sk-label:hover label.sk-toggleable__label {background-color: #d4ebff;}#sk-container-id-3 div.sk-serial::before {content: \"\";position: absolute;border-left: 1px solid gray;box-sizing: border-box;top: 0;bottom: 0;left: 50%;z-index: 0;}#sk-container-id-3 div.sk-serial {display: flex;flex-direction: column;align-items: center;background-color: white;padding-right: 0.2em;padding-left: 0.2em;position: relative;}#sk-container-id-3 div.sk-item {position: relative;z-index: 1;}#sk-container-id-3 div.sk-parallel {display: flex;align-items: stretch;justify-content: center;background-color: white;position: relative;}#sk-container-id-3 div.sk-item::before, #sk-container-id-3 div.sk-parallel-item::before {content: \"\";position: absolute;border-left: 1px solid gray;box-sizing: border-box;top: 0;bottom: 0;left: 50%;z-index: -1;}#sk-container-id-3 div.sk-parallel-item {display: flex;flex-direction: column;z-index: 1;position: relative;background-color: white;}#sk-container-id-3 div.sk-parallel-item:first-child::after {align-self: flex-end;width: 50%;}#sk-container-id-3 div.sk-parallel-item:last-child::after {align-self: flex-start;width: 50%;}#sk-container-id-3 div.sk-parallel-item:only-child::after {width: 0;}#sk-container-id-3 div.sk-dashed-wrapped {border: 1px dashed gray;margin: 0 0.4em 0.5em 0.4em;box-sizing: border-box;padding-bottom: 0.4em;background-color: white;}#sk-container-id-3 div.sk-label label {font-family: monospace;font-weight: bold;display: inline-block;line-height: 1.2em;}#sk-container-id-3 div.sk-label-container {text-align: center;}#sk-container-id-3 div.sk-container {/* jupyter's `normalize.less` sets `[hidden] { display: none; }` but bootstrap.min.css set `[hidden] { display: none !important; }` so we also need the `!important` here to be able to override the default hidden behavior on the sphinx rendered scikit-learn.org. See: https://github.com/scikit-learn/scikit-learn/issues/21755 */display: inline-block !important;position: relative;}#sk-container-id-3 div.sk-text-repr-fallback {display: none;}</style><div id=\"sk-container-id-3\" class=\"sk-top-container\"><div class=\"sk-text-repr-fallback\"><pre>Lasso(alpha=0.01)</pre><b>In a Jupyter environment, please rerun this cell to show the HTML representation or trust the notebook. <br />On GitHub, the HTML representation is unable to render, please try loading this page with nbviewer.org.</b></div><div class=\"sk-container\" hidden><div class=\"sk-item\"><div class=\"sk-estimator sk-toggleable\"><input class=\"sk-toggleable__control sk-hidden--visually\" id=\"sk-estimator-id-3\" type=\"checkbox\" checked><label for=\"sk-estimator-id-3\" class=\"sk-toggleable__label sk-toggleable__label-arrow\">Lasso</label><div class=\"sk-toggleable__content\"><pre>Lasso(alpha=0.01)</pre></div></div></div></div></div>"
      ],
      "text/plain": [
       "Lasso(alpha=0.01)"
      ]
     },
     "execution_count": 36,
     "metadata": {},
     "output_type": "execute_result"
    }
   ],
   "source": [
    "Lasso=Lasso(alpha=0.01)\n",
    "Lasso.fit(X_train_transformed, y_train)"
   ]
  },
  {
   "cell_type": "code",
   "execution_count": 37,
   "id": "07a18a03",
   "metadata": {},
   "outputs": [],
   "source": [
    "y_pred =Lasso.predict(X_test_transformed)\n",
    "#y_pred"
   ]
  },
  {
   "cell_type": "code",
   "execution_count": 38,
   "id": "7dc97a00",
   "metadata": {
    "scrolled": true
   },
   "outputs": [
    {
     "name": "stdout",
     "output_type": "stream",
     "text": [
      "Predicted 1-5: [0.71640521 0.96225246 0.96225246 0.96225246 0.96225246]\n",
      "Actual 1-5:      Graduation %\n",
      "373      0.788321\n",
      "42       0.918089\n",
      "107      0.974548\n",
      "218      0.987500\n",
      "369      1.000000\n"
     ]
    }
   ],
   "source": [
    "print(\"Predicted 1-5:\", y_pred[0:5])\n",
    "print(\"Actual 1-5:\", y_test[0:5])"
   ]
  },
  {
   "cell_type": "code",
   "execution_count": 39,
   "id": "7e66923c",
   "metadata": {},
   "outputs": [
    {
     "name": "stdout",
     "output_type": "stream",
     "text": [
      "Mean_Squared_Error(MSE):  0.007\n",
      "Mean_Absolute_Error(MEA): 0.059\n",
      "R2_Score: 0.693\n",
      "RMSE: 0.083\n",
      "Root_Mean_Squared_Log_Error(RMSLE): -2.488\n"
     ]
    }
   ],
   "source": [
    "from sklearn import metrics\n",
    "from sklearn.metrics import mean_squared_error, r2_score\n",
    "\n",
    "# MSE (Mean Squared Error):\n",
    "print(\"Mean_Squared_Error(MSE): \" , round(mean_squared_error(y_test, y_pred),3))\n",
    "\n",
    "# Mean_Absolute_Error (MAE)\n",
    "print('Mean_Absolute_Error(MEA):', round(metrics.mean_absolute_error(y_test, y_pred),3))  \n",
    "\n",
    "# R2_score \n",
    "print('R2_Score:', round(metrics.r2_score(y_test, y_pred),3))\n",
    "\n",
    "# RMSE (Root Mean Squared Error):\n",
    "RMSE = round(np.sqrt(mean_squared_error(y_test, y_pred)),3)\n",
    "print('RMSE:', RMSE)\n",
    "\n",
    "# Root_ Mean_Squared_Log_Error(RMSLE)\n",
    "print('Root_Mean_Squared_Log_Error(RMSLE):', round(np.log(np.sqrt(metrics.mean_squared_error(y_test, y_pred))),3))\n"
   ]
  },
  {
   "cell_type": "code",
   "execution_count": 40,
   "id": "d62a96d1",
   "metadata": {},
   "outputs": [],
   "source": [
    "MSE= round(mean_squared_error(y_test, y_pred),3)\n",
    "MAE= round(metrics.mean_absolute_error(y_test, y_pred),3)\n",
    "R2_Score= round(metrics.r2_score(y_test, y_pred),3)\n",
    "RMSE= round(np.sqrt(mean_squared_error(y_test, y_pred)),3)\n",
    "RMSLE= round(np.log(np.sqrt(metrics.mean_squared_error(y_test, y_pred))),3)"
   ]
  },
  {
   "cell_type": "code",
   "execution_count": 41,
   "id": "34939abe",
   "metadata": {},
   "outputs": [
    {
     "data": {
      "text/html": [
       "<div>\n",
       "<style scoped>\n",
       "    .dataframe tbody tr th:only-of-type {\n",
       "        vertical-align: middle;\n",
       "    }\n",
       "\n",
       "    .dataframe tbody tr th {\n",
       "        vertical-align: top;\n",
       "    }\n",
       "\n",
       "    .dataframe thead th {\n",
       "        text-align: right;\n",
       "    }\n",
       "</style>\n",
       "<table border=\"1\" class=\"dataframe\">\n",
       "  <thead>\n",
       "    <tr style=\"text-align: right;\">\n",
       "      <th></th>\n",
       "      <th>Model</th>\n",
       "      <th>MSE</th>\n",
       "      <th>MAE</th>\n",
       "      <th>R2_Score</th>\n",
       "      <th>RMSE</th>\n",
       "      <th>RMSLE</th>\n",
       "    </tr>\n",
       "  </thead>\n",
       "  <tbody>\n",
       "    <tr>\n",
       "      <th>0</th>\n",
       "      <td>Lasso</td>\n",
       "      <td>0.007</td>\n",
       "      <td>0.059</td>\n",
       "      <td>0.693</td>\n",
       "      <td>0.083</td>\n",
       "      <td>-2.488</td>\n",
       "    </tr>\n",
       "  </tbody>\n",
       "</table>\n",
       "</div>"
      ],
      "text/plain": [
       "   Model    MSE    MAE  R2_Score   RMSE  RMSLE\n",
       "0  Lasso  0.007  0.059     0.693  0.083 -2.488"
      ]
     },
     "execution_count": 41,
     "metadata": {},
     "output_type": "execute_result"
    }
   ],
   "source": [
    "Results_Lasso = pd.DataFrame([['Lasso', MSE , MAE, R2_Score , RMSE, RMSLE]],\n",
    "               columns = ['Model', 'MSE', 'MAE', 'R2_Score' , 'RMSE', 'RMSLE'])\n",
    "Results_Lasso"
   ]
  },
  {
   "cell_type": "code",
   "execution_count": 42,
   "id": "b37a1832",
   "metadata": {},
   "outputs": [
    {
     "name": "stdout",
     "output_type": "stream",
     "text": [
      "Scores: [0.10738422 0.09884343 0.11144707 0.09051044 0.091517  ]\n",
      "Mean: 0.09994043112333979\n",
      "Standard deviation: 0.008353383963766722\n"
     ]
    }
   ],
   "source": [
    "# Cross-validation On Traing set:\n",
    "\n",
    "scores = cross_val_score(Lasso, X_train_transformed, y_train, cv=5, scoring='neg_mean_squared_error')\n",
    "\n",
    "print(\"Scores:\", np.sqrt(-scores))\n",
    "print(\"Mean:\", np.sqrt(-scores).mean())\n",
    "print(\"Standard deviation:\", np.sqrt(-scores).std())"
   ]
  },
  {
   "cell_type": "code",
   "execution_count": 43,
   "id": "2ec4c93f",
   "metadata": {},
   "outputs": [
    {
     "name": "stdout",
     "output_type": "stream",
     "text": [
      "Mean Accuracy:  63.609 % Variance:  0.317 %\n"
     ]
    }
   ],
   "source": [
    "# Cross-validation On Traing set:\n",
    "\n",
    "cv_scores = cross_val_score(Lasso, X_train_transformed, y_train, cv=5)\n",
    "print('Mean Accuracy: ', round(cv_scores.mean()*100, 3), '% Variance: ', round(cv_scores.var()*100, 3),'%')"
   ]
  },
  {
   "cell_type": "code",
   "execution_count": 44,
   "id": "bc9651c3",
   "metadata": {},
   "outputs": [
    {
     "data": {
      "text/html": [
       "<div>\n",
       "<style scoped>\n",
       "    .dataframe tbody tr th:only-of-type {\n",
       "        vertical-align: middle;\n",
       "    }\n",
       "\n",
       "    .dataframe tbody tr th {\n",
       "        vertical-align: top;\n",
       "    }\n",
       "\n",
       "    .dataframe thead th {\n",
       "        text-align: right;\n",
       "    }\n",
       "</style>\n",
       "<table border=\"1\" class=\"dataframe\">\n",
       "  <thead>\n",
       "    <tr style=\"text-align: right;\">\n",
       "      <th></th>\n",
       "      <th>Model</th>\n",
       "      <th>Mean Accuracy</th>\n",
       "      <th>Std Accuracy</th>\n",
       "    </tr>\n",
       "  </thead>\n",
       "  <tbody>\n",
       "    <tr>\n",
       "      <th>0</th>\n",
       "      <td>Lasso</td>\n",
       "      <td>63.609</td>\n",
       "      <td>0.563</td>\n",
       "    </tr>\n",
       "  </tbody>\n",
       "</table>\n",
       "</div>"
      ],
      "text/plain": [
       "   Model  Mean Accuracy  Std Accuracy\n",
       "0  Lasso         63.609         0.563"
      ]
     },
     "execution_count": 44,
     "metadata": {},
     "output_type": "execute_result"
    }
   ],
   "source": [
    "# Calculate mean and variance of the cross-validation scores On Training set:\n",
    "mean_accuracy = cv_scores.mean() * 100\n",
    "var_accuracy = cv_scores.var() * 100\n",
    "\n",
    "# Calculate standard deviation from variance\n",
    "std_accuracy = np.sqrt(var_accuracy)\n",
    "\n",
    "# Create a DataFrame to store the results\n",
    "CV_Lasso = pd.DataFrame({\n",
    "    'Mean Accuracy': [round(mean_accuracy, 3)],\n",
    "    'Std Accuracy': [round(std_accuracy, 3)]})\n",
    "\n",
    "# Add a new column to the DataFrame\n",
    "MODEL = [\"Lasso\"] * len(CV_Lasso)  # Replace [1] with the desired values for the new column\n",
    "CV_Lasso = pd.concat([pd.Series(MODEL, name='Model'), CV_Lasso], axis=1)\n",
    "\n",
    "CV_Lasso"
   ]
  },
  {
   "cell_type": "code",
   "execution_count": 45,
   "id": "2a501351",
   "metadata": {},
   "outputs": [
    {
     "data": {
      "image/png": "[encoded data removed]",
      "text/plain": [
       "<Figure size 600x300 with 1 Axes>"
      ]
     },
     "metadata": {},
     "output_type": "display_data"
    }
   ],
   "source": [
    "# Ploting the learning curve:\n",
    "\n",
    "from sklearn.model_selection import learning_curve\n",
    "train_sizes, train_scores, test_scores = learning_curve(estimator=Lasso, X=X_train_transformed, y=y_train,\n",
    "                                                       cv=10, train_sizes=np.linspace(0.1, 1.0, 10), n_jobs=-1)\n",
    "\n",
    "plt.figure(figsize=(6,3))\n",
    "# Calculate training and test mean and std\n",
    "\n",
    "train_mean = np.mean(train_scores, axis=1)\n",
    "train_std = np.std(train_scores, axis=1)\n",
    "test_mean = np.mean(test_scores, axis=1)\n",
    "test_std = np.std(test_scores, axis=1)\n",
    "\n",
    "# Plot the learning curve\n",
    "\n",
    "plt.plot(train_sizes, train_mean, color='blue', marker='o', markersize=5, label='Training Score')\n",
    "plt.fill_between(train_sizes, train_mean + train_std, train_mean - train_std, alpha=0.15, color='blue')\n",
    "\n",
    "plt.plot(train_sizes, test_mean, color='green', marker='o', markersize=5, label='Cross-Validation Score')\n",
    "plt.fill_between(train_sizes, test_mean + test_std, test_mean - test_std, alpha=0.15, color='green')\n",
    "\n",
    "plt.title('Lasso Regression Learning Curve ')\n",
    "plt.xlabel('Training Example', fontsize=12)\n",
    "plt.ylabel('Accuracy Score', fontsize=12)\n",
    "\n",
    "plt.legend(loc='upper center', fontsize=8)\n",
    "#plt.savefig('graph.png')\n",
    "plt.show()"
   ]
  },
  {
   "cell_type": "markdown",
   "id": "7127836a",
   "metadata": {},
   "source": [
    "**Elastic Net Regression**"
   ]
  },
  {
   "cell_type": "code",
   "execution_count": 46,
   "id": "15371ed4",
   "metadata": {},
   "outputs": [],
   "source": [
    "from sklearn.linear_model import ElasticNet"
   ]
  },
  {
   "cell_type": "code",
   "execution_count": 47,
   "id": "c896017d",
   "metadata": {},
   "outputs": [
    {
     "data": {
      "text/html": [
       "<style>#sk-container-id-4 {color: black;background-color: white;}#sk-container-id-4 pre{padding: 0;}#sk-container-id-4 div.sk-toggleable {background-color: white;}#sk-container-id-4 label.sk-toggleable__label {cursor: pointer;display: block;width: 100%;margin-bottom: 0;padding: 0.3em;box-sizing: border-box;text-align: center;}#sk-container-id-4 label.sk-toggleable__label-arrow:before {content: \"▸\";float: left;margin-right: 0.25em;color: #696969;}#sk-container-id-4 label.sk-toggleable__label-arrow:hover:before {color: black;}#sk-container-id-4 div.sk-estimator:hover label.sk-toggleable__label-arrow:before {color: black;}#sk-container-id-4 div.sk-toggleable__content {max-height: 0;max-width: 0;overflow: hidden;text-align: left;background-color: #f0f8ff;}#sk-container-id-4 div.sk-toggleable__content pre {margin: 0.2em;color: black;border-radius: 0.25em;background-color: #f0f8ff;}#sk-container-id-4 input.sk-toggleable__control:checked~div.sk-toggleable__content {max-height: 200px;max-width: 100%;overflow: auto;}#sk-container-id-4 input.sk-toggleable__control:checked~label.sk-toggleable__label-arrow:before {content: \"▾\";}#sk-container-id-4 div.sk-estimator input.sk-toggleable__control:checked~label.sk-toggleable__label {background-color: #d4ebff;}#sk-container-id-4 div.sk-label input.sk-toggleable__control:checked~label.sk-toggleable__label {background-color: #d4ebff;}#sk-container-id-4 input.sk-hidden--visually {border: 0;clip: rect(1px 1px 1px 1px);clip: rect(1px, 1px, 1px, 1px);height: 1px;margin: -1px;overflow: hidden;padding: 0;position: absolute;width: 1px;}#sk-container-id-4 div.sk-estimator {font-family: monospace;background-color: #f0f8ff;border: 1px dotted black;border-radius: 0.25em;box-sizing: border-box;margin-bottom: 0.5em;}#sk-container-id-4 div.sk-estimator:hover {background-color: #d4ebff;}#sk-container-id-4 div.sk-parallel-item::after {content: \"\";width: 100%;border-bottom: 1px solid gray;flex-grow: 1;}#sk-container-id-4 div.sk-label:hover label.sk-toggleable__label {background-color: #d4ebff;}#sk-container-id-4 div.sk-serial::before {content: \"\";position: absolute;border-left: 1px solid gray;box-sizing: border-box;top: 0;bottom: 0;left: 50%;z-index: 0;}#sk-container-id-4 div.sk-serial {display: flex;flex-direction: column;align-items: center;background-color: white;padding-right: 0.2em;padding-left: 0.2em;position: relative;}#sk-container-id-4 div.sk-item {position: relative;z-index: 1;}#sk-container-id-4 div.sk-parallel {display: flex;align-items: stretch;justify-content: center;background-color: white;position: relative;}#sk-container-id-4 div.sk-item::before, #sk-container-id-4 div.sk-parallel-item::before {content: \"\";position: absolute;border-left: 1px solid gray;box-sizing: border-box;top: 0;bottom: 0;left: 50%;z-index: -1;}#sk-container-id-4 div.sk-parallel-item {display: flex;flex-direction: column;z-index: 1;position: relative;background-color: white;}#sk-container-id-4 div.sk-parallel-item:first-child::after {align-self: flex-end;width: 50%;}#sk-container-id-4 div.sk-parallel-item:last-child::after {align-self: flex-start;width: 50%;}#sk-container-id-4 div.sk-parallel-item:only-child::after {width: 0;}#sk-container-id-4 div.sk-dashed-wrapped {border: 1px dashed gray;margin: 0 0.4em 0.5em 0.4em;box-sizing: border-box;padding-bottom: 0.4em;background-color: white;}#sk-container-id-4 div.sk-label label {font-family: monospace;font-weight: bold;display: inline-block;line-height: 1.2em;}#sk-container-id-4 div.sk-label-container {text-align: center;}#sk-container-id-4 div.sk-container {/* jupyter's `normalize.less` sets `[hidden] { display: none; }` but bootstrap.min.css set `[hidden] { display: none !important; }` so we also need the `!important` here to be able to override the default hidden behavior on the sphinx rendered scikit-learn.org. See: https://github.com/scikit-learn/scikit-learn/issues/21755 */display: inline-block !important;position: relative;}#sk-container-id-4 div.sk-text-repr-fallback {display: none;}</style><div id=\"sk-container-id-4\" class=\"sk-top-container\"><div class=\"sk-text-repr-fallback\"><pre>ElasticNet(alpha=0.01)</pre><b>In a Jupyter environment, please rerun this cell to show the HTML representation or trust the notebook. <br />On GitHub, the HTML representation is unable to render, please try loading this page with nbviewer.org.</b></div><div class=\"sk-container\" hidden><div class=\"sk-item\"><div class=\"sk-estimator sk-toggleable\"><input class=\"sk-toggleable__control sk-hidden--visually\" id=\"sk-estimator-id-4\" type=\"checkbox\" checked><label for=\"sk-estimator-id-4\" class=\"sk-toggleable__label sk-toggleable__label-arrow\">ElasticNet</label><div class=\"sk-toggleable__content\"><pre>ElasticNet(alpha=0.01)</pre></div></div></div></div></div>"
      ],
      "text/plain": [
       "ElasticNet(alpha=0.01)"
      ]
     },
     "execution_count": 47,
     "metadata": {},
     "output_type": "execute_result"
    }
   ],
   "source": [
    "enr = ElasticNet(alpha=0.01)\n",
    "enr.fit(X_train_transformed, y_train)"
   ]
  },
  {
   "cell_type": "code",
   "execution_count": 48,
   "id": "17b53eb6",
   "metadata": {},
   "outputs": [],
   "source": [
    "y_pred =enr.predict(X_test_transformed)\n",
    "#y_pred"
   ]
  },
  {
   "cell_type": "code",
   "execution_count": 49,
   "id": "7a2dea40",
   "metadata": {
    "scrolled": false
   },
   "outputs": [
    {
     "name": "stdout",
     "output_type": "stream",
     "text": [
      "Predicted 1-5: [0.71483361 0.94115214 0.97221369 0.96751219 0.97734726]\n",
      "Actual 1-5:      Graduation %\n",
      "373      0.788321\n",
      "42       0.918089\n",
      "107      0.974548\n",
      "218      0.987500\n",
      "369      1.000000\n"
     ]
    }
   ],
   "source": [
    "print(\"Predicted 1-5:\", y_pred[0:5])\n",
    "print(\"Actual 1-5:\", y_test[0:5])"
   ]
  },
  {
   "cell_type": "code",
   "execution_count": 50,
   "id": "2ad52119",
   "metadata": {},
   "outputs": [
    {
     "name": "stdout",
     "output_type": "stream",
     "text": [
      "Mean_Squared_Error(MSE):  0.006\n",
      "Mean_Absolute_Error(MEA): 0.053\n",
      "R2_Score: 0.721\n",
      "RMSE: 0.079\n",
      "Root_Mean_Squared_Log_Error(RMSLE): -2.536\n"
     ]
    }
   ],
   "source": [
    "from sklearn import metrics\n",
    "from sklearn.metrics import mean_squared_error, r2_score\n",
    "\n",
    "# MSE (Mean Squared Error):\n",
    "print(\"Mean_Squared_Error(MSE): \" , round(mean_squared_error(y_test, y_pred),3))\n",
    "\n",
    "# Mean_Absolute_Error (MAE)\n",
    "print('Mean_Absolute_Error(MEA):', round(metrics.mean_absolute_error(y_test, y_pred),3))  \n",
    "\n",
    "# R2_score \n",
    "print('R2_Score:', round(metrics.r2_score(y_test, y_pred),3))\n",
    "\n",
    "# RMSE (Root Mean Squared Error):\n",
    "RMSE = round(np.sqrt(mean_squared_error(y_test, y_pred)),3)\n",
    "print('RMSE:', RMSE)\n",
    "\n",
    "# Root_ Mean_Squared_Log_Error(RMSLE)\n",
    "print('Root_Mean_Squared_Log_Error(RMSLE):', round(np.log(np.sqrt(metrics.mean_squared_error(y_test, y_pred))),3))\n"
   ]
  },
  {
   "cell_type": "code",
   "execution_count": 51,
   "id": "1bcbf3bc",
   "metadata": {},
   "outputs": [],
   "source": [
    "MSE= round(mean_squared_error(y_test, y_pred),3)\n",
    "MAE= round(metrics.mean_absolute_error(y_test, y_pred),3)\n",
    "R2_Score= round(metrics.r2_score(y_test, y_pred),3)\n",
    "RMSE= round(np.sqrt(mean_squared_error(y_test, y_pred)),3)\n",
    "RMSLE= round(np.log(np.sqrt(metrics.mean_squared_error(y_test, y_pred))),3)"
   ]
  },
  {
   "cell_type": "code",
   "execution_count": 52,
   "id": "f15643f6",
   "metadata": {},
   "outputs": [
    {
     "data": {
      "text/html": [
       "<div>\n",
       "<style scoped>\n",
       "    .dataframe tbody tr th:only-of-type {\n",
       "        vertical-align: middle;\n",
       "    }\n",
       "\n",
       "    .dataframe tbody tr th {\n",
       "        vertical-align: top;\n",
       "    }\n",
       "\n",
       "    .dataframe thead th {\n",
       "        text-align: right;\n",
       "    }\n",
       "</style>\n",
       "<table border=\"1\" class=\"dataframe\">\n",
       "  <thead>\n",
       "    <tr style=\"text-align: right;\">\n",
       "      <th></th>\n",
       "      <th>Model</th>\n",
       "      <th>MSE</th>\n",
       "      <th>MAE</th>\n",
       "      <th>R2_Score</th>\n",
       "      <th>RMSE</th>\n",
       "      <th>RMSLE</th>\n",
       "    </tr>\n",
       "  </thead>\n",
       "  <tbody>\n",
       "    <tr>\n",
       "      <th>0</th>\n",
       "      <td>ElasticNet</td>\n",
       "      <td>0.006</td>\n",
       "      <td>0.053</td>\n",
       "      <td>0.721</td>\n",
       "      <td>0.079</td>\n",
       "      <td>-2.536</td>\n",
       "    </tr>\n",
       "  </tbody>\n",
       "</table>\n",
       "</div>"
      ],
      "text/plain": [
       "        Model    MSE    MAE  R2_Score   RMSE  RMSLE\n",
       "0  ElasticNet  0.006  0.053     0.721  0.079 -2.536"
      ]
     },
     "execution_count": 52,
     "metadata": {},
     "output_type": "execute_result"
    }
   ],
   "source": [
    "Results_ElasticNet = pd.DataFrame([['ElasticNet', MSE , MAE, R2_Score , RMSE, RMSLE]],\n",
    "               columns = ['Model', 'MSE', 'MAE', 'R2_Score' , 'RMSE', 'RMSLE'])\n",
    "Results_ElasticNet"
   ]
  },
  {
   "cell_type": "code",
   "execution_count": 53,
   "id": "a1f6f463",
   "metadata": {},
   "outputs": [
    {
     "name": "stdout",
     "output_type": "stream",
     "text": [
      "Scores: [0.10650778 0.09537716 0.1072618  0.08613102 0.08550678]\n",
      "Mean: 0.09615690664317314\n",
      "Standard deviation: 0.009434097604651956\n"
     ]
    }
   ],
   "source": [
    "# Cross-validation On Traing set:\n",
    "\n",
    "scores = cross_val_score(enr, X_train_transformed, y_train, cv=5, scoring='neg_mean_squared_error')\n",
    "\n",
    "print(\"Scores:\", np.sqrt(-scores))\n",
    "print(\"Mean:\", np.sqrt(-scores).mean())\n",
    "print(\"Standard deviation:\", np.sqrt(-scores).std())"
   ]
  },
  {
   "cell_type": "code",
   "execution_count": 54,
   "id": "5443083b",
   "metadata": {},
   "outputs": [
    {
     "name": "stdout",
     "output_type": "stream",
     "text": [
      "Mean Accuracy:  66.21 % Variance:  0.397 %\n"
     ]
    }
   ],
   "source": [
    "# Cross-validation On Traing set:\n",
    "\n",
    "cv_scores = cross_val_score(enr, X_train_transformed, y_train, cv=5)\n",
    "print('Mean Accuracy: ', round(cv_scores.mean()*100, 3), '% Variance: ', round(cv_scores.var()*100, 3),'%')"
   ]
  },
  {
   "cell_type": "code",
   "execution_count": 55,
   "id": "bd0a6640",
   "metadata": {},
   "outputs": [
    {
     "data": {
      "text/html": [
       "<div>\n",
       "<style scoped>\n",
       "    .dataframe tbody tr th:only-of-type {\n",
       "        vertical-align: middle;\n",
       "    }\n",
       "\n",
       "    .dataframe tbody tr th {\n",
       "        vertical-align: top;\n",
       "    }\n",
       "\n",
       "    .dataframe thead th {\n",
       "        text-align: right;\n",
       "    }\n",
       "</style>\n",
       "<table border=\"1\" class=\"dataframe\">\n",
       "  <thead>\n",
       "    <tr style=\"text-align: right;\">\n",
       "      <th></th>\n",
       "      <th>Model</th>\n",
       "      <th>Mean Accuracy</th>\n",
       "      <th>Std Accuracy</th>\n",
       "    </tr>\n",
       "  </thead>\n",
       "  <tbody>\n",
       "    <tr>\n",
       "      <th>0</th>\n",
       "      <td>ElasticNet</td>\n",
       "      <td>66.21</td>\n",
       "      <td>0.63</td>\n",
       "    </tr>\n",
       "  </tbody>\n",
       "</table>\n",
       "</div>"
      ],
      "text/plain": [
       "        Model  Mean Accuracy  Std Accuracy\n",
       "0  ElasticNet          66.21          0.63"
      ]
     },
     "execution_count": 55,
     "metadata": {},
     "output_type": "execute_result"
    }
   ],
   "source": [
    "# Calculate mean and variance of the cross-validation scores On Training set:\n",
    "mean_accuracy = cv_scores.mean() * 100\n",
    "var_accuracy = cv_scores.var() * 100\n",
    "\n",
    "# Calculate standard deviation from variance\n",
    "std_accuracy = np.sqrt(var_accuracy)\n",
    "\n",
    "# Create a DataFrame to store the results\n",
    "CV_ElasticNet = pd.DataFrame({\n",
    "    'Mean Accuracy': [round(mean_accuracy, 3)],\n",
    "    'Std Accuracy': [round(std_accuracy, 3)]})\n",
    "\n",
    "# Add a new column to the DataFrame\n",
    "MODEL = [\"ElasticNet\"] * len(CV_ElasticNet)  \n",
    "CV_ElasticNet = pd.concat([pd.Series(MODEL, name='Model'), CV_ElasticNet], axis=1)\n",
    "\n",
    "CV_ElasticNet"
   ]
  },
  {
   "cell_type": "code",
   "execution_count": 56,
   "id": "cd662275",
   "metadata": {},
   "outputs": [
    {
     "data": {
      "image/png": "[encoded data removed]",
      "text/plain": [
       "<Figure size 600x300 with 1 Axes>"
      ]
     },
     "metadata": {},
     "output_type": "display_data"
    }
   ],
   "source": [
    "# Ploting the learning curve:\n",
    "\n",
    "from sklearn.model_selection import learning_curve\n",
    "train_sizes, train_scores, test_scores = learning_curve(estimator=enr, X=X_train_transformed, y=y_train,\n",
    "                                                       cv=10, train_sizes=np.linspace(0.1, 1.0, 10), n_jobs=-1)\n",
    "\n",
    "plt.figure(figsize=(6,3))\n",
    "# Calculate training and test mean and std\n",
    "\n",
    "train_mean = np.mean(train_scores, axis=1)\n",
    "train_std = np.std(train_scores, axis=1)\n",
    "test_mean = np.mean(test_scores, axis=1)\n",
    "test_std = np.std(test_scores, axis=1)\n",
    "\n",
    "# Plot the learning curve\n",
    "\n",
    "plt.plot(train_sizes, train_mean, color='blue', marker='o', markersize=5, label='Training Score')\n",
    "plt.fill_between(train_sizes, train_mean + train_std, train_mean - train_std, alpha=0.15, color='blue')\n",
    "\n",
    "plt.plot(train_sizes, test_mean, color='green', marker='o', markersize=5, label='Cross-Validation Score')\n",
    "plt.fill_between(train_sizes, test_mean + test_std, test_mean - test_std, alpha=0.15, color='green')\n",
    "\n",
    "plt.title('ElasticNet Regression Learning Curve ')\n",
    "plt.xlabel('Training Example', fontsize=12)\n",
    "plt.ylabel('Accuracy Score', fontsize=12)\n",
    "\n",
    "plt.legend(loc='upper center', fontsize=8)\n",
    "#plt.savefig('graph.png')\n",
    "plt.show()"
   ]
  },
  {
   "cell_type": "markdown",
   "id": "1ae5bbcb",
   "metadata": {},
   "source": [
    "**Bayesian Ridge regression**"
   ]
  },
  {
   "cell_type": "code",
   "execution_count": 57,
   "id": "ac2e1b53",
   "metadata": {},
   "outputs": [],
   "source": [
    "from sklearn.linear_model import BayesianRidge"
   ]
  },
  {
   "cell_type": "code",
   "execution_count": 58,
   "id": "4044c42a",
   "metadata": {},
   "outputs": [
    {
     "data": {
      "text/html": [
       "<style>#sk-container-id-5 {color: black;background-color: white;}#sk-container-id-5 pre{padding: 0;}#sk-container-id-5 div.sk-toggleable {background-color: white;}#sk-container-id-5 label.sk-toggleable__label {cursor: pointer;display: block;width: 100%;margin-bottom: 0;padding: 0.3em;box-sizing: border-box;text-align: center;}#sk-container-id-5 label.sk-toggleable__label-arrow:before {content: \"▸\";float: left;margin-right: 0.25em;color: #696969;}#sk-container-id-5 label.sk-toggleable__label-arrow:hover:before {color: black;}#sk-container-id-5 div.sk-estimator:hover label.sk-toggleable__label-arrow:before {color: black;}#sk-container-id-5 div.sk-toggleable__content {max-height: 0;max-width: 0;overflow: hidden;text-align: left;background-color: #f0f8ff;}#sk-container-id-5 div.sk-toggleable__content pre {margin: 0.2em;color: black;border-radius: 0.25em;background-color: #f0f8ff;}#sk-container-id-5 input.sk-toggleable__control:checked~div.sk-toggleable__content {max-height: 200px;max-width: 100%;overflow: auto;}#sk-container-id-5 input.sk-toggleable__control:checked~label.sk-toggleable__label-arrow:before {content: \"▾\";}#sk-container-id-5 div.sk-estimator input.sk-toggleable__control:checked~label.sk-toggleable__label {background-color: #d4ebff;}#sk-container-id-5 div.sk-label input.sk-toggleable__control:checked~label.sk-toggleable__label {background-color: #d4ebff;}#sk-container-id-5 input.sk-hidden--visually {border: 0;clip: rect(1px 1px 1px 1px);clip: rect(1px, 1px, 1px, 1px);height: 1px;margin: -1px;overflow: hidden;padding: 0;position: absolute;width: 1px;}#sk-container-id-5 div.sk-estimator {font-family: monospace;background-color: #f0f8ff;border: 1px dotted black;border-radius: 0.25em;box-sizing: border-box;margin-bottom: 0.5em;}#sk-container-id-5 div.sk-estimator:hover {background-color: #d4ebff;}#sk-container-id-5 div.sk-parallel-item::after {content: \"\";width: 100%;border-bottom: 1px solid gray;flex-grow: 1;}#sk-container-id-5 div.sk-label:hover label.sk-toggleable__label {background-color: #d4ebff;}#sk-container-id-5 div.sk-serial::before {content: \"\";position: absolute;border-left: 1px solid gray;box-sizing: border-box;top: 0;bottom: 0;left: 50%;z-index: 0;}#sk-container-id-5 div.sk-serial {display: flex;flex-direction: column;align-items: center;background-color: white;padding-right: 0.2em;padding-left: 0.2em;position: relative;}#sk-container-id-5 div.sk-item {position: relative;z-index: 1;}#sk-container-id-5 div.sk-parallel {display: flex;align-items: stretch;justify-content: center;background-color: white;position: relative;}#sk-container-id-5 div.sk-item::before, #sk-container-id-5 div.sk-parallel-item::before {content: \"\";position: absolute;border-left: 1px solid gray;box-sizing: border-box;top: 0;bottom: 0;left: 50%;z-index: -1;}#sk-container-id-5 div.sk-parallel-item {display: flex;flex-direction: column;z-index: 1;position: relative;background-color: white;}#sk-container-id-5 div.sk-parallel-item:first-child::after {align-self: flex-end;width: 50%;}#sk-container-id-5 div.sk-parallel-item:last-child::after {align-self: flex-start;width: 50%;}#sk-container-id-5 div.sk-parallel-item:only-child::after {width: 0;}#sk-container-id-5 div.sk-dashed-wrapped {border: 1px dashed gray;margin: 0 0.4em 0.5em 0.4em;box-sizing: border-box;padding-bottom: 0.4em;background-color: white;}#sk-container-id-5 div.sk-label label {font-family: monospace;font-weight: bold;display: inline-block;line-height: 1.2em;}#sk-container-id-5 div.sk-label-container {text-align: center;}#sk-container-id-5 div.sk-container {/* jupyter's `normalize.less` sets `[hidden] { display: none; }` but bootstrap.min.css set `[hidden] { display: none !important; }` so we also need the `!important` here to be able to override the default hidden behavior on the sphinx rendered scikit-learn.org. See: https://github.com/scikit-learn/scikit-learn/issues/21755 */display: inline-block !important;position: relative;}#sk-container-id-5 div.sk-text-repr-fallback {display: none;}</style><div id=\"sk-container-id-5\" class=\"sk-top-container\"><div class=\"sk-text-repr-fallback\"><pre>BayesianRidge()</pre><b>In a Jupyter environment, please rerun this cell to show the HTML representation or trust the notebook. <br />On GitHub, the HTML representation is unable to render, please try loading this page with nbviewer.org.</b></div><div class=\"sk-container\" hidden><div class=\"sk-item\"><div class=\"sk-estimator sk-toggleable\"><input class=\"sk-toggleable__control sk-hidden--visually\" id=\"sk-estimator-id-5\" type=\"checkbox\" checked><label for=\"sk-estimator-id-5\" class=\"sk-toggleable__label sk-toggleable__label-arrow\">BayesianRidge</label><div class=\"sk-toggleable__content\"><pre>BayesianRidge()</pre></div></div></div></div></div>"
      ],
      "text/plain": [
       "BayesianRidge()"
      ]
     },
     "execution_count": 58,
     "metadata": {},
     "output_type": "execute_result"
    }
   ],
   "source": [
    "bayesian_reg = BayesianRidge()\n",
    "bayesian_reg.fit(X_train_transformed, y_train)"
   ]
  },
  {
   "cell_type": "code",
   "execution_count": 59,
   "id": "5d1ce623",
   "metadata": {},
   "outputs": [],
   "source": [
    "y_pred =bayesian_reg.predict(X_test_transformed)\n",
    "#y_pred"
   ]
  },
  {
   "cell_type": "code",
   "execution_count": 60,
   "id": "2baf27cb",
   "metadata": {
    "scrolled": false
   },
   "outputs": [
    {
     "name": "stdout",
     "output_type": "stream",
     "text": [
      "Predicted 1-5: [0.67483468 0.90120246 1.00699141 0.9530823  0.97490487]\n",
      "Actual 1-5:      Graduation %\n",
      "373      0.788321\n",
      "42       0.918089\n",
      "107      0.974548\n",
      "218      0.987500\n",
      "369      1.000000\n"
     ]
    }
   ],
   "source": [
    "print(\"Predicted 1-5:\", y_pred[0:5])\n",
    "print(\"Actual 1-5:\", y_test[0:5])"
   ]
  },
  {
   "cell_type": "code",
   "execution_count": 61,
   "id": "2e7744b4",
   "metadata": {},
   "outputs": [
    {
     "name": "stdout",
     "output_type": "stream",
     "text": [
      "Mean_Squared_Error(MSE):  0.005\n",
      "Mean_Absolute_Error(MEA): 0.051\n",
      "R2_Score: 0.766\n",
      "RMSE: 0.073\n",
      "Root_Mean_Squared_Log_Error(RMSLE): -2.624\n"
     ]
    }
   ],
   "source": [
    "from sklearn import metrics\n",
    "from sklearn.metrics import mean_squared_error, r2_score\n",
    "\n",
    "# MSE (Mean Squared Error):\n",
    "print(\"Mean_Squared_Error(MSE): \" , round(mean_squared_error(y_test, y_pred),3))\n",
    "\n",
    "# Mean_Absolute_Error (MAE)\n",
    "print('Mean_Absolute_Error(MEA):', round(metrics.mean_absolute_error(y_test, y_pred),3))  \n",
    "\n",
    "# R2_score \n",
    "print('R2_Score:', round(metrics.r2_score(y_test, y_pred),3))\n",
    "\n",
    "# RMSE (Root Mean Squared Error):\n",
    "RMSE = round(np.sqrt(mean_squared_error(y_test, y_pred)),3)\n",
    "print('RMSE:', RMSE)\n",
    "\n",
    "# Root_ Mean_Squared_Log_Error(RMSLE)\n",
    "print('Root_Mean_Squared_Log_Error(RMSLE):', round(np.log(np.sqrt(metrics.mean_squared_error(y_test, y_pred))),3))\n"
   ]
  },
  {
   "cell_type": "code",
   "execution_count": 62,
   "id": "21bd0268",
   "metadata": {},
   "outputs": [],
   "source": [
    "MSE= round(mean_squared_error(y_test, y_pred),3)\n",
    "MAE= round(metrics.mean_absolute_error(y_test, y_pred),3)\n",
    "R2_Score= round(metrics.r2_score(y_test, y_pred),3)\n",
    "RMSE= round(np.sqrt(mean_squared_error(y_test, y_pred)),3)\n",
    "RMSLE= round(np.log(np.sqrt(metrics.mean_squared_error(y_test, y_pred))),3)"
   ]
  },
  {
   "cell_type": "code",
   "execution_count": 63,
   "id": "f68f35c0",
   "metadata": {},
   "outputs": [
    {
     "data": {
      "text/html": [
       "<div>\n",
       "<style scoped>\n",
       "    .dataframe tbody tr th:only-of-type {\n",
       "        vertical-align: middle;\n",
       "    }\n",
       "\n",
       "    .dataframe tbody tr th {\n",
       "        vertical-align: top;\n",
       "    }\n",
       "\n",
       "    .dataframe thead th {\n",
       "        text-align: right;\n",
       "    }\n",
       "</style>\n",
       "<table border=\"1\" class=\"dataframe\">\n",
       "  <thead>\n",
       "    <tr style=\"text-align: right;\">\n",
       "      <th></th>\n",
       "      <th>Model</th>\n",
       "      <th>MSE</th>\n",
       "      <th>MAE</th>\n",
       "      <th>R2_Score</th>\n",
       "      <th>RMSE</th>\n",
       "      <th>RMSLE</th>\n",
       "    </tr>\n",
       "  </thead>\n",
       "  <tbody>\n",
       "    <tr>\n",
       "      <th>0</th>\n",
       "      <td>Bayesian_Reg</td>\n",
       "      <td>0.005</td>\n",
       "      <td>0.051</td>\n",
       "      <td>0.766</td>\n",
       "      <td>0.073</td>\n",
       "      <td>-2.624</td>\n",
       "    </tr>\n",
       "  </tbody>\n",
       "</table>\n",
       "</div>"
      ],
      "text/plain": [
       "          Model    MSE    MAE  R2_Score   RMSE  RMSLE\n",
       "0  Bayesian_Reg  0.005  0.051     0.766  0.073 -2.624"
      ]
     },
     "execution_count": 63,
     "metadata": {},
     "output_type": "execute_result"
    }
   ],
   "source": [
    "Results_Bayesian_Reg = pd.DataFrame([['Bayesian_Reg', MSE , MAE, R2_Score , RMSE, RMSLE]],\n",
    "               columns = ['Model', 'MSE', 'MAE', 'R2_Score' , 'RMSE', 'RMSLE'])\n",
    "Results_Bayesian_Reg"
   ]
  },
  {
   "cell_type": "code",
   "execution_count": 64,
   "id": "026eaad5",
   "metadata": {},
   "outputs": [
    {
     "name": "stdout",
     "output_type": "stream",
     "text": [
      "Scores: [0.10042431 0.09383499 0.09767658 0.08127917 0.07663252]\n",
      "Mean: 0.08996951387248833\n",
      "Standard deviation: 0.009349236821904815\n"
     ]
    }
   ],
   "source": [
    "# Cross-validation On Traing set:\n",
    "\n",
    "scores = cross_val_score(bayesian_reg, X_train_transformed, y_train, cv=5, scoring='neg_mean_squared_error')\n",
    "\n",
    "print(\"Scores:\", np.sqrt(-scores))\n",
    "print(\"Mean:\", np.sqrt(-scores).mean())\n",
    "print(\"Standard deviation:\", np.sqrt(-scores).std())"
   ]
  },
  {
   "cell_type": "code",
   "execution_count": 65,
   "id": "b46db185",
   "metadata": {},
   "outputs": [
    {
     "name": "stdout",
     "output_type": "stream",
     "text": [
      "Mean Accuracy:  70.243 % Variance:  0.433 %\n"
     ]
    }
   ],
   "source": [
    "# Cross-validation On Traing set:\n",
    "\n",
    "cv_scores = cross_val_score(bayesian_reg, X_train_transformed, y_train, cv=5)\n",
    "print('Mean Accuracy: ', round(cv_scores.mean()*100, 3), '% Variance: ', round(cv_scores.var()*100, 3),'%')"
   ]
  },
  {
   "cell_type": "code",
   "execution_count": 66,
   "id": "57c5e000",
   "metadata": {},
   "outputs": [
    {
     "data": {
      "text/html": [
       "<div>\n",
       "<style scoped>\n",
       "    .dataframe tbody tr th:only-of-type {\n",
       "        vertical-align: middle;\n",
       "    }\n",
       "\n",
       "    .dataframe tbody tr th {\n",
       "        vertical-align: top;\n",
       "    }\n",
       "\n",
       "    .dataframe thead th {\n",
       "        text-align: right;\n",
       "    }\n",
       "</style>\n",
       "<table border=\"1\" class=\"dataframe\">\n",
       "  <thead>\n",
       "    <tr style=\"text-align: right;\">\n",
       "      <th></th>\n",
       "      <th>Model</th>\n",
       "      <th>Mean Accuracy</th>\n",
       "      <th>Std Accuracy</th>\n",
       "    </tr>\n",
       "  </thead>\n",
       "  <tbody>\n",
       "    <tr>\n",
       "      <th>0</th>\n",
       "      <td>Bayesian_Reg</td>\n",
       "      <td>70.243</td>\n",
       "      <td>0.658</td>\n",
       "    </tr>\n",
       "  </tbody>\n",
       "</table>\n",
       "</div>"
      ],
      "text/plain": [
       "          Model  Mean Accuracy  Std Accuracy\n",
       "0  Bayesian_Reg         70.243         0.658"
      ]
     },
     "execution_count": 66,
     "metadata": {},
     "output_type": "execute_result"
    }
   ],
   "source": [
    "# Calculate mean and variance of the cross-validation scores On Training set:\n",
    "mean_accuracy = cv_scores.mean() * 100\n",
    "var_accuracy = cv_scores.var() * 100\n",
    "\n",
    "# Calculate standard deviation from variance\n",
    "std_accuracy = np.sqrt(var_accuracy)\n",
    "\n",
    "# Create a DataFrame to store the results\n",
    "CV_Bayesian_Reg = pd.DataFrame({\n",
    "    'Mean Accuracy': [round(mean_accuracy, 3)],\n",
    "    'Std Accuracy': [round(std_accuracy, 3)]})\n",
    "\n",
    "# Add a new column to the DataFrame\n",
    "MODEL = [\"Bayesian_Reg\"] * len(CV_Bayesian_Reg) \n",
    "CV_Bayesian_Reg = pd.concat([pd.Series(MODEL, name='Model'), CV_Bayesian_Reg], axis=1)\n",
    "\n",
    "CV_Bayesian_Reg"
   ]
  },
  {
   "cell_type": "code",
   "execution_count": 67,
   "id": "389ccb9d",
   "metadata": {},
   "outputs": [
    {
     "data": {
      "image/png": "[encoded data removed]",
      "text/plain": [
       "<Figure size 600x300 with 1 Axes>"
      ]
     },
     "metadata": {},
     "output_type": "display_data"
    }
   ],
   "source": [
    "# Ploting the learning curve:\n",
    "\n",
    "from sklearn.model_selection import learning_curve\n",
    "train_sizes, train_scores, test_scores = learning_curve(estimator=bayesian_reg, X=X_train_transformed, y=y_train,\n",
    "                                                       cv=10, train_sizes=np.linspace(0.1, 1.0, 10), n_jobs=-1)\n",
    "\n",
    "plt.figure(figsize=(6,3))\n",
    "# Calculate training and test mean and std\n",
    "\n",
    "train_mean = np.mean(train_scores, axis=1)\n",
    "train_std = np.std(train_scores, axis=1)\n",
    "test_mean = np.mean(test_scores, axis=1)\n",
    "test_std = np.std(test_scores, axis=1)\n",
    "\n",
    "# Plot the learning curve\n",
    "\n",
    "plt.plot(train_sizes, train_mean, color='blue', marker='o', markersize=5, label='Training Score')\n",
    "plt.fill_between(train_sizes, train_mean + train_std, train_mean - train_std, alpha=0.15, color='blue')\n",
    "\n",
    "plt.plot(train_sizes, test_mean, color='green', marker='o', markersize=5, label='Cross-Validation Score')\n",
    "plt.fill_between(train_sizes, test_mean + test_std, test_mean - test_std, alpha=0.15, color='green')\n",
    "\n",
    "plt.title('Bayesian Ridge Learning Curve ')\n",
    "plt.xlabel('Training Example', fontsize=12)\n",
    "plt.ylabel('Accuracy Score', fontsize=12)\n",
    "\n",
    "plt.legend(loc='upper center', fontsize=8)\n",
    "#plt.savefig('graph.png')\n",
    "plt.show()"
   ]
  },
  {
   "cell_type": "markdown",
   "id": "e44b188a",
   "metadata": {},
   "source": [
    "**Decision Tree Regressor**"
   ]
  },
  {
   "cell_type": "code",
   "execution_count": 68,
   "id": "1add3416",
   "metadata": {},
   "outputs": [],
   "source": [
    "from sklearn.tree import DecisionTreeRegressor"
   ]
  },
  {
   "cell_type": "code",
   "execution_count": 69,
   "id": "048287af",
   "metadata": {},
   "outputs": [
    {
     "data": {
      "text/html": [
       "<style>#sk-container-id-6 {color: black;background-color: white;}#sk-container-id-6 pre{padding: 0;}#sk-container-id-6 div.sk-toggleable {background-color: white;}#sk-container-id-6 label.sk-toggleable__label {cursor: pointer;display: block;width: 100%;margin-bottom: 0;padding: 0.3em;box-sizing: border-box;text-align: center;}#sk-container-id-6 label.sk-toggleable__label-arrow:before {content: \"▸\";float: left;margin-right: 0.25em;color: #696969;}#sk-container-id-6 label.sk-toggleable__label-arrow:hover:before {color: black;}#sk-container-id-6 div.sk-estimator:hover label.sk-toggleable__label-arrow:before {color: black;}#sk-container-id-6 div.sk-toggleable__content {max-height: 0;max-width: 0;overflow: hidden;text-align: left;background-color: #f0f8ff;}#sk-container-id-6 div.sk-toggleable__content pre {margin: 0.2em;color: black;border-radius: 0.25em;background-color: #f0f8ff;}#sk-container-id-6 input.sk-toggleable__control:checked~div.sk-toggleable__content {max-height: 200px;max-width: 100%;overflow: auto;}#sk-container-id-6 input.sk-toggleable__control:checked~label.sk-toggleable__label-arrow:before {content: \"▾\";}#sk-container-id-6 div.sk-estimator input.sk-toggleable__control:checked~label.sk-toggleable__label {background-color: #d4ebff;}#sk-container-id-6 div.sk-label input.sk-toggleable__control:checked~label.sk-toggleable__label {background-color: #d4ebff;}#sk-container-id-6 input.sk-hidden--visually {border: 0;clip: rect(1px 1px 1px 1px);clip: rect(1px, 1px, 1px, 1px);height: 1px;margin: -1px;overflow: hidden;padding: 0;position: absolute;width: 1px;}#sk-container-id-6 div.sk-estimator {font-family: monospace;background-color: #f0f8ff;border: 1px dotted black;border-radius: 0.25em;box-sizing: border-box;margin-bottom: 0.5em;}#sk-container-id-6 div.sk-estimator:hover {background-color: #d4ebff;}#sk-container-id-6 div.sk-parallel-item::after {content: \"\";width: 100%;border-bottom: 1px solid gray;flex-grow: 1;}#sk-container-id-6 div.sk-label:hover label.sk-toggleable__label {background-color: #d4ebff;}#sk-container-id-6 div.sk-serial::before {content: \"\";position: absolute;border-left: 1px solid gray;box-sizing: border-box;top: 0;bottom: 0;left: 50%;z-index: 0;}#sk-container-id-6 div.sk-serial {display: flex;flex-direction: column;align-items: center;background-color: white;padding-right: 0.2em;padding-left: 0.2em;position: relative;}#sk-container-id-6 div.sk-item {position: relative;z-index: 1;}#sk-container-id-6 div.sk-parallel {display: flex;align-items: stretch;justify-content: center;background-color: white;position: relative;}#sk-container-id-6 div.sk-item::before, #sk-container-id-6 div.sk-parallel-item::before {content: \"\";position: absolute;border-left: 1px solid gray;box-sizing: border-box;top: 0;bottom: 0;left: 50%;z-index: -1;}#sk-container-id-6 div.sk-parallel-item {display: flex;flex-direction: column;z-index: 1;position: relative;background-color: white;}#sk-container-id-6 div.sk-parallel-item:first-child::after {align-self: flex-end;width: 50%;}#sk-container-id-6 div.sk-parallel-item:last-child::after {align-self: flex-start;width: 50%;}#sk-container-id-6 div.sk-parallel-item:only-child::after {width: 0;}#sk-container-id-6 div.sk-dashed-wrapped {border: 1px dashed gray;margin: 0 0.4em 0.5em 0.4em;box-sizing: border-box;padding-bottom: 0.4em;background-color: white;}#sk-container-id-6 div.sk-label label {font-family: monospace;font-weight: bold;display: inline-block;line-height: 1.2em;}#sk-container-id-6 div.sk-label-container {text-align: center;}#sk-container-id-6 div.sk-container {/* jupyter's `normalize.less` sets `[hidden] { display: none; }` but bootstrap.min.css set `[hidden] { display: none !important; }` so we also need the `!important` here to be able to override the default hidden behavior on the sphinx rendered scikit-learn.org. See: https://github.com/scikit-learn/scikit-learn/issues/21755 */display: inline-block !important;position: relative;}#sk-container-id-6 div.sk-text-repr-fallback {display: none;}</style><div id=\"sk-container-id-6\" class=\"sk-top-container\"><div class=\"sk-text-repr-fallback\"><pre>DecisionTreeRegressor(max_depth=5)</pre><b>In a Jupyter environment, please rerun this cell to show the HTML representation or trust the notebook. <br />On GitHub, the HTML representation is unable to render, please try loading this page with nbviewer.org.</b></div><div class=\"sk-container\" hidden><div class=\"sk-item\"><div class=\"sk-estimator sk-toggleable\"><input class=\"sk-toggleable__control sk-hidden--visually\" id=\"sk-estimator-id-6\" type=\"checkbox\" checked><label for=\"sk-estimator-id-6\" class=\"sk-toggleable__label sk-toggleable__label-arrow\">DecisionTreeRegressor</label><div class=\"sk-toggleable__content\"><pre>DecisionTreeRegressor(max_depth=5)</pre></div></div></div></div></div>"
      ],
      "text/plain": [
       "DecisionTreeRegressor(max_depth=5)"
      ]
     },
     "execution_count": 69,
     "metadata": {},
     "output_type": "execute_result"
    }
   ],
   "source": [
    "tree_reg = DecisionTreeRegressor(max_depth=5)\n",
    "tree_reg.fit(X_train_transformed, y_train)"
   ]
  },
  {
   "cell_type": "code",
   "execution_count": 70,
   "id": "e3382497",
   "metadata": {},
   "outputs": [],
   "source": [
    "y_pred =tree_reg.predict(X_test_transformed)\n",
    "#y_pred"
   ]
  },
  {
   "cell_type": "code",
   "execution_count": 71,
   "id": "f93fc3b6",
   "metadata": {
    "scrolled": true
   },
   "outputs": [
    {
     "name": "stdout",
     "output_type": "stream",
     "text": [
      "Predicted 1-5: [0.71462509 0.94128122 0.97282718 0.99422455 1.        ]\n",
      "Actual 1-5:      Graduation %\n",
      "373      0.788321\n",
      "42       0.918089\n",
      "107      0.974548\n",
      "218      0.987500\n",
      "369      1.000000\n"
     ]
    }
   ],
   "source": [
    "print(\"Predicted 1-5:\", y_pred[0:5])\n",
    "print(\"Actual 1-5:\", y_test[0:5])"
   ]
  },
  {
   "cell_type": "code",
   "execution_count": 72,
   "id": "22c59842",
   "metadata": {},
   "outputs": [
    {
     "name": "stdout",
     "output_type": "stream",
     "text": [
      "Mean_Squared_Error(MSE):  0.004\n",
      "Mean_Absolute_Error(MEA): 0.033\n",
      "R2_Score: 0.829\n",
      "RMSE: 0.062\n",
      "Root_Mean_Squared_Log_Error(RMSLE): -2.779\n"
     ]
    }
   ],
   "source": [
    "from sklearn import metrics\n",
    "from sklearn.metrics import mean_squared_error, r2_score\n",
    "\n",
    "# MSE (Mean Squared Error):\n",
    "print(\"Mean_Squared_Error(MSE): \" , round(mean_squared_error(y_test, y_pred),3))\n",
    "\n",
    "# Mean_Absolute_Error (MAE)\n",
    "print('Mean_Absolute_Error(MEA):', round(metrics.mean_absolute_error(y_test, y_pred),3))  \n",
    "\n",
    "# R2_score \n",
    "print('R2_Score:', round(metrics.r2_score(y_test, y_pred),3))\n",
    "\n",
    "\n",
    "# RMSE (Root Mean Squared Error):\n",
    "RMSE = round(np.sqrt(mean_squared_error(y_test, y_pred)),3)\n",
    "print('RMSE:', RMSE)\n",
    "\n",
    "# Root_ Mean_Squared_Log_Error(RMSLE)\n",
    "print('Root_Mean_Squared_Log_Error(RMSLE):', round(np.log(np.sqrt(metrics.mean_squared_error(y_test, y_pred))),3))"
   ]
  },
  {
   "cell_type": "code",
   "execution_count": 73,
   "id": "61a6acf4",
   "metadata": {},
   "outputs": [],
   "source": [
    "MSE= round(mean_squared_error(y_test, y_pred),3)\n",
    "MAE= round(metrics.mean_absolute_error(y_test, y_pred),3)\n",
    "R2_Score= round(metrics.r2_score(y_test, y_pred),3)\n",
    "RMSE= round(np.sqrt(mean_squared_error(y_test, y_pred)),3)\n",
    "RMSLE= round(np.log(np.sqrt(metrics.mean_squared_error(y_test, y_pred))),3)"
   ]
  },
  {
   "cell_type": "code",
   "execution_count": 74,
   "id": "d86829b4",
   "metadata": {
    "scrolled": true
   },
   "outputs": [
    {
     "data": {
      "text/html": [
       "<div>\n",
       "<style scoped>\n",
       "    .dataframe tbody tr th:only-of-type {\n",
       "        vertical-align: middle;\n",
       "    }\n",
       "\n",
       "    .dataframe tbody tr th {\n",
       "        vertical-align: top;\n",
       "    }\n",
       "\n",
       "    .dataframe thead th {\n",
       "        text-align: right;\n",
       "    }\n",
       "</style>\n",
       "<table border=\"1\" class=\"dataframe\">\n",
       "  <thead>\n",
       "    <tr style=\"text-align: right;\">\n",
       "      <th></th>\n",
       "      <th>Model</th>\n",
       "      <th>MSE</th>\n",
       "      <th>MAE</th>\n",
       "      <th>R2_Score</th>\n",
       "      <th>RMSE</th>\n",
       "      <th>RMSLE</th>\n",
       "    </tr>\n",
       "  </thead>\n",
       "  <tbody>\n",
       "    <tr>\n",
       "      <th>0</th>\n",
       "      <td>Decision Tree</td>\n",
       "      <td>0.004</td>\n",
       "      <td>0.033</td>\n",
       "      <td>0.829</td>\n",
       "      <td>0.062</td>\n",
       "      <td>-2.779</td>\n",
       "    </tr>\n",
       "  </tbody>\n",
       "</table>\n",
       "</div>"
      ],
      "text/plain": [
       "           Model    MSE    MAE  R2_Score   RMSE  RMSLE\n",
       "0  Decision Tree  0.004  0.033     0.829  0.062 -2.779"
      ]
     },
     "execution_count": 74,
     "metadata": {},
     "output_type": "execute_result"
    }
   ],
   "source": [
    "Results_DecisionTree = pd.DataFrame([['Decision Tree', MSE , MAE, R2_Score , RMSE, RMSLE]],\n",
    "               columns = ['Model', 'MSE', 'MAE', 'R2_Score' , 'RMSE', 'RMSLE'])\n",
    "Results_DecisionTree"
   ]
  },
  {
   "cell_type": "code",
   "execution_count": 75,
   "id": "90f90c99",
   "metadata": {},
   "outputs": [
    {
     "name": "stdout",
     "output_type": "stream",
     "text": [
      "Scores: [0.05844466 0.04636708 0.05110245 0.05876433 0.10942072]\n",
      "Mean: 0.06481984973966767\n",
      "Standard deviation: 0.022782544038881598\n"
     ]
    }
   ],
   "source": [
    "# Cross-validation On Traing set:\n",
    "\n",
    "scores = cross_val_score(tree_reg, X_train_transformed, y_train, cv=5, scoring='neg_mean_squared_error')\n",
    "\n",
    "print(\"Scores:\", np.sqrt(-scores))\n",
    "print(\"Mean:\", np.sqrt(-scores).mean())\n",
    "print(\"Standard deviation:\", np.sqrt(-scores).std())"
   ]
  },
  {
   "cell_type": "code",
   "execution_count": 76,
   "id": "ac7d94e7",
   "metadata": {},
   "outputs": [
    {
     "name": "stdout",
     "output_type": "stream",
     "text": [
      "Mean Accuracy:  85.03 % Variance:  0.868 %\n"
     ]
    }
   ],
   "source": [
    "# Cross-validation On Traing set:\n",
    "\n",
    "cv_scores = cross_val_score(tree_reg, X_train_transformed, y_train, cv=5)\n",
    "print('Mean Accuracy: ', round(cv_scores.mean()*100, 3), '% Variance: ', round(cv_scores.var()*100, 3),'%')"
   ]
  },
  {
   "cell_type": "code",
   "execution_count": 77,
   "id": "a6817907",
   "metadata": {},
   "outputs": [
    {
     "data": {
      "text/html": [
       "<div>\n",
       "<style scoped>\n",
       "    .dataframe tbody tr th:only-of-type {\n",
       "        vertical-align: middle;\n",
       "    }\n",
       "\n",
       "    .dataframe tbody tr th {\n",
       "        vertical-align: top;\n",
       "    }\n",
       "\n",
       "    .dataframe thead th {\n",
       "        text-align: right;\n",
       "    }\n",
       "</style>\n",
       "<table border=\"1\" class=\"dataframe\">\n",
       "  <thead>\n",
       "    <tr style=\"text-align: right;\">\n",
       "      <th></th>\n",
       "      <th>Model</th>\n",
       "      <th>Mean Accuracy</th>\n",
       "      <th>Std Accuracy</th>\n",
       "    </tr>\n",
       "  </thead>\n",
       "  <tbody>\n",
       "    <tr>\n",
       "      <th>0</th>\n",
       "      <td>Decision Tree</td>\n",
       "      <td>85.03</td>\n",
       "      <td>0.931</td>\n",
       "    </tr>\n",
       "  </tbody>\n",
       "</table>\n",
       "</div>"
      ],
      "text/plain": [
       "           Model  Mean Accuracy  Std Accuracy\n",
       "0  Decision Tree          85.03         0.931"
      ]
     },
     "execution_count": 77,
     "metadata": {},
     "output_type": "execute_result"
    }
   ],
   "source": [
    "# Calculate mean and variance of the cross-validation scores On Training set:\n",
    "mean_accuracy = cv_scores.mean() * 100\n",
    "var_accuracy = cv_scores.var() * 100\n",
    "\n",
    "# Calculate standard deviation from variance\n",
    "std_accuracy = np.sqrt(var_accuracy)\n",
    "\n",
    "# Create a DataFrame to store the results\n",
    "CV_Desicion_Tree = pd.DataFrame({\n",
    "    'Mean Accuracy': [round(mean_accuracy, 3)],\n",
    "    'Std Accuracy': [round(std_accuracy, 3)]})\n",
    "\n",
    "# Add a new column to the DataFrame\n",
    "MODEL = [\"Decision Tree\"] * len(CV_Desicion_Tree) \n",
    "CV_Desicion_Tree = pd.concat([pd.Series(MODEL, name='Model'), CV_Desicion_Tree], axis=1)\n",
    "\n",
    "CV_Desicion_Tree"
   ]
  },
  {
   "cell_type": "code",
   "execution_count": 78,
   "id": "6ac48f2b",
   "metadata": {},
   "outputs": [
    {
     "data": {
      "image/png": "[encoded data removed]",
      "text/plain": [
       "<Figure size 600x300 with 1 Axes>"
      ]
     },
     "metadata": {},
     "output_type": "display_data"
    }
   ],
   "source": [
    "# Ploting the learning curve:\n",
    "\n",
    "from sklearn.model_selection import learning_curve\n",
    "train_sizes, train_scores, test_scores = learning_curve(estimator=tree_reg, X=X_train_transformed, y=y_train,\n",
    "                                                       cv=10, train_sizes=np.linspace(0.1, 1.0, 10), n_jobs=-1)\n",
    "\n",
    "plt.figure(figsize=(6,3))\n",
    "# Calculate training and test mean and std\n",
    "\n",
    "train_mean = np.mean(train_scores, axis=1)\n",
    "train_std = np.std(train_scores, axis=1)\n",
    "test_mean = np.mean(test_scores, axis=1)\n",
    "test_std = np.std(test_scores, axis=1)\n",
    "\n",
    "# Plot the learning curve\n",
    "\n",
    "plt.plot(train_sizes, train_mean, color='blue', marker='o', markersize=5, label='Training Score')\n",
    "plt.fill_between(train_sizes, train_mean + train_std, train_mean - train_std, alpha=0.15, color='blue')\n",
    "\n",
    "plt.plot(train_sizes, test_mean, color='green', marker='o', markersize=5, label='Cross-Validation Score')\n",
    "plt.fill_between(train_sizes, test_mean + test_std, test_mean - test_std, alpha=0.15, color='green')\n",
    "\n",
    "plt.title('Decision Tree Learning Curve ')\n",
    "plt.xlabel('Training Example', fontsize=12)\n",
    "plt.ylabel('Accuracy Score', fontsize=12)\n",
    "\n",
    "plt.legend(loc='lower center', fontsize=8)\n",
    "#plt.savefig('graph.png')\n",
    "plt.show()"
   ]
  },
  {
   "cell_type": "markdown",
   "id": "2e2788d2",
   "metadata": {},
   "source": [
    "**Linear SVM Regression**"
   ]
  },
  {
   "cell_type": "code",
   "execution_count": 79,
   "id": "7293066f",
   "metadata": {},
   "outputs": [],
   "source": [
    "from sklearn.svm import LinearSVR"
   ]
  },
  {
   "cell_type": "code",
   "execution_count": 80,
   "id": "aee77fe9",
   "metadata": {},
   "outputs": [
    {
     "data": {
      "text/html": [
       "<style>#sk-container-id-7 {color: black;background-color: white;}#sk-container-id-7 pre{padding: 0;}#sk-container-id-7 div.sk-toggleable {background-color: white;}#sk-container-id-7 label.sk-toggleable__label {cursor: pointer;display: block;width: 100%;margin-bottom: 0;padding: 0.3em;box-sizing: border-box;text-align: center;}#sk-container-id-7 label.sk-toggleable__label-arrow:before {content: \"▸\";float: left;margin-right: 0.25em;color: #696969;}#sk-container-id-7 label.sk-toggleable__label-arrow:hover:before {color: black;}#sk-container-id-7 div.sk-estimator:hover label.sk-toggleable__label-arrow:before {color: black;}#sk-container-id-7 div.sk-toggleable__content {max-height: 0;max-width: 0;overflow: hidden;text-align: left;background-color: #f0f8ff;}#sk-container-id-7 div.sk-toggleable__content pre {margin: 0.2em;color: black;border-radius: 0.25em;background-color: #f0f8ff;}#sk-container-id-7 input.sk-toggleable__control:checked~div.sk-toggleable__content {max-height: 200px;max-width: 100%;overflow: auto;}#sk-container-id-7 input.sk-toggleable__control:checked~label.sk-toggleable__label-arrow:before {content: \"▾\";}#sk-container-id-7 div.sk-estimator input.sk-toggleable__control:checked~label.sk-toggleable__label {background-color: #d4ebff;}#sk-container-id-7 div.sk-label input.sk-toggleable__control:checked~label.sk-toggleable__label {background-color: #d4ebff;}#sk-container-id-7 input.sk-hidden--visually {border: 0;clip: rect(1px 1px 1px 1px);clip: rect(1px, 1px, 1px, 1px);height: 1px;margin: -1px;overflow: hidden;padding: 0;position: absolute;width: 1px;}#sk-container-id-7 div.sk-estimator {font-family: monospace;background-color: #f0f8ff;border: 1px dotted black;border-radius: 0.25em;box-sizing: border-box;margin-bottom: 0.5em;}#sk-container-id-7 div.sk-estimator:hover {background-color: #d4ebff;}#sk-container-id-7 div.sk-parallel-item::after {content: \"\";width: 100%;border-bottom: 1px solid gray;flex-grow: 1;}#sk-container-id-7 div.sk-label:hover label.sk-toggleable__label {background-color: #d4ebff;}#sk-container-id-7 div.sk-serial::before {content: \"\";position: absolute;border-left: 1px solid gray;box-sizing: border-box;top: 0;bottom: 0;left: 50%;z-index: 0;}#sk-container-id-7 div.sk-serial {display: flex;flex-direction: column;align-items: center;background-color: white;padding-right: 0.2em;padding-left: 0.2em;position: relative;}#sk-container-id-7 div.sk-item {position: relative;z-index: 1;}#sk-container-id-7 div.sk-parallel {display: flex;align-items: stretch;justify-content: center;background-color: white;position: relative;}#sk-container-id-7 div.sk-item::before, #sk-container-id-7 div.sk-parallel-item::before {content: \"\";position: absolute;border-left: 1px solid gray;box-sizing: border-box;top: 0;bottom: 0;left: 50%;z-index: -1;}#sk-container-id-7 div.sk-parallel-item {display: flex;flex-direction: column;z-index: 1;position: relative;background-color: white;}#sk-container-id-7 div.sk-parallel-item:first-child::after {align-self: flex-end;width: 50%;}#sk-container-id-7 div.sk-parallel-item:last-child::after {align-self: flex-start;width: 50%;}#sk-container-id-7 div.sk-parallel-item:only-child::after {width: 0;}#sk-container-id-7 div.sk-dashed-wrapped {border: 1px dashed gray;margin: 0 0.4em 0.5em 0.4em;box-sizing: border-box;padding-bottom: 0.4em;background-color: white;}#sk-container-id-7 div.sk-label label {font-family: monospace;font-weight: bold;display: inline-block;line-height: 1.2em;}#sk-container-id-7 div.sk-label-container {text-align: center;}#sk-container-id-7 div.sk-container {/* jupyter's `normalize.less` sets `[hidden] { display: none; }` but bootstrap.min.css set `[hidden] { display: none !important; }` so we also need the `!important` here to be able to override the default hidden behavior on the sphinx rendered scikit-learn.org. See: https://github.com/scikit-learn/scikit-learn/issues/21755 */display: inline-block !important;position: relative;}#sk-container-id-7 div.sk-text-repr-fallback {display: none;}</style><div id=\"sk-container-id-7\" class=\"sk-top-container\"><div class=\"sk-text-repr-fallback\"><pre>LinearSVR(epsilon=0.3)</pre><b>In a Jupyter environment, please rerun this cell to show the HTML representation or trust the notebook. <br />On GitHub, the HTML representation is unable to render, please try loading this page with nbviewer.org.</b></div><div class=\"sk-container\" hidden><div class=\"sk-item\"><div class=\"sk-estimator sk-toggleable\"><input class=\"sk-toggleable__control sk-hidden--visually\" id=\"sk-estimator-id-7\" type=\"checkbox\" checked><label for=\"sk-estimator-id-7\" class=\"sk-toggleable__label sk-toggleable__label-arrow\">LinearSVR</label><div class=\"sk-toggleable__content\"><pre>LinearSVR(epsilon=0.3)</pre></div></div></div></div></div>"
      ],
      "text/plain": [
       "LinearSVR(epsilon=0.3)"
      ]
     },
     "execution_count": 80,
     "metadata": {},
     "output_type": "execute_result"
    }
   ],
   "source": [
    "svm_reg = LinearSVR(epsilon = 0.3)\n",
    "svm_reg.fit(X_train_transformed, y_train)"
   ]
  },
  {
   "cell_type": "code",
   "execution_count": 81,
   "id": "bbaddc88",
   "metadata": {},
   "outputs": [],
   "source": [
    "y_pred =svm_reg.predict(X_test_transformed)\n",
    "#y_pred"
   ]
  },
  {
   "cell_type": "code",
   "execution_count": 82,
   "id": "4de49c72",
   "metadata": {},
   "outputs": [
    {
     "name": "stdout",
     "output_type": "stream",
     "text": [
      "Mean_Squared_Error(MSE):  0.053\n",
      "Mean_Absolute_Error(MEA): 0.217\n",
      "R2_Score: -1.356\n",
      "RMSE: 0.23\n",
      "Root_Mean_Squared_Log_Error(RMSLE): -1.469\n"
     ]
    }
   ],
   "source": [
    "from sklearn import metrics\n",
    "from sklearn.metrics import mean_squared_error, r2_score\n",
    "\n",
    "# MSE (Mean Squared Error):\n",
    "print(\"Mean_Squared_Error(MSE): \" , round(mean_squared_error(y_test, y_pred),3))\n",
    "\n",
    "# Mean_Absolute_Error (MAE)\n",
    "print('Mean_Absolute_Error(MEA):', round(metrics.mean_absolute_error(y_test, y_pred),3))  \n",
    "\n",
    "# R2_score \n",
    "print('R2_Score:', round(metrics.r2_score(y_test, y_pred),3))\n",
    "\n",
    "# RMSE (Root Mean Squared Error):\n",
    "RMSE = round(np.sqrt(mean_squared_error(y_test, y_pred)),3)\n",
    "print('RMSE:', RMSE)\n",
    "\n",
    "# Root_ Mean_Squared_Log_Error(RMSLE)\n",
    "print('Root_Mean_Squared_Log_Error(RMSLE):', round(np.log(np.sqrt(metrics.mean_squared_error(y_test, y_pred))),3))"
   ]
  },
  {
   "cell_type": "code",
   "execution_count": 83,
   "id": "79673b8f",
   "metadata": {},
   "outputs": [],
   "source": [
    "MSE= round(mean_squared_error(y_test, y_pred),3)\n",
    "MAE= round(metrics.mean_absolute_error(y_test, y_pred),3)\n",
    "R2_Score= round(metrics.r2_score(y_test, y_pred),3)\n",
    "RMSE= round(np.sqrt(mean_squared_error(y_test, y_pred)),3)\n",
    "RMSLE= round(np.log(np.sqrt(metrics.mean_squared_error(y_test, y_pred))),3)"
   ]
  },
  {
   "cell_type": "code",
   "execution_count": 84,
   "id": "f464f4de",
   "metadata": {},
   "outputs": [
    {
     "data": {
      "text/html": [
       "<div>\n",
       "<style scoped>\n",
       "    .dataframe tbody tr th:only-of-type {\n",
       "        vertical-align: middle;\n",
       "    }\n",
       "\n",
       "    .dataframe tbody tr th {\n",
       "        vertical-align: top;\n",
       "    }\n",
       "\n",
       "    .dataframe thead th {\n",
       "        text-align: right;\n",
       "    }\n",
       "</style>\n",
       "<table border=\"1\" class=\"dataframe\">\n",
       "  <thead>\n",
       "    <tr style=\"text-align: right;\">\n",
       "      <th></th>\n",
       "      <th>Model</th>\n",
       "      <th>MSE</th>\n",
       "      <th>MAE</th>\n",
       "      <th>R2_Score</th>\n",
       "      <th>RMSE</th>\n",
       "      <th>RMSLE</th>\n",
       "    </tr>\n",
       "  </thead>\n",
       "  <tbody>\n",
       "    <tr>\n",
       "      <th>0</th>\n",
       "      <td>SVM</td>\n",
       "      <td>0.053</td>\n",
       "      <td>0.217</td>\n",
       "      <td>-1.356</td>\n",
       "      <td>0.23</td>\n",
       "      <td>-1.469</td>\n",
       "    </tr>\n",
       "  </tbody>\n",
       "</table>\n",
       "</div>"
      ],
      "text/plain": [
       "  Model    MSE    MAE  R2_Score  RMSE  RMSLE\n",
       "0   SVM  0.053  0.217    -1.356  0.23 -1.469"
      ]
     },
     "execution_count": 84,
     "metadata": {},
     "output_type": "execute_result"
    }
   ],
   "source": [
    "Results_svm_reg = pd.DataFrame([['SVM', MSE , MAE, R2_Score , RMSE, RMSLE]],\n",
    "               columns = ['Model', 'MSE', 'MAE', 'R2_Score' , 'RMSE', 'RMSLE'])\n",
    "Results_svm_reg"
   ]
  },
  {
   "cell_type": "code",
   "execution_count": 85,
   "id": "f8358323",
   "metadata": {},
   "outputs": [
    {
     "name": "stdout",
     "output_type": "stream",
     "text": [
      "Scores: [0.23720735 0.24642974 0.2326357  0.23382758 0.22702589]\n",
      "Mean: 0.23542525215667012\n",
      "Standard deviation: 0.006405590223704403\n"
     ]
    }
   ],
   "source": [
    "# Cross-validation On Traing set:\n",
    "\n",
    "scores = cross_val_score(svm_reg, X_train_transformed, y_train, cv=5, scoring='neg_mean_squared_error')\n",
    "\n",
    "print(\"Scores:\", np.sqrt(-scores))\n",
    "print(\"Mean:\", np.sqrt(-scores).mean())\n",
    "print(\"Standard deviation:\", np.sqrt(-scores).std())"
   ]
  },
  {
   "cell_type": "code",
   "execution_count": 86,
   "id": "c2f822e0",
   "metadata": {},
   "outputs": [
    {
     "name": "stdout",
     "output_type": "stream",
     "text": [
      "Mean Accuracy:  -102.45 % Variance:  7.944 %\n"
     ]
    }
   ],
   "source": [
    "# Cross-validation On Traing set:\n",
    "\n",
    "cv_scores = cross_val_score(svm_reg, X_train_transformed, y_train, cv=5)\n",
    "print('Mean Accuracy: ', round(cv_scores.mean()*100, 3), '% Variance: ', round(cv_scores.var()*100, 3),'%')"
   ]
  },
  {
   "cell_type": "code",
   "execution_count": 87,
   "id": "7d5923cb",
   "metadata": {},
   "outputs": [
    {
     "data": {
      "text/html": [
       "<div>\n",
       "<style scoped>\n",
       "    .dataframe tbody tr th:only-of-type {\n",
       "        vertical-align: middle;\n",
       "    }\n",
       "\n",
       "    .dataframe tbody tr th {\n",
       "        vertical-align: top;\n",
       "    }\n",
       "\n",
       "    .dataframe thead th {\n",
       "        text-align: right;\n",
       "    }\n",
       "</style>\n",
       "<table border=\"1\" class=\"dataframe\">\n",
       "  <thead>\n",
       "    <tr style=\"text-align: right;\">\n",
       "      <th></th>\n",
       "      <th>Model</th>\n",
       "      <th>Mean Accuracy</th>\n",
       "      <th>Std Accuracy</th>\n",
       "    </tr>\n",
       "  </thead>\n",
       "  <tbody>\n",
       "    <tr>\n",
       "      <th>0</th>\n",
       "      <td>CV_SVM_Reg</td>\n",
       "      <td>-102.45</td>\n",
       "      <td>2.819</td>\n",
       "    </tr>\n",
       "  </tbody>\n",
       "</table>\n",
       "</div>"
      ],
      "text/plain": [
       "        Model  Mean Accuracy  Std Accuracy\n",
       "0  CV_SVM_Reg        -102.45         2.819"
      ]
     },
     "execution_count": 87,
     "metadata": {},
     "output_type": "execute_result"
    }
   ],
   "source": [
    "# Calculate mean and variance of the cross-validation scores On Training set:\n",
    "mean_accuracy = cv_scores.mean() * 100\n",
    "var_accuracy = cv_scores.var() * 100\n",
    "\n",
    "# Calculate standard deviation from variance\n",
    "std_accuracy = np.sqrt(var_accuracy)\n",
    "\n",
    "# Create a DataFrame to store the results\n",
    "CV_SVM_Reg  = pd.DataFrame({\n",
    "    'Mean Accuracy': [round(mean_accuracy, 3)],\n",
    "    'Std Accuracy': [round(std_accuracy, 3)]})\n",
    "\n",
    "# Add a new column to the DataFrame\n",
    "MODEL = [\"CV_SVM_Reg\"] * len(CV_SVM_Reg ) \n",
    "CV_SVM_Reg  = pd.concat([pd.Series(MODEL, name='Model'), CV_SVM_Reg  ], axis=1)\n",
    "\n",
    "CV_SVM_Reg "
   ]
  },
  {
   "cell_type": "code",
   "execution_count": 88,
   "id": "020b1fda",
   "metadata": {},
   "outputs": [
    {
     "data": {
      "image/png": "[encoded data removed]",
      "text/plain": [
       "<Figure size 600x300 with 1 Axes>"
      ]
     },
     "metadata": {},
     "output_type": "display_data"
    }
   ],
   "source": [
    "# Ploting the learning curve:\n",
    "\n",
    "from sklearn.model_selection import learning_curve\n",
    "train_sizes, train_scores, test_scores = learning_curve(estimator=svm_reg, X=X_train_transformed, y=y_train,\n",
    "                                                       cv=10, train_sizes=np.linspace(0.1, 1.0, 10), n_jobs=-1)\n",
    "\n",
    "plt.figure(figsize=(6,3))\n",
    "# Calculate training and test mean and std\n",
    "\n",
    "train_mean = np.mean(train_scores, axis=1)\n",
    "train_std = np.std(train_scores, axis=1)\n",
    "test_mean = np.mean(test_scores, axis=1)\n",
    "test_std = np.std(test_scores, axis=1)\n",
    "\n",
    "# Plot the learning curve\n",
    "\n",
    "plt.plot(train_sizes, train_mean, color='blue', marker='o', markersize=5, label='Training Score')\n",
    "plt.fill_between(train_sizes, train_mean + train_std, train_mean - train_std, alpha=0.15, color='blue')\n",
    "\n",
    "plt.plot(train_sizes, test_mean, color='green', marker='o', markersize=5, label='Cross-Validation Score')\n",
    "plt.fill_between(train_sizes, test_mean + test_std, test_mean - test_std, alpha=0.15, color='green')\n",
    "\n",
    "plt.title('Linear SVM Regression Learning Curve ')\n",
    "plt.xlabel('Training Example', fontsize=12)\n",
    "plt.ylabel('Accuracy Score', fontsize=12)\n",
    "\n",
    "plt.legend(loc='lower center', fontsize=8)\n",
    "#plt.savefig('graph.png')\n",
    "plt.show()"
   ]
  },
  {
   "cell_type": "markdown",
   "id": "2f8d2e07",
   "metadata": {},
   "source": [
    "**K-Nearest Neighbors**"
   ]
  },
  {
   "cell_type": "code",
   "execution_count": 89,
   "id": "f96b353a",
   "metadata": {},
   "outputs": [],
   "source": [
    "from sklearn.neighbors import KNeighborsRegressor"
   ]
  },
  {
   "cell_type": "code",
   "execution_count": 90,
   "id": "7af07219",
   "metadata": {},
   "outputs": [
    {
     "data": {
      "text/html": [
       "<style>#sk-container-id-8 {color: black;background-color: white;}#sk-container-id-8 pre{padding: 0;}#sk-container-id-8 div.sk-toggleable {background-color: white;}#sk-container-id-8 label.sk-toggleable__label {cursor: pointer;display: block;width: 100%;margin-bottom: 0;padding: 0.3em;box-sizing: border-box;text-align: center;}#sk-container-id-8 label.sk-toggleable__label-arrow:before {content: \"▸\";float: left;margin-right: 0.25em;color: #696969;}#sk-container-id-8 label.sk-toggleable__label-arrow:hover:before {color: black;}#sk-container-id-8 div.sk-estimator:hover label.sk-toggleable__label-arrow:before {color: black;}#sk-container-id-8 div.sk-toggleable__content {max-height: 0;max-width: 0;overflow: hidden;text-align: left;background-color: #f0f8ff;}#sk-container-id-8 div.sk-toggleable__content pre {margin: 0.2em;color: black;border-radius: 0.25em;background-color: #f0f8ff;}#sk-container-id-8 input.sk-toggleable__control:checked~div.sk-toggleable__content {max-height: 200px;max-width: 100%;overflow: auto;}#sk-container-id-8 input.sk-toggleable__control:checked~label.sk-toggleable__label-arrow:before {content: \"▾\";}#sk-container-id-8 div.sk-estimator input.sk-toggleable__control:checked~label.sk-toggleable__label {background-color: #d4ebff;}#sk-container-id-8 div.sk-label input.sk-toggleable__control:checked~label.sk-toggleable__label {background-color: #d4ebff;}#sk-container-id-8 input.sk-hidden--visually {border: 0;clip: rect(1px 1px 1px 1px);clip: rect(1px, 1px, 1px, 1px);height: 1px;margin: -1px;overflow: hidden;padding: 0;position: absolute;width: 1px;}#sk-container-id-8 div.sk-estimator {font-family: monospace;background-color: #f0f8ff;border: 1px dotted black;border-radius: 0.25em;box-sizing: border-box;margin-bottom: 0.5em;}#sk-container-id-8 div.sk-estimator:hover {background-color: #d4ebff;}#sk-container-id-8 div.sk-parallel-item::after {content: \"\";width: 100%;border-bottom: 1px solid gray;flex-grow: 1;}#sk-container-id-8 div.sk-label:hover label.sk-toggleable__label {background-color: #d4ebff;}#sk-container-id-8 div.sk-serial::before {content: \"\";position: absolute;border-left: 1px solid gray;box-sizing: border-box;top: 0;bottom: 0;left: 50%;z-index: 0;}#sk-container-id-8 div.sk-serial {display: flex;flex-direction: column;align-items: center;background-color: white;padding-right: 0.2em;padding-left: 0.2em;position: relative;}#sk-container-id-8 div.sk-item {position: relative;z-index: 1;}#sk-container-id-8 div.sk-parallel {display: flex;align-items: stretch;justify-content: center;background-color: white;position: relative;}#sk-container-id-8 div.sk-item::before, #sk-container-id-8 div.sk-parallel-item::before {content: \"\";position: absolute;border-left: 1px solid gray;box-sizing: border-box;top: 0;bottom: 0;left: 50%;z-index: -1;}#sk-container-id-8 div.sk-parallel-item {display: flex;flex-direction: column;z-index: 1;position: relative;background-color: white;}#sk-container-id-8 div.sk-parallel-item:first-child::after {align-self: flex-end;width: 50%;}#sk-container-id-8 div.sk-parallel-item:last-child::after {align-self: flex-start;width: 50%;}#sk-container-id-8 div.sk-parallel-item:only-child::after {width: 0;}#sk-container-id-8 div.sk-dashed-wrapped {border: 1px dashed gray;margin: 0 0.4em 0.5em 0.4em;box-sizing: border-box;padding-bottom: 0.4em;background-color: white;}#sk-container-id-8 div.sk-label label {font-family: monospace;font-weight: bold;display: inline-block;line-height: 1.2em;}#sk-container-id-8 div.sk-label-container {text-align: center;}#sk-container-id-8 div.sk-container {/* jupyter's `normalize.less` sets `[hidden] { display: none; }` but bootstrap.min.css set `[hidden] { display: none !important; }` so we also need the `!important` here to be able to override the default hidden behavior on the sphinx rendered scikit-learn.org. See: https://github.com/scikit-learn/scikit-learn/issues/21755 */display: inline-block !important;position: relative;}#sk-container-id-8 div.sk-text-repr-fallback {display: none;}</style><div id=\"sk-container-id-8\" class=\"sk-top-container\"><div class=\"sk-text-repr-fallback\"><pre>KNeighborsRegressor()</pre><b>In a Jupyter environment, please rerun this cell to show the HTML representation or trust the notebook. <br />On GitHub, the HTML representation is unable to render, please try loading this page with nbviewer.org.</b></div><div class=\"sk-container\" hidden><div class=\"sk-item\"><div class=\"sk-estimator sk-toggleable\"><input class=\"sk-toggleable__control sk-hidden--visually\" id=\"sk-estimator-id-8\" type=\"checkbox\" checked><label for=\"sk-estimator-id-8\" class=\"sk-toggleable__label sk-toggleable__label-arrow\">KNeighborsRegressor</label><div class=\"sk-toggleable__content\"><pre>KNeighborsRegressor()</pre></div></div></div></div></div>"
      ],
      "text/plain": [
       "KNeighborsRegressor()"
      ]
     },
     "execution_count": 90,
     "metadata": {},
     "output_type": "execute_result"
    }
   ],
   "source": [
    "knn = KNeighborsRegressor()\n",
    "knn.fit(X_train_transformed, y_train)"
   ]
  },
  {
   "cell_type": "code",
   "execution_count": 91,
   "id": "45d1dcf4",
   "metadata": {},
   "outputs": [],
   "source": [
    "y_pred =knn.predict(X_test_transformed)\n",
    "#y_pred"
   ]
  },
  {
   "cell_type": "code",
   "execution_count": 92,
   "id": "ce72b4fd",
   "metadata": {},
   "outputs": [
    {
     "name": "stdout",
     "output_type": "stream",
     "text": [
      "Predicted 1-5: [[0.73842211]\n",
      " [0.81502292]\n",
      " [0.97405265]\n",
      " [0.99431541]\n",
      " [0.98888889]]\n",
      "Actual 1-5:      Graduation %\n",
      "373      0.788321\n",
      "42       0.918089\n",
      "107      0.974548\n",
      "218      0.987500\n",
      "369      1.000000\n"
     ]
    }
   ],
   "source": [
    "print(\"Predicted 1-5:\", y_pred[0:5])\n",
    "print(\"Actual 1-5:\", y_test[0:5])"
   ]
  },
  {
   "cell_type": "code",
   "execution_count": 93,
   "id": "ecd91f63",
   "metadata": {},
   "outputs": [
    {
     "name": "stdout",
     "output_type": "stream",
     "text": [
      "Mean_Squared_Error(MSE):  0.003\n",
      "Mean_Absolute_Error(MEA): 0.036\n",
      "R2_Score: 0.854\n",
      "RMSE: 0.057\n",
      "Root_Mean_Squared_Log_Error(RMSLE): -2.86\n"
     ]
    }
   ],
   "source": [
    "from sklearn import metrics\n",
    "from sklearn.metrics import mean_squared_error, r2_score\n",
    "\n",
    "# MSE (Mean Squared Error):\n",
    "print(\"Mean_Squared_Error(MSE): \" , round(mean_squared_error(y_test, y_pred),3))\n",
    "\n",
    "# Mean_Absolute_Error (MAE)\n",
    "print('Mean_Absolute_Error(MEA):', round(metrics.mean_absolute_error(y_test, y_pred),3))  \n",
    "\n",
    "# R2_score \n",
    "print('R2_Score:', round(metrics.r2_score(y_test, y_pred),3))\n",
    "\n",
    "# RMSE (Root Mean Squared Error):\n",
    "RMSE = round(np.sqrt(mean_squared_error(y_test, y_pred)),3)\n",
    "print('RMSE:', RMSE)\n",
    "\n",
    "# Root_ Mean_Squared_Log_Error(RMSLE)\n",
    "print('Root_Mean_Squared_Log_Error(RMSLE):', round(np.log(np.sqrt(metrics.mean_squared_error(y_test, y_pred))),3))"
   ]
  },
  {
   "cell_type": "code",
   "execution_count": 94,
   "id": "1cd9f8df",
   "metadata": {},
   "outputs": [],
   "source": [
    "MSE= round(mean_squared_error(y_test, y_pred),3)\n",
    "MAE= round(metrics.mean_absolute_error(y_test, y_pred),3)\n",
    "R2_Score= round(metrics.r2_score(y_test, y_pred),3)\n",
    "RMSE= round(np.sqrt(mean_squared_error(y_test, y_pred)),3)\n",
    "RMSLE= round(np.log(np.sqrt(metrics.mean_squared_error(y_test, y_pred))),3)"
   ]
  },
  {
   "cell_type": "code",
   "execution_count": 95,
   "id": "4836a08d",
   "metadata": {},
   "outputs": [
    {
     "data": {
      "text/html": [
       "<div>\n",
       "<style scoped>\n",
       "    .dataframe tbody tr th:only-of-type {\n",
       "        vertical-align: middle;\n",
       "    }\n",
       "\n",
       "    .dataframe tbody tr th {\n",
       "        vertical-align: top;\n",
       "    }\n",
       "\n",
       "    .dataframe thead th {\n",
       "        text-align: right;\n",
       "    }\n",
       "</style>\n",
       "<table border=\"1\" class=\"dataframe\">\n",
       "  <thead>\n",
       "    <tr style=\"text-align: right;\">\n",
       "      <th></th>\n",
       "      <th>Model</th>\n",
       "      <th>MSE</th>\n",
       "      <th>MAE</th>\n",
       "      <th>R2_Score</th>\n",
       "      <th>RMSE</th>\n",
       "      <th>RMSLE</th>\n",
       "    </tr>\n",
       "  </thead>\n",
       "  <tbody>\n",
       "    <tr>\n",
       "      <th>0</th>\n",
       "      <td>KNN</td>\n",
       "      <td>0.003</td>\n",
       "      <td>0.036</td>\n",
       "      <td>0.854</td>\n",
       "      <td>0.057</td>\n",
       "      <td>-2.86</td>\n",
       "    </tr>\n",
       "  </tbody>\n",
       "</table>\n",
       "</div>"
      ],
      "text/plain": [
       "  Model    MSE    MAE  R2_Score   RMSE  RMSLE\n",
       "0   KNN  0.003  0.036     0.854  0.057  -2.86"
      ]
     },
     "execution_count": 95,
     "metadata": {},
     "output_type": "execute_result"
    }
   ],
   "source": [
    "Results_KNN = pd.DataFrame([['KNN', MSE , MAE, R2_Score , RMSE, RMSLE]],\n",
    "               columns = ['Model', 'MSE', 'MAE', 'R2_Score' , 'RMSE', 'RMSLE'])\n",
    "Results_KNN"
   ]
  },
  {
   "cell_type": "code",
   "execution_count": 96,
   "id": "334a8c93",
   "metadata": {},
   "outputs": [
    {
     "name": "stdout",
     "output_type": "stream",
     "text": [
      "Scores: [0.08405486 0.07458863 0.07192905 0.07495875 0.09173605]\n",
      "Mean: 0.07945346972042025\n",
      "Standard deviation: 0.007382690591110825\n"
     ]
    }
   ],
   "source": [
    "# Cross-validation On Traing set:\n",
    "\n",
    "scores = cross_val_score(knn, X_train_transformed, y_train, cv=5, scoring='neg_mean_squared_error')\n",
    "\n",
    "print(\"Scores:\", np.sqrt(-scores))\n",
    "print(\"Mean:\", np.sqrt(-scores).mean())\n",
    "print(\"Standard deviation:\", np.sqrt(-scores).std())"
   ]
  },
  {
   "cell_type": "code",
   "execution_count": 97,
   "id": "7afb7040",
   "metadata": {},
   "outputs": [
    {
     "name": "stdout",
     "output_type": "stream",
     "text": [
      "Mean Accuracy:  76.82 % Variance:  0.229 %\n"
     ]
    }
   ],
   "source": [
    "# Cross-validation On Traing set:\n",
    "\n",
    "cv_scores = cross_val_score(knn, X_train_transformed, y_train, cv=5)\n",
    "print('Mean Accuracy: ', round(cv_scores.mean()*100, 3), '% Variance: ', round(cv_scores.var()*100, 3),'%')"
   ]
  },
  {
   "cell_type": "code",
   "execution_count": 98,
   "id": "3e40081b",
   "metadata": {},
   "outputs": [
    {
     "data": {
      "text/html": [
       "<div>\n",
       "<style scoped>\n",
       "    .dataframe tbody tr th:only-of-type {\n",
       "        vertical-align: middle;\n",
       "    }\n",
       "\n",
       "    .dataframe tbody tr th {\n",
       "        vertical-align: top;\n",
       "    }\n",
       "\n",
       "    .dataframe thead th {\n",
       "        text-align: right;\n",
       "    }\n",
       "</style>\n",
       "<table border=\"1\" class=\"dataframe\">\n",
       "  <thead>\n",
       "    <tr style=\"text-align: right;\">\n",
       "      <th></th>\n",
       "      <th>Model</th>\n",
       "      <th>Mean Accuracy</th>\n",
       "      <th>Std Accuracy</th>\n",
       "    </tr>\n",
       "  </thead>\n",
       "  <tbody>\n",
       "    <tr>\n",
       "      <th>0</th>\n",
       "      <td>KNN</td>\n",
       "      <td>76.82</td>\n",
       "      <td>0.478</td>\n",
       "    </tr>\n",
       "  </tbody>\n",
       "</table>\n",
       "</div>"
      ],
      "text/plain": [
       "  Model  Mean Accuracy  Std Accuracy\n",
       "0   KNN          76.82         0.478"
      ]
     },
     "execution_count": 98,
     "metadata": {},
     "output_type": "execute_result"
    }
   ],
   "source": [
    "# Calculate mean and variance of the cross-validation scores On Training set:\n",
    "mean_accuracy = cv_scores.mean() * 100\n",
    "var_accuracy = cv_scores.var() * 100\n",
    "\n",
    "# Calculate standard deviation from variance\n",
    "std_accuracy = np.sqrt(var_accuracy)\n",
    "\n",
    "# Create a DataFrame to store the results\n",
    "CV_KNN  = pd.DataFrame({\n",
    "    'Mean Accuracy': [round(mean_accuracy, 3)],\n",
    "    'Std Accuracy': [round(std_accuracy, 3)]})\n",
    "\n",
    "# Add a new column to the DataFrame\n",
    "MODEL = [\"KNN\"] * len(CV_KNN ) \n",
    "CV_KNN  = pd.concat([pd.Series(MODEL, name='Model'), CV_KNN  ], axis=1)\n",
    "\n",
    "CV_KNN "
   ]
  },
  {
   "cell_type": "code",
   "execution_count": 99,
   "id": "0fac4420",
   "metadata": {},
   "outputs": [
    {
     "data": {
      "image/png": "[encoded data removed]",
      "text/plain": [
       "<Figure size 600x300 with 1 Axes>"
      ]
     },
     "metadata": {},
     "output_type": "display_data"
    }
   ],
   "source": [
    "# Ploting the learning curve:\n",
    "\n",
    "from sklearn.model_selection import learning_curve\n",
    "train_sizes, train_scores, test_scores = learning_curve(estimator=knn, X=X_train_transformed, y=y_train,\n",
    "                                                       cv=10, train_sizes=np.linspace(0.1, 1.0, 10), n_jobs=-1)\n",
    "\n",
    "plt.figure(figsize=(6,3))\n",
    "# Calculate training and test mean and std\n",
    "\n",
    "train_mean = np.mean(train_scores, axis=1)\n",
    "train_std = np.std(train_scores, axis=1)\n",
    "test_mean = np.mean(test_scores, axis=1)\n",
    "test_std = np.std(test_scores, axis=1)\n",
    "\n",
    "# Plot the learning curve\n",
    "\n",
    "plt.plot(train_sizes, train_mean, color='blue', marker='o', markersize=5, label='Training Score')\n",
    "plt.fill_between(train_sizes, train_mean + train_std, train_mean - train_std, alpha=0.15, color='blue')\n",
    "\n",
    "plt.plot(train_sizes, test_mean, color='green', marker='o', markersize=5, label='Cross-Validation Score')\n",
    "plt.fill_between(train_sizes, test_mean + test_std, test_mean - test_std, alpha=0.15, color='green')\n",
    "\n",
    "plt.title('K-Nearest Neighbors Learning Curve ')\n",
    "plt.xlabel('Training Example', fontsize=12)\n",
    "plt.ylabel('Accuracy Score', fontsize=12)\n",
    "\n",
    "plt.legend(loc='lower center', fontsize=8)\n",
    "#plt.savefig('graph.png')\n",
    "plt.show()"
   ]
  },
  {
   "cell_type": "markdown",
   "id": "ddaa34af",
   "metadata": {},
   "source": [
    "**Random Forest Regressor**"
   ]
  },
  {
   "cell_type": "code",
   "execution_count": 100,
   "id": "4e8536ea",
   "metadata": {},
   "outputs": [],
   "source": [
    "from sklearn.ensemble import RandomForestRegressor"
   ]
  },
  {
   "cell_type": "code",
   "execution_count": 101,
   "id": "255edac5",
   "metadata": {},
   "outputs": [
    {
     "data": {
      "text/html": [
       "<style>#sk-container-id-9 {color: black;background-color: white;}#sk-container-id-9 pre{padding: 0;}#sk-container-id-9 div.sk-toggleable {background-color: white;}#sk-container-id-9 label.sk-toggleable__label {cursor: pointer;display: block;width: 100%;margin-bottom: 0;padding: 0.3em;box-sizing: border-box;text-align: center;}#sk-container-id-9 label.sk-toggleable__label-arrow:before {content: \"▸\";float: left;margin-right: 0.25em;color: #696969;}#sk-container-id-9 label.sk-toggleable__label-arrow:hover:before {color: black;}#sk-container-id-9 div.sk-estimator:hover label.sk-toggleable__label-arrow:before {color: black;}#sk-container-id-9 div.sk-toggleable__content {max-height: 0;max-width: 0;overflow: hidden;text-align: left;background-color: #f0f8ff;}#sk-container-id-9 div.sk-toggleable__content pre {margin: 0.2em;color: black;border-radius: 0.25em;background-color: #f0f8ff;}#sk-container-id-9 input.sk-toggleable__control:checked~div.sk-toggleable__content {max-height: 200px;max-width: 100%;overflow: auto;}#sk-container-id-9 input.sk-toggleable__control:checked~label.sk-toggleable__label-arrow:before {content: \"▾\";}#sk-container-id-9 div.sk-estimator input.sk-toggleable__control:checked~label.sk-toggleable__label {background-color: #d4ebff;}#sk-container-id-9 div.sk-label input.sk-toggleable__control:checked~label.sk-toggleable__label {background-color: #d4ebff;}#sk-container-id-9 input.sk-hidden--visually {border: 0;clip: rect(1px 1px 1px 1px);clip: rect(1px, 1px, 1px, 1px);height: 1px;margin: -1px;overflow: hidden;padding: 0;position: absolute;width: 1px;}#sk-container-id-9 div.sk-estimator {font-family: monospace;background-color: #f0f8ff;border: 1px dotted black;border-radius: 0.25em;box-sizing: border-box;margin-bottom: 0.5em;}#sk-container-id-9 div.sk-estimator:hover {background-color: #d4ebff;}#sk-container-id-9 div.sk-parallel-item::after {content: \"\";width: 100%;border-bottom: 1px solid gray;flex-grow: 1;}#sk-container-id-9 div.sk-label:hover label.sk-toggleable__label {background-color: #d4ebff;}#sk-container-id-9 div.sk-serial::before {content: \"\";position: absolute;border-left: 1px solid gray;box-sizing: border-box;top: 0;bottom: 0;left: 50%;z-index: 0;}#sk-container-id-9 div.sk-serial {display: flex;flex-direction: column;align-items: center;background-color: white;padding-right: 0.2em;padding-left: 0.2em;position: relative;}#sk-container-id-9 div.sk-item {position: relative;z-index: 1;}#sk-container-id-9 div.sk-parallel {display: flex;align-items: stretch;justify-content: center;background-color: white;position: relative;}#sk-container-id-9 div.sk-item::before, #sk-container-id-9 div.sk-parallel-item::before {content: \"\";position: absolute;border-left: 1px solid gray;box-sizing: border-box;top: 0;bottom: 0;left: 50%;z-index: -1;}#sk-container-id-9 div.sk-parallel-item {display: flex;flex-direction: column;z-index: 1;position: relative;background-color: white;}#sk-container-id-9 div.sk-parallel-item:first-child::after {align-self: flex-end;width: 50%;}#sk-container-id-9 div.sk-parallel-item:last-child::after {align-self: flex-start;width: 50%;}#sk-container-id-9 div.sk-parallel-item:only-child::after {width: 0;}#sk-container-id-9 div.sk-dashed-wrapped {border: 1px dashed gray;margin: 0 0.4em 0.5em 0.4em;box-sizing: border-box;padding-bottom: 0.4em;background-color: white;}#sk-container-id-9 div.sk-label label {font-family: monospace;font-weight: bold;display: inline-block;line-height: 1.2em;}#sk-container-id-9 div.sk-label-container {text-align: center;}#sk-container-id-9 div.sk-container {/* jupyter's `normalize.less` sets `[hidden] { display: none; }` but bootstrap.min.css set `[hidden] { display: none !important; }` so we also need the `!important` here to be able to override the default hidden behavior on the sphinx rendered scikit-learn.org. See: https://github.com/scikit-learn/scikit-learn/issues/21755 */display: inline-block !important;position: relative;}#sk-container-id-9 div.sk-text-repr-fallback {display: none;}</style><div id=\"sk-container-id-9\" class=\"sk-top-container\"><div class=\"sk-text-repr-fallback\"><pre>RandomForestRegressor(max_leaf_nodes=16, n_estimators=50, n_jobs=-1)</pre><b>In a Jupyter environment, please rerun this cell to show the HTML representation or trust the notebook. <br />On GitHub, the HTML representation is unable to render, please try loading this page with nbviewer.org.</b></div><div class=\"sk-container\" hidden><div class=\"sk-item\"><div class=\"sk-estimator sk-toggleable\"><input class=\"sk-toggleable__control sk-hidden--visually\" id=\"sk-estimator-id-9\" type=\"checkbox\" checked><label for=\"sk-estimator-id-9\" class=\"sk-toggleable__label sk-toggleable__label-arrow\">RandomForestRegressor</label><div class=\"sk-toggleable__content\"><pre>RandomForestRegressor(max_leaf_nodes=16, n_estimators=50, n_jobs=-1)</pre></div></div></div></div></div>"
      ],
      "text/plain": [
       "RandomForestRegressor(max_leaf_nodes=16, n_estimators=50, n_jobs=-1)"
      ]
     },
     "execution_count": 101,
     "metadata": {},
     "output_type": "execute_result"
    }
   ],
   "source": [
    "rnd=RandomForestRegressor(n_estimators=50, max_leaf_nodes=16, n_jobs=-1)\n",
    "rnd.fit(X_train_transformed, y_train)"
   ]
  },
  {
   "cell_type": "code",
   "execution_count": 102,
   "id": "3e190cb8",
   "metadata": {},
   "outputs": [],
   "source": [
    "y_pred =rnd.predict(X_test_transformed)\n",
    "#y_pred"
   ]
  },
  {
   "cell_type": "code",
   "execution_count": 103,
   "id": "fc8f8545",
   "metadata": {},
   "outputs": [
    {
     "name": "stdout",
     "output_type": "stream",
     "text": [
      "Mean_Squared_Error(MSE):  0.002\n",
      "Mean_Absolute_Error(MEA): 0.026\n",
      "R2_Score: 0.913\n",
      "RMSE: 0.044\n",
      "Root_Mean_Squared_Log_Error(RMSLE): -3.115\n"
     ]
    }
   ],
   "source": [
    "from sklearn import metrics\n",
    "from sklearn.metrics import mean_squared_error, r2_score\n",
    "\n",
    "# MSE (Mean Squared Error):\n",
    "print(\"Mean_Squared_Error(MSE): \" , round(mean_squared_error(y_test, y_pred),3))\n",
    "\n",
    "# Mean_Absolute_Error (MAE)\n",
    "print('Mean_Absolute_Error(MEA):', round(metrics.mean_absolute_error(y_test, y_pred),3))  \n",
    "\n",
    "# R2_score \n",
    "print('R2_Score:', round(metrics.r2_score(y_test, y_pred),3))\n",
    "\n",
    "# RMSE (Root Mean Squared Error):\n",
    "RMSE = round(np.sqrt(mean_squared_error(y_test, y_pred)),3)\n",
    "print('RMSE:', RMSE)\n",
    "\n",
    "# Root_ Mean_Squared_Log_Error(RMSLE)\n",
    "print('Root_Mean_Squared_Log_Error(RMSLE):', round(np.log(np.sqrt(metrics.mean_squared_error(y_test, y_pred))),3))"
   ]
  },
  {
   "cell_type": "code",
   "execution_count": 104,
   "id": "f0c72471",
   "metadata": {},
   "outputs": [],
   "source": [
    "MSE= round(mean_squared_error(y_test, y_pred),3)\n",
    "MAE= round(metrics.mean_absolute_error(y_test, y_pred),3)\n",
    "R2_Score= round(metrics.r2_score(y_test, y_pred),3)\n",
    "RMSE= round(np.sqrt(mean_squared_error(y_test, y_pred)),3)\n",
    "RMSLE= round(np.log(np.sqrt(metrics.mean_squared_error(y_test, y_pred))),3)"
   ]
  },
  {
   "cell_type": "code",
   "execution_count": 105,
   "id": "530caa35",
   "metadata": {},
   "outputs": [
    {
     "data": {
      "text/html": [
       "<div>\n",
       "<style scoped>\n",
       "    .dataframe tbody tr th:only-of-type {\n",
       "        vertical-align: middle;\n",
       "    }\n",
       "\n",
       "    .dataframe tbody tr th {\n",
       "        vertical-align: top;\n",
       "    }\n",
       "\n",
       "    .dataframe thead th {\n",
       "        text-align: right;\n",
       "    }\n",
       "</style>\n",
       "<table border=\"1\" class=\"dataframe\">\n",
       "  <thead>\n",
       "    <tr style=\"text-align: right;\">\n",
       "      <th></th>\n",
       "      <th>Model</th>\n",
       "      <th>MSE</th>\n",
       "      <th>MAE</th>\n",
       "      <th>R2_Score</th>\n",
       "      <th>RMSE</th>\n",
       "      <th>RMSLE</th>\n",
       "    </tr>\n",
       "  </thead>\n",
       "  <tbody>\n",
       "    <tr>\n",
       "      <th>0</th>\n",
       "      <td>Random Forest</td>\n",
       "      <td>0.002</td>\n",
       "      <td>0.026</td>\n",
       "      <td>0.913</td>\n",
       "      <td>0.044</td>\n",
       "      <td>-3.115</td>\n",
       "    </tr>\n",
       "  </tbody>\n",
       "</table>\n",
       "</div>"
      ],
      "text/plain": [
       "           Model    MSE    MAE  R2_Score   RMSE  RMSLE\n",
       "0  Random Forest  0.002  0.026     0.913  0.044 -3.115"
      ]
     },
     "execution_count": 105,
     "metadata": {},
     "output_type": "execute_result"
    }
   ],
   "source": [
    "Results_RandomForestReg = pd.DataFrame([['Random Forest', MSE , MAE, R2_Score , RMSE, RMSLE]],\n",
    "               columns = ['Model', 'MSE', 'MAE', 'R2_Score' , 'RMSE', 'RMSLE'])\n",
    "Results_RandomForestReg"
   ]
  },
  {
   "cell_type": "code",
   "execution_count": 106,
   "id": "6f9f54f5",
   "metadata": {},
   "outputs": [
    {
     "name": "stdout",
     "output_type": "stream",
     "text": [
      "Scores: [0.06026895 0.05141294 0.06551788 0.04073728 0.06934306]\n",
      "Mean: 0.05745602016345217\n",
      "Standard deviation: 0.01029799045787812\n"
     ]
    }
   ],
   "source": [
    "# Cross-validation On Traing set:\n",
    "\n",
    "scores = cross_val_score(rnd, X_train_transformed, y_train, cv=5, scoring='neg_mean_squared_error')\n",
    "\n",
    "print(\"Scores:\", np.sqrt(-scores))\n",
    "print(\"Mean:\", np.sqrt(-scores).mean())\n",
    "print(\"Standard deviation:\", np.sqrt(-scores).std())"
   ]
  },
  {
   "cell_type": "code",
   "execution_count": 107,
   "id": "dad8e0b5",
   "metadata": {},
   "outputs": [
    {
     "name": "stdout",
     "output_type": "stream",
     "text": [
      "Mean Accuracy:  88.413 % Variance:  0.121 %\n"
     ]
    }
   ],
   "source": [
    "# Cross-validation On Traing set:\n",
    "\n",
    "cv_scores = cross_val_score(rnd, X_train_transformed, y_train, cv=5)\n",
    "print('Mean Accuracy: ', round(cv_scores.mean()*100, 3), '% Variance: ', round(cv_scores.var()*100, 3),'%')"
   ]
  },
  {
   "cell_type": "code",
   "execution_count": 108,
   "id": "cd94423d",
   "metadata": {},
   "outputs": [
    {
     "data": {
      "text/html": [
       "<div>\n",
       "<style scoped>\n",
       "    .dataframe tbody tr th:only-of-type {\n",
       "        vertical-align: middle;\n",
       "    }\n",
       "\n",
       "    .dataframe tbody tr th {\n",
       "        vertical-align: top;\n",
       "    }\n",
       "\n",
       "    .dataframe thead th {\n",
       "        text-align: right;\n",
       "    }\n",
       "</style>\n",
       "<table border=\"1\" class=\"dataframe\">\n",
       "  <thead>\n",
       "    <tr style=\"text-align: right;\">\n",
       "      <th></th>\n",
       "      <th>Model</th>\n",
       "      <th>Mean Accuracy</th>\n",
       "      <th>Std Accuracy</th>\n",
       "    </tr>\n",
       "  </thead>\n",
       "  <tbody>\n",
       "    <tr>\n",
       "      <th>0</th>\n",
       "      <td>Random Forest</td>\n",
       "      <td>88.413</td>\n",
       "      <td>0.348</td>\n",
       "    </tr>\n",
       "  </tbody>\n",
       "</table>\n",
       "</div>"
      ],
      "text/plain": [
       "           Model  Mean Accuracy  Std Accuracy\n",
       "0  Random Forest         88.413         0.348"
      ]
     },
     "execution_count": 108,
     "metadata": {},
     "output_type": "execute_result"
    }
   ],
   "source": [
    "# Calculate mean and variance of the cross-validation scores On Training set:\n",
    "mean_accuracy = cv_scores.mean() * 100\n",
    "var_accuracy = cv_scores.var() * 100\n",
    "\n",
    "# Calculate standard deviation from variance\n",
    "std_accuracy = np.sqrt(var_accuracy)\n",
    "\n",
    "# Create a DataFrame to store the results\n",
    "CV_RandomForest = pd.DataFrame({\n",
    "    'Mean Accuracy': [round(mean_accuracy, 3)],\n",
    "    'Std Accuracy': [round(std_accuracy, 3)]})\n",
    "\n",
    "# Add a new column to the DataFrame\n",
    "MODEL = [\"Random Forest\"] * len(CV_Lasso)  \n",
    "CV_RandomForest = pd.concat([pd.Series(MODEL, name='Model'), CV_RandomForest], axis=1)\n",
    "\n",
    "CV_RandomForest"
   ]
  },
  {
   "cell_type": "code",
   "execution_count": 109,
   "id": "c4512bec",
   "metadata": {},
   "outputs": [
    {
     "data": {
      "image/png": "[encoded data removed]",
      "text/plain": [
       "<Figure size 600x300 with 1 Axes>"
      ]
     },
     "metadata": {},
     "output_type": "display_data"
    }
   ],
   "source": [
    "# Ploting the learning curve:\n",
    "\n",
    "from sklearn.model_selection import learning_curve\n",
    "train_sizes, train_scores, test_scores = learning_curve(estimator=rnd, X=X_train_transformed, y=y_train,\n",
    "                                                       cv=10, train_sizes=np.linspace(0.1, 1.0, 10), n_jobs=-1)\n",
    "\n",
    "plt.figure(figsize=(6,3))\n",
    "# Calculate training and test mean and std\n",
    "\n",
    "train_mean = np.mean(train_scores, axis=1)\n",
    "train_std = np.std(train_scores, axis=1)\n",
    "test_mean = np.mean(test_scores, axis=1)\n",
    "test_std = np.std(test_scores, axis=1)\n",
    "\n",
    "# Plot the learning curve\n",
    "\n",
    "plt.plot(train_sizes, train_mean, color='blue', marker='o', markersize=5, label='Training Score')\n",
    "plt.fill_between(train_sizes, train_mean + train_std, train_mean - train_std, alpha=0.15, color='blue')\n",
    "\n",
    "plt.plot(train_sizes, test_mean, color='green', marker='o', markersize=5, label='Cross-Validation Score')\n",
    "plt.fill_between(train_sizes, test_mean + test_std, test_mean - test_std, alpha=0.15, color='green')\n",
    "\n",
    "plt.title('Random Forest Learning Curve ')\n",
    "plt.xlabel('Training Example', fontsize=12)\n",
    "plt.ylabel('Accuracy Score', fontsize=12)\n",
    "\n",
    "plt.legend(loc='lower center', fontsize=8)\n",
    "#plt.savefig('graph.png')\n",
    "plt.show()"
   ]
  },
  {
   "cell_type": "markdown",
   "id": "1be2d0b7",
   "metadata": {},
   "source": [
    "# Quick Conclusion:"
   ]
  },
  {
   "cell_type": "code",
   "execution_count": 110,
   "id": "42d7a712",
   "metadata": {},
   "outputs": [
    {
     "data": {
      "text/html": [
       "<div>\n",
       "<style scoped>\n",
       "    .dataframe tbody tr th:only-of-type {\n",
       "        vertical-align: middle;\n",
       "    }\n",
       "\n",
       "    .dataframe tbody tr th {\n",
       "        vertical-align: top;\n",
       "    }\n",
       "\n",
       "    .dataframe thead th {\n",
       "        text-align: right;\n",
       "    }\n",
       "</style>\n",
       "<table border=\"1\" class=\"dataframe\">\n",
       "  <thead>\n",
       "    <tr style=\"text-align: right;\">\n",
       "      <th></th>\n",
       "      <th>Model</th>\n",
       "      <th>MSE</th>\n",
       "      <th>MAE</th>\n",
       "      <th>R2_Score</th>\n",
       "      <th>RMSE</th>\n",
       "      <th>RMSLE</th>\n",
       "    </tr>\n",
       "  </thead>\n",
       "  <tbody>\n",
       "    <tr>\n",
       "      <th>0</th>\n",
       "      <td>Linear_Reg</td>\n",
       "      <td>0.005</td>\n",
       "      <td>0.050</td>\n",
       "      <td>0.767</td>\n",
       "      <td>0.072</td>\n",
       "      <td>-2.624</td>\n",
       "    </tr>\n",
       "    <tr>\n",
       "      <th>0</th>\n",
       "      <td>Ridge</td>\n",
       "      <td>0.005</td>\n",
       "      <td>0.050</td>\n",
       "      <td>0.766</td>\n",
       "      <td>0.073</td>\n",
       "      <td>-2.624</td>\n",
       "    </tr>\n",
       "    <tr>\n",
       "      <th>0</th>\n",
       "      <td>Lasso</td>\n",
       "      <td>0.007</td>\n",
       "      <td>0.059</td>\n",
       "      <td>0.693</td>\n",
       "      <td>0.083</td>\n",
       "      <td>-2.488</td>\n",
       "    </tr>\n",
       "    <tr>\n",
       "      <th>0</th>\n",
       "      <td>ElasticNet</td>\n",
       "      <td>0.006</td>\n",
       "      <td>0.053</td>\n",
       "      <td>0.721</td>\n",
       "      <td>0.079</td>\n",
       "      <td>-2.536</td>\n",
       "    </tr>\n",
       "    <tr>\n",
       "      <th>0</th>\n",
       "      <td>Bayesian_Reg</td>\n",
       "      <td>0.005</td>\n",
       "      <td>0.051</td>\n",
       "      <td>0.766</td>\n",
       "      <td>0.073</td>\n",
       "      <td>-2.624</td>\n",
       "    </tr>\n",
       "    <tr>\n",
       "      <th>0</th>\n",
       "      <td>Decision Tree</td>\n",
       "      <td>0.004</td>\n",
       "      <td>0.033</td>\n",
       "      <td>0.829</td>\n",
       "      <td>0.062</td>\n",
       "      <td>-2.779</td>\n",
       "    </tr>\n",
       "    <tr>\n",
       "      <th>0</th>\n",
       "      <td>SVM</td>\n",
       "      <td>0.053</td>\n",
       "      <td>0.217</td>\n",
       "      <td>-1.356</td>\n",
       "      <td>0.230</td>\n",
       "      <td>-1.469</td>\n",
       "    </tr>\n",
       "    <tr>\n",
       "      <th>0</th>\n",
       "      <td>KNN</td>\n",
       "      <td>0.003</td>\n",
       "      <td>0.036</td>\n",
       "      <td>0.854</td>\n",
       "      <td>0.057</td>\n",
       "      <td>-2.860</td>\n",
       "    </tr>\n",
       "    <tr>\n",
       "      <th>0</th>\n",
       "      <td>Random Forest</td>\n",
       "      <td>0.002</td>\n",
       "      <td>0.026</td>\n",
       "      <td>0.913</td>\n",
       "      <td>0.044</td>\n",
       "      <td>-3.115</td>\n",
       "    </tr>\n",
       "  </tbody>\n",
       "</table>\n",
       "</div>"
      ],
      "text/plain": [
       "           Model    MSE    MAE  R2_Score   RMSE  RMSLE\n",
       "0     Linear_Reg  0.005  0.050     0.767  0.072 -2.624\n",
       "0          Ridge  0.005  0.050     0.766  0.073 -2.624\n",
       "0          Lasso  0.007  0.059     0.693  0.083 -2.488\n",
       "0     ElasticNet  0.006  0.053     0.721  0.079 -2.536\n",
       "0   Bayesian_Reg  0.005  0.051     0.766  0.073 -2.624\n",
       "0  Decision Tree  0.004  0.033     0.829  0.062 -2.779\n",
       "0            SVM  0.053  0.217    -1.356  0.230 -1.469\n",
       "0            KNN  0.003  0.036     0.854  0.057 -2.860\n",
       "0  Random Forest  0.002  0.026     0.913  0.044 -3.115"
      ]
     },
     "execution_count": 110,
     "metadata": {},
     "output_type": "execute_result"
    }
   ],
   "source": [
    "Result=pd.concat([Results_LinearReg, Results_Ridge, Results_Lasso, Results_ElasticNet, Results_Bayesian_Reg, Results_DecisionTree, Results_svm_reg, Results_KNN, Results_RandomForestReg])\n",
    "Result.set_index('Model')\n",
    "Result"
   ]
  },
  {
   "cell_type": "markdown",
   "id": "bc9d8b0a",
   "metadata": {},
   "source": [
    "In summary, the **Random Forest Regression** model seems to perform the best based on the given metrics, as it has the lowest MSE, MAE, and RMSE, along with the highest R2 Score. \n",
    "The negative RMSLE values indicate that the model's predictions are relatively close to the actual values on a logarithmic scale."
   ]
  },
  {
   "cell_type": "code",
   "execution_count": 111,
   "id": "8dbea730",
   "metadata": {
    "scrolled": false
   },
   "outputs": [
    {
     "data": {
      "text/html": [
       "<div>\n",
       "<style scoped>\n",
       "    .dataframe tbody tr th:only-of-type {\n",
       "        vertical-align: middle;\n",
       "    }\n",
       "\n",
       "    .dataframe tbody tr th {\n",
       "        vertical-align: top;\n",
       "    }\n",
       "\n",
       "    .dataframe thead th {\n",
       "        text-align: right;\n",
       "    }\n",
       "</style>\n",
       "<table border=\"1\" class=\"dataframe\">\n",
       "  <thead>\n",
       "    <tr style=\"text-align: right;\">\n",
       "      <th></th>\n",
       "      <th>Model</th>\n",
       "      <th>Mean Accuracy</th>\n",
       "      <th>Std Accuracy</th>\n",
       "    </tr>\n",
       "  </thead>\n",
       "  <tbody>\n",
       "    <tr>\n",
       "      <th>0</th>\n",
       "      <td>Linear_Reg</td>\n",
       "      <td>70.398</td>\n",
       "      <td>0.629</td>\n",
       "    </tr>\n",
       "    <tr>\n",
       "      <th>0</th>\n",
       "      <td>Ridge</td>\n",
       "      <td>70.398</td>\n",
       "      <td>0.629</td>\n",
       "    </tr>\n",
       "    <tr>\n",
       "      <th>0</th>\n",
       "      <td>Lasso</td>\n",
       "      <td>63.609</td>\n",
       "      <td>0.563</td>\n",
       "    </tr>\n",
       "    <tr>\n",
       "      <th>0</th>\n",
       "      <td>ElasticNet</td>\n",
       "      <td>66.210</td>\n",
       "      <td>0.630</td>\n",
       "    </tr>\n",
       "    <tr>\n",
       "      <th>0</th>\n",
       "      <td>Bayesian_Reg</td>\n",
       "      <td>70.243</td>\n",
       "      <td>0.658</td>\n",
       "    </tr>\n",
       "    <tr>\n",
       "      <th>0</th>\n",
       "      <td>Decision Tree</td>\n",
       "      <td>85.030</td>\n",
       "      <td>0.931</td>\n",
       "    </tr>\n",
       "    <tr>\n",
       "      <th>0</th>\n",
       "      <td>CV_SVM_Reg</td>\n",
       "      <td>-102.450</td>\n",
       "      <td>2.819</td>\n",
       "    </tr>\n",
       "    <tr>\n",
       "      <th>0</th>\n",
       "      <td>KNN</td>\n",
       "      <td>76.820</td>\n",
       "      <td>0.478</td>\n",
       "    </tr>\n",
       "    <tr>\n",
       "      <th>0</th>\n",
       "      <td>Random Forest</td>\n",
       "      <td>88.413</td>\n",
       "      <td>0.348</td>\n",
       "    </tr>\n",
       "  </tbody>\n",
       "</table>\n",
       "</div>"
      ],
      "text/plain": [
       "           Model  Mean Accuracy  Std Accuracy\n",
       "0     Linear_Reg         70.398         0.629\n",
       "0          Ridge         70.398         0.629\n",
       "0          Lasso         63.609         0.563\n",
       "0     ElasticNet         66.210         0.630\n",
       "0   Bayesian_Reg         70.243         0.658\n",
       "0  Decision Tree         85.030         0.931\n",
       "0     CV_SVM_Reg       -102.450         2.819\n",
       "0            KNN         76.820         0.478\n",
       "0  Random Forest         88.413         0.348"
      ]
     },
     "execution_count": 111,
     "metadata": {},
     "output_type": "execute_result"
    }
   ],
   "source": [
    "# Result from Cross-validation on Training Set:\n",
    "\n",
    "CV_Result=pd.concat([CV_LinearReg, CV_Ridge, CV_Lasso, CV_ElasticNet, CV_Bayesian_Reg, CV_Desicion_Tree,CV_SVM_Reg, CV_KNN, CV_RandomForest])\n",
    "CV_Result.set_index('Model')\n",
    "CV_Result"
   ]
  },
  {
   "cell_type": "markdown",
   "id": "8d513f6d",
   "metadata": {},
   "source": [
    "In summary, the **Random Forest Regression** and **Decision Tree Regression** models seem to perform the best based on the mean accuracy from cross-validation. They have the highest mean accuracy and relatively low standard deviations, indicating consistent performance across folds. \n",
    "\n",
    "The negative mean accuracy for the Support Vector Machine (CV_SVM_Reg) indicates that the model's performance is poor."
   ]
  },
  {
   "cell_type": "code",
   "execution_count": null,
   "id": "c9d248ab",
   "metadata": {},
   "outputs": [],
   "source": []
  },
  {
   "cell_type": "code",
   "execution_count": 112,
   "id": "ac224ce0",
   "metadata": {},
   "outputs": [
    {
     "name": "stdout",
     "output_type": "stream",
     "text": [
      "[6.50841873e-03 1.71727524e-03 3.70578157e-03 5.74696684e-04\n",
      " 4.43318851e-04 4.45869980e-01 5.14148651e-01 2.70318780e-02]\n"
     ]
    },
    {
     "data": {
      "image/png": "[encoded data removed]",
      "text/plain": [
       "<Figure size 400x300 with 1 Axes>"
      ]
     },
     "metadata": {},
     "output_type": "display_data"
    }
   ],
   "source": [
    "# Feature Importance Investigation\n",
    "\n",
    "from sklearn.ensemble import RandomForestRegressor\n",
    "\n",
    "rnd=RandomForestRegressor(n_estimators=50, max_leaf_nodes=16, n_jobs=-1)\n",
    "rnd.fit(X_train, y_train)\n",
    "\n",
    "print(rnd.feature_importances_)\n",
    "\n",
    "#plot graph of feature importances for better visualization\n",
    "\n",
    "feat_importances = pd.Series(rnd.feature_importances_, index=X.columns )\n",
    "feat_importances.nlargest(10).plot(kind='barh', figsize=(4,3), fontsize=9)\n",
    "plt.show()"
   ]
  },
  {
   "cell_type": "code",
   "execution_count": 113,
   "id": "0dd86dde",
   "metadata": {
    "scrolled": false
   },
   "outputs": [
    {
     "data": {
      "text/plain": [
       "Text(0.5, 0, 'Relative Importance')"
      ]
     },
     "execution_count": 113,
     "metadata": {},
     "output_type": "execute_result"
    },
    {
     "data": {
      "image/png": "[encoded data removed]",
      "text/plain": [
       "<Figure size 400x300 with 1 Axes>"
      ]
     },
     "metadata": {},
     "output_type": "display_data"
    }
   ],
   "source": [
    "#Forward stepwise selection of the feature importance\n",
    "\n",
    "stepwise_model = RandomForestRegressor(n_estimators=50, max_leaf_nodes=16, n_jobs=-1)\n",
    "stepwise_model.fit(X_train, y_train )\n",
    "\n",
    "fig, ax = plt.subplots(figsize=(4, 3))\n",
    "importances = stepwise_model.feature_importances_\n",
    "indices = np.argsort(importances)\n",
    "feature_names = cat_var + num_var\n",
    "plt.title('Feature Importance')\n",
    "plt.barh(range(len(indices)), importances[indices], color='green', align='center')\n",
    "plt.yticks(range(len(indices)), [feature_names[i] for i in range(len(indices))])\n",
    "#plt.axvline(x=0.05,label='relative importance = 0.05')\n",
    "plt.xlabel('Relative Importance')\n"
   ]
  },
  {
   "cell_type": "code",
   "execution_count": null,
   "id": "e416193c",
   "metadata": {},
   "outputs": [],
   "source": []
  }
 ],
 "metadata": {
  "kernelspec": {
   "display_name": "Python 3 (ipykernel)",
   "language": "python",
   "name": "python3"
  },
  "language_info": {
   "codemirror_mode": {
    "name": "ipython",
    "version": 3
   },
   "file_extension": ".py",
   "mimetype": "text/x-python",
   "name": "python",
   "nbconvert_exporter": "python",
   "pygments_lexer": "ipython3",
   "version": "3.10.9"
  }
 },
 "nbformat": 4,
 "nbformat_minor": 5
}
