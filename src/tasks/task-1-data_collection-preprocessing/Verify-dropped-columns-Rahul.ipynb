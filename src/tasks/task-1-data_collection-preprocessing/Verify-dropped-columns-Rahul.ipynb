{
 "cells": [
  {
   "cell_type": "code",
   "execution_count": 1,
   "id": "b18e9690",
   "metadata": {},
   "outputs": [],
   "source": [
    "import pandas as pd\n",
    "import numpy as np"
   ]
  },
  {
   "cell_type": "code",
   "execution_count": 2,
   "id": "7135e875",
   "metadata": {},
   "outputs": [],
   "source": [
    "data_mat = pd.read_csv('student-mat.csv', sep=';')\n",
    "data_port = pd.read_csv('student-por.csv', sep=';')\n",
    "final_df = pd.read_csv('df_final_port_mat.csv')"
   ]
  },
  {
   "cell_type": "markdown",
   "id": "1087c6d5",
   "metadata": {},
   "source": [
    "### Checking Failure column for Mats in final dataset"
   ]
  },
  {
   "cell_type": "code",
   "execution_count": 3,
   "id": "74eb09bd",
   "metadata": {},
   "outputs": [
    {
     "data": {
      "text/plain": [
       "array([0, 3, 2, 1], dtype=int64)"
      ]
     },
     "execution_count": 3,
     "metadata": {},
     "output_type": "execute_result"
    }
   ],
   "source": [
    "count = pd.unique(data_mat['failures'])\n",
    "count"
   ]
  },
  {
   "cell_type": "code",
   "execution_count": 4,
   "id": "396a417e",
   "metadata": {},
   "outputs": [
    {
     "data": {
      "text/plain": [
       "0    312\n",
       "1     50\n",
       "2     17\n",
       "3     16\n",
       "Name: failures, dtype: int64"
      ]
     },
     "execution_count": 4,
     "metadata": {},
     "output_type": "execute_result"
    }
   ],
   "source": [
    "data_mat['failures'].value_counts()"
   ]
  },
  {
   "cell_type": "code",
   "execution_count": 5,
   "id": "f740219d",
   "metadata": {},
   "outputs": [
    {
     "data": {
      "text/plain": [
       "array([ 2.,  1.,  0.,  3., nan])"
      ]
     },
     "execution_count": 5,
     "metadata": {},
     "output_type": "execute_result"
    }
   ],
   "source": [
    "count = pd.unique(final_df['failures_mat'])\n",
    "count"
   ]
  },
  {
   "cell_type": "code",
   "execution_count": 6,
   "id": "ccf3b61e",
   "metadata": {},
   "outputs": [
    {
     "data": {
      "text/plain": [
       "0.0    312\n",
       "1.0     50\n",
       "2.0     17\n",
       "3.0     16\n",
       "Name: failures_mat, dtype: int64"
      ]
     },
     "execution_count": 6,
     "metadata": {},
     "output_type": "execute_result"
    }
   ],
   "source": [
    "final_df['failures_mat'].value_counts()"
   ]
  },
  {
   "cell_type": "markdown",
   "id": "85afc0d0",
   "metadata": {},
   "source": [
    "#### Error Resolved"
   ]
  },
  {
   "cell_type": "markdown",
   "id": "6a0740b4",
   "metadata": {},
   "source": [
    "### Checking Failure column for por in final dataset"
   ]
  },
  {
   "cell_type": "code",
   "execution_count": 7,
   "id": "bff54878",
   "metadata": {},
   "outputs": [
    {
     "data": {
      "text/plain": [
       "array([0, 3, 1, 2], dtype=int64)"
      ]
     },
     "execution_count": 7,
     "metadata": {},
     "output_type": "execute_result"
    }
   ],
   "source": [
    "count = pd.unique(data_port['failures'])\n",
    "count"
   ]
  },
  {
   "cell_type": "code",
   "execution_count": 8,
   "id": "0cea0be4",
   "metadata": {},
   "outputs": [
    {
     "data": {
      "text/plain": [
       "0    549\n",
       "1     70\n",
       "2     16\n",
       "3     14\n",
       "Name: failures, dtype: int64"
      ]
     },
     "execution_count": 8,
     "metadata": {},
     "output_type": "execute_result"
    }
   ],
   "source": [
    "data_port['failures'].value_counts()"
   ]
  },
  {
   "cell_type": "code",
   "execution_count": 9,
   "id": "ca08f1b4",
   "metadata": {},
   "outputs": [
    {
     "data": {
      "text/plain": [
       "0.0    549\n",
       "1.0     70\n",
       "2.0     16\n",
       "3.0     14\n",
       "Name: failures_por, dtype: int64"
      ]
     },
     "execution_count": 9,
     "metadata": {},
     "output_type": "execute_result"
    }
   ],
   "source": [
    "final_df['failures_por'].value_counts()"
   ]
  },
  {
   "cell_type": "markdown",
   "id": "7b4e36bb",
   "metadata": {},
   "source": [
    "#### No review needed"
   ]
  },
  {
   "cell_type": "markdown",
   "id": "105a5b40",
   "metadata": {},
   "source": [
    "### Checking for absences in both datasets"
   ]
  },
  {
   "cell_type": "code",
   "execution_count": 10,
   "id": "c8471579",
   "metadata": {},
   "outputs": [
    {
     "data": {
      "text/plain": [
       "array([ 0,  1,  2,  3,  4,  5,  6,  7,  8,  9, 10, 11, 12, 13, 14, 15, 16,\n",
       "       17, 18, 19, 20, 21, 22, 23, 24, 25, 26, 28, 30, 38, 40, 54, 56, 75],\n",
       "      dtype=int64)"
      ]
     },
     "execution_count": 10,
     "metadata": {},
     "output_type": "execute_result"
    }
   ],
   "source": [
    "count = pd.unique(data_mat['absences'])\n",
    "count.sort()\n",
    "count"
   ]
  },
  {
   "cell_type": "code",
   "execution_count": 11,
   "id": "33d3eb06",
   "metadata": {},
   "outputs": [
    {
     "data": {
      "text/plain": [
       "array([ 0.,  1.,  2.,  3.,  4.,  5.,  6.,  7.,  8.,  9., 10., 11., 12.,\n",
       "       13., 14., 15., 16., 17., 18., 19., 20., 21., 22., 23., 24., 25.,\n",
       "       26., 28., 30., 38., 40., 54., 56., 75., nan])"
      ]
     },
     "execution_count": 11,
     "metadata": {},
     "output_type": "execute_result"
    }
   ],
   "source": [
    "count = pd.unique(final_df['absences_mat'])\n",
    "count.sort()\n",
    "count"
   ]
  },
  {
   "cell_type": "code",
   "execution_count": 12,
   "id": "ff5d245e",
   "metadata": {
    "scrolled": true
   },
   "outputs": [
    {
     "data": {
      "text/plain": [
       "0     115\n",
       "2      65\n",
       "4      53\n",
       "6      31\n",
       "8      22\n",
       "10     17\n",
       "14     12\n",
       "12     12\n",
       "3       8\n",
       "16      7\n",
       "7       7\n",
       "5       5\n",
       "18      5\n",
       "20      4\n",
       "11      3\n",
       "9       3\n",
       "13      3\n",
       "15      3\n",
       "22      3\n",
       "1       3\n",
       "38      1\n",
       "30      1\n",
       "40      1\n",
       "23      1\n",
       "19      1\n",
       "28      1\n",
       "75      1\n",
       "21      1\n",
       "24      1\n",
       "56      1\n",
       "26      1\n",
       "54      1\n",
       "25      1\n",
       "17      1\n",
       "Name: absences, dtype: int64"
      ]
     },
     "execution_count": 12,
     "metadata": {},
     "output_type": "execute_result"
    }
   ],
   "source": [
    "data_mat['absences'].value_counts()"
   ]
  },
  {
   "cell_type": "code",
   "execution_count": 13,
   "id": "2955f400",
   "metadata": {
    "scrolled": true
   },
   "outputs": [
    {
     "data": {
      "text/plain": [
       "0.0     115\n",
       "2.0      65\n",
       "4.0      53\n",
       "6.0      31\n",
       "8.0      22\n",
       "10.0     17\n",
       "12.0     12\n",
       "14.0     12\n",
       "3.0       8\n",
       "7.0       7\n",
       "16.0      7\n",
       "5.0       5\n",
       "18.0      5\n",
       "20.0      4\n",
       "22.0      3\n",
       "15.0      3\n",
       "9.0       3\n",
       "11.0      3\n",
       "1.0       3\n",
       "13.0      3\n",
       "23.0      1\n",
       "19.0      1\n",
       "30.0      1\n",
       "75.0      1\n",
       "21.0      1\n",
       "24.0      1\n",
       "28.0      1\n",
       "56.0      1\n",
       "26.0      1\n",
       "54.0      1\n",
       "25.0      1\n",
       "38.0      1\n",
       "40.0      1\n",
       "17.0      1\n",
       "Name: absences_mat, dtype: int64"
      ]
     },
     "execution_count": 13,
     "metadata": {},
     "output_type": "execute_result"
    }
   ],
   "source": [
    "final_df['absences_mat'].value_counts()"
   ]
  },
  {
   "cell_type": "markdown",
   "id": "d5ad39ef",
   "metadata": {},
   "source": [
    "#### No review needed"
   ]
  },
  {
   "cell_type": "code",
   "execution_count": 14,
   "id": "d69ae8bd",
   "metadata": {},
   "outputs": [
    {
     "data": {
      "text/plain": [
       "array([ 0,  1,  2,  3,  4,  5,  6,  7,  8,  9, 10, 11, 12, 13, 14, 15, 16,\n",
       "       18, 21, 22, 24, 26, 30, 32], dtype=int64)"
      ]
     },
     "execution_count": 14,
     "metadata": {},
     "output_type": "execute_result"
    }
   ],
   "source": [
    "count = pd.unique(data_port['absences'])\n",
    "count.sort()\n",
    "count"
   ]
  },
  {
   "cell_type": "code",
   "execution_count": 15,
   "id": "1739ba70",
   "metadata": {},
   "outputs": [
    {
     "data": {
      "text/plain": [
       "array([ 0.,  1.,  2.,  3.,  4.,  5.,  6.,  7.,  8.,  9., 10., 11., 12.,\n",
       "       13., 14., 15., 16., 18., 21., 22., 24., 26., 30., 32., nan])"
      ]
     },
     "execution_count": 15,
     "metadata": {},
     "output_type": "execute_result"
    }
   ],
   "source": [
    "count = pd.unique(final_df['absences_por'])\n",
    "count.sort()\n",
    "count"
   ]
  },
  {
   "cell_type": "code",
   "execution_count": 16,
   "id": "a3852183",
   "metadata": {
    "scrolled": true
   },
   "outputs": [
    {
     "data": {
      "text/plain": [
       "0     244\n",
       "2     110\n",
       "4      93\n",
       "6      49\n",
       "8      42\n",
       "10     21\n",
       "1      12\n",
       "12     12\n",
       "5      12\n",
       "16     10\n",
       "14      8\n",
       "9       7\n",
       "3       7\n",
       "11      5\n",
       "18      3\n",
       "7       3\n",
       "21      2\n",
       "15      2\n",
       "22      2\n",
       "30      1\n",
       "26      1\n",
       "24      1\n",
       "13      1\n",
       "32      1\n",
       "Name: absences, dtype: int64"
      ]
     },
     "execution_count": 16,
     "metadata": {},
     "output_type": "execute_result"
    }
   ],
   "source": [
    "data_port['absences'].value_counts()"
   ]
  },
  {
   "cell_type": "code",
   "execution_count": 17,
   "id": "2f13b633",
   "metadata": {
    "scrolled": true
   },
   "outputs": [
    {
     "data": {
      "text/plain": [
       "0.0     244\n",
       "2.0     110\n",
       "4.0      93\n",
       "6.0      49\n",
       "8.0      42\n",
       "10.0     21\n",
       "12.0     12\n",
       "1.0      12\n",
       "5.0      12\n",
       "16.0     10\n",
       "14.0      8\n",
       "3.0       7\n",
       "9.0       7\n",
       "11.0      5\n",
       "7.0       3\n",
       "18.0      3\n",
       "21.0      2\n",
       "22.0      2\n",
       "15.0      2\n",
       "26.0      1\n",
       "13.0      1\n",
       "24.0      1\n",
       "32.0      1\n",
       "30.0      1\n",
       "Name: absences_por, dtype: int64"
      ]
     },
     "execution_count": 17,
     "metadata": {},
     "output_type": "execute_result"
    }
   ],
   "source": [
    "final_df['absences_por'].value_counts()"
   ]
  },
  {
   "cell_type": "markdown",
   "id": "dac0f772",
   "metadata": {},
   "source": [
    "#### No review needed"
   ]
  },
  {
   "cell_type": "markdown",
   "id": "b6a54f19",
   "metadata": {},
   "source": [
    "### Checking for paid"
   ]
  },
  {
   "cell_type": "code",
   "execution_count": 18,
   "id": "2c632c05",
   "metadata": {},
   "outputs": [
    {
     "data": {
      "text/plain": [
       "no     214\n",
       "yes    181\n",
       "Name: paid, dtype: int64"
      ]
     },
     "execution_count": 18,
     "metadata": {},
     "output_type": "execute_result"
    }
   ],
   "source": [
    "data_mat['paid'].value_counts()"
   ]
  },
  {
   "cell_type": "code",
   "execution_count": 19,
   "id": "368cdd7c",
   "metadata": {},
   "outputs": [
    {
     "data": {
      "text/plain": [
       "no     214\n",
       "yes    181\n",
       "Name: paid_mat, dtype: int64"
      ]
     },
     "execution_count": 19,
     "metadata": {},
     "output_type": "execute_result"
    }
   ],
   "source": [
    "final_df['paid_mat'].value_counts()"
   ]
  },
  {
   "cell_type": "markdown",
   "id": "ae4a9a12",
   "metadata": {},
   "source": [
    "#### Error resolved"
   ]
  },
  {
   "cell_type": "code",
   "execution_count": 20,
   "id": "08d7a627",
   "metadata": {},
   "outputs": [
    {
     "data": {
      "text/plain": [
       "no     610\n",
       "yes     39\n",
       "Name: paid, dtype: int64"
      ]
     },
     "execution_count": 20,
     "metadata": {},
     "output_type": "execute_result"
    }
   ],
   "source": [
    "data_port['paid'].value_counts()"
   ]
  },
  {
   "cell_type": "code",
   "execution_count": 21,
   "id": "ca8f61f4",
   "metadata": {},
   "outputs": [
    {
     "data": {
      "text/plain": [
       "no     610\n",
       "yes     39\n",
       "Name: paid_por, dtype: int64"
      ]
     },
     "execution_count": 21,
     "metadata": {},
     "output_type": "execute_result"
    }
   ],
   "source": [
    "final_df['paid_por'].value_counts()"
   ]
  },
  {
   "cell_type": "markdown",
   "id": "6256d471",
   "metadata": {},
   "source": [
    "#### No review needed"
   ]
  },
  {
   "cell_type": "markdown",
   "id": "fb919e66",
   "metadata": {},
   "source": [
    "### Checking G1 column"
   ]
  },
  {
   "cell_type": "code",
   "execution_count": 22,
   "id": "db027ddb",
   "metadata": {
    "scrolled": true
   },
   "outputs": [
    {
     "data": {
      "text/plain": [
       "10    51\n",
       "8     41\n",
       "11    39\n",
       "7     37\n",
       "12    35\n",
       "13    33\n",
       "9     31\n",
       "14    30\n",
       "15    24\n",
       "6     24\n",
       "16    22\n",
       "18     8\n",
       "17     8\n",
       "5      7\n",
       "19     3\n",
       "4      1\n",
       "3      1\n",
       "Name: G1, dtype: int64"
      ]
     },
     "execution_count": 22,
     "metadata": {},
     "output_type": "execute_result"
    }
   ],
   "source": [
    "data_mat['G1'].value_counts()"
   ]
  },
  {
   "cell_type": "code",
   "execution_count": 23,
   "id": "77cf4c07",
   "metadata": {},
   "outputs": [
    {
     "data": {
      "text/plain": [
       "10.0    51\n",
       "8.0     41\n",
       "11.0    39\n",
       "7.0     37\n",
       "12.0    35\n",
       "13.0    33\n",
       "9.0     31\n",
       "14.0    30\n",
       "15.0    24\n",
       "6.0     24\n",
       "16.0    22\n",
       "17.0     8\n",
       "18.0     8\n",
       "5.0      7\n",
       "19.0     3\n",
       "4.0      1\n",
       "3.0      1\n",
       "Name: G1_mat, dtype: int64"
      ]
     },
     "execution_count": 23,
     "metadata": {},
     "output_type": "execute_result"
    }
   ],
   "source": [
    "final_df['G1_mat'].value_counts()"
   ]
  },
  {
   "cell_type": "markdown",
   "id": "d9dbab24",
   "metadata": {},
   "source": [
    "#### No review needed"
   ]
  },
  {
   "cell_type": "code",
   "execution_count": 24,
   "id": "e3270470",
   "metadata": {
    "scrolled": false
   },
   "outputs": [
    {
     "data": {
      "text/plain": [
       "10    95\n",
       "11    91\n",
       "12    82\n",
       "13    72\n",
       "14    71\n",
       "9     65\n",
       "8     42\n",
       "15    35\n",
       "7     33\n",
       "16    22\n",
       "17    16\n",
       "6      9\n",
       "18     7\n",
       "5      5\n",
       "4      2\n",
       "0      1\n",
       "19     1\n",
       "Name: G1, dtype: int64"
      ]
     },
     "execution_count": 24,
     "metadata": {},
     "output_type": "execute_result"
    }
   ],
   "source": [
    "data_port['G1'].value_counts()#### No review needed"
   ]
  },
  {
   "cell_type": "code",
   "execution_count": 25,
   "id": "69737a9f",
   "metadata": {
    "scrolled": false
   },
   "outputs": [
    {
     "data": {
      "text/plain": [
       "10.0    95\n",
       "11.0    91\n",
       "12.0    82\n",
       "13.0    72\n",
       "14.0    71\n",
       "9.0     65\n",
       "8.0     42\n",
       "15.0    35\n",
       "7.0     33\n",
       "16.0    22\n",
       "17.0    16\n",
       "6.0      9\n",
       "18.0     7\n",
       "5.0      5\n",
       "4.0      2\n",
       "0.0      1\n",
       "19.0     1\n",
       "Name: G1_por, dtype: int64"
      ]
     },
     "execution_count": 25,
     "metadata": {},
     "output_type": "execute_result"
    }
   ],
   "source": [
    "final_df['G1_por'].value_counts()"
   ]
  },
  {
   "cell_type": "markdown",
   "id": "19d9bc0e",
   "metadata": {},
   "source": [
    "#### No review needed"
   ]
  },
  {
   "cell_type": "markdown",
   "id": "34280073",
   "metadata": {},
   "source": [
    "### Checking for G2"
   ]
  },
  {
   "cell_type": "code",
   "execution_count": 26,
   "id": "2de7d2e0",
   "metadata": {},
   "outputs": [
    {
     "data": {
      "text/plain": [
       "9     50\n",
       "10    46\n",
       "12    41\n",
       "13    37\n",
       "11    35\n",
       "15    34\n",
       "8     32\n",
       "14    23\n",
       "7     21\n",
       "5     15\n",
       "6     14\n",
       "16    13\n",
       "0     13\n",
       "18    12\n",
       "17     5\n",
       "19     3\n",
       "4      1\n",
       "Name: G2, dtype: int64"
      ]
     },
     "execution_count": 26,
     "metadata": {},
     "output_type": "execute_result"
    }
   ],
   "source": [
    "data_mat['G2'].value_counts()"
   ]
  },
  {
   "cell_type": "code",
   "execution_count": 27,
   "id": "2b0ecdb2",
   "metadata": {},
   "outputs": [
    {
     "data": {
      "text/plain": [
       "9.0     50\n",
       "10.0    46\n",
       "12.0    41\n",
       "13.0    37\n",
       "11.0    35\n",
       "15.0    34\n",
       "8.0     32\n",
       "14.0    23\n",
       "7.0     21\n",
       "5.0     15\n",
       "6.0     14\n",
       "16.0    13\n",
       "0.0     13\n",
       "18.0    12\n",
       "17.0     5\n",
       "19.0     3\n",
       "4.0      1\n",
       "Name: G2_mat, dtype: int64"
      ]
     },
     "execution_count": 27,
     "metadata": {},
     "output_type": "execute_result"
    }
   ],
   "source": [
    "final_df['G2_mat'].value_counts()"
   ]
  },
  {
   "cell_type": "markdown",
   "id": "e18db551",
   "metadata": {},
   "source": [
    "#### No review needed"
   ]
  },
  {
   "cell_type": "code",
   "execution_count": 28,
   "id": "3a87b87a",
   "metadata": {},
   "outputs": [
    {
     "data": {
      "text/plain": [
       "11    103\n",
       "12     86\n",
       "10     83\n",
       "13     80\n",
       "9      72\n",
       "14     54\n",
       "8      40\n",
       "15     38\n",
       "16     25\n",
       "17     20\n",
       "7      16\n",
       "18     14\n",
       "6       7\n",
       "0       7\n",
       "5       3\n",
       "19      1\n",
       "Name: G2, dtype: int64"
      ]
     },
     "execution_count": 28,
     "metadata": {},
     "output_type": "execute_result"
    }
   ],
   "source": [
    "data_port['G2'].value_counts()"
   ]
  },
  {
   "cell_type": "code",
   "execution_count": 29,
   "id": "a0ba8145",
   "metadata": {},
   "outputs": [
    {
     "data": {
      "text/plain": [
       "11.0    103\n",
       "12.0     86\n",
       "10.0     83\n",
       "13.0     80\n",
       "9.0      72\n",
       "14.0     54\n",
       "8.0      40\n",
       "15.0     38\n",
       "16.0     25\n",
       "17.0     20\n",
       "7.0      16\n",
       "18.0     14\n",
       "6.0       7\n",
       "0.0       7\n",
       "5.0       3\n",
       "19.0      1\n",
       "Name: G2_por, dtype: int64"
      ]
     },
     "execution_count": 29,
     "metadata": {},
     "output_type": "execute_result"
    }
   ],
   "source": [
    "final_df['G2_por'].value_counts()"
   ]
  },
  {
   "cell_type": "markdown",
   "id": "bacd0423",
   "metadata": {},
   "source": [
    "#### No review needed"
   ]
  },
  {
   "cell_type": "markdown",
   "id": "22e205f4",
   "metadata": {},
   "source": [
    "### Checking for G3"
   ]
  },
  {
   "cell_type": "code",
   "execution_count": 30,
   "id": "0d86330c",
   "metadata": {},
   "outputs": [
    {
     "data": {
      "text/plain": [
       "10    56\n",
       "11    47\n",
       "0     38\n",
       "15    33\n",
       "8     32\n",
       "13    31\n",
       "12    31\n",
       "9     28\n",
       "14    27\n",
       "16    16\n",
       "6     15\n",
       "18    12\n",
       "7      9\n",
       "5      7\n",
       "17     6\n",
       "19     5\n",
       "20     1\n",
       "4      1\n",
       "Name: G3, dtype: int64"
      ]
     },
     "execution_count": 30,
     "metadata": {},
     "output_type": "execute_result"
    }
   ],
   "source": [
    "data_mat['G3'].value_counts()"
   ]
  },
  {
   "cell_type": "code",
   "execution_count": 31,
   "id": "bb87021d",
   "metadata": {},
   "outputs": [
    {
     "data": {
      "text/plain": [
       "10.0    56\n",
       "11.0    47\n",
       "0.0     38\n",
       "15.0    33\n",
       "8.0     32\n",
       "12.0    31\n",
       "13.0    31\n",
       "9.0     28\n",
       "14.0    27\n",
       "16.0    16\n",
       "6.0     15\n",
       "18.0    12\n",
       "7.0      9\n",
       "5.0      7\n",
       "17.0     6\n",
       "19.0     5\n",
       "20.0     1\n",
       "4.0      1\n",
       "Name: G3_mat, dtype: int64"
      ]
     },
     "execution_count": 31,
     "metadata": {},
     "output_type": "execute_result"
    }
   ],
   "source": [
    "final_df['G3_mat'].value_counts()"
   ]
  },
  {
   "cell_type": "markdown",
   "id": "7997d8b0",
   "metadata": {},
   "source": [
    "#### No review needed"
   ]
  },
  {
   "cell_type": "code",
   "execution_count": 32,
   "id": "b04500d9",
   "metadata": {},
   "outputs": [
    {
     "data": {
      "text/plain": [
       "11    104\n",
       "10     97\n",
       "13     82\n",
       "12     72\n",
       "14     63\n",
       "15     49\n",
       "16     36\n",
       "9      35\n",
       "8      35\n",
       "17     29\n",
       "18     15\n",
       "0      15\n",
       "7      10\n",
       "6       3\n",
       "19      2\n",
       "1       1\n",
       "5       1\n",
       "Name: G3, dtype: int64"
      ]
     },
     "execution_count": 32,
     "metadata": {},
     "output_type": "execute_result"
    }
   ],
   "source": [
    "data_port['G3'].value_counts()"
   ]
  },
  {
   "cell_type": "code",
   "execution_count": 33,
   "id": "c3a34740",
   "metadata": {},
   "outputs": [
    {
     "data": {
      "text/plain": [
       "11.0    104\n",
       "10.0     97\n",
       "13.0     82\n",
       "12.0     72\n",
       "14.0     63\n",
       "15.0     49\n",
       "16.0     36\n",
       "9.0      35\n",
       "8.0      35\n",
       "17.0     29\n",
       "18.0     15\n",
       "0.0      15\n",
       "7.0      10\n",
       "6.0       3\n",
       "19.0      2\n",
       "1.0       1\n",
       "5.0       1\n",
       "Name: G3_por, dtype: int64"
      ]
     },
     "execution_count": 33,
     "metadata": {},
     "output_type": "execute_result"
    }
   ],
   "source": [
    "final_df['G3_por'].value_counts()"
   ]
  },
  {
   "cell_type": "markdown",
   "id": "78f5dd9f",
   "metadata": {},
   "source": [
    "#### No review needed"
   ]
  },
  {
   "cell_type": "markdown",
   "id": "aab5d045",
   "metadata": {},
   "source": [
    "### Inference  \n",
    "##### Errors about paid_math and failure_math are resolved"
   ]
  }
 ],
 "metadata": {
  "kernelspec": {
   "display_name": "Python 3 (ipykernel)",
   "language": "python",
   "name": "python3"
  },
  "language_info": {
   "codemirror_mode": {
    "name": "ipython",
    "version": 3
   },
   "file_extension": ".py",
   "mimetype": "text/x-python",
   "name": "python",
   "nbconvert_exporter": "python",
   "pygments_lexer": "ipython3",
   "version": "3.10.11"
  }
 },
 "nbformat": 4,
 "nbformat_minor": 5
}
